{
 "cells": [
  {
   "cell_type": "markdown",
   "id": "f1493dc9-1d59-482f-b8a7-72f4c106b3fc",
   "metadata": {
    "tags": []
   },
   "source": [
    "# Fundamentos Python\n"
   ]
  },
  {
   "cell_type": "markdown",
   "id": "a75e527b-54c3-4975-ba1c-2441816d3961",
   "metadata": {
    "jp-MarkdownHeadingCollapsed": true,
    "tags": []
   },
   "source": [
    "## Numeros"
   ]
  },
  {
   "cell_type": "code",
   "execution_count": 1,
   "id": "be27ed83-69fb-467e-be33-935f7590e1a1",
   "metadata": {},
   "outputs": [
    {
     "data": {
      "text/plain": [
       "5"
      ]
     },
     "execution_count": 1,
     "metadata": {},
     "output_type": "execute_result"
    }
   ],
   "source": [
    "3+2"
   ]
  },
  {
   "cell_type": "code",
   "execution_count": 3,
   "id": "e536f69f-1cac-4a95-a678-a0c5592d299d",
   "metadata": {},
   "outputs": [
    {
     "data": {
      "text/plain": [
       "2"
      ]
     },
     "execution_count": 3,
     "metadata": {},
     "output_type": "execute_result"
    }
   ],
   "source": [
    "3-1"
   ]
  },
  {
   "cell_type": "code",
   "execution_count": 4,
   "id": "c6a8a7c8-a272-425e-be43-e087c6babe5a",
   "metadata": {},
   "outputs": [
    {
     "data": {
      "text/plain": [
       "2"
      ]
     },
     "execution_count": 4,
     "metadata": {},
     "output_type": "execute_result"
    }
   ],
   "source": [
    "3-1"
   ]
  },
  {
   "cell_type": "code",
   "execution_count": 6,
   "id": "e03291e4-2abe-4396-8168-1b7af8faab59",
   "metadata": {},
   "outputs": [
    {
     "data": {
      "text/plain": [
       "6"
      ]
     },
     "execution_count": 6,
     "metadata": {},
     "output_type": "execute_result"
    }
   ],
   "source": [
    "3*2\n"
   ]
  },
  {
   "cell_type": "code",
   "execution_count": 7,
   "id": "157b87cb-16cb-4b15-aaa9-c9dc40b8ca70",
   "metadata": {},
   "outputs": [
    {
     "data": {
      "text/plain": [
       "1.5"
      ]
     },
     "execution_count": 7,
     "metadata": {},
     "output_type": "execute_result"
    }
   ],
   "source": [
    "3/2"
   ]
  },
  {
   "cell_type": "code",
   "execution_count": 9,
   "id": "3ccb2646-2a8d-4ee6-a46b-0989201b4d3a",
   "metadata": {},
   "outputs": [
    {
     "data": {
      "text/plain": [
       "16"
      ]
     },
     "execution_count": 9,
     "metadata": {},
     "output_type": "execute_result"
    }
   ],
   "source": [
    "4**2"
   ]
  },
  {
   "cell_type": "code",
   "execution_count": 10,
   "id": "b6bf7264-a126-4060-a929-60e6d17ae6ea",
   "metadata": {},
   "outputs": [
    {
     "data": {
      "text/plain": [
       "2.0"
      ]
     },
     "execution_count": 10,
     "metadata": {},
     "output_type": "execute_result"
    }
   ],
   "source": [
    "4**(1/2)\n"
   ]
  },
  {
   "cell_type": "markdown",
   "id": "d916a679-ee2b-47c4-8193-73d1b68327ec",
   "metadata": {
    "jp-MarkdownHeadingCollapsed": true,
    "tags": []
   },
   "source": [
    "## Variaveis\n"
   ]
  },
  {
   "cell_type": "code",
   "execution_count": 21,
   "id": "98bac46e-19e8-45bd-a723-4f1f409de641",
   "metadata": {},
   "outputs": [],
   "source": [
    "a =1"
   ]
  },
  {
   "cell_type": "code",
   "execution_count": 19,
   "id": "d3bafb5f-7da4-4fdb-98a6-50ff9ec3f85e",
   "metadata": {},
   "outputs": [
    {
     "data": {
      "text/plain": [
       "1"
      ]
     },
     "execution_count": 19,
     "metadata": {},
     "output_type": "execute_result"
    }
   ],
   "source": [
    "a"
   ]
  },
  {
   "cell_type": "code",
   "execution_count": 22,
   "id": "6f8f14f2-fbbd-4fa8-9930-3b1af57da919",
   "metadata": {},
   "outputs": [
    {
     "data": {
      "text/plain": [
       "3"
      ]
     },
     "execution_count": 22,
     "metadata": {},
     "output_type": "execute_result"
    }
   ],
   "source": [
    "A = 2\n",
    "b = A+a\n",
    "b"
   ]
  },
  {
   "cell_type": "markdown",
   "id": "575b1f77-2c42-4a47-a847-90d9cf41c173",
   "metadata": {},
   "source": [
    "Se executar apenas essa celula varias e varias vezes dá valores diferentes"
   ]
  },
  {
   "cell_type": "code",
   "execution_count": 26,
   "id": "9b9422d0-077b-4c9d-9721-72d3352c43c0",
   "metadata": {},
   "outputs": [
    {
     "data": {
      "text/plain": [
       "65536"
      ]
     },
     "execution_count": 26,
     "metadata": {},
     "output_type": "execute_result"
    }
   ],
   "source": [
    "A = A**2\n",
    "A"
   ]
  },
  {
   "cell_type": "markdown",
   "id": "2fa404a9-e343-4afc-bb03-12a5404b8131",
   "metadata": {
    "jp-MarkdownHeadingCollapsed": true,
    "tags": []
   },
   "source": [
    "## String"
   ]
  },
  {
   "cell_type": "code",
   "execution_count": 33,
   "id": "f4bca1bf-8092-45ff-9238-48d4e1b0f03e",
   "metadata": {},
   "outputs": [],
   "source": [
    "string_1 = \"olá Mundo\"\n",
    "string_2 = 'Olá \"ana\"'\n"
   ]
  },
  {
   "cell_type": "code",
   "execution_count": 34,
   "id": "1a200637-117f-419e-8f0a-94527cca728d",
   "metadata": {},
   "outputs": [
    {
     "data": {
      "text/plain": [
       "'Olá \"ana\"'"
      ]
     },
     "execution_count": 34,
     "metadata": {},
     "output_type": "execute_result"
    }
   ],
   "source": [
    "string_2\n"
   ]
  },
  {
   "cell_type": "code",
   "execution_count": 35,
   "id": "21bf9f5e-bf85-42c1-9f7d-e59dcc3859ed",
   "metadata": {},
   "outputs": [
    {
     "data": {
      "text/plain": [
       "'olá Mundo'"
      ]
     },
     "execution_count": 35,
     "metadata": {},
     "output_type": "execute_result"
    }
   ],
   "source": [
    "string_1"
   ]
  },
  {
   "cell_type": "code",
   "execution_count": 36,
   "id": "db73a1aa-3fd7-4538-a6b8-c19695aada49",
   "metadata": {},
   "outputs": [
    {
     "name": "stdout",
     "output_type": "stream",
     "text": [
      "olá Mundo\n"
     ]
    }
   ],
   "source": [
    "print(string_1)"
   ]
  },
  {
   "cell_type": "code",
   "execution_count": 37,
   "id": "5a68652f-b670-410d-a412-71affb8ea698",
   "metadata": {},
   "outputs": [
    {
     "data": {
      "text/plain": [
       "9"
      ]
     },
     "execution_count": 37,
     "metadata": {},
     "output_type": "execute_result"
    }
   ],
   "source": [
    "len(string_1)"
   ]
  },
  {
   "cell_type": "code",
   "execution_count": 39,
   "id": "d372afb6-459f-4f00-b6df-39b69f11fc09",
   "metadata": {},
   "outputs": [
    {
     "data": {
      "text/plain": [
       "'olá MundoOlá \"ana\"'"
      ]
     },
     "execution_count": 39,
     "metadata": {},
     "output_type": "execute_result"
    }
   ],
   "source": [
    "string_1 +string_2 #concatenação"
   ]
  },
  {
   "cell_type": "code",
   "execution_count": 40,
   "id": "d27f3dfc-bfef-42f8-881f-3908df510b10",
   "metadata": {},
   "outputs": [
    {
     "data": {
      "text/plain": [
       "'olá Mundo,Olá \"ana\"'"
      ]
     },
     "execution_count": 40,
     "metadata": {},
     "output_type": "execute_result"
    }
   ],
   "source": [
    "string_1 +\",\" +string_2 #concatenação"
   ]
  },
  {
   "cell_type": "code",
   "execution_count": 41,
   "id": "ac9b3b64-f065-430d-9383-c0afe44e38b8",
   "metadata": {},
   "outputs": [
    {
     "data": {
      "text/plain": [
       "'o'"
      ]
     },
     "execution_count": 41,
     "metadata": {},
     "output_type": "execute_result"
    }
   ],
   "source": [
    "string_1[0]"
   ]
  },
  {
   "cell_type": "code",
   "execution_count": 47,
   "id": "3d7cf711-2f22-4474-83a5-4daca0e3346f",
   "metadata": {},
   "outputs": [],
   "source": [
    "#for i in len(string_1):\n",
    "#    string_1[i]\n"
   ]
  },
  {
   "cell_type": "code",
   "execution_count": 46,
   "id": "6f24f9d0-d5db-4998-9124-89c42397069a",
   "metadata": {},
   "outputs": [
    {
     "name": "stdout",
     "output_type": "stream",
     "text": [
      "o\n",
      "l\n",
      "á\n",
      " \n",
      "M\n",
      "u\n",
      "n\n",
      "d\n",
      "o\n"
     ]
    }
   ],
   "source": [
    "for i in string_1:\n",
    "    i\n",
    "    print(i)"
   ]
  },
  {
   "cell_type": "raw",
   "id": "0f2cc4a8-a042-4b23-ae4a-a81000906c3a",
   "metadata": {},
   "source": [
    "String[inicio:fim:passo]"
   ]
  },
  {
   "cell_type": "code",
   "execution_count": 48,
   "id": "fea83ee8-0c87-4e58-9deb-6117f36afc05",
   "metadata": {},
   "outputs": [
    {
     "data": {
      "text/plain": [
       "'olá Mundo'"
      ]
     },
     "execution_count": 48,
     "metadata": {},
     "output_type": "execute_result"
    }
   ],
   "source": [
    "string_1[:]"
   ]
  },
  {
   "cell_type": "code",
   "execution_count": 49,
   "id": "215aed72-082c-4422-b318-48105a4b0c84",
   "metadata": {},
   "outputs": [
    {
     "data": {
      "text/plain": [
       "'lá '"
      ]
     },
     "execution_count": 49,
     "metadata": {},
     "output_type": "execute_result"
    }
   ],
   "source": [
    "string_1[1:4]"
   ]
  },
  {
   "cell_type": "code",
   "execution_count": 50,
   "id": "0a7f0de8-399c-4c6b-9f8b-619353152bbf",
   "metadata": {},
   "outputs": [
    {
     "data": {
      "text/plain": [
       "'olá '"
      ]
     },
     "execution_count": 50,
     "metadata": {},
     "output_type": "execute_result"
    }
   ],
   "source": [
    "string_1[0:4]"
   ]
  },
  {
   "cell_type": "code",
   "execution_count": 51,
   "id": "7924ca55-17a8-4028-9d6c-aa5aba3678d9",
   "metadata": {},
   "outputs": [
    {
     "data": {
      "text/plain": [
       "'M'"
      ]
     },
     "execution_count": 51,
     "metadata": {},
     "output_type": "execute_result"
    }
   ],
   "source": [
    "string_1[-5]"
   ]
  },
  {
   "cell_type": "code",
   "execution_count": 52,
   "id": "8edd5674-0837-46c4-88df-5a6ae0829b27",
   "metadata": {},
   "outputs": [
    {
     "data": {
      "text/plain": [
       "'o'"
      ]
     },
     "execution_count": 52,
     "metadata": {},
     "output_type": "execute_result"
    }
   ],
   "source": [
    "string_1[-1]"
   ]
  },
  {
   "cell_type": "code",
   "execution_count": 54,
   "id": "ae82bc0b-48fd-42e2-adb4-76ed2e243c5f",
   "metadata": {},
   "outputs": [
    {
     "data": {
      "text/plain": [
       "'olá Mund'"
      ]
     },
     "execution_count": 54,
     "metadata": {},
     "output_type": "execute_result"
    }
   ],
   "source": [
    "string_1[:-1]\n"
   ]
  },
  {
   "cell_type": "code",
   "execution_count": 57,
   "id": "3c58ff9d-ecad-4385-992b-e469b0e16964",
   "metadata": {},
   "outputs": [
    {
     "data": {
      "text/plain": [
       "''"
      ]
     },
     "execution_count": 57,
     "metadata": {},
     "output_type": "execute_result"
    }
   ],
   "source": [
    "string_1[:0]"
   ]
  },
  {
   "cell_type": "code",
   "execution_count": 58,
   "id": "b2a01b81-358a-4562-9a77-1fa018b589d4",
   "metadata": {},
   "outputs": [
    {
     "data": {
      "text/plain": [
       "'olá Mundo'"
      ]
     },
     "execution_count": 58,
     "metadata": {},
     "output_type": "execute_result"
    }
   ],
   "source": [
    "string_1[::1]"
   ]
  },
  {
   "cell_type": "code",
   "execution_count": 59,
   "id": "ff2eccec-f936-4e16-ae18-57584860a96a",
   "metadata": {},
   "outputs": [
    {
     "data": {
      "text/plain": [
       "'oáMno'"
      ]
     },
     "execution_count": 59,
     "metadata": {},
     "output_type": "execute_result"
    }
   ],
   "source": [
    "string_1[::2]"
   ]
  },
  {
   "cell_type": "code",
   "execution_count": 60,
   "id": "c15b9638-6c46-45f6-9db1-b3fb8e94b484",
   "metadata": {},
   "outputs": [
    {
     "data": {
      "text/plain": [
       "'o n'"
      ]
     },
     "execution_count": 60,
     "metadata": {},
     "output_type": "execute_result"
    }
   ],
   "source": [
    "string_1[::3]"
   ]
  },
  {
   "cell_type": "code",
   "execution_count": 61,
   "id": "f839cb60-a82f-4c60-96e6-e953e054d2d1",
   "metadata": {},
   "outputs": [
    {
     "data": {
      "text/plain": [
       "'áM'"
      ]
     },
     "execution_count": 61,
     "metadata": {},
     "output_type": "execute_result"
    }
   ],
   "source": [
    "string_1[2:5:2]"
   ]
  },
  {
   "cell_type": "code",
   "execution_count": 62,
   "id": "048d0afc-408b-4d89-8fac-efa7cef2fe36",
   "metadata": {},
   "outputs": [
    {
     "data": {
      "text/plain": [
       "'odnuM álo'"
      ]
     },
     "execution_count": 62,
     "metadata": {},
     "output_type": "execute_result"
    }
   ],
   "source": [
    "string_1[::-1]"
   ]
  },
  {
   "cell_type": "markdown",
   "id": "df6b930e-abf5-4d2d-af6f-66e568196999",
   "metadata": {
    "jp-MarkdownHeadingCollapsed": true,
    "tags": []
   },
   "source": [
    "### Propriedades\n",
    "\n",
    "    Não posso alterar um item a parte da string, apenas a string inteira\n",
    "    minha_string = \"hello\"\n",
    "    minha_string[0] = \"a\"\n",
    "        TypeError Traceback (most recent call last)\n",
    "        <ipython-input-30-1ad8228694d3> in <module>\n",
    "        -->1 minha_string[0] = \"a\"\n",
    "        TypeError: 'str' object does not support item assignment"
   ]
  },
  {
   "cell_type": "code",
   "execution_count": 63,
   "id": "669b1ec3-1dd6-4135-9c7e-a0aa6404873c",
   "metadata": {},
   "outputs": [
    {
     "data": {
      "text/plain": [
       "'Ana Ana Ana Ana Ana Ana Ana Ana Ana Ana Ana Ana Ana Ana Ana Ana Ana Ana Ana Ana Ana Ana Ana Ana Ana Ana Ana Ana Ana Ana Ana Ana Ana Ana Ana Ana Ana Ana Ana Ana Ana Ana Ana Ana Ana Ana Ana Ana Ana Ana '"
      ]
     },
     "execution_count": 63,
     "metadata": {},
     "output_type": "execute_result"
    }
   ],
   "source": [
    "\"Ana \"*50"
   ]
  },
  {
   "cell_type": "code",
   "execution_count": 64,
   "id": "e834474a-30d0-47cc-a11a-1bbbe8b1c5d5",
   "metadata": {},
   "outputs": [
    {
     "data": {
      "text/plain": [
       "str"
      ]
     },
     "execution_count": 64,
     "metadata": {},
     "output_type": "execute_result"
    }
   ],
   "source": [
    "type(\"A\")\n"
   ]
  },
  {
   "cell_type": "code",
   "execution_count": 65,
   "id": "ea6d8e0c-9e14-42de-9057-49ef81c6f414",
   "metadata": {},
   "outputs": [
    {
     "data": {
      "text/plain": [
       "['__add__',\n",
       " '__class__',\n",
       " '__contains__',\n",
       " '__delattr__',\n",
       " '__dir__',\n",
       " '__doc__',\n",
       " '__eq__',\n",
       " '__format__',\n",
       " '__ge__',\n",
       " '__getattribute__',\n",
       " '__getitem__',\n",
       " '__getnewargs__',\n",
       " '__gt__',\n",
       " '__hash__',\n",
       " '__init__',\n",
       " '__init_subclass__',\n",
       " '__iter__',\n",
       " '__le__',\n",
       " '__len__',\n",
       " '__lt__',\n",
       " '__mod__',\n",
       " '__mul__',\n",
       " '__ne__',\n",
       " '__new__',\n",
       " '__reduce__',\n",
       " '__reduce_ex__',\n",
       " '__repr__',\n",
       " '__rmod__',\n",
       " '__rmul__',\n",
       " '__setattr__',\n",
       " '__sizeof__',\n",
       " '__str__',\n",
       " '__subclasshook__',\n",
       " 'capitalize',\n",
       " 'casefold',\n",
       " 'center',\n",
       " 'count',\n",
       " 'encode',\n",
       " 'endswith',\n",
       " 'expandtabs',\n",
       " 'find',\n",
       " 'format',\n",
       " 'format_map',\n",
       " 'index',\n",
       " 'isalnum',\n",
       " 'isalpha',\n",
       " 'isascii',\n",
       " 'isdecimal',\n",
       " 'isdigit',\n",
       " 'isidentifier',\n",
       " 'islower',\n",
       " 'isnumeric',\n",
       " 'isprintable',\n",
       " 'isspace',\n",
       " 'istitle',\n",
       " 'isupper',\n",
       " 'join',\n",
       " 'ljust',\n",
       " 'lower',\n",
       " 'lstrip',\n",
       " 'maketrans',\n",
       " 'partition',\n",
       " 'removeprefix',\n",
       " 'removesuffix',\n",
       " 'replace',\n",
       " 'rfind',\n",
       " 'rindex',\n",
       " 'rjust',\n",
       " 'rpartition',\n",
       " 'rsplit',\n",
       " 'rstrip',\n",
       " 'split',\n",
       " 'splitlines',\n",
       " 'startswith',\n",
       " 'strip',\n",
       " 'swapcase',\n",
       " 'title',\n",
       " 'translate',\n",
       " 'upper',\n",
       " 'zfill']"
      ]
     },
     "execution_count": 65,
     "metadata": {},
     "output_type": "execute_result"
    }
   ],
   "source": [
    "dir(\"A\")\n"
   ]
  },
  {
   "cell_type": "code",
   "execution_count": 67,
   "id": "b2a493b8-aa27-40b9-b221-c7de0f78b015",
   "metadata": {},
   "outputs": [
    {
     "data": {
      "text/plain": [
       "'ana'"
      ]
     },
     "execution_count": 67,
     "metadata": {},
     "output_type": "execute_result"
    }
   ],
   "source": [
    "\"ANA\".lower()"
   ]
  },
  {
   "cell_type": "code",
   "execution_count": 69,
   "id": "63a0e303-e6f0-43eb-ab6b-d7157071c392",
   "metadata": {},
   "outputs": [
    {
     "data": {
      "text/plain": [
       "'ANA'"
      ]
     },
     "execution_count": 69,
     "metadata": {},
     "output_type": "execute_result"
    }
   ],
   "source": [
    "'ana'.upper()"
   ]
  },
  {
   "cell_type": "code",
   "execution_count": 70,
   "id": "f7a7531b-4f04-40fb-9dde-471b44e1fdad",
   "metadata": {},
   "outputs": [
    {
     "data": {
      "text/plain": [
       "['', 'N', '']"
      ]
     },
     "execution_count": 70,
     "metadata": {},
     "output_type": "execute_result"
    }
   ],
   "source": [
    "'ANA'.split(\"A\")"
   ]
  },
  {
   "cell_type": "code",
   "execution_count": 71,
   "id": "4cdd0604-0c8b-4bad-81a3-3a7aa272157e",
   "metadata": {},
   "outputs": [
    {
     "data": {
      "text/plain": [
       "['Ana', 'Helena']"
      ]
     },
     "execution_count": 71,
     "metadata": {},
     "output_type": "execute_result"
    }
   ],
   "source": [
    "\"Ana Helena\".split(\" \")"
   ]
  },
  {
   "cell_type": "code",
   "execution_count": 72,
   "id": "c34d48b1-1ada-4b5d-92fc-e6ef4fcb2c15",
   "metadata": {},
   "outputs": [
    {
     "data": {
      "text/plain": [
       "['He', '', 'o ANA']"
      ]
     },
     "execution_count": 72,
     "metadata": {},
     "output_type": "execute_result"
    }
   ],
   "source": [
    "\"Hello ANA\".split(\"l\")"
   ]
  },
  {
   "cell_type": "code",
   "execution_count": 73,
   "id": "5307a517-4f64-4932-932b-ad17383ac360",
   "metadata": {},
   "outputs": [
    {
     "data": {
      "text/plain": [
       "'Idade da pessoa é: 10'"
      ]
     },
     "execution_count": 73,
     "metadata": {},
     "output_type": "execute_result"
    }
   ],
   "source": [
    "idade = 10\n",
    "\"Idade da pessoa é: {}\".format(idade)"
   ]
  },
  {
   "cell_type": "code",
   "execution_count": 75,
   "id": "4a88aedf-bc9d-40b4-9816-628ebc43cca2",
   "metadata": {},
   "outputs": [
    {
     "data": {
      "text/plain": [
       "'Idade da pessoa é: 10e o nome é: Rodrigo'"
      ]
     },
     "execution_count": 75,
     "metadata": {},
     "output_type": "execute_result"
    }
   ],
   "source": [
    "idade = 10\n",
    "nome = \"Rodrigo\"\n",
    "\"Idade da pessoa é: {}e o nome é: {}\".format(idade, nome)"
   ]
  },
  {
   "cell_type": "code",
   "execution_count": 78,
   "id": "2f5d73f6-e3d6-4dd1-bc6b-f6c0d9a11335",
   "metadata": {},
   "outputs": [
    {
     "data": {
      "text/plain": [
       "'Idade da pessoa é: Rodrigo e o nome é: 10'"
      ]
     },
     "execution_count": 78,
     "metadata": {},
     "output_type": "execute_result"
    }
   ],
   "source": [
    "idade = 10\n",
    "nome = \"Rodrigo\"\n",
    "\"Idade da pessoa é: {a} e o nome é: {b}\".format(b=idade, a=nome)"
   ]
  },
  {
   "cell_type": "markdown",
   "id": "2acca02b-f9e9-4f5c-8a6a-6b424b86fb9b",
   "metadata": {
    "jp-MarkdownHeadingCollapsed": true,
    "tags": []
   },
   "source": [
    "## Listas"
   ]
  },
  {
   "cell_type": "code",
   "execution_count": 85,
   "id": "0df59c82-fbf0-4888-887f-137482067e9f",
   "metadata": {},
   "outputs": [],
   "source": [
    "minha_lista = [1,2,0]"
   ]
  },
  {
   "cell_type": "code",
   "execution_count": 143,
   "id": "def195b5-700c-480a-866c-538a63fa5330",
   "metadata": {},
   "outputs": [
    {
     "data": {
      "text/plain": [
       "['__add__',\n",
       " '__class__',\n",
       " '__class_getitem__',\n",
       " '__contains__',\n",
       " '__delattr__',\n",
       " '__delitem__',\n",
       " '__dir__',\n",
       " '__doc__',\n",
       " '__eq__',\n",
       " '__format__',\n",
       " '__ge__',\n",
       " '__getattribute__',\n",
       " '__getitem__',\n",
       " '__gt__',\n",
       " '__hash__',\n",
       " '__iadd__',\n",
       " '__imul__',\n",
       " '__init__',\n",
       " '__init_subclass__',\n",
       " '__iter__',\n",
       " '__le__',\n",
       " '__len__',\n",
       " '__lt__',\n",
       " '__mul__',\n",
       " '__ne__',\n",
       " '__new__',\n",
       " '__reduce__',\n",
       " '__reduce_ex__',\n",
       " '__repr__',\n",
       " '__reversed__',\n",
       " '__rmul__',\n",
       " '__setattr__',\n",
       " '__setitem__',\n",
       " '__sizeof__',\n",
       " '__str__',\n",
       " '__subclasshook__',\n",
       " 'append',\n",
       " 'clear',\n",
       " 'copy',\n",
       " 'count',\n",
       " 'extend',\n",
       " 'index',\n",
       " 'insert',\n",
       " 'pop',\n",
       " 'remove',\n",
       " 'reverse',\n",
       " 'sort']"
      ]
     },
     "execution_count": 143,
     "metadata": {},
     "output_type": "execute_result"
    }
   ],
   "source": [
    "dir(minha_lista)"
   ]
  },
  {
   "cell_type": "code",
   "execution_count": 80,
   "id": "9b8b8d4e-c8f7-4000-ae9a-4b7353ba16d5",
   "metadata": {},
   "outputs": [
    {
     "data": {
      "text/plain": [
       "list"
      ]
     },
     "execution_count": 80,
     "metadata": {},
     "output_type": "execute_result"
    }
   ],
   "source": [
    "type(minha_lista)"
   ]
  },
  {
   "cell_type": "code",
   "execution_count": 81,
   "id": "f287de29-7747-4344-9628-5ce059ac6a98",
   "metadata": {},
   "outputs": [
    {
     "data": {
      "text/plain": [
       "[1, 2, 3]"
      ]
     },
     "execution_count": 81,
     "metadata": {},
     "output_type": "execute_result"
    }
   ],
   "source": [
    "minha_lista"
   ]
  },
  {
   "cell_type": "code",
   "execution_count": 89,
   "id": "f61d291a-7fd7-4e1c-ad20-b28c3576d886",
   "metadata": {},
   "outputs": [
    {
     "name": "stdout",
     "output_type": "stream",
     "text": [
      "2\n",
      "__________\n",
      "1\n",
      "--------------------------------------------------\n",
      "0\n",
      "__________\n",
      "2\n",
      "--------------------------------------------------\n",
      "1\n",
      "__________\n",
      "0\n",
      "--------------------------------------------------\n"
     ]
    }
   ],
   "source": [
    "for i in minha_lista:\n",
    "    print(minha_lista[i])\n",
    "    print(\"_\"*10)\n",
    "    print(i)\n",
    "    print(\"-\"*50)\n"
   ]
  },
  {
   "cell_type": "code",
   "execution_count": 92,
   "id": "e161d261-7339-464f-8b1c-4e044681183b",
   "metadata": {},
   "outputs": [],
   "source": [
    "#for i in len(minha_lista):\n",
    "#    print(minha_lista[i])"
   ]
  },
  {
   "cell_type": "code",
   "execution_count": 95,
   "id": "78005ffe-3dd5-4565-a597-488f4c47997a",
   "metadata": {},
   "outputs": [
    {
     "data": {
      "text/plain": [
       "[2]"
      ]
     },
     "execution_count": 95,
     "metadata": {},
     "output_type": "execute_result"
    }
   ],
   "source": [
    "minha_lista[1:-1]"
   ]
  },
  {
   "cell_type": "code",
   "execution_count": 99,
   "id": "998379e7-6efe-4498-9aac-00157bbc7103",
   "metadata": {},
   "outputs": [
    {
     "data": {
      "text/plain": [
       "[2, 3]"
      ]
     },
     "execution_count": 99,
     "metadata": {},
     "output_type": "execute_result"
    }
   ],
   "source": [
    "\n",
    "\n",
    "minha_lista= [1, 2, \"hello\", [1, 2, 3]]\n",
    "minha_lista[3][1:]\n"
   ]
  },
  {
   "cell_type": "code",
   "execution_count": 103,
   "id": "8d0b25fb-4cf6-4a7e-9d32-f6f22445f306",
   "metadata": {},
   "outputs": [
    {
     "data": {
      "text/plain": [
       "'HELLO'"
      ]
     },
     "execution_count": 103,
     "metadata": {},
     "output_type": "execute_result"
    }
   ],
   "source": [
    "minha_lista[2].upper()"
   ]
  },
  {
   "cell_type": "code",
   "execution_count": 105,
   "id": "549c4837-722b-4f25-8e10-7c810d0b1394",
   "metadata": {},
   "outputs": [
    {
     "data": {
      "text/plain": [
       "[1, 2, 'hello', [1, 2, 3]]"
      ]
     },
     "execution_count": 105,
     "metadata": {},
     "output_type": "execute_result"
    }
   ],
   "source": [
    "minha_lista"
   ]
  },
  {
   "cell_type": "code",
   "execution_count": 106,
   "id": "f313f332-60c6-4273-9fea-90237867e884",
   "metadata": {},
   "outputs": [
    {
     "data": {
      "text/plain": [
       "[1, 2, 'hello', [1, 2, 3], 3]"
      ]
     },
     "execution_count": 106,
     "metadata": {},
     "output_type": "execute_result"
    }
   ],
   "source": [
    "minha_lista+[3]"
   ]
  },
  {
   "cell_type": "code",
   "execution_count": 107,
   "id": "038c4762-7cd1-4581-b266-1821932769f9",
   "metadata": {},
   "outputs": [
    {
     "data": {
      "text/plain": [
       "[1, 2, 'hello', [1, 2, 3], [3]]"
      ]
     },
     "execution_count": 107,
     "metadata": {},
     "output_type": "execute_result"
    }
   ],
   "source": [
    "minha_lista+[[3]]"
   ]
  },
  {
   "cell_type": "code",
   "execution_count": 108,
   "id": "2f2b2230-c02c-490f-a891-619c12d0fb33",
   "metadata": {},
   "outputs": [
    {
     "data": {
      "text/plain": [
       "[1, 2, 'hello', [1, 2, 3], 1, 2, 'hello', [1, 2, 3]]"
      ]
     },
     "execution_count": 108,
     "metadata": {},
     "output_type": "execute_result"
    }
   ],
   "source": [
    "minha_lista*2"
   ]
  },
  {
   "cell_type": "markdown",
   "id": "34b22edf-22c2-4be5-b28d-ee8090b148d4",
   "metadata": {},
   "source": [
    "### Métodos"
   ]
  },
  {
   "cell_type": "code",
   "execution_count": 109,
   "id": "0b831983-a91a-4072-b54e-29090dcbe2c5",
   "metadata": {},
   "outputs": [],
   "source": [
    "l = [1,2,3,4]"
   ]
  },
  {
   "cell_type": "code",
   "execution_count": 110,
   "id": "635ced1e-2a75-46df-af71-47b596ebe0e2",
   "metadata": {},
   "outputs": [],
   "source": [
    "l.append(5)\n",
    "l"
   ]
  },
  {
   "cell_type": "code",
   "execution_count": 114,
   "id": "91f8a560-dc46-4fad-9082-de5d7609eeee",
   "metadata": {},
   "outputs": [
    {
     "data": {
      "text/plain": [
       "[1, 2, 3, 4, 5, '6', '6']"
      ]
     },
     "execution_count": 114,
     "metadata": {},
     "output_type": "execute_result"
    }
   ],
   "source": [
    "l.append(\"6\")\n",
    "l"
   ]
  },
  {
   "cell_type": "code",
   "execution_count": 115,
   "id": "9eaae4f5-b356-43cb-ac11-09bff1a7259f",
   "metadata": {},
   "outputs": [
    {
     "data": {
      "text/plain": [
       "'6'"
      ]
     },
     "execution_count": 115,
     "metadata": {},
     "output_type": "execute_result"
    }
   ],
   "source": [
    "l.pop()"
   ]
  },
  {
   "cell_type": "code",
   "execution_count": 116,
   "id": "cad03938-41eb-4821-a95d-87f422c62b66",
   "metadata": {
    "tags": []
   },
   "outputs": [
    {
     "data": {
      "text/plain": [
       "[1, 2, 3, 4, 5, '6']"
      ]
     },
     "execution_count": 116,
     "metadata": {},
     "output_type": "execute_result"
    }
   ],
   "source": [
    "l"
   ]
  },
  {
   "cell_type": "code",
   "execution_count": 124,
   "id": "3ac92a28-7732-4882-8e64-2d30fce1d5ff",
   "metadata": {},
   "outputs": [
    {
     "data": {
      "text/plain": [
       "['a', 'b', 'c', 'd', 'e', 'f']"
      ]
     },
     "execution_count": 124,
     "metadata": {},
     "output_type": "execute_result"
    }
   ],
   "source": [
    "k = [\"a\",\"b\",\"c\",\"d\",\"e\",\"f\"]\n",
    "k.sort()\n",
    "k"
   ]
  },
  {
   "cell_type": "code",
   "execution_count": 125,
   "id": "bc08c1b6-cbec-4049-b48c-ed9fa374269f",
   "metadata": {},
   "outputs": [
    {
     "data": {
      "text/plain": [
       "['f', 'e', 'd', 'c', 'b', 'a']"
      ]
     },
     "execution_count": 125,
     "metadata": {},
     "output_type": "execute_result"
    }
   ],
   "source": [
    "k.reverse()\n",
    "k"
   ]
  },
  {
   "cell_type": "code",
   "execution_count": 126,
   "id": "c31d2484-6168-4184-95c3-a4dbe223419d",
   "metadata": {},
   "outputs": [
    {
     "data": {
      "text/plain": [
       "[[1, 2, 3], [4, 5, 6], [7, 8, 9]]"
      ]
     },
     "execution_count": 126,
     "metadata": {},
     "output_type": "execute_result"
    }
   ],
   "source": [
    "list1= [1, 2, 3]\n",
    "list2= [4, 5, 6]\n",
    "list3 = [7, 8, 9]\n",
    "list4 = [list1, list2, list3]\n",
    "list4"
   ]
  },
  {
   "cell_type": "code",
   "execution_count": 127,
   "id": "ae92e3b2-5d45-4897-a113-16ad8ab9bc43",
   "metadata": {},
   "outputs": [
    {
     "data": {
      "text/plain": [
       "5"
      ]
     },
     "execution_count": 127,
     "metadata": {},
     "output_type": "execute_result"
    }
   ],
   "source": [
    "list4[1][1]"
   ]
  },
  {
   "cell_type": "code",
   "execution_count": 129,
   "id": "0a878b1e-169a-4202-ba3e-eef9b35d6450",
   "metadata": {},
   "outputs": [
    {
     "data": {
      "text/plain": [
       "9"
      ]
     },
     "execution_count": 129,
     "metadata": {},
     "output_type": "execute_result"
    }
   ],
   "source": [
    "list4[2][2]"
   ]
  },
  {
   "cell_type": "markdown",
   "id": "6222337f-90db-4f4c-9928-90ffde0e9e7c",
   "metadata": {
    "jp-MarkdownHeadingCollapsed": true,
    "tags": []
   },
   "source": [
    "## Dicionarios"
   ]
  },
  {
   "cell_type": "code",
   "execution_count": 131,
   "id": "291b8bb0-aeae-4dc6-abb0-2511928c9c3c",
   "metadata": {},
   "outputs": [
    {
     "data": {
      "text/plain": [
       "{'nome': 'Paulo', 'idade': 29, 'filhos': ['joao', 'maria']}"
      ]
     },
     "execution_count": 131,
     "metadata": {},
     "output_type": "execute_result"
    }
   ],
   "source": [
    "meu_dicionario = {\"nome\": \"Paulo\", \"idade\": 29, \"filhos\": [\"joao\", \"maria\"]}\n",
    "meu_dicionario"
   ]
  },
  {
   "cell_type": "code",
   "execution_count": 142,
   "id": "4d5a91a8-adc0-4699-83fd-51213bb4c2e1",
   "metadata": {},
   "outputs": [
    {
     "data": {
      "text/plain": [
       "['__class__',\n",
       " '__class_getitem__',\n",
       " '__contains__',\n",
       " '__delattr__',\n",
       " '__delitem__',\n",
       " '__dir__',\n",
       " '__doc__',\n",
       " '__eq__',\n",
       " '__format__',\n",
       " '__ge__',\n",
       " '__getattribute__',\n",
       " '__getitem__',\n",
       " '__gt__',\n",
       " '__hash__',\n",
       " '__init__',\n",
       " '__init_subclass__',\n",
       " '__ior__',\n",
       " '__iter__',\n",
       " '__le__',\n",
       " '__len__',\n",
       " '__lt__',\n",
       " '__ne__',\n",
       " '__new__',\n",
       " '__or__',\n",
       " '__reduce__',\n",
       " '__reduce_ex__',\n",
       " '__repr__',\n",
       " '__reversed__',\n",
       " '__ror__',\n",
       " '__setattr__',\n",
       " '__setitem__',\n",
       " '__sizeof__',\n",
       " '__str__',\n",
       " '__subclasshook__',\n",
       " 'clear',\n",
       " 'copy',\n",
       " 'fromkeys',\n",
       " 'get',\n",
       " 'items',\n",
       " 'keys',\n",
       " 'pop',\n",
       " 'popitem',\n",
       " 'setdefault',\n",
       " 'update',\n",
       " 'values']"
      ]
     },
     "execution_count": 142,
     "metadata": {},
     "output_type": "execute_result"
    }
   ],
   "source": [
    "dir(meu_dicionario)"
   ]
  },
  {
   "cell_type": "code",
   "execution_count": 132,
   "id": "d760fc74-d88d-4b11-9435-66d86fe5eb2e",
   "metadata": {},
   "outputs": [
    {
     "data": {
      "text/plain": [
       "'Paulo'"
      ]
     },
     "execution_count": 132,
     "metadata": {},
     "output_type": "execute_result"
    }
   ],
   "source": [
    "meu_dicionario[\"nome\"]"
   ]
  },
  {
   "cell_type": "code",
   "execution_count": 134,
   "id": "82ea90b3-6940-43e6-9637-f84266100fa2",
   "metadata": {},
   "outputs": [
    {
     "data": {
      "text/plain": [
       "{'nome': 'Paulo', 'idade': 10, 'filhos': ['joao', 'maria']}"
      ]
     },
     "execution_count": 134,
     "metadata": {},
     "output_type": "execute_result"
    }
   ],
   "source": [
    "meu_dicionario[\"idade\"] = 10\n",
    "meu_dicionario"
   ]
  },
  {
   "cell_type": "code",
   "execution_count": 135,
   "id": "a4e6169a-5bfa-4abe-8f45-224a17c10bc4",
   "metadata": {},
   "outputs": [
    {
     "data": {
      "text/plain": [
       "{'nome': 'Paulo',\n",
       " 'idade': 10,\n",
       " 'filhos': ['joao', 'maria'],\n",
       " 'Cidade': 'São Paulo'}"
      ]
     },
     "execution_count": 135,
     "metadata": {},
     "output_type": "execute_result"
    }
   ],
   "source": [
    "meu_dicionario[\"Cidade\"] = \"São Paulo\"\n",
    "meu_dicionario"
   ]
  },
  {
   "cell_type": "code",
   "execution_count": 137,
   "id": "7b2e0367-d000-463a-9f15-ce595b9a371d",
   "metadata": {},
   "outputs": [
    {
     "data": {
      "text/plain": [
       "{'nome': 'Paulo',\n",
       " 'idade': 10,\n",
       " 'filhos': ['joao', 'maria'],\n",
       " 'Cidade': 'São Paulo',\n",
       " 'variavel aleatoria': {'a': 1, 'b': 2}}"
      ]
     },
     "execution_count": 137,
     "metadata": {},
     "output_type": "execute_result"
    }
   ],
   "source": [
    "meu_dicionario [\"variavel aleatoria\"] = {\"a\": 1, \"b\":2}\n",
    "meu_dicionario"
   ]
  },
  {
   "cell_type": "code",
   "execution_count": 138,
   "id": "4e904df0-aa8d-489f-b53d-397851a91470",
   "metadata": {},
   "outputs": [
    {
     "data": {
      "text/plain": [
       "dict_keys(['nome', 'idade', 'filhos', 'Cidade', 'variavel aleatoria'])"
      ]
     },
     "execution_count": 138,
     "metadata": {},
     "output_type": "execute_result"
    }
   ],
   "source": [
    "meu_dicionario.keys()"
   ]
  },
  {
   "cell_type": "code",
   "execution_count": 139,
   "id": "34502d73-c15a-404c-9b04-a21eb19c3810",
   "metadata": {},
   "outputs": [
    {
     "data": {
      "text/plain": [
       "dict_values(['Paulo', 10, ['joao', 'maria'], 'São Paulo', {'a': 1, 'b': 2}])"
      ]
     },
     "execution_count": 139,
     "metadata": {},
     "output_type": "execute_result"
    }
   ],
   "source": [
    "meu_dicionario.values()"
   ]
  },
  {
   "cell_type": "code",
   "execution_count": 141,
   "id": "b08e83c5-d285-428d-863c-477f5c22517e",
   "metadata": {},
   "outputs": [
    {
     "data": {
      "text/plain": [
       "dict_items([('nome', 'Paulo'), ('idade', 10), ('filhos', ['joao', 'maria']), ('Cidade', 'São Paulo'), ('variavel aleatoria', {'a': 1, 'b': 2})])"
      ]
     },
     "execution_count": 141,
     "metadata": {},
     "output_type": "execute_result"
    }
   ],
   "source": [
    "meu_dicionario.items()"
   ]
  },
  {
   "cell_type": "markdown",
   "id": "ca351102-5a2e-4939-9822-20dd8c94b064",
   "metadata": {
    "jp-MarkdownHeadingCollapsed": true,
    "tags": []
   },
   "source": [
    "## Tuplas\n",
    "Listas imutaveis"
   ]
  },
  {
   "cell_type": "code",
   "execution_count": 145,
   "id": "5416aced-c589-471d-991f-3b05677797a6",
   "metadata": {},
   "outputs": [
    {
     "data": {
      "text/plain": [
       "(1, 2, 3)"
      ]
     },
     "execution_count": 145,
     "metadata": {},
     "output_type": "execute_result"
    }
   ],
   "source": [
    "t = (1,2,3)\n",
    "t"
   ]
  },
  {
   "cell_type": "code",
   "execution_count": 146,
   "id": "1d6e15fd-b572-426a-8cb5-1aced4a5b208",
   "metadata": {},
   "outputs": [
    {
     "data": {
      "text/plain": [
       "['__add__',\n",
       " '__class__',\n",
       " '__class_getitem__',\n",
       " '__contains__',\n",
       " '__delattr__',\n",
       " '__dir__',\n",
       " '__doc__',\n",
       " '__eq__',\n",
       " '__format__',\n",
       " '__ge__',\n",
       " '__getattribute__',\n",
       " '__getitem__',\n",
       " '__getnewargs__',\n",
       " '__gt__',\n",
       " '__hash__',\n",
       " '__init__',\n",
       " '__init_subclass__',\n",
       " '__iter__',\n",
       " '__le__',\n",
       " '__len__',\n",
       " '__lt__',\n",
       " '__mul__',\n",
       " '__ne__',\n",
       " '__new__',\n",
       " '__reduce__',\n",
       " '__reduce_ex__',\n",
       " '__repr__',\n",
       " '__rmul__',\n",
       " '__setattr__',\n",
       " '__sizeof__',\n",
       " '__str__',\n",
       " '__subclasshook__',\n",
       " 'count',\n",
       " 'index']"
      ]
     },
     "execution_count": 146,
     "metadata": {},
     "output_type": "execute_result"
    }
   ],
   "source": [
    "dir(t)"
   ]
  },
  {
   "cell_type": "code",
   "execution_count": 148,
   "id": "d853e600-d120-48ef-b5dc-40183db93725",
   "metadata": {},
   "outputs": [
    {
     "data": {
      "text/plain": [
       "(1, 2)"
      ]
     },
     "execution_count": 148,
     "metadata": {},
     "output_type": "execute_result"
    }
   ],
   "source": [
    "t[:-1]"
   ]
  },
  {
   "cell_type": "code",
   "execution_count": 149,
   "id": "8d6cad09-f89f-4581-a6ae-845ce1ecab30",
   "metadata": {},
   "outputs": [
    {
     "data": {
      "text/plain": [
       "(1, 2, 3)"
      ]
     },
     "execution_count": 149,
     "metadata": {},
     "output_type": "execute_result"
    }
   ],
   "source": [
    "t[:]"
   ]
  },
  {
   "cell_type": "code",
   "execution_count": 152,
   "id": "b8e98d5e-efe5-4ac9-8b6d-06e2fe343904",
   "metadata": {},
   "outputs": [
    {
     "name": "stdout",
     "output_type": "stream",
     "text": [
      "1\n",
      "2\n"
     ]
    }
   ],
   "source": [
    "a,b = (1,2)\n",
    "print(a)\n",
    "print(b)"
   ]
  },
  {
   "cell_type": "markdown",
   "id": "c2bb3f01-0775-458b-b0c4-83410b334cd7",
   "metadata": {
    "jp-MarkdownHeadingCollapsed": true,
    "tags": []
   },
   "source": [
    "## Input"
   ]
  },
  {
   "cell_type": "code",
   "execution_count": 3,
   "id": "3b952ba8-e652-4638-8386-a829b5f9ade9",
   "metadata": {},
   "outputs": [
    {
     "name": "stdin",
     "output_type": "stream",
     "text": [
      "digite o numero 12\n"
     ]
    },
    {
     "data": {
      "text/plain": [
       "'12'"
      ]
     },
     "execution_count": 3,
     "metadata": {},
     "output_type": "execute_result"
    }
   ],
   "source": [
    "a = input(\"digite o numero\")\n",
    "a"
   ]
  },
  {
   "cell_type": "code",
   "execution_count": 4,
   "id": "2f48b433-e8f5-4623-9ed6-2cad905e6966",
   "metadata": {},
   "outputs": [
    {
     "data": {
      "text/plain": [
       "12"
      ]
     },
     "execution_count": 4,
     "metadata": {},
     "output_type": "execute_result"
    }
   ],
   "source": [
    "int(a)"
   ]
  },
  {
   "cell_type": "code",
   "execution_count": 5,
   "id": "e554f30f-d3ed-46ba-88b9-4f8534c66764",
   "metadata": {},
   "outputs": [
    {
     "data": {
      "text/plain": [
       "12.0"
      ]
     },
     "execution_count": 5,
     "metadata": {},
     "output_type": "execute_result"
    }
   ],
   "source": [
    "float(a)"
   ]
  },
  {
   "cell_type": "markdown",
   "id": "98de548e-8c81-450e-88ad-fe830c667b3b",
   "metadata": {
    "jp-MarkdownHeadingCollapsed": true,
    "tags": []
   },
   "source": [
    "## Booleanos"
   ]
  },
  {
   "cell_type": "code",
   "execution_count": 33,
   "id": "6a79ce93-41c9-4026-9c2a-229170e6cc63",
   "metadata": {},
   "outputs": [
    {
     "data": {
      "text/plain": [
       "bool"
      ]
     },
     "execution_count": 33,
     "metadata": {},
     "output_type": "execute_result"
    }
   ],
   "source": [
    "a = True\n",
    "b = False\n",
    "type(1>2)"
   ]
  },
  {
   "cell_type": "code",
   "execution_count": 34,
   "id": "03ea1bc9-ca3c-4110-8e1d-475a4ea4932c",
   "metadata": {},
   "outputs": [
    {
     "data": {
      "text/plain": [
       "bool"
      ]
     },
     "execution_count": 34,
     "metadata": {},
     "output_type": "execute_result"
    }
   ],
   "source": [
    "type(a)"
   ]
  },
  {
   "cell_type": "code",
   "execution_count": null,
   "id": "b06203ae-1e7b-47af-81ff-bd41c59069a7",
   "metadata": {},
   "outputs": [],
   "source": []
  },
  {
   "cell_type": "code",
   "execution_count": null,
   "id": "a2ba5746-c10f-4cdc-840d-505152a88d7a",
   "metadata": {},
   "outputs": [],
   "source": []
  },
  {
   "cell_type": "code",
   "execution_count": null,
   "id": "077a770c-8b19-49b2-a429-3d904d0c0722",
   "metadata": {},
   "outputs": [],
   "source": []
  },
  {
   "cell_type": "code",
   "execution_count": null,
   "id": "53145eb5-9d31-4563-8ad0-ffca5e42e699",
   "metadata": {},
   "outputs": [],
   "source": []
  },
  {
   "cell_type": "code",
   "execution_count": null,
   "id": "c8e71c33-c98d-4b77-89b6-79c40dab2a9c",
   "metadata": {},
   "outputs": [],
   "source": []
  },
  {
   "cell_type": "code",
   "execution_count": null,
   "id": "3bba0fc3-8067-4357-9244-4b3664bdc0ed",
   "metadata": {},
   "outputs": [],
   "source": []
  },
  {
   "cell_type": "code",
   "execution_count": null,
   "id": "7709e2da-3d16-48e9-983d-90f7848a8ca7",
   "metadata": {},
   "outputs": [],
   "source": []
  },
  {
   "cell_type": "markdown",
   "id": "ceb8472f-431d-4d9c-8173-01f81ddd674e",
   "metadata": {
    "jp-MarkdownHeadingCollapsed": true,
    "tags": []
   },
   "source": [
    "## SETS\n",
    "Set -> criação de um conjunto ---> não cria elementos repetidos"
   ]
  },
  {
   "cell_type": "code",
   "execution_count": 24,
   "id": "5064e652-c5f0-4e7c-af4d-271e647ae05d",
   "metadata": {},
   "outputs": [
    {
     "data": {
      "text/plain": [
       "set()"
      ]
     },
     "execution_count": 24,
     "metadata": {},
     "output_type": "execute_result"
    }
   ],
   "source": [
    "x = set()\n",
    "x"
   ]
  },
  {
   "cell_type": "code",
   "execution_count": 25,
   "id": "c5be8dd5-c468-4cd0-9530-d6197bf73a32",
   "metadata": {},
   "outputs": [
    {
     "data": {
      "text/plain": [
       "{1, 2, 3, 4}"
      ]
     },
     "execution_count": 25,
     "metadata": {},
     "output_type": "execute_result"
    }
   ],
   "source": [
    "x.add(1)\n",
    "x.add(2)\n",
    "x.add(3)\n",
    "x.add(4)\n",
    "x"
   ]
  },
  {
   "cell_type": "code",
   "execution_count": 26,
   "id": "591589d8-63bf-43f9-9ec1-13c14ff53733",
   "metadata": {},
   "outputs": [
    {
     "data": {
      "text/plain": [
       "{1, 2, 3, 4, 5}"
      ]
     },
     "execution_count": 26,
     "metadata": {},
     "output_type": "execute_result"
    }
   ],
   "source": [
    "x.add(5)\n",
    "x"
   ]
  },
  {
   "cell_type": "code",
   "execution_count": 27,
   "id": "418a15cf-e5b6-4980-91ef-7d54953f16d2",
   "metadata": {},
   "outputs": [
    {
     "data": {
      "text/plain": [
       "{1, 2, 3, 4, 5}"
      ]
     },
     "execution_count": 27,
     "metadata": {},
     "output_type": "execute_result"
    }
   ],
   "source": [
    "x.add(5)\n",
    "x"
   ]
  },
  {
   "cell_type": "code",
   "execution_count": 28,
   "id": "d16f2f8b-48a3-430e-9d33-46b8e8dbbadd",
   "metadata": {},
   "outputs": [
    {
     "data": {
      "text/plain": [
       "{1, 2, 3, 9, 13, 23, 31, 32, 312}"
      ]
     },
     "execution_count": 28,
     "metadata": {},
     "output_type": "execute_result"
    }
   ],
   "source": [
    "l1 = [1,1,1,1,1,1,1,1,1,3,32,32,3,2,13,2,31,312,3,23,2,32,2,32,32,3,23,3,3,3,3,3,3,3,9,9,9,9]\n",
    "l2 = set(l1)\n",
    "l2"
   ]
  },
  {
   "cell_type": "code",
   "execution_count": 29,
   "id": "bc3daecf-4b5c-4920-8d47-34fde96f41dc",
   "metadata": {},
   "outputs": [
    {
     "data": {
      "text/plain": [
       "{1, 2, 3, 4, 5}"
      ]
     },
     "execution_count": 29,
     "metadata": {},
     "output_type": "execute_result"
    }
   ],
   "source": [
    "x"
   ]
  },
  {
   "cell_type": "code",
   "execution_count": 30,
   "id": "cf95d928-56e0-4c29-b5b2-0a98d2b0dade",
   "metadata": {},
   "outputs": [
    {
     "data": {
      "text/plain": [
       "{1, 2, 3, 4, 5, 9, 13, 23, 31, 32, 312}"
      ]
     },
     "execution_count": 30,
     "metadata": {},
     "output_type": "execute_result"
    }
   ],
   "source": [
    "x.union(l2) #união de dois conjuntos"
   ]
  },
  {
   "cell_type": "code",
   "execution_count": 31,
   "id": "9d5b4e8d-fb49-4e31-a43a-9d8bdc65ecce",
   "metadata": {},
   "outputs": [
    {
     "data": {
      "text/plain": [
       "{1, 2, 3}"
      ]
     },
     "execution_count": 31,
     "metadata": {},
     "output_type": "execute_result"
    }
   ],
   "source": [
    "x.intersection(l2)#intersecção"
   ]
  },
  {
   "cell_type": "code",
   "execution_count": 32,
   "id": "ce748214-c759-456b-a3aa-bd8b900e5510",
   "metadata": {},
   "outputs": [
    {
     "data": {
      "text/plain": [
       "['__and__',\n",
       " '__class__',\n",
       " '__class_getitem__',\n",
       " '__contains__',\n",
       " '__delattr__',\n",
       " '__dir__',\n",
       " '__doc__',\n",
       " '__eq__',\n",
       " '__format__',\n",
       " '__ge__',\n",
       " '__getattribute__',\n",
       " '__gt__',\n",
       " '__hash__',\n",
       " '__iand__',\n",
       " '__init__',\n",
       " '__init_subclass__',\n",
       " '__ior__',\n",
       " '__isub__',\n",
       " '__iter__',\n",
       " '__ixor__',\n",
       " '__le__',\n",
       " '__len__',\n",
       " '__lt__',\n",
       " '__ne__',\n",
       " '__new__',\n",
       " '__or__',\n",
       " '__rand__',\n",
       " '__reduce__',\n",
       " '__reduce_ex__',\n",
       " '__repr__',\n",
       " '__ror__',\n",
       " '__rsub__',\n",
       " '__rxor__',\n",
       " '__setattr__',\n",
       " '__sizeof__',\n",
       " '__str__',\n",
       " '__sub__',\n",
       " '__subclasshook__',\n",
       " '__xor__',\n",
       " 'add',\n",
       " 'clear',\n",
       " 'copy',\n",
       " 'difference',\n",
       " 'difference_update',\n",
       " 'discard',\n",
       " 'intersection',\n",
       " 'intersection_update',\n",
       " 'isdisjoint',\n",
       " 'issubset',\n",
       " 'issuperset',\n",
       " 'pop',\n",
       " 'remove',\n",
       " 'symmetric_difference',\n",
       " 'symmetric_difference_update',\n",
       " 'union',\n",
       " 'update']"
      ]
     },
     "execution_count": 32,
     "metadata": {},
     "output_type": "execute_result"
    }
   ],
   "source": [
    "dir(x)"
   ]
  },
  {
   "cell_type": "markdown",
   "id": "61dfd3c0-368b-4b5e-9032-dc1d43a0cbf0",
   "metadata": {
    "jp-MarkdownHeadingCollapsed": true,
    "tags": []
   },
   "source": [
    "## Operadores de comparação\n"
   ]
  },
  {
   "cell_type": "markdown",
   "id": "3054cffe-6b7f-4225-81df-aab497a01ca1",
   "metadata": {},
   "source": [
    "Nesta aula estaremos aprendendo sobre Operadores de Comparação em Python. Esses\n",
    "operadores nos permitirão comparar variáveis e produzir um valor booleano (Verdadeiro ou\n",
    "Falso).\n",
    "Se você tiver alguma base em Matemática, esses operadores devem ser muito diretos.\n",
    "Em primeiro lugar, apresentaremos uma tabela dos operadores de comparação e depois\n",
    "trabalharemos com alguns exemplos:\n",
    "Tabela de operadores de comparação\n",
    "Operador Descrição Exemplo\n",
    "==\n",
    "Se os valores de dois operandos forem\n",
    "iguais, a condição torna-se verdadeira.\n",
    "(a == b) não é verdade.\n",
    "!= Se valores de dois operandos não forem\n",
    "iguais, a condição torna-se verdadeira.\n",
    "(a != b) é verdadeiro\n",
    "<>\n",
    "Se os valores de dois operandos não forem\n",
    "iguais, a condição torna-se verdadeira.\n",
    "(a <> b) é verdadeiro. Isso é semelhante ao\n",
    "operador !=.\n",
    ">\n",
    "Se o valor do operando esquerdo for maior\n",
    "que o valor do operando direito, a condição\n",
    "torna-se verdadeira.\n",
    "(a > b) não é verdadeiro.\n",
    "<\n",
    "Se o valor do operando esquerdo for inferior\n",
    "ao valor do operando direito, a condição\n",
    "torna-se verdadeira.\n",
    "(a < b) é verdadeiro.\n",
    ">=\n",
    "Se o valor do operando esquerdo for maior\n",
    "ou igual ao valor do operando direito, a\n",
    "condição torna-se verdadeira.\n",
    "(a >= b) não é verdadeiro.\n",
    "<=\n",
    "Se o valor do operando esquerdo for menor\n",
    "ou igual ao valor do operando direito, a\n",
    "condição torna-se verdadeira.\n",
    "(a <= b) é verdadeiro\n",
    "Vamos agora trabalhar com exemplos rápidos de cada um desses."
   ]
  },
  {
   "cell_type": "markdown",
   "id": "bd38ac33-730e-4687-b4a8-10ac402ca81a",
   "metadata": {
    "jp-MarkdownHeadingCollapsed": true,
    "tags": []
   },
   "source": [
    "### Igualdade"
   ]
  },
  {
   "cell_type": "code",
   "execution_count": 35,
   "id": "bcb28bc7-3719-48be-b4d0-6d71c2dd5990",
   "metadata": {},
   "outputs": [
    {
     "data": {
      "text/plain": [
       "True"
      ]
     },
     "execution_count": 35,
     "metadata": {},
     "output_type": "execute_result"
    }
   ],
   "source": [
    "2==2"
   ]
  },
  {
   "cell_type": "code",
   "execution_count": 36,
   "id": "8cdde643-c273-492d-85a9-2e140d392ec2",
   "metadata": {},
   "outputs": [
    {
     "data": {
      "text/plain": [
       "False"
      ]
     },
     "execution_count": 36,
     "metadata": {},
     "output_type": "execute_result"
    }
   ],
   "source": [
    "2 == 0"
   ]
  },
  {
   "cell_type": "markdown",
   "id": "17b96a57-17e9-4a74-9ba6-4564fb78204e",
   "metadata": {
    "jp-MarkdownHeadingCollapsed": true,
    "tags": []
   },
   "source": [
    "### Desigualdade"
   ]
  },
  {
   "cell_type": "code",
   "execution_count": 37,
   "id": "439c8f3a-5e26-43ea-9535-267781c08642",
   "metadata": {},
   "outputs": [
    {
     "data": {
      "text/plain": [
       "True"
      ]
     },
     "execution_count": 37,
     "metadata": {},
     "output_type": "execute_result"
    }
   ],
   "source": [
    "2!=1"
   ]
  },
  {
   "cell_type": "code",
   "execution_count": 40,
   "id": "7a49bc89-29ac-4423-b6f1-87dc7f8dae58",
   "metadata": {},
   "outputs": [
    {
     "data": {
      "text/plain": [
       "False"
      ]
     },
     "execution_count": 40,
     "metadata": {},
     "output_type": "execute_result"
    }
   ],
   "source": [
    "2!=2"
   ]
  },
  {
   "cell_type": "markdown",
   "id": "1d1ae372-6501-4cb9-9605-9e71ca04ba86",
   "metadata": {
    "jp-MarkdownHeadingCollapsed": true,
    "tags": []
   },
   "source": [
    "### MAIOR MENOR e MAIOR/MENOR igual"
   ]
  },
  {
   "cell_type": "code",
   "execution_count": 45,
   "id": "b19ade00-30cd-4336-85b9-50ca42e7966f",
   "metadata": {},
   "outputs": [
    {
     "data": {
      "text/plain": [
       "True"
      ]
     },
     "execution_count": 45,
     "metadata": {},
     "output_type": "execute_result"
    }
   ],
   "source": [
    "2>=2"
   ]
  },
  {
   "cell_type": "code",
   "execution_count": 46,
   "id": "e953efa9-4c21-49d8-93f0-857df4802c3d",
   "metadata": {},
   "outputs": [
    {
     "data": {
      "text/plain": [
       "True"
      ]
     },
     "execution_count": 46,
     "metadata": {},
     "output_type": "execute_result"
    }
   ],
   "source": [
    "2>=1"
   ]
  },
  {
   "cell_type": "code",
   "execution_count": 48,
   "id": "8be0d6f0-bb46-44c2-ab10-104c12dfede3",
   "metadata": {},
   "outputs": [
    {
     "data": {
      "text/plain": [
       "False"
      ]
     },
     "execution_count": 48,
     "metadata": {},
     "output_type": "execute_result"
    }
   ],
   "source": [
    "2<=1"
   ]
  },
  {
   "cell_type": "code",
   "execution_count": 49,
   "id": "386bfa7a-6133-49ec-b801-bad09faeab66",
   "metadata": {},
   "outputs": [
    {
     "data": {
      "text/plain": [
       "False"
      ]
     },
     "execution_count": 49,
     "metadata": {},
     "output_type": "execute_result"
    }
   ],
   "source": [
    "2>2"
   ]
  },
  {
   "cell_type": "markdown",
   "id": "3e9b524e-aa2c-47e7-8273-d5c56f58fb45",
   "metadata": {
    "jp-MarkdownHeadingCollapsed": true,
    "tags": []
   },
   "source": [
    "## Operadores de comparação em cadeia\n"
   ]
  },
  {
   "cell_type": "code",
   "execution_count": 1,
   "id": "db148f17-d681-445d-bda8-abce3af715dd",
   "metadata": {},
   "outputs": [
    {
     "data": {
      "text/plain": [
       "False"
      ]
     },
     "execution_count": 1,
     "metadata": {},
     "output_type": "execute_result"
    }
   ],
   "source": [
    "1<2>3"
   ]
  },
  {
   "cell_type": "code",
   "execution_count": 2,
   "id": "9b7b7690-a618-4424-bab7-dbe73487bf75",
   "metadata": {},
   "outputs": [
    {
     "data": {
      "text/plain": [
       "True"
      ]
     },
     "execution_count": 2,
     "metadata": {},
     "output_type": "execute_result"
    }
   ],
   "source": [
    "1<2<3"
   ]
  },
  {
   "cell_type": "code",
   "execution_count": 3,
   "id": "f6829166-f867-43f7-9a08-23bbd06fd9aa",
   "metadata": {},
   "outputs": [
    {
     "data": {
      "text/plain": [
       "True"
      ]
     },
     "execution_count": 3,
     "metadata": {},
     "output_type": "execute_result"
    }
   ],
   "source": [
    "1<2 and 2<3"
   ]
  },
  {
   "cell_type": "code",
   "execution_count": 4,
   "id": "d9e7a550-904e-4b05-a333-14c96e0c6a8b",
   "metadata": {},
   "outputs": [
    {
     "data": {
      "text/plain": [
       "True"
      ]
     },
     "execution_count": 4,
     "metadata": {},
     "output_type": "execute_result"
    }
   ],
   "source": [
    "2>1 or 2>3"
   ]
  },
  {
   "cell_type": "code",
   "execution_count": 5,
   "id": "55bd59d6-2d4a-4172-a081-699ccadbac38",
   "metadata": {},
   "outputs": [
    {
     "data": {
      "text/plain": [
       "True"
      ]
     },
     "execution_count": 5,
     "metadata": {},
     "output_type": "execute_result"
    }
   ],
   "source": [
    "1==2 or 2==3 or 4==3 or 3==3"
   ]
  },
  {
   "cell_type": "code",
   "execution_count": 6,
   "id": "e788bb34-ef90-4393-978d-ad5f0da9c48e",
   "metadata": {},
   "outputs": [
    {
     "data": {
      "text/plain": [
       "False"
      ]
     },
     "execution_count": 6,
     "metadata": {},
     "output_type": "execute_result"
    }
   ],
   "source": [
    "True and False"
   ]
  },
  {
   "cell_type": "code",
   "execution_count": 7,
   "id": "4f66e821-c12e-4ae7-b694-668c8f44ad2a",
   "metadata": {},
   "outputs": [
    {
     "data": {
      "text/plain": [
       "True"
      ]
     },
     "execution_count": 7,
     "metadata": {},
     "output_type": "execute_result"
    }
   ],
   "source": [
    "True or False"
   ]
  },
  {
   "cell_type": "code",
   "execution_count": 9,
   "id": "9c1a5b0b-3105-4c07-bebd-aaacc20fabfd",
   "metadata": {},
   "outputs": [
    {
     "data": {
      "text/plain": [
       "True"
      ]
     },
     "execution_count": 9,
     "metadata": {},
     "output_type": "execute_result"
    }
   ],
   "source": [
    "(2>1 or 2<3) and (2>11 or 2<3)"
   ]
  },
  {
   "cell_type": "markdown",
   "id": "ba21529a-56c9-40a3-bba7-bc9ab6964df5",
   "metadata": {
    "jp-MarkdownHeadingCollapsed": true,
    "tags": []
   },
   "source": [
    "## if elif else"
   ]
  },
  {
   "cell_type": "code",
   "execution_count": 18,
   "id": "9322260e-f07a-4d0a-ab34-98c740c2129e",
   "metadata": {},
   "outputs": [
    {
     "name": "stdout",
     "output_type": "stream",
     "text": [
      "quente\n"
     ]
    }
   ],
   "source": [
    "temp =30\n",
    "if temp >=30:\n",
    "    print(\"quente\")\n",
    "elif temp >20:\n",
    "    print('morno')\n",
    "else:\n",
    "    print(\"frio\")"
   ]
  },
  {
   "cell_type": "code",
   "execution_count": 17,
   "id": "352ff2e3-82aa-4c48-b7b6-870c3290c3e3",
   "metadata": {},
   "outputs": [
    {
     "name": "stdout",
     "output_type": "stream",
     "text": [
      "temp maior = que 25\n",
      "temp maior que 20\n",
      "temp maior que 25\n",
      "temp maior que 12\n"
     ]
    }
   ],
   "source": [
    "if temp >= 30:\n",
    "    print(\"temp maior = que 25\")\n",
    "if temp > 20:\n",
    "    print(\"temp maior que 20\")\n",
    "if temp > 25:\n",
    "    print(\"temp maior que 25\")\n",
    "if temp > 12:\n",
    "    print(\"temp maior que 12\")"
   ]
  },
  {
   "cell_type": "markdown",
   "id": "3de78949-d457-44bf-9dec-6720d23014d0",
   "metadata": {
    "jp-MarkdownHeadingCollapsed": true,
    "tags": []
   },
   "source": [
    "## Range\n"
   ]
  },
  {
   "cell_type": "markdown",
   "id": "a86d56af-4334-469c-bd84-7f08a8d209c8",
   "metadata": {},
   "source": [
    "inicio final passo"
   ]
  },
  {
   "cell_type": "code",
   "execution_count": 19,
   "id": "888f765f-d154-42c2-899b-b96724944da9",
   "metadata": {},
   "outputs": [
    {
     "data": {
      "text/plain": [
       "range(0, 10)"
      ]
     },
     "execution_count": 19,
     "metadata": {},
     "output_type": "execute_result"
    }
   ],
   "source": [
    "range(0,10,1)"
   ]
  },
  {
   "cell_type": "code",
   "execution_count": 22,
   "id": "c7b53fe1-53de-44b1-b904-8c546087ecdc",
   "metadata": {},
   "outputs": [
    {
     "data": {
      "text/plain": [
       "[0, 2, 4, 6, 8]"
      ]
     },
     "execution_count": 22,
     "metadata": {},
     "output_type": "execute_result"
    }
   ],
   "source": [
    "list(range(0,10,2))"
   ]
  },
  {
   "cell_type": "code",
   "execution_count": 23,
   "id": "e1fad9b8-fa85-459c-9b19-acb646dc6a75",
   "metadata": {},
   "outputs": [
    {
     "data": {
      "text/plain": [
       "[0, 1, 2, 3, 4, 5, 6, 7, 8, 9]"
      ]
     },
     "execution_count": 23,
     "metadata": {},
     "output_type": "execute_result"
    }
   ],
   "source": [
    "list(range(0,10))"
   ]
  },
  {
   "cell_type": "code",
   "execution_count": 24,
   "id": "ecc23b9e-5c4a-49a6-b63a-1cc01afd6162",
   "metadata": {},
   "outputs": [
    {
     "data": {
      "text/plain": [
       "[0, 1, 2, 3, 4, 5, 6, 7, 8, 9]"
      ]
     },
     "execution_count": 24,
     "metadata": {},
     "output_type": "execute_result"
    }
   ],
   "source": [
    "list(range(10))"
   ]
  },
  {
   "cell_type": "markdown",
   "id": "c7e962e8-89ef-4e96-ba25-2eeee4f20ccb",
   "metadata": {
    "jp-MarkdownHeadingCollapsed": true,
    "tags": []
   },
   "source": [
    "## Modulo (operação)"
   ]
  },
  {
   "cell_type": "markdown",
   "id": "27b49144-ebec-495f-b62c-c009bfdd088c",
   "metadata": {},
   "source": [
    "O módulo nos permite obter o restante em uma divisão e usa o símbolo %. "
   ]
  },
  {
   "cell_type": "code",
   "execution_count": null,
   "id": "2f37f299-5196-40bb-b421-5b7fb39fc3e4",
   "metadata": {},
   "outputs": [],
   "source": [
    "17"
   ]
  },
  {
   "cell_type": "code",
   "execution_count": 32,
   "id": "87b25b8a-aa5f-4db7-83db-8e74109a6ba0",
   "metadata": {},
   "outputs": [
    {
     "data": {
      "text/plain": [
       "2"
      ]
     },
     "execution_count": 32,
     "metadata": {},
     "output_type": "execute_result"
    }
   ],
   "source": [
    "17 % 5"
   ]
  },
  {
   "cell_type": "markdown",
   "id": "8f606534-171d-4ec5-8ab5-a93632fd6544",
   "metadata": {
    "jp-MarkdownHeadingCollapsed": true,
    "tags": []
   },
   "source": [
    "## FOR"
   ]
  },
  {
   "cell_type": "code",
   "execution_count": 39,
   "id": "f55aa82d-023b-424d-88a4-523521509b7d",
   "metadata": {
    "collapsed": true,
    "jupyter": {
     "outputs_hidden": true
    },
    "tags": []
   },
   "outputs": [
    {
     "name": "stdout",
     "output_type": "stream",
     "text": [
      "   0   \n",
      "________\n",
      "   1   \n",
      "________\n",
      "   2   \n",
      "________\n",
      "   3   \n",
      "________\n",
      "   4   \n",
      "________\n",
      "   5   \n",
      "________\n",
      "   6   \n",
      "________\n",
      "   7   \n",
      "________\n",
      "   8   \n",
      "________\n",
      "   9   \n",
      "________\n"
     ]
    }
   ],
   "source": [
    "for i in range(10):\n",
    "    i = str(i)\n",
    "    print(\"   \" + i + \"   \")\n",
    "    print(\"_\"*8)"
   ]
  },
  {
   "cell_type": "code",
   "execution_count": 31,
   "id": "48b1e98e-4ea8-47d2-b053-c0dc4229666b",
   "metadata": {
    "collapsed": true,
    "jupyter": {
     "outputs_hidden": true
    },
    "tags": []
   },
   "outputs": [
    {
     "name": "stdout",
     "output_type": "stream",
     "text": [
      "1\n",
      "2\n",
      "3\n",
      "4\n",
      "fim\n",
      "__________\n",
      "A\n",
      "l\n",
      "g\n",
      "o\n",
      " \n",
      "e\n",
      "s\n",
      "c\n",
      "r\n",
      "i\n",
      "t\n",
      "o\n",
      " \n",
      "a\n",
      "q\n",
      "u\n",
      "i\n",
      " \n",
      "f\n",
      "i\n",
      "m\n",
      "!\n"
     ]
    }
   ],
   "source": [
    "f = [1,2,3,4,\"fim\"]\n",
    "for i in f:\n",
    "    print(i)\n",
    "print(\"_\"*10)\n",
    "ANA = \"Algo escrito aqui fim!\"\n",
    "for i in ANA:\n",
    "    print(i)"
   ]
  },
  {
   "cell_type": "code",
   "execution_count": 36,
   "id": "82b58337-3590-4646-af77-f4fa3f3e67f6",
   "metadata": {
    "collapsed": true,
    "jupyter": {
     "outputs_hidden": true
    },
    "tags": []
   },
   "outputs": [
    {
     "name": "stdout",
     "output_type": "stream",
     "text": [
      "0 é par\n",
      "2 é par\n",
      "4 é par\n",
      "6 é par\n",
      "8 é par\n"
     ]
    }
   ],
   "source": [
    "for num in range(10):\n",
    "    if num % 2 == 0:\n",
    "        print(\"{} é par\".format(num))\n"
   ]
  },
  {
   "cell_type": "markdown",
   "id": "14260c02-0cfc-4d55-8a05-c11198ce1cf2",
   "metadata": {
    "jp-MarkdownHeadingCollapsed": true,
    "tags": []
   },
   "source": [
    "## While"
   ]
  },
  {
   "cell_type": "markdown",
   "id": "8d995103-52fe-4f0a-80a2-de7ce70e913b",
   "metadata": {},
   "source": [
    "    While condição:\n",
    "        X\n",
    "    for variavel in iteravel:"
   ]
  },
  {
   "cell_type": "code",
   "execution_count": 45,
   "id": "55b95be6-0480-4964-9459-23e00c5b6029",
   "metadata": {
    "tags": []
   },
   "outputs": [
    {
     "name": "stdout",
     "output_type": "stream",
     "text": [
      "o valor de x é 0\n",
      "o valor de x é 1\n",
      "o valor de x é 2\n",
      "o valor de x é 3\n",
      "o valor de x é 4\n",
      "o valor de x é 5\n",
      "o valor de x é 6\n",
      "o valor de x é 7\n",
      "o valor de x é 8\n",
      "o valor de x é 9\n",
      "finalmente acabou\n"
     ]
    }
   ],
   "source": [
    "x = 0\n",
    "while x<10:\n",
    "    print(\"o valor de x é {}\".format(x))\n",
    "    x = x+1\n",
    "    continue # comente para ver\n",
    "    print(\"O_O\")\n",
    "else:\n",
    "    print(\"finalmente acabou\")"
   ]
  },
  {
   "cell_type": "code",
   "execution_count": 47,
   "id": "69312bf5-8472-4001-866c-aa51d8d54a03",
   "metadata": {
    "tags": []
   },
   "outputs": [
    {
     "name": "stdout",
     "output_type": "stream",
     "text": [
      "o valor de x é 0\n",
      "O_O\n",
      "o valor de x é 1\n",
      "O_O\n",
      "o valor de x é 2\n",
      "O_O\n",
      "o valor de x é 3\n",
      "O_O\n",
      "o valor de x é 4\n"
     ]
    }
   ],
   "source": [
    "x = 0\n",
    "while x<10:\n",
    "    print(\"o valor de x é {}\".format(x))\n",
    "    x = x+1\n",
    "    if x== 5:\n",
    "        break\n",
    "    print(\"O_O\")\n",
    "else:\n",
    "    print(\"finalmente acabou\")"
   ]
  },
  {
   "cell_type": "code",
   "execution_count": 58,
   "id": "6a6d61c1-f813-4b0a-8cfc-75cb0936595d",
   "metadata": {},
   "outputs": [
    {
     "name": "stdout",
     "output_type": "stream",
     "text": [
      "CUIDADO 1\n",
      "CUIDADO 2\n",
      "Ufa!\n",
      "3\n"
     ]
    },
    {
     "data": {
      "text/plain": [
       "2"
      ]
     },
     "execution_count": 58,
     "metadata": {},
     "output_type": "execute_result"
    }
   ],
   "source": [
    "x = 1\n",
    "while True:\n",
    "    print(\"CUIDADO {}\".format(x))\n",
    "    x +=1\n",
    "    if x == 3:\n",
    "        print(\"Ufa!\")\n",
    "        print(x)\n",
    "        break\n",
    "x-=1\n",
    "x"
   ]
  },
  {
   "cell_type": "markdown",
   "id": "5f16c1c0-0052-43eb-b431-d9259f8686c6",
   "metadata": {
    "jp-MarkdownHeadingCollapsed": true,
    "tags": []
   },
   "source": [
    "## Compreensão em Listas"
   ]
  },
  {
   "cell_type": "code",
   "execution_count": 60,
   "id": "359f765e-6130-4114-a1ef-ba2642617222",
   "metadata": {},
   "outputs": [
    {
     "name": "stdout",
     "output_type": "stream",
     "text": [
      "['s', 't', 'r', 'i', 'n', 'g']\n"
     ]
    }
   ],
   "source": [
    "word = \"string\"\n",
    "list_words =[]\n",
    "for w in word:\n",
    "    list_words.append(w)\n",
    "print(list_words)"
   ]
  },
  {
   "cell_type": "markdown",
   "id": "cdc5ba5f-8efe-4aff-a11f-cc4f88f8201d",
   "metadata": {},
   "source": [
    "Compactando"
   ]
  },
  {
   "cell_type": "code",
   "execution_count": 64,
   "id": "690fb5f7-349c-4e0a-baa1-c4df9adad5a6",
   "metadata": {},
   "outputs": [
    {
     "data": {
      "text/plain": [
       "['s', 't', 'r', 'i', 'n', 'g']"
      ]
     },
     "execution_count": 64,
     "metadata": {},
     "output_type": "execute_result"
    }
   ],
   "source": [
    "lista_palavra = [(w) for w in word]\n",
    "lista_palavra\n"
   ]
  },
  {
   "cell_type": "code",
   "execution_count": 65,
   "id": "5a946633-f0d4-4225-84c3-634d971ab3b9",
   "metadata": {
    "collapsed": true,
    "jupyter": {
     "outputs_hidden": true
    },
    "tags": []
   },
   "outputs": [
    {
     "data": {
      "text/plain": [
       "['A',\n",
       " 'l',\n",
       " 'g',\n",
       " 'o',\n",
       " ' ',\n",
       " 'e',\n",
       " 's',\n",
       " 'c',\n",
       " 'r',\n",
       " 'i',\n",
       " 't',\n",
       " 'o',\n",
       " ' ',\n",
       " 'a',\n",
       " 'q',\n",
       " 'u',\n",
       " 'i',\n",
       " ' ',\n",
       " 'f',\n",
       " 'i',\n",
       " 'm',\n",
       " '!']"
      ]
     },
     "execution_count": 65,
     "metadata": {},
     "output_type": "execute_result"
    }
   ],
   "source": [
    "lista_palavra = [w for w in ANA]\n",
    "lista_palavra"
   ]
  },
  {
   "cell_type": "code",
   "execution_count": 68,
   "id": "9821def3-6b4e-44ee-bd9f-d99deac75b40",
   "metadata": {},
   "outputs": [
    {
     "data": {
      "text/plain": [
       "[0, 1, 4, 9, 16, 25, 36, 49, 64, 81]"
      ]
     },
     "execution_count": 68,
     "metadata": {},
     "output_type": "execute_result"
    }
   ],
   "source": [
    "lista2 = [x**2 for x in range(10)]\n",
    "lista2"
   ]
  },
  {
   "cell_type": "code",
   "execution_count": 70,
   "id": "d4892d47-2e9c-4970-be58-a6e1027cdf12",
   "metadata": {},
   "outputs": [
    {
     "data": {
      "text/plain": [
       "[0, 2, 4, 6, 8, 10]"
      ]
     },
     "execution_count": 70,
     "metadata": {},
     "output_type": "execute_result"
    }
   ],
   "source": [
    "lst = [x for x in range(11) if x % 2 == 0]\n",
    "lst"
   ]
  },
  {
   "cell_type": "code",
   "execution_count": 71,
   "id": "4134e381-2ce9-40b2-86ad-ae02d51cfde7",
   "metadata": {},
   "outputs": [
    {
     "data": {
      "text/plain": [
       "[1, 3, 5, 7, 9, 11]"
      ]
     },
     "execution_count": 71,
     "metadata": {},
     "output_type": "execute_result"
    }
   ],
   "source": [
    "lst = [x+1 for x in range(11) if x % 2 == 0]\n",
    "lst"
   ]
  },
  {
   "cell_type": "markdown",
   "id": "5bf92ae8-2905-44a2-a77f-b45d9f6c196b",
   "metadata": {},
   "source": [
    "### Exemplo"
   ]
  },
  {
   "cell_type": "code",
   "execution_count": 72,
   "id": "3f035998-26d7-43ce-b9cd-388af5abe90f",
   "metadata": {},
   "outputs": [
    {
     "data": {
      "text/plain": [
       "[32.0, 50.0, 68.18, 94.1]"
      ]
     },
     "execution_count": 72,
     "metadata": {},
     "output_type": "execute_result"
    }
   ],
   "source": [
    "# Converte Celsius para Fahrenheit\n",
    "celsius = [0,10,20.1,34.5]\n",
    "fahrenheit = [ ((float(9)/5)*temp + 32) for temp in celsius]\n",
    "fahrenheit\n"
   ]
  },
  {
   "cell_type": "markdown",
   "id": "b5f6ea8f-59ed-4f6b-8b2d-0d6cdf8ff22a",
   "metadata": {},
   "source": [
    "Também podemos realizar compreensões de lista aninhadas"
   ]
  },
  {
   "cell_type": "code",
   "execution_count": 73,
   "id": "b6754838-55a9-45f2-90fd-d9d91fef64e1",
   "metadata": {},
   "outputs": [
    {
     "data": {
      "text/plain": [
       "[0, 1, 16, 81, 256, 625, 1296, 2401, 4096, 6561, 10000]"
      ]
     },
     "execution_count": 73,
     "metadata": {},
     "output_type": "execute_result"
    }
   ],
   "source": [
    "lst = [ x**2 for x in [x**2 for x in range(11)]]\n",
    "lst"
   ]
  },
  {
   "cell_type": "markdown",
   "id": "b225fa37-26be-47a2-9bee-abda3cb3fa0d",
   "metadata": {
    "jp-MarkdownHeadingCollapsed": true,
    "tags": []
   },
   "source": [
    "## Funções"
   ]
  },
  {
   "cell_type": "code",
   "execution_count": 74,
   "id": "466e153d-1de8-4a1c-8cab-f94ca40d7ef7",
   "metadata": {},
   "outputs": [
    {
     "data": {
      "text/plain": [
       "10"
      ]
     },
     "execution_count": 74,
     "metadata": {},
     "output_type": "execute_result"
    }
   ],
   "source": [
    "len(\"AAAAAAAAAA\")"
   ]
  },
  {
   "cell_type": "code",
   "execution_count": 75,
   "id": "7ab470ca-0680-4168-a4b2-02c662dd4c05",
   "metadata": {},
   "outputs": [
    {
     "data": {
      "text/plain": [
       "7"
      ]
     },
     "execution_count": 75,
     "metadata": {},
     "output_type": "execute_result"
    }
   ],
   "source": [
    "len([1,1,1,1,1,1,1])"
   ]
  },
  {
   "cell_type": "code",
   "execution_count": 93,
   "id": "65f4805f-a265-4f78-ab61-7fd2b892ba4e",
   "metadata": {},
   "outputs": [],
   "source": [
    "def diga_olá(nome,vezes):\n",
    "    a = 1\n",
    "    while a <=vezes:\n",
    "        print(\"olá {}\".format(nome))\n",
    "        a+=1"
   ]
  },
  {
   "cell_type": "code",
   "execution_count": 94,
   "id": "5c5d4a62-ab95-4bfd-a102-e011c4a19803",
   "metadata": {},
   "outputs": [
    {
     "name": "stdout",
     "output_type": "stream",
     "text": [
      "olá ANA\n",
      "olá ANA\n"
     ]
    }
   ],
   "source": [
    "diga_olá(\"ANA\",2)"
   ]
  },
  {
   "cell_type": "code",
   "execution_count": 83,
   "id": "4b965f14-c4c5-4dd8-a8cf-0c684f8c0162",
   "metadata": {},
   "outputs": [],
   "source": [
    "def numeros_impares(x):\n",
    "    return[i for i in range(x) if i%2==1]"
   ]
  },
  {
   "cell_type": "code",
   "execution_count": 84,
   "id": "213bc6c2-a383-4aca-910a-26f6b99a5b65",
   "metadata": {},
   "outputs": [
    {
     "data": {
      "text/plain": [
       "[1, 3, 5, 7, 9]"
      ]
     },
     "execution_count": 84,
     "metadata": {},
     "output_type": "execute_result"
    }
   ],
   "source": [
    "numeros_impares(11)"
   ]
  },
  {
   "cell_type": "code",
   "execution_count": 85,
   "id": "dc021fb8-a4ca-413d-8fe1-7e9e721db9e0",
   "metadata": {},
   "outputs": [
    {
     "data": {
      "text/plain": [
       "list"
      ]
     },
     "execution_count": 85,
     "metadata": {},
     "output_type": "execute_result"
    }
   ],
   "source": [
    "type(numeros_impares(11))"
   ]
  },
  {
   "cell_type": "code",
   "execution_count": 87,
   "id": "931b43db-2221-4792-9982-5a71c7f5f8e4",
   "metadata": {},
   "outputs": [
    {
     "data": {
      "text/plain": [
       "function"
      ]
     },
     "execution_count": 87,
     "metadata": {},
     "output_type": "execute_result"
    }
   ],
   "source": [
    "type(numeros_impares)"
   ]
  },
  {
   "cell_type": "markdown",
   "id": "a13eb62a-51b4-4b76-a12f-43d7bd670341",
   "metadata": {
    "jp-MarkdownHeadingCollapsed": true,
    "tags": []
   },
   "source": [
    "## Lambda"
   ]
  },
  {
   "cell_type": "code",
   "execution_count": 95,
   "id": "24e19da2-06c6-4ccd-b00e-d287205035b2",
   "metadata": {},
   "outputs": [],
   "source": [
    "def elevar_ao_quadrado(x):\n",
    "    return x**2"
   ]
  },
  {
   "cell_type": "code",
   "execution_count": 96,
   "id": "8b96e600-8606-4ac0-8059-0222e6e29a39",
   "metadata": {},
   "outputs": [
    {
     "data": {
      "text/plain": [
       "100"
      ]
     },
     "execution_count": 96,
     "metadata": {},
     "output_type": "execute_result"
    }
   ],
   "source": [
    "elevar_ao_quadrado(10)"
   ]
  },
  {
   "cell_type": "code",
   "execution_count": 98,
   "id": "ab886b66-1b87-406f-a1c5-ab29f4df0b72",
   "metadata": {},
   "outputs": [],
   "source": [
    "a = lambda x:x**2"
   ]
  },
  {
   "cell_type": "code",
   "execution_count": 99,
   "id": "7138f22b-1ab6-4113-98b4-cf7a28f9c24e",
   "metadata": {},
   "outputs": [
    {
     "data": {
      "text/plain": [
       "10000"
      ]
     },
     "execution_count": 99,
     "metadata": {},
     "output_type": "execute_result"
    }
   ],
   "source": [
    "a(100)"
   ]
  },
  {
   "cell_type": "markdown",
   "id": "6b5c2d0b-4109-42ed-809b-6ad9f82cf908",
   "metadata": {},
   "source": [
    "## "
   ]
  },
  {
   "cell_type": "code",
   "execution_count": null,
   "id": "51112229-a455-418b-b43a-bf42385aedaf",
   "metadata": {},
   "outputs": [],
   "source": []
  }
 ],
 "metadata": {
  "kernelspec": {
   "display_name": "Python 3 (ipykernel)",
   "language": "python",
   "name": "python3"
  },
  "language_info": {
   "codemirror_mode": {
    "name": "ipython",
    "version": 3
   },
   "file_extension": ".py",
   "mimetype": "text/x-python",
   "name": "python",
   "nbconvert_exporter": "python",
   "pygments_lexer": "ipython3",
   "version": "3.9.13"
  }
 },
 "nbformat": 4,
 "nbformat_minor": 5
}
