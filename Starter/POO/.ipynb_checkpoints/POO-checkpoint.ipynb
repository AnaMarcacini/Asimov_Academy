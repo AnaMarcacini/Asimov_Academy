{
 "cells": [
  {
   "cell_type": "markdown",
   "id": "ec4e87ce-8fa1-4fc3-81ed-d090728564a7",
   "metadata": {},
   "source": [
    "# POO"
   ]
  },
  {
   "cell_type": "markdown",
   "id": "79459354-9217-4ede-8c34-aafb36b49f2a",
   "metadata": {
    "tags": []
   },
   "source": [
    "## Introdução"
   ]
  },
  {
   "cell_type": "code",
   "execution_count": 1,
   "id": "d6992818-64af-42eb-9d57-e6cc7d16193a",
   "metadata": {},
   "outputs": [
    {
     "name": "stdout",
     "output_type": "stream",
     "text": [
      "<class 'list'>\n"
     ]
    }
   ],
   "source": [
    "l = [1,2,3]\n",
    "print(type(l))"
   ]
  },
  {
   "cell_type": "code",
   "execution_count": 3,
   "id": "c2c2de55-66d8-495a-9c79-d20ca38f7a0b",
   "metadata": {},
   "outputs": [
    {
     "name": "stdout",
     "output_type": "stream",
     "text": [
      "<class 'str'>\n"
     ]
    }
   ],
   "source": [
    "string_ = \"str\"\n",
    "print(type(string_))"
   ]
  },
  {
   "cell_type": "code",
   "execution_count": 4,
   "id": "3dbcfcd1-8606-42e8-9df5-f6dbb1ce483a",
   "metadata": {},
   "outputs": [],
   "source": [
    "class Exemplo:\n",
    "    pass"
   ]
  },
  {
   "cell_type": "code",
   "execution_count": 5,
   "id": "04a88b09-fb0d-4912-afd3-e6c0c4d8d9c2",
   "metadata": {},
   "outputs": [],
   "source": [
    "x = Exemplo()"
   ]
  },
  {
   "cell_type": "code",
   "execution_count": 6,
   "id": "0db10e9b-9782-42cc-a19a-f2e2c3b7c9f8",
   "metadata": {},
   "outputs": [
    {
     "name": "stdout",
     "output_type": "stream",
     "text": [
      "<class '__main__.Exemplo'>\n"
     ]
    }
   ],
   "source": [
    "print(type(x))"
   ]
  },
  {
   "cell_type": "markdown",
   "id": "718b9f4c-3e0f-45ae-9a96-acb005a26a2c",
   "metadata": {},
   "source": [
    "## Criando classes e métodos"
   ]
  },
  {
   "cell_type": "code",
   "execution_count": 17,
   "id": "d9d7028d-74db-493f-934a-191d2f8942cf",
   "metadata": {},
   "outputs": [],
   "source": [
    "class Dog:\n",
    "    def __init__(self,nome):\n",
    "        #inicialização\n",
    "        self.idade = 10\n",
    "        self.nome = nome\n",
    "    def envelhecer(self):\n",
    "        self.idade +=1\n",
    "        return self.idade"
   ]
  },
  {
   "cell_type": "code",
   "execution_count": 18,
   "id": "280c5ad7-5255-456d-85fb-83542b3f69a0",
   "metadata": {},
   "outputs": [],
   "source": [
    "dog = Dog(\"ANA\")"
   ]
  },
  {
   "cell_type": "code",
   "execution_count": 19,
   "id": "312b3120-8bd9-456b-95e3-89aa5f134cfc",
   "metadata": {},
   "outputs": [
    {
     "data": {
      "text/plain": [
       "10"
      ]
     },
     "execution_count": 19,
     "metadata": {},
     "output_type": "execute_result"
    }
   ],
   "source": [
    "dog.idade"
   ]
  },
  {
   "cell_type": "code",
   "execution_count": 20,
   "id": "cba58d3b-73fd-40d1-a0be-0801c9b0dc6f",
   "metadata": {},
   "outputs": [],
   "source": [
    "dog.idade = dog.idade*2"
   ]
  },
  {
   "cell_type": "code",
   "execution_count": 21,
   "id": "d2ef8c04-40eb-43dd-ba82-c5acde5d1d23",
   "metadata": {},
   "outputs": [
    {
     "data": {
      "text/plain": [
       "20"
      ]
     },
     "execution_count": 21,
     "metadata": {},
     "output_type": "execute_result"
    }
   ],
   "source": [
    "dog.idade"
   ]
  },
  {
   "cell_type": "code",
   "execution_count": 22,
   "id": "b5b4e595-a61f-4844-9d9a-30d4777b6192",
   "metadata": {},
   "outputs": [],
   "source": [
    "dog2 = Dog(\"PAULO\")"
   ]
  },
  {
   "cell_type": "code",
   "execution_count": 25,
   "id": "c382705a-7b58-400b-aa17-9f388f7abac7",
   "metadata": {},
   "outputs": [
    {
     "data": {
      "text/plain": [
       "11"
      ]
     },
     "execution_count": 25,
     "metadata": {},
     "output_type": "execute_result"
    }
   ],
   "source": [
    "dog2.envelhecer()"
   ]
  },
  {
   "cell_type": "code",
   "execution_count": 26,
   "id": "14dcf476-704f-451a-9630-634cbf99162e",
   "metadata": {},
   "outputs": [
    {
     "data": {
      "text/plain": [
       "21"
      ]
     },
     "execution_count": 26,
     "metadata": {},
     "output_type": "execute_result"
    }
   ],
   "source": [
    "dog.envelhecer()"
   ]
  },
  {
   "cell_type": "markdown",
   "id": "349b0239-1fd0-4301-83da-b8de6ef59e50",
   "metadata": {
    "tags": []
   },
   "source": [
    "### Circulo"
   ]
  },
  {
   "cell_type": "code",
   "execution_count": 34,
   "id": "6379688e-b58e-4bea-b942-f9de4b760065",
   "metadata": {},
   "outputs": [],
   "source": [
    "class Circle:\n",
    "    def __init__(self, raio = 1):\n",
    "        self.raio = raio\n",
    "    def calcula_area(self):\n",
    "        return self.raio**2*3.14\n",
    "    def retorna_raio(self):\n",
    "        return self.raio"
   ]
  },
  {
   "cell_type": "code",
   "execution_count": 35,
   "id": "2e345f21-a286-4442-bfe5-cfba27058448",
   "metadata": {},
   "outputs": [],
   "source": [
    "c1 = Circle()\n",
    "c2 = Circle(2)"
   ]
  },
  {
   "cell_type": "code",
   "execution_count": 36,
   "id": "7885a201-43e5-42a0-b266-1798ed40cdbe",
   "metadata": {},
   "outputs": [
    {
     "data": {
      "text/plain": [
       "3.14"
      ]
     },
     "execution_count": 36,
     "metadata": {},
     "output_type": "execute_result"
    }
   ],
   "source": [
    "c1.calcula_area()"
   ]
  },
  {
   "cell_type": "code",
   "execution_count": 37,
   "id": "3e654597-c0ef-4460-bd0e-bb90ddd8d418",
   "metadata": {},
   "outputs": [
    {
     "data": {
      "text/plain": [
       "12.56"
      ]
     },
     "execution_count": 37,
     "metadata": {},
     "output_type": "execute_result"
    }
   ],
   "source": [
    "c2.calcula_area()"
   ]
  },
  {
   "cell_type": "markdown",
   "id": "99860056-bb99-431d-bd89-a4faa75d1a2f",
   "metadata": {},
   "source": [
    "# Herança"
   ]
  },
  {
   "cell_type": "code",
   "execution_count": 66,
   "id": "1b6bd4a6-2bfa-4307-8bab-ce0e281b1fed",
   "metadata": {},
   "outputs": [],
   "source": [
    "class Animal:\n",
    "    def __init__(self):\n",
    "        print(\"Animal criado\")\n",
    "    def quem_sou_eu(self):\n",
    "        print('sou animal')\n",
    "    def comer(self):\n",
    "        print('comendo')\n",
    "\n",
    "class Cachorro(Animal):\n",
    "    def __init__(self):\n",
    "        Animal.__init__(self)\n",
    "        print(\"cachorro criado\")\n",
    "    def quem_sou_eu(self):\n",
    "        print(\"sou cachorro\")"
   ]
  },
  {
   "cell_type": "code",
   "execution_count": 67,
   "id": "be759df4-2168-4717-965d-3593493f0a35",
   "metadata": {},
   "outputs": [
    {
     "name": "stdout",
     "output_type": "stream",
     "text": [
      "Animal criado\n"
     ]
    }
   ],
   "source": [
    "animal = Animal()"
   ]
  },
  {
   "cell_type": "code",
   "execution_count": 68,
   "id": "ed56dc6d-147f-432d-912d-c478e072855a",
   "metadata": {},
   "outputs": [
    {
     "name": "stdout",
     "output_type": "stream",
     "text": [
      "Animal criado\n",
      "cachorro criado\n"
     ]
    }
   ],
   "source": [
    "cac = Cachorro()"
   ]
  },
  {
   "cell_type": "code",
   "execution_count": 69,
   "id": "6614bdaa-5f37-4d5d-ba3f-c2bb5484eb0b",
   "metadata": {},
   "outputs": [
    {
     "name": "stdout",
     "output_type": "stream",
     "text": [
      "sou animal\n"
     ]
    }
   ],
   "source": [
    "animal.quem_sou_eu()"
   ]
  },
  {
   "cell_type": "code",
   "execution_count": 70,
   "id": "291330a7-660c-4b9e-80b3-20895a47dbe4",
   "metadata": {},
   "outputs": [
    {
     "name": "stdout",
     "output_type": "stream",
     "text": [
      "sou cachorro\n"
     ]
    }
   ],
   "source": [
    "cac.quem_sou_eu()"
   ]
  },
  {
   "cell_type": "code",
   "execution_count": null,
   "id": "8338c194-bfe2-47cc-bb07-4d600015b497",
   "metadata": {},
   "outputs": [],
   "source": []
  },
  {
   "cell_type": "markdown",
   "id": "54ba2351-0269-46ff-9ec7-8a0b9a864d94",
   "metadata": {},
   "source": [
    "## Métodos Especiais"
   ]
  },
  {
   "cell_type": "code",
   "execution_count": 74,
   "id": "c1a3d0ec-6d28-480e-b761-fbd68bdd12c4",
   "metadata": {},
   "outputs": [],
   "source": [
    "class Book(object):\n",
    "    def __init__(self, title, author, pages):\n",
    "        print(\"A book is created\")\n",
    "        self.title = title\n",
    "        self.author = author\n",
    "        self.pages = pages\n",
    "    def __str__(self):\n",
    "        return \"Title:%s , author:%s, pages:%s \" %(self.title, self.author, self.pages)\n",
    "    def __len__(self):\n",
    "        return self.pages\n",
    "    def __del__(self):\n",
    "        print(\"A book is destroyed\")\n"
   ]
  },
  {
   "cell_type": "code",
   "execution_count": 75,
   "id": "e730b87d-3cc8-431c-96bd-ce64d7710142",
   "metadata": {},
   "outputs": [
    {
     "name": "stdout",
     "output_type": "stream",
     "text": [
      "A book is created\n",
      "Title:Python Rocks! , author:Rodrigo Tadewald, pages:159 \n",
      "159\n",
      "A book is destroyed\n"
     ]
    }
   ],
   "source": [
    "book = Book(\"Python Rocks!\", \"Rodrigo Tadewald\", 159)\n",
    "# Métodos especiais\n",
    "print(book)\n",
    "print(len(book))\n",
    "del book\n"
   ]
  },
  {
   "cell_type": "code",
   "execution_count": null,
   "id": "c88f3756-c197-4492-ad31-3e176f0abd06",
   "metadata": {},
   "outputs": [],
   "source": []
  },
  {
   "cell_type": "code",
   "execution_count": null,
   "id": "a627aee7-93cd-4f47-9879-a7f87d3e2d8d",
   "metadata": {},
   "outputs": [],
   "source": []
  },
  {
   "cell_type": "code",
   "execution_count": null,
   "id": "9c4b41b0-e92c-42fe-870a-a5dbd8eb1438",
   "metadata": {},
   "outputs": [],
   "source": []
  },
  {
   "cell_type": "code",
   "execution_count": null,
   "id": "000f3d13-3685-4d5c-9292-1ceb5cbeda02",
   "metadata": {},
   "outputs": [],
   "source": []
  },
  {
   "cell_type": "code",
   "execution_count": null,
   "id": "dbfd25e0-657c-452a-8137-bb232e69ad5e",
   "metadata": {},
   "outputs": [],
   "source": []
  },
  {
   "cell_type": "code",
   "execution_count": null,
   "id": "7ce9ff01-88a9-46ee-bf60-531cadbcbdaf",
   "metadata": {},
   "outputs": [],
   "source": []
  },
  {
   "cell_type": "code",
   "execution_count": null,
   "id": "0b1ad492-1b9b-43ab-ba89-9bd58bf6d8fa",
   "metadata": {},
   "outputs": [],
   "source": []
  },
  {
   "cell_type": "code",
   "execution_count": null,
   "id": "cfaa6664-309f-4586-86af-531ce3f4637d",
   "metadata": {},
   "outputs": [],
   "source": []
  },
  {
   "cell_type": "code",
   "execution_count": null,
   "id": "fc258957-2da4-4271-b3d8-869a045a0326",
   "metadata": {},
   "outputs": [],
   "source": []
  },
  {
   "cell_type": "code",
   "execution_count": null,
   "id": "22ed60b8-59e9-4968-a5e2-86f9f3d5425b",
   "metadata": {},
   "outputs": [],
   "source": []
  },
  {
   "cell_type": "code",
   "execution_count": null,
   "id": "a87948e4-7be5-40a3-a0c1-5dffa72bad1a",
   "metadata": {},
   "outputs": [],
   "source": []
  },
  {
   "cell_type": "code",
   "execution_count": null,
   "id": "8b2af1c2-34bf-4ace-9e27-1f31fe41cef9",
   "metadata": {},
   "outputs": [],
   "source": []
  },
  {
   "cell_type": "code",
   "execution_count": null,
   "id": "923e56fd-690e-48ed-987b-dd626bde3790",
   "metadata": {},
   "outputs": [],
   "source": []
  },
  {
   "cell_type": "code",
   "execution_count": null,
   "id": "711da35b-2286-4672-b68d-876167d97fe9",
   "metadata": {},
   "outputs": [],
   "source": []
  },
  {
   "cell_type": "code",
   "execution_count": null,
   "id": "ce7edb55-e92b-4bc2-b023-9dfb4e5b5588",
   "metadata": {},
   "outputs": [],
   "source": []
  },
  {
   "cell_type": "code",
   "execution_count": null,
   "id": "65b2be81-c9b8-465c-93ae-2452127ee0f8",
   "metadata": {},
   "outputs": [],
   "source": []
  },
  {
   "cell_type": "code",
   "execution_count": null,
   "id": "2243e071-5bed-4087-8769-2d4022ba7f55",
   "metadata": {},
   "outputs": [],
   "source": []
  },
  {
   "cell_type": "code",
   "execution_count": null,
   "id": "81d6975b-1e2d-4af8-9cc5-d388ac80cedd",
   "metadata": {},
   "outputs": [],
   "source": []
  },
  {
   "cell_type": "code",
   "execution_count": null,
   "id": "bb8e3c38-ff3b-44f5-bf68-aec43de3c70d",
   "metadata": {},
   "outputs": [],
   "source": []
  },
  {
   "cell_type": "code",
   "execution_count": null,
   "id": "75505248-938b-4606-9c4a-3c6851da6fc6",
   "metadata": {},
   "outputs": [],
   "source": []
  },
  {
   "cell_type": "code",
   "execution_count": null,
   "id": "fe13e224-fd32-4796-8d6c-9da1142d446a",
   "metadata": {},
   "outputs": [],
   "source": []
  },
  {
   "cell_type": "code",
   "execution_count": null,
   "id": "aa2bcca5-b15f-4fef-9398-da9b36f0ed47",
   "metadata": {},
   "outputs": [],
   "source": []
  },
  {
   "cell_type": "code",
   "execution_count": null,
   "id": "b907689a-0d31-45ea-ad47-90912e128ade",
   "metadata": {},
   "outputs": [],
   "source": []
  },
  {
   "cell_type": "code",
   "execution_count": null,
   "id": "168f7098-0575-47a3-a2b4-30866246c1d4",
   "metadata": {},
   "outputs": [],
   "source": []
  },
  {
   "cell_type": "code",
   "execution_count": null,
   "id": "a5294215-30f2-405e-952b-658d6a3a3045",
   "metadata": {},
   "outputs": [],
   "source": []
  },
  {
   "cell_type": "code",
   "execution_count": null,
   "id": "3945b299-9940-45e0-b1db-2fbc0dd6911e",
   "metadata": {},
   "outputs": [],
   "source": []
  },
  {
   "cell_type": "code",
   "execution_count": null,
   "id": "e2054a1e-6415-4e3a-8f02-f0727a270f4b",
   "metadata": {},
   "outputs": [],
   "source": []
  },
  {
   "cell_type": "code",
   "execution_count": null,
   "id": "cea43f8d-ef7d-4523-a260-417369807320",
   "metadata": {},
   "outputs": [],
   "source": []
  },
  {
   "cell_type": "code",
   "execution_count": null,
   "id": "3dfe74ff-fe39-4ed1-937d-0fe30357bbf3",
   "metadata": {},
   "outputs": [],
   "source": []
  },
  {
   "cell_type": "code",
   "execution_count": null,
   "id": "5667acaf-4861-4d7b-9311-8e33195c9b00",
   "metadata": {},
   "outputs": [],
   "source": []
  },
  {
   "cell_type": "code",
   "execution_count": null,
   "id": "6734aeeb-b667-485f-8eda-1e2773560b2c",
   "metadata": {},
   "outputs": [],
   "source": []
  },
  {
   "cell_type": "code",
   "execution_count": null,
   "id": "bd3728ce-3268-4686-b229-760bcb3a38cd",
   "metadata": {},
   "outputs": [],
   "source": []
  },
  {
   "cell_type": "code",
   "execution_count": null,
   "id": "4d6e5d73-1b46-4f87-90e1-4e3dd9bab6f9",
   "metadata": {},
   "outputs": [],
   "source": []
  },
  {
   "cell_type": "code",
   "execution_count": null,
   "id": "7b71caba-6a95-40c0-a941-643b31eb0585",
   "metadata": {},
   "outputs": [],
   "source": []
  },
  {
   "cell_type": "code",
   "execution_count": null,
   "id": "2ec0f122-00af-49ae-8da3-09848c884504",
   "metadata": {},
   "outputs": [],
   "source": []
  },
  {
   "cell_type": "code",
   "execution_count": null,
   "id": "636b9374-cad1-41cf-8074-de2b469d5ef5",
   "metadata": {},
   "outputs": [],
   "source": []
  },
  {
   "cell_type": "code",
   "execution_count": null,
   "id": "d5f7c381-af97-4135-8370-2f46b3248ffd",
   "metadata": {},
   "outputs": [],
   "source": []
  },
  {
   "cell_type": "code",
   "execution_count": null,
   "id": "40bb7672-8960-4495-955a-91d51025ba8b",
   "metadata": {},
   "outputs": [],
   "source": []
  },
  {
   "cell_type": "code",
   "execution_count": null,
   "id": "ec2cfd8a-cb30-46cd-9348-99ea129d5542",
   "metadata": {},
   "outputs": [],
   "source": []
  },
  {
   "cell_type": "code",
   "execution_count": null,
   "id": "9ec8e302-5219-45d2-940b-09c05b442783",
   "metadata": {},
   "outputs": [],
   "source": []
  },
  {
   "cell_type": "code",
   "execution_count": null,
   "id": "0aa40918-84db-4a3f-a204-b444deaea77c",
   "metadata": {},
   "outputs": [],
   "source": []
  },
  {
   "cell_type": "code",
   "execution_count": null,
   "id": "b81c3dcc-f814-46f3-b75e-d30ec8a3fa89",
   "metadata": {},
   "outputs": [],
   "source": []
  },
  {
   "cell_type": "code",
   "execution_count": null,
   "id": "fc213a84-cd59-4f5b-ba9f-1f84efb430dd",
   "metadata": {},
   "outputs": [],
   "source": []
  },
  {
   "cell_type": "code",
   "execution_count": null,
   "id": "d10d37af-93fe-45e4-ab44-45f517d52e70",
   "metadata": {},
   "outputs": [],
   "source": []
  },
  {
   "cell_type": "code",
   "execution_count": null,
   "id": "ccfb97b0-8a76-433b-9c7f-b2da12e7dbaf",
   "metadata": {},
   "outputs": [],
   "source": []
  },
  {
   "cell_type": "code",
   "execution_count": null,
   "id": "edcf4bf7-f57f-4aec-af52-512b77bb4889",
   "metadata": {},
   "outputs": [],
   "source": []
  },
  {
   "cell_type": "code",
   "execution_count": null,
   "id": "845734f2-d1cf-4b39-b279-fa8ce9b8a939",
   "metadata": {},
   "outputs": [],
   "source": []
  },
  {
   "cell_type": "code",
   "execution_count": null,
   "id": "f998e23d-2b5f-471c-b8d4-6c7bb8d07779",
   "metadata": {},
   "outputs": [],
   "source": []
  },
  {
   "cell_type": "code",
   "execution_count": null,
   "id": "8098c371-3c85-4455-b12c-6715c50976fb",
   "metadata": {},
   "outputs": [],
   "source": []
  },
  {
   "cell_type": "code",
   "execution_count": null,
   "id": "c5fe3b25-a9fe-40c2-bd7a-1c992c142100",
   "metadata": {},
   "outputs": [],
   "source": []
  },
  {
   "cell_type": "code",
   "execution_count": null,
   "id": "9f5caf97-cb95-498c-ac0d-77c59f96202c",
   "metadata": {},
   "outputs": [],
   "source": []
  },
  {
   "cell_type": "code",
   "execution_count": null,
   "id": "a434f629-ff1e-4551-b6ec-ad78a715b76a",
   "metadata": {},
   "outputs": [],
   "source": []
  },
  {
   "cell_type": "code",
   "execution_count": null,
   "id": "310dbad2-28d9-4300-8f2b-eded5e63312a",
   "metadata": {},
   "outputs": [],
   "source": []
  },
  {
   "cell_type": "code",
   "execution_count": null,
   "id": "9f6a6ffe-0c36-4e1b-ba5e-e685cfdcbc71",
   "metadata": {},
   "outputs": [],
   "source": []
  },
  {
   "cell_type": "code",
   "execution_count": null,
   "id": "a410ab4e-c873-4f63-b88a-68e5c7bb4f17",
   "metadata": {},
   "outputs": [],
   "source": []
  },
  {
   "cell_type": "code",
   "execution_count": null,
   "id": "3d66f028-44c0-4d7f-a323-ad8c56e5ae55",
   "metadata": {},
   "outputs": [],
   "source": []
  },
  {
   "cell_type": "code",
   "execution_count": null,
   "id": "f2d92990-b5ad-4844-9a9c-d88506224136",
   "metadata": {},
   "outputs": [],
   "source": [
    "\n"
   ]
  }
 ],
 "metadata": {
  "kernelspec": {
   "display_name": "Python 3 (ipykernel)",
   "language": "python",
   "name": "python3"
  },
  "language_info": {
   "codemirror_mode": {
    "name": "ipython",
    "version": 3
   },
   "file_extension": ".py",
   "mimetype": "text/x-python",
   "name": "python",
   "nbconvert_exporter": "python",
   "pygments_lexer": "ipython3",
   "version": "3.9.13"
  }
 },
 "nbformat": 4,
 "nbformat_minor": 5
}
