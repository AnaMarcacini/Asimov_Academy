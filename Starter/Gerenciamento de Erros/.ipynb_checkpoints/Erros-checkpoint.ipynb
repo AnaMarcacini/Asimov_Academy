{
 "cells": [
  {
   "cell_type": "markdown",
   "id": "1de4f9d8-75c1-479e-906f-fc684a5c9796",
   "metadata": {
    "jp-MarkdownHeadingCollapsed": true,
    "tags": []
   },
   "source": [
    "# Python Debugger"
   ]
  },
  {
   "cell_type": "code",
   "execution_count": 1,
   "id": "3ece6cce-24eb-4dfc-82e6-8d8af2b71300",
   "metadata": {},
   "outputs": [],
   "source": [
    "import pdb#python debugger"
   ]
  },
  {
   "cell_type": "code",
   "execution_count": null,
   "id": "85646492-a066-4dad-b8ee-446dcf0fde70",
   "metadata": {
    "collapsed": true,
    "jupyter": {
     "outputs_hidden": true
    },
    "tags": []
   },
   "outputs": [
    {
     "name": "stdout",
     "output_type": "stream",
     "text": [
      "alabaster @ file:///home/ktietz/src/ci/alabaster_1611921544520/work\n",
      "anaconda-client==1.11.0\n",
      "anaconda-navigator==2.3.1\n",
      "anaconda-project @ file:///opt/conda/conda-bld/anaconda-project_1660339890420/work\n",
      "anyio @ file:///tmp/build/80754af9/anyio_1644463572971/work/dist\n",
      "appdirs==1.4.4\n",
      "argon2-cffi @ file:///opt/conda/conda-bld/argon2-cffi_1645000214183/work\n",
      "argon2-cffi-bindings @ file:///tmp/build/80754af9/argon2-cffi-bindings_1644569679365/work\n",
      "arrow @ file:///opt/conda/conda-bld/arrow_1649166651673/work\n",
      "astroid @ file:///tmp/abs_e5wkt48jiz/croots/recipe/astroid_1659023120113/work\n",
      "astropy @ file:///opt/conda/conda-bld/astropy_1657786094003/work\n",
      "asttokens==2.2.1\n",
      "atomicwrites==1.4.0\n",
      "attrs @ file:///opt/conda/conda-bld/attrs_1642510447205/work\n",
      "Automat @ file:///tmp/build/80754af9/automat_1600298431173/work\n",
      "autopep8 @ file:///opt/conda/conda-bld/autopep8_1650463822033/work\n",
      "Babel @ file:///tmp/build/80754af9/babel_1620871417480/work\n",
      "backcall==0.2.0\n",
      "backports.functools-lru-cache @ file:///tmp/build/80754af9/backports.functools_lru_cache_1618170165463/work\n",
      "backports.tempfile @ file:///home/linux1/recipes/ci/backports.tempfile_1610991236607/work\n",
      "backports.weakref==1.0.post1\n",
      "bcrypt @ file:///tmp/abs_6fpe92qzzo/croots/recipe/bcrypt_1659554336150/work\n",
      "beautifulsoup4 @ file:///opt/conda/conda-bld/beautifulsoup4_1650462163268/work\n",
      "binaryornot @ file:///tmp/build/80754af9/binaryornot_1617751525010/work\n",
      "bitarray @ file:///opt/conda/conda-bld/bitarray_1657739645104/work\n",
      "bkcharts==0.2\n",
      "black @ file:///opt/conda/conda-bld/black_1660237809219/work\n",
      "bleach @ file:///opt/conda/conda-bld/bleach_1641577558959/work\n",
      "bokeh @ file:///tmp/abs_34854e1f-d7d3-4f22-85d9-1075588e4ecdga64o0qg/croots/recipe/bokeh_1658136654619/work\n",
      "boto3 @ file:///tmp/abs_ae3c72db-af47-4298-baea-7270430e2c96scbpg1_h/croots/recipe/boto3_1657820109150/work\n",
      "botocore @ file:///opt/conda/conda-bld/botocore_1657739486257/work\n",
      "Bottleneck @ file:///opt/conda/conda-bld/bottleneck_1657175564434/work\n",
      "brotlipy==0.7.0\n",
      "certifi @ file:///opt/conda/conda-bld/certifi_1663615672595/work/certifi\n",
      "cffi @ file:///tmp/abs_98z5h56wf8/croots/recipe/cffi_1659598650955/work\n",
      "chardet @ file:///tmp/build/80754af9/chardet_1607706775000/work\n",
      "charset-normalizer @ file:///tmp/build/80754af9/charset-normalizer_1630003229654/work\n",
      "click @ file:///tmp/build/80754af9/click_1646056590078/work\n",
      "cloudpickle @ file:///tmp/build/80754af9/cloudpickle_1632508026186/work\n",
      "clyent==1.2.2\n",
      "colorama @ file:///opt/conda/conda-bld/colorama_1657009087971/work\n",
      "colorcet @ file:///tmp/build/80754af9/colorcet_1651851439427/work\n",
      "comm==0.1.1\n",
      "conda==22.9.0\n",
      "conda-build==3.22.0\n",
      "conda-content-trust @ file:///tmp/abs_5952f1c8-355c-4855-ad2e-538535021ba5h26t22e5/croots/recipe/conda-content-trust_1658126371814/work\n",
      "conda-pack @ file:///tmp/build/80754af9/conda-pack_1611163042455/work\n",
      "conda-package-handling @ file:///opt/conda/conda-bld/conda-package-handling_1663598473529/work\n",
      "conda-repo-cli==1.0.20\n",
      "conda-token @ file:///Users/paulyim/miniconda3/envs/c3i/conda-bld/conda-token_1662660369760/work\n",
      "conda-verify==3.4.2\n",
      "constantly==15.1.0\n",
      "cookiecutter @ file:///opt/conda/conda-bld/cookiecutter_1649151442564/work\n",
      "cryptography @ file:///tmp/build/80754af9/cryptography_1652101588893/work\n",
      "cssselect==1.1.0\n",
      "cycler @ file:///tmp/build/80754af9/cycler_1637851556182/work\n",
      "Cython @ file:///opt/conda/conda-bld/cython_1663692770955/work\n",
      "cytoolz==0.11.0\n",
      "daal4py==2021.6.0\n",
      "dask @ file:///tmp/abs_994957d9-ec12-411f-b953-c010f9d489d10hj3gz4k/croots/recipe/dask-core_1658513209934/work\n",
      "datashader @ file:///tmp/abs_aa58dfo4_s/croots/recipe/datashader_1659349033064/work\n",
      "datashape==0.5.4\n",
      "debugpy==1.6.4\n",
      "decorator==5.1.1\n",
      "defusedxml @ file:///tmp/build/80754af9/defusedxml_1615228127516/work\n",
      "diff-match-patch @ file:///Users/ktietz/demo/mc3/conda-bld/diff-match-patch_1630511840874/work\n",
      "dill @ file:///tmp/build/80754af9/dill_1623919422540/work\n",
      "distributed @ file:///tmp/abs_593da390-bd12-4acc-ba49-4c9993cbe8abgqg_w3rb/croots/recipe/distributed_1658520746481/work\n",
      "docutils @ file:///opt/conda/conda-bld/docutils_1657175430858/work\n",
      "entrypoints==0.4\n",
      "et-xmlfile==1.1.0\n",
      "executing==1.2.0\n",
      "fastjsonschema @ file:///opt/conda/conda-bld/python-fastjsonschema_1661371079312/work\n",
      "filelock @ file:///opt/conda/conda-bld/filelock_1647002191454/work\n",
      "flake8 @ file:///opt/conda/conda-bld/flake8_1648129545443/work\n",
      "Flask @ file:///home/ktietz/src/ci/flask_1611932660458/work\n",
      "fonttools==4.25.0\n",
      "fsspec @ file:///opt/conda/conda-bld/fsspec_1659972197723/work\n",
      "future @ file:///tmp/build/80754af9/future_1607571303524/work\n",
      "gensim @ file:///tmp/build/80754af9/gensim_1646806807927/work\n",
      "glob2 @ file:///home/linux1/recipes/ci/glob2_1610991677669/work\n",
      "gmpy2 @ file:///tmp/build/80754af9/gmpy2_1645438755360/work\n",
      "greenlet @ file:///tmp/build/80754af9/greenlet_1628888132713/work\n",
      "h5py @ file:///tmp/abs_4aewd3wzey/croots/recipe/h5py_1659091371897/work\n",
      "HeapDict @ file:///Users/ktietz/demo/mc3/conda-bld/heapdict_1630598515714/work\n",
      "holoviews @ file:///tmp/abs_eecc808c-455e-4be4-9911-ecf8341b3a34jfwskiqe/croots/recipe/holoviews_1658171506757/work\n",
      "hvplot @ file:///tmp/abs_6fcys5jcv1/croots/recipe/hvplot_1659026496554/work\n",
      "hyperlink @ file:///tmp/build/80754af9/hyperlink_1610130746837/work\n",
      "idna @ file:///tmp/build/80754af9/idna_1637925883363/work\n",
      "imagecodecs @ file:///opt/conda/conda-bld/imagecodecs_1664561985385/work\n",
      "imageio @ file:///tmp/abs_cd920173-f360-47c5-97b0-bf4d1076d5d4dvic0oys/croots/recipe/imageio_1658785036907/work\n",
      "imagesize @ file:///opt/conda/conda-bld/imagesize_1657179498843/work\n",
      "importlib-metadata @ file:///tmp/build/80754af9/importlib-metadata_1648544546694/work\n",
      "incremental @ file:///tmp/build/80754af9/incremental_1636629750599/work\n",
      "inflection==0.5.1\n",
      "iniconfig @ file:///home/linux1/recipes/ci/iniconfig_1610983019677/work\n",
      "intake @ file:///opt/conda/conda-bld/intake_1647436631684/work\n",
      "intervaltree @ file:///Users/ktietz/demo/mc3/conda-bld/intervaltree_1630511889664/work\n",
      "ipykernel==6.19.0\n",
      "ipython==8.7.0\n",
      "ipython-genutils @ file:///tmp/build/80754af9/ipython_genutils_1606773439826/work\n",
      "ipywidgets @ file:///tmp/build/80754af9/ipywidgets_1634143127070/work\n",
      "isort @ file:///tmp/build/80754af9/isort_1628603791788/work\n",
      "itemadapter @ file:///tmp/build/80754af9/itemadapter_1626442940632/work\n",
      "itemloaders @ file:///opt/conda/conda-bld/itemloaders_1646805235997/work\n",
      "itsdangerous @ file:///tmp/build/80754af9/itsdangerous_1621432558163/work\n",
      "jdcal @ file:///Users/ktietz/demo/mc3/conda-bld/jdcal_1630584345063/work\n",
      "jedi==0.18.2\n",
      "jeepney @ file:///tmp/build/80754af9/jeepney_1627537048313/work\n",
      "jellyfish @ file:///tmp/build/80754af9/jellyfish_1647944426575/work\n",
      "Jinja2 @ file:///tmp/build/80754af9/jinja2_1612213139570/work\n",
      "jinja2-time @ file:///opt/conda/conda-bld/jinja2-time_1649251842261/work\n",
      "jmespath @ file:///Users/ktietz/demo/mc3/conda-bld/jmespath_1630583964805/work\n",
      "joblib @ file:///tmp/build/80754af9/joblib_1635411271373/work\n",
      "json5 @ file:///tmp/build/80754af9/json5_1624432770122/work\n",
      "jsonschema @ file:///opt/conda/conda-bld/jsonschema_1663375472438/work\n",
      "jupyter @ file:///tmp/abs_33h4eoipez/croots/recipe/jupyter_1659349046347/work\n",
      "jupyter-console @ file:///opt/conda/conda-bld/jupyter_console_1647002188872/work\n",
      "jupyter-server @ file:///tmp/abs_b88b31b8-83b9-476d-a46d-e563c421f38fvsnyi1ur/croots/recipe/jupyter_server_1658754481507/work\n",
      "jupyter_client==7.4.8\n",
      "jupyter_core==5.1.0\n",
      "jupyterlab @ file:///tmp/abs_12f3h01vmy/croots/recipe/jupyterlab_1658907535764/work\n",
      "jupyterlab-pygments @ file:///tmp/build/80754af9/jupyterlab_pygments_1601490720602/work\n",
      "jupyterlab-server @ file:///opt/conda/conda-bld/jupyterlab_server_1644500396812/work\n",
      "jupyterlab-widgets @ file:///tmp/build/80754af9/jupyterlab_widgets_1609884341231/work\n",
      "keyring @ file:///tmp/build/80754af9/keyring_1638531355686/work\n",
      "kiwisolver @ file:///opt/conda/conda-bld/kiwisolver_1653292039266/work\n",
      "lazy-object-proxy @ file:///tmp/build/80754af9/lazy-object-proxy_1616529027849/work\n",
      "libarchive-c @ file:///tmp/build/80754af9/python-libarchive-c_1617780486945/work\n",
      "llvmlite==0.38.0\n",
      "locket @ file:///opt/conda/conda-bld/locket_1652903118915/work\n",
      "lxml @ file:///opt/conda/conda-bld/lxml_1657545139709/work\n",
      "lz4 @ file:///tmp/build/80754af9/lz4_1619516502891/work\n",
      "Markdown @ file:///tmp/build/80754af9/markdown_1614363852612/work\n",
      "MarkupSafe @ file:///tmp/build/80754af9/markupsafe_1621523467000/work\n",
      "matplotlib @ file:///opt/conda/conda-bld/matplotlib-suite_1660167928326/work\n",
      "matplotlib-inline==0.1.6\n",
      "mccabe @ file:///opt/conda/conda-bld/mccabe_1644221741721/work\n",
      "mistune @ file:///tmp/build/80754af9/mistune_1607364877025/work\n",
      "mkl-fft==1.3.1\n",
      "mkl-random @ file:///tmp/build/80754af9/mkl_random_1626186066731/work\n",
      "mkl-service==2.4.0\n",
      "mock @ file:///tmp/build/80754af9/mock_1607622725907/work\n",
      "mpmath==1.2.1\n",
      "msgpack @ file:///opt/conda/conda-bld/msgpack-python_1652362659880/work\n",
      "multipledispatch @ file:///tmp/build/80754af9/multipledispatch_1607574243360/work\n",
      "munkres==1.1.4\n",
      "mypy-extensions==0.4.3\n",
      "navigator-updater==0.3.0\n",
      "nbclassic @ file:///opt/conda/conda-bld/nbclassic_1644943264176/work\n",
      "nbclient @ file:///tmp/build/80754af9/nbclient_1650290509967/work\n",
      "nbconvert @ file:///opt/conda/conda-bld/nbconvert_1649751911790/work\n",
      "nbformat @ file:///opt/conda/conda-bld/nbformat_1663744952973/work\n",
      "nest-asyncio==1.5.6\n",
      "networkx @ file:///opt/conda/conda-bld/networkx_1657784097507/work\n",
      "nltk @ file:///opt/conda/conda-bld/nltk_1645628263994/work\n",
      "nose @ file:///opt/conda/conda-bld/nose_1642704612149/work\n",
      "notebook @ file:///tmp/abs_abf6xa6h6f/croots/recipe/notebook_1659083654985/work\n",
      "numba @ file:///opt/conda/conda-bld/numba_1648040517072/work\n",
      "numexpr @ file:///opt/conda/conda-bld/numexpr_1656940300424/work\n",
      "numpy @ file:///opt/conda/conda-bld/numpy_and_numpy_base_1653915516269/work\n",
      "numpydoc @ file:///opt/conda/conda-bld/numpydoc_1657529872251/work\n",
      "olefile @ file:///Users/ktietz/demo/mc3/conda-bld/olefile_1629805411829/work\n",
      "openpyxl==3.0.10\n",
      "packaging==22.0\n",
      "pandas==1.4.4\n",
      "pandocfilters @ file:///opt/conda/conda-bld/pandocfilters_1643405455980/work\n",
      "panel @ file:///tmp/abs_bb3d3b2f-b3ea-41c0-a72e-8f54852d5cdfs70inytz/croots/recipe/panel_1658133826470/work\n",
      "param @ file:///tmp/build/80754af9/param_1636647414893/work\n",
      "parsel @ file:///tmp/build/80754af9/parsel_1646722533460/work\n",
      "parso==0.8.3\n",
      "partd @ file:///opt/conda/conda-bld/partd_1647245470509/work\n",
      "pathlib @ file:///Users/ktietz/demo/mc3/conda-bld/pathlib_1629713961906/work\n",
      "pathspec @ file:///tmp/abs_1foqurpsov/croots/recipe/pathspec_1659627126545/work\n",
      "patsy==0.5.2\n",
      "pep8==1.7.1\n",
      "pexpect==4.8.0\n",
      "pickleshare==0.7.5\n",
      "Pillow==9.2.0\n",
      "pkginfo @ file:///tmp/build/80754af9/pkginfo_1643162084911/work\n",
      "platformdirs==2.6.0\n",
      "plotly @ file:///tmp/abs_7afcdfad-dbbb-49d2-adea-186abf525c45jbnd8p95/croots/recipe/plotly_1658160053621/work\n",
      "pluggy @ file:///tmp/build/80754af9/pluggy_1648024445381/work\n",
      "ply==3.11\n",
      "poyo @ file:///tmp/build/80754af9/poyo_1617751526755/work\n",
      "prometheus-client @ file:///tmp/abs_d3zeliano1/croots/recipe/prometheus_client_1659455100375/work\n",
      "prompt-toolkit==3.0.36\n",
      "Protego @ file:///tmp/build/80754af9/protego_1598657180827/work\n",
      "psutil==5.9.4\n",
      "ptyprocess==0.7.0\n",
      "pure-eval==0.2.2\n",
      "py @ file:///opt/conda/conda-bld/py_1644396412707/work\n",
      "pyasn1 @ file:///Users/ktietz/demo/mc3/conda-bld/pyasn1_1629708007385/work\n",
      "pyasn1-modules==0.2.8\n",
      "pycodestyle @ file:///tmp/build/80754af9/pycodestyle_1636635402688/work\n",
      "pycosat==0.6.3\n",
      "pycparser @ file:///tmp/build/80754af9/pycparser_1636541352034/work\n",
      "pyct @ file:///tmp/abs_68a517ee-55fb-480e-82ab-1a8adb440a58x7qfc024/croots/recipe/pyct_1658500310800/work\n",
      "pycurl==7.45.1\n",
      "PyDispatcher==2.0.5\n",
      "pydocstyle @ file:///tmp/build/80754af9/pydocstyle_1621600989141/work\n",
      "pyerfa @ file:///tmp/build/80754af9/pyerfa_1621556109336/work\n",
      "pyflakes @ file:///tmp/build/80754af9/pyflakes_1636644436481/work\n",
      "Pygments==2.13.0\n",
      "PyHamcrest @ file:///tmp/build/80754af9/pyhamcrest_1615748656804/work\n",
      "PyJWT @ file:///opt/conda/conda-bld/pyjwt_1657544592787/work\n",
      "pylint @ file:///tmp/abs_6fxmc66kyk/croots/recipe/pylint_1659110350161/work\n",
      "pyls-spyder==0.4.0\n",
      "pyodbc @ file:///tmp/abs_d365zrcsdp/croots/recipe/pyodbc_1659513794382/work\n",
      "pyOpenSSL @ file:///opt/conda/conda-bld/pyopenssl_1643788558760/work\n",
      "pyparsing @ file:///opt/conda/conda-bld/pyparsing_1661452539315/work\n",
      "PyQt5-sip==12.11.0\n",
      "pyrsistent @ file:///tmp/build/80754af9/pyrsistent_1636110951836/work\n",
      "PySocks @ file:///tmp/build/80754af9/pysocks_1605305812635/work\n",
      "pytest==7.1.2\n",
      "python-dateutil==2.8.2\n",
      "python-lsp-black @ file:///opt/conda/conda-bld/python-lsp-black_1661852031497/work\n",
      "python-lsp-jsonrpc==1.0.0\n",
      "python-lsp-server @ file:///opt/conda/conda-bld/python-lsp-server_1661813814476/work\n",
      "python-slugify @ file:///tmp/build/80754af9/python-slugify_1620405669636/work\n",
      "python-snappy @ file:///tmp/build/80754af9/python-snappy_1610133040135/work\n",
      "pytz @ file:///opt/conda/conda-bld/pytz_1654762638606/work\n",
      "pyviz-comms @ file:///tmp/build/80754af9/pyviz_comms_1623747165329/work\n",
      "PyWavelets @ file:///tmp/build/80754af9/pywavelets_1648710015787/work\n",
      "pyxdg @ file:///tmp/build/80754af9/pyxdg_1603822279816/work\n",
      "PyYAML==6.0\n",
      "pyzmq==24.0.1\n",
      "QDarkStyle @ file:///tmp/build/80754af9/qdarkstyle_1617386714626/work\n",
      "qstylizer @ file:///tmp/build/80754af9/qstylizer_1617713584600/work/dist/qstylizer-0.1.10-py2.py3-none-any.whl\n",
      "QtAwesome @ file:///tmp/build/80754af9/qtawesome_1637160816833/work\n",
      "qtconsole @ file:///opt/conda/conda-bld/qtconsole_1662018252641/work\n",
      "QtPy @ file:///opt/conda/conda-bld/qtpy_1662014892439/work\n",
      "queuelib==1.5.0\n",
      "regex @ file:///tmp/abs_41f5bce5-0a2e-45aa-b231-1fd2fbd57753gfpe6sjm/croots/recipe/regex_1658257178822/work\n",
      "requests @ file:///opt/conda/conda-bld/requests_1657734628632/work\n",
      "requests-file @ file:///Users/ktietz/demo/mc3/conda-bld/requests-file_1629455781986/work\n",
      "rope @ file:///opt/conda/conda-bld/rope_1643788605236/work\n",
      "Rtree @ file:///tmp/build/80754af9/rtree_1618420843093/work\n",
      "ruamel-yaml-conda @ file:///tmp/build/80754af9/ruamel_yaml_1616016711199/work\n",
      "s3transfer @ file:///opt/conda/conda-bld/s3transfer_1654524197066/work\n",
      "scikit-image @ file:///tmp/build/80754af9/scikit-image_1648214171611/work\n",
      "scikit-learn @ file:///tmp/build/80754af9/scikit-learn_1642617106979/work\n",
      "scikit-learn-intelex==2021.20221004.171807\n",
      "scipy==1.9.1\n",
      "Scrapy @ file:///tmp/abs_e3bmwi01y8/croots/recipe/scrapy_1659598696235/work\n",
      "seaborn @ file:///tmp/build/80754af9/seaborn_1629307859561/work\n",
      "SecretStorage @ file:///tmp/build/80754af9/secretstorage_1614022780358/work\n",
      "Send2Trash @ file:///tmp/build/80754af9/send2trash_1632406701022/work\n",
      "service-identity @ file:///Users/ktietz/demo/mc3/conda-bld/service_identity_1629460757137/work\n",
      "sip @ file:///tmp/abs_44cd77b_pu/croots/recipe/sip_1659012365470/work\n",
      "six==1.16.0\n",
      "smart-open @ file:///opt/conda/conda-bld/smart_open_1651563547610/work\n",
      "sniffio @ file:///tmp/build/80754af9/sniffio_1614030464178/work\n",
      "snowballstemmer @ file:///tmp/build/80754af9/snowballstemmer_1637937080595/work\n",
      "sortedcollections @ file:///tmp/build/80754af9/sortedcollections_1611172717284/work\n",
      "sortedcontainers @ file:///tmp/build/80754af9/sortedcontainers_1623949099177/work\n",
      "soupsieve @ file:///tmp/build/80754af9/soupsieve_1636706018808/work\n",
      "Sphinx @ file:///opt/conda/conda-bld/sphinx_1657784123546/work\n",
      "sphinxcontrib-applehelp @ file:///home/ktietz/src/ci/sphinxcontrib-applehelp_1611920841464/work\n",
      "sphinxcontrib-devhelp @ file:///home/ktietz/src/ci/sphinxcontrib-devhelp_1611920923094/work\n",
      "sphinxcontrib-htmlhelp @ file:///tmp/build/80754af9/sphinxcontrib-htmlhelp_1623945626792/work\n",
      "sphinxcontrib-jsmath @ file:///home/ktietz/src/ci/sphinxcontrib-jsmath_1611920942228/work\n",
      "sphinxcontrib-qthelp @ file:///home/ktietz/src/ci/sphinxcontrib-qthelp_1611921055322/work\n",
      "sphinxcontrib-serializinghtml @ file:///tmp/build/80754af9/sphinxcontrib-serializinghtml_1624451540180/work\n",
      "spyder @ file:///opt/conda/conda-bld/spyder_1663056818299/work\n",
      "spyder-kernels @ file:///opt/conda/conda-bld/spyder-kernels_1662457880976/work\n",
      "SQLAlchemy @ file:///tmp/abs_18b3238f-9c23-4182-a392-63af30a93c1er8j_yw60/croots/recipe/sqlalchemy_1657867856580/work\n",
      "stack-data==0.6.2\n",
      "statsmodels @ file:///tmp/build/80754af9/statsmodels_1648015433305/work\n",
      "sympy @ file:///tmp/build/80754af9/sympy_1647853653589/work\n",
      "tables @ file:///tmp/build/80754af9/pytables_1607975397488/work\n",
      "tabulate @ file:///opt/conda/conda-bld/tabulate_1657784105888/work\n",
      "TBB==0.2\n",
      "tblib @ file:///Users/ktietz/demo/mc3/conda-bld/tblib_1629402031467/work\n",
      "tenacity @ file:///tmp/abs_9ca5cd06-f53b-4ea6-8eea-954e11157fddo5mhurpp/croots/recipe/tenacity_1657899103026/work\n",
      "terminado @ file:///tmp/build/80754af9/terminado_1644322582718/work\n",
      "testpath @ file:///opt/conda/conda-bld/testpath_1655908557405/work\n",
      "text-unidecode @ file:///Users/ktietz/demo/mc3/conda-bld/text-unidecode_1629401354553/work\n",
      "textdistance @ file:///tmp/build/80754af9/textdistance_1612461398012/work\n",
      "threadpoolctl @ file:///Users/ktietz/demo/mc3/conda-bld/threadpoolctl_1629802263681/work\n",
      "three-merge @ file:///tmp/build/80754af9/three-merge_1607553261110/work\n",
      "tifffile @ file:///tmp/build/80754af9/tifffile_1627275862826/work\n",
      "tinycss @ file:///tmp/build/80754af9/tinycss_1617713798712/work\n",
      "tldextract @ file:///opt/conda/conda-bld/tldextract_1646638314385/work\n",
      "toml @ file:///tmp/build/80754af9/toml_1616166611790/work\n",
      "tomli @ file:///opt/conda/conda-bld/tomli_1657175507142/work\n",
      "tomlkit @ file:///tmp/abs_56_0lnnq5x/croots/recipe/tomlkit_1658946880479/work\n",
      "toolz @ file:///tmp/build/80754af9/toolz_1636545406491/work\n",
      "tornado==6.2\n",
      "tqdm @ file:///opt/conda/conda-bld/tqdm_1664392687731/work\n",
      "traitlets==5.6.0\n",
      "Twisted @ file:///tmp/abs_82802zpkox/croots/recipe/twisted_1659592759417/work\n",
      "typing_extensions @ file:///tmp/abs_ben9emwtky/croots/recipe/typing_extensions_1659638822008/work\n",
      "ujson @ file:///opt/conda/conda-bld/ujson_1657544923770/work\n",
      "Unidecode @ file:///tmp/build/80754af9/unidecode_1614712377438/work\n",
      "urllib3 @ file:///tmp/abs_5dhwnz6atv/croots/recipe/urllib3_1659110457909/work\n",
      "w3lib @ file:///Users/ktietz/demo/mc3/conda-bld/w3lib_1629359764703/work\n",
      "watchdog @ file:///tmp/build/80754af9/watchdog_1638367282716/work\n",
      "wcwidth==0.2.5\n",
      "webencodings==0.5.1\n",
      "websocket-client @ file:///tmp/build/80754af9/websocket-client_1614803975924/work\n",
      "Werkzeug @ file:///opt/conda/conda-bld/werkzeug_1645628268370/work\n",
      "whatthepatch @ file:///opt/conda/conda-bld/whatthepatch_1661795988879/work\n",
      "widgetsnbextension @ file:///tmp/build/80754af9/widgetsnbextension_1644992802045/work\n",
      "wrapt @ file:///tmp/abs_c335821b-6e43-4504-9816-b1a52d3d3e1eel6uae8l/croots/recipe/wrapt_1657814400492/work\n",
      "wurlitzer @ file:///tmp/build/80754af9/wurlitzer_1638368168359/work\n",
      "xarray @ file:///opt/conda/conda-bld/xarray_1639166117697/work\n",
      "xlrd @ file:///tmp/build/80754af9/xlrd_1608072521494/work\n",
      "XlsxWriter @ file:///opt/conda/conda-bld/xlsxwriter_1649073856329/work\n",
      "yapf @ file:///tmp/build/80754af9/yapf_1615749224965/work\n",
      "zict==2.1.0\n",
      "zipp @ file:///opt/conda/conda-bld/zipp_1652341764480/work\n",
      "zope.interface @ file:///tmp/build/80754af9/zope.interface_1625036153595/work\n"
     ]
    }
   ],
   "source": [
    "!pip freeze #verificando as bibliotecas instaladas esclamação chama um terminal"
   ]
  },
  {
   "cell_type": "code",
   "execution_count": 5,
   "id": "59f60db0-ff67-4af6-9d89-bb2563de74b6",
   "metadata": {},
   "outputs": [
    {
     "data": {
      "text/plain": [
       "5"
      ]
     },
     "execution_count": 5,
     "metadata": {},
     "output_type": "execute_result"
    }
   ],
   "source": [
    "x = [1,2,3]\n",
    "y = 2\n",
    "z = 3\n",
    "y+z"
   ]
  },
  {
   "cell_type": "code",
   "execution_count": 7,
   "id": "3a2e6f50-ee05-411f-8176-77704dc61fa7",
   "metadata": {},
   "outputs": [
    {
     "name": "stdout",
     "output_type": "stream",
     "text": [
      "--Return--\n",
      "None\n",
      "> \u001b[0;32m/tmp/ipykernel_14114/1688955018.py\u001b[0m(1)\u001b[0;36m<module>\u001b[0;34m()\u001b[0m\n",
      "\u001b[0;32m----> 1 \u001b[0;31m\u001b[0mpdb\u001b[0m\u001b[0;34m.\u001b[0m\u001b[0mset_trace\u001b[0m\u001b[0;34m(\u001b[0m\u001b[0;34m)\u001b[0m\u001b[0;34m\u001b[0m\u001b[0;34m\u001b[0m\u001b[0m\n",
      "\u001b[0m\u001b[0;32m      2 \u001b[0;31m\u001b[0mx\u001b[0m\u001b[0;34m+\u001b[0m\u001b[0my\u001b[0m\u001b[0;34m\u001b[0m\u001b[0;34m\u001b[0m\u001b[0m\n",
      "\u001b[0m\n"
     ]
    },
    {
     "name": "stdin",
     "output_type": "stream",
     "text": [
      "ipdb>  x+y\n"
     ]
    },
    {
     "name": "stdout",
     "output_type": "stream",
     "text": [
      "*** TypeError: can only concatenate list (not \"int\") to list\n"
     ]
    },
    {
     "name": "stdin",
     "output_type": "stream",
     "text": [
      "ipdb>  y\n"
     ]
    },
    {
     "name": "stdout",
     "output_type": "stream",
     "text": [
      "2\n"
     ]
    },
    {
     "name": "stdin",
     "output_type": "stream",
     "text": [
      "ipdb>  y+z\n"
     ]
    },
    {
     "name": "stdout",
     "output_type": "stream",
     "text": [
      "5\n"
     ]
    },
    {
     "name": "stdin",
     "output_type": "stream",
     "text": [
      "ipdb>  c\n"
     ]
    },
    {
     "ename": "TypeError",
     "evalue": "can only concatenate list (not \"int\") to list",
     "output_type": "error",
     "traceback": [
      "\u001b[0;31m---------------------------------------------------------------------------\u001b[0m",
      "\u001b[0;31mTypeError\u001b[0m                                 Traceback (most recent call last)",
      "Cell \u001b[0;32mIn[7], line 2\u001b[0m\n\u001b[1;32m      1\u001b[0m pdb\u001b[38;5;241m.\u001b[39mset_trace()\n\u001b[0;32m----> 2\u001b[0m \u001b[43mx\u001b[49m\u001b[38;5;241;43m+\u001b[39;49m\u001b[43my\u001b[49m\n",
      "\u001b[0;31mTypeError\u001b[0m: can only concatenate list (not \"int\") to list"
     ]
    }
   ],
   "source": [
    "pdb.set_trace()# comando c avança\n",
    "x+y"
   ]
  },
  {
   "cell_type": "code",
   "execution_count": 8,
   "id": "591e60bb-a223-4c5a-8ad4-9d43b2aa86aa",
   "metadata": {},
   "outputs": [
    {
     "name": "stdout",
     "output_type": "stream",
     "text": [
      "--Return--\n",
      "None\n",
      "> \u001b[0;32m/tmp/ipykernel_14114/2771931201.py\u001b[0m(1)\u001b[0;36m<module>\u001b[0;34m()\u001b[0m\n",
      "\u001b[0;32m----> 1 \u001b[0;31m\u001b[0mpdb\u001b[0m\u001b[0;34m.\u001b[0m\u001b[0mset_trace\u001b[0m\u001b[0;34m(\u001b[0m\u001b[0;34m)\u001b[0m\u001b[0;31m# comando c avança\u001b[0m\u001b[0;34m\u001b[0m\u001b[0;34m\u001b[0m\u001b[0m\n",
      "\u001b[0m\u001b[0;32m      2 \u001b[0;31m\u001b[0mx\u001b[0m\u001b[0;34m+\u001b[0m\u001b[0my\u001b[0m\u001b[0;34m\u001b[0m\u001b[0;34m\u001b[0m\u001b[0m\n",
      "\u001b[0m\n"
     ]
    },
    {
     "name": "stdin",
     "output_type": "stream",
     "text": [
      "ipdb>  q\n"
     ]
    }
   ],
   "source": [
    "pdb.set_trace()# comando q para a execução\n",
    "x+y\n"
   ]
  },
  {
   "cell_type": "markdown",
   "id": "e0d672fc-93d4-47f3-a5a0-296b84be0869",
   "metadata": {
    "jp-MarkdownHeadingCollapsed": true,
    "tags": []
   },
   "source": [
    "# Try, Except e finally"
   ]
  },
  {
   "cell_type": "code",
   "execution_count": 16,
   "id": "dc17ec20-63ad-4a55-93d5-32004546a3b6",
   "metadata": {},
   "outputs": [
    {
     "name": "stdout",
     "output_type": "stream",
     "text": [
      "Ouve um erro ai\n",
      "ufa não crashamos por causa do erro\n"
     ]
    }
   ],
   "source": [
    "x = [1,2,3,4,5]\n",
    "y = 1\n",
    "z = 2\n",
    "try:\n",
    "    x+y\n",
    "    y+z\n",
    "    print('executamos sem erro')\n",
    "\n",
    "except:\n",
    "    print(\"Ouve um erro ai\")\n",
    "finally:\n",
    "    print(\"ufa não crashamos por causa do erro\")"
   ]
  },
  {
   "cell_type": "code",
   "execution_count": 25,
   "id": "b7d1af6b-8e22-4c54-bba8-b846f6fd1b73",
   "metadata": {},
   "outputs": [
    {
     "name": "stdout",
     "output_type": "stream",
     "text": [
      "Ouve esse erro : can only concatenate list (not \"int\") to list\n",
      "<class 'TypeError'>\n",
      "ufa não crashamos por causa do erro\n"
     ]
    }
   ],
   "source": [
    "x = [1,2,3,4,5]\n",
    "y = 1\n",
    "z = 2\n",
    "try:\n",
    "    x+y\n",
    "    y+z\n",
    "\n",
    "except Exception as e:\n",
    "    print(\"Ouve esse erro : {}\".format(e))\n",
    "    #print(type(e))\n",
    "finally:\n",
    "    print(\"ufa não crashamos por causa do erro\")"
   ]
  },
  {
   "cell_type": "code",
   "execution_count": 16,
   "id": "013d3600-7b8d-418a-91d7-31c9c280563b",
   "metadata": {},
   "outputs": [
    {
     "name": "stdout",
     "output_type": "stream",
     "text": [
      "Ouve um erro ai\n",
      "ufa não crashamos por causa do erro\n"
     ]
    }
   ],
   "source": [
    "x = [1,2,3,4,5]\n",
    "y = 1\n",
    "z = 2\n",
    "try:\n",
    "    x+y\n",
    "    y+z\n",
    "    print('executamos sem erro')\n",
    "\n",
    "except:\n",
    "    print(\"Ouve um erro ai\")\n",
    "finally:\n",
    "    print(\"ufa não crashamos por causa do erro\")"
   ]
  },
  {
   "cell_type": "code",
   "execution_count": 17,
   "id": "916ed4c6-2b0a-4575-9908-2261584698ad",
   "metadata": {},
   "outputs": [
    {
     "name": "stdout",
     "output_type": "stream",
     "text": [
      "executamos sem erro\n",
      "ufa não crashamos por causa do erro\n"
     ]
    }
   ],
   "source": [
    "x = [1,2,3,4,5]\n",
    "y = 1\n",
    "z = 2\n",
    "try:\n",
    "    x*y\n",
    "    y+z\n",
    "    print('executamos sem erro')\n",
    "except:\n",
    "    print(\"Ouve um erro ai\")\n",
    "finally:\n",
    "    print(\"ufa não crashamos por causa do erro\")"
   ]
  },
  {
   "cell_type": "markdown",
   "id": "31fd4132-8c67-43e7-b3b8-c2958c416c4f",
   "metadata": {},
   "source": [
    "# Logging"
   ]
  },
  {
   "cell_type": "code",
   "execution_count": 1,
   "id": "1e197489-c840-4602-abd8-3da563b661c8",
   "metadata": {},
   "outputs": [],
   "source": [
    "import logging"
   ]
  },
  {
   "cell_type": "code",
   "execution_count": 2,
   "id": "dd7fe2c5-3a95-4c06-825c-ecf1a1933951",
   "metadata": {},
   "outputs": [],
   "source": [
    "logging.basicConfig(filename=\"app.log\", level = logging.DEBUG)"
   ]
  },
  {
   "cell_type": "code",
   "execution_count": 3,
   "id": "4cd90aab-bcac-48cb-83ef-495c40ef2929",
   "metadata": {},
   "outputs": [],
   "source": [
    "log = logging.getLogger()"
   ]
  },
  {
   "cell_type": "code",
   "execution_count": 4,
   "id": "10dc0252-9df4-4954-a465-f95d3ee34e54",
   "metadata": {},
   "outputs": [],
   "source": [
    "log.info(\"Olá\")\n",
    "log.info(\"Olá\")\n",
    "log.critical(\"Erro grave\")\n",
    "log.error(\"Olá\")\n",
    "log.debug(\"Erro grave\")\n",
    "log.warning(\"Erro grave\")"
   ]
  },
  {
   "cell_type": "code",
   "execution_count": 5,
   "id": "88db8e86-ca28-4c4d-98a5-037eebd74c9c",
   "metadata": {},
   "outputs": [
    {
     "data": {
      "text/plain": [
       "10"
      ]
     },
     "execution_count": 5,
     "metadata": {},
     "output_type": "execute_result"
    }
   ],
   "source": [
    "log.level"
   ]
  },
  {
   "cell_type": "markdown",
   "id": "fce818ad-4bae-4562-91d0-483701e23159",
   "metadata": {},
   "source": [
    "logging.basicConfig(filename=\"app.log\", level=logging.DEBUG)\n",
    "log = logging.getLogger()\n",
    "log.info(\"Olá\")\n",
    "log.critical(\"Erro grave\")\n",
    "log.error(\"Olá\")\n",
    "log.debug(\"Erro grave\")\n",
    "log.warning(\"Erro grave\")"
   ]
  },
  {
   "cell_type": "markdown",
   "id": "d9320b2c-a6af-4f90-a85c-bd0a000f0dfe",
   "metadata": {},
   "source": [
    "KERNEL -> RESTART KERNEL"
   ]
  },
  {
   "cell_type": "code",
   "execution_count": null,
   "id": "f2b4d4ed-88f3-4f5b-a073-1dfab53246b5",
   "metadata": {},
   "outputs": [],
   "source": []
  },
  {
   "cell_type": "code",
   "execution_count": null,
   "id": "c0279ced-b217-4619-a97f-73bd2854bdfa",
   "metadata": {},
   "outputs": [],
   "source": []
  },
  {
   "cell_type": "code",
   "execution_count": null,
   "id": "42f8edc1-bf43-44b4-af22-557646ba70de",
   "metadata": {},
   "outputs": [],
   "source": []
  },
  {
   "cell_type": "code",
   "execution_count": null,
   "id": "00114b8c-3af9-4709-ae45-969dff855536",
   "metadata": {},
   "outputs": [],
   "source": []
  },
  {
   "cell_type": "code",
   "execution_count": null,
   "id": "786dd706-8342-410c-96fa-1f3e5537d804",
   "metadata": {},
   "outputs": [],
   "source": []
  },
  {
   "cell_type": "code",
   "execution_count": null,
   "id": "50a5ed4a-9d86-445b-ad8d-a6d3f9ceb87a",
   "metadata": {},
   "outputs": [],
   "source": []
  },
  {
   "cell_type": "code",
   "execution_count": null,
   "id": "3fd29ae6-dbf0-46bb-ae7f-9e6a33cedeaf",
   "metadata": {},
   "outputs": [],
   "source": []
  },
  {
   "cell_type": "code",
   "execution_count": null,
   "id": "0b8fa850-582c-4b53-b6e8-c4b13c0a6b91",
   "metadata": {},
   "outputs": [],
   "source": []
  },
  {
   "cell_type": "code",
   "execution_count": null,
   "id": "6fd75b51-c7d7-42a6-8404-2a30b4ff1bdc",
   "metadata": {},
   "outputs": [],
   "source": []
  },
  {
   "cell_type": "code",
   "execution_count": null,
   "id": "968186ef-70bc-4688-9835-a01e4a08918e",
   "metadata": {},
   "outputs": [],
   "source": []
  },
  {
   "cell_type": "code",
   "execution_count": null,
   "id": "1c5d5fec-cddf-4025-904f-eeb35289c43a",
   "metadata": {},
   "outputs": [],
   "source": []
  },
  {
   "cell_type": "code",
   "execution_count": null,
   "id": "64a5bf0a-4457-4b87-8591-9834881de625",
   "metadata": {},
   "outputs": [],
   "source": []
  },
  {
   "cell_type": "code",
   "execution_count": null,
   "id": "d7398394-bed2-4260-8d2f-555704974d25",
   "metadata": {},
   "outputs": [],
   "source": []
  },
  {
   "cell_type": "code",
   "execution_count": null,
   "id": "fe048239-fbc2-4845-831d-ea3f4b1bb672",
   "metadata": {},
   "outputs": [],
   "source": []
  },
  {
   "cell_type": "code",
   "execution_count": null,
   "id": "7c9e0b50-6d8c-4f92-8b2f-ccef7644ba68",
   "metadata": {},
   "outputs": [],
   "source": []
  },
  {
   "cell_type": "code",
   "execution_count": null,
   "id": "7d6b08a2-cae1-463e-bb29-556d7aa4681e",
   "metadata": {},
   "outputs": [],
   "source": []
  },
  {
   "cell_type": "code",
   "execution_count": null,
   "id": "0fffb091-f570-47e0-89cc-7855af501b98",
   "metadata": {},
   "outputs": [],
   "source": []
  },
  {
   "cell_type": "code",
   "execution_count": null,
   "id": "42bcf093-44f3-47d1-9881-f810fe0d83fa",
   "metadata": {},
   "outputs": [],
   "source": []
  },
  {
   "cell_type": "code",
   "execution_count": null,
   "id": "9989cbfe-9537-4119-bb19-4009876a36dc",
   "metadata": {},
   "outputs": [],
   "source": []
  },
  {
   "cell_type": "code",
   "execution_count": null,
   "id": "4fa5c08d-fb84-48cf-a1eb-ae746c9d3c9c",
   "metadata": {},
   "outputs": [],
   "source": []
  },
  {
   "cell_type": "code",
   "execution_count": null,
   "id": "cedbf070-eccc-4c4e-aa18-f53b569311f3",
   "metadata": {},
   "outputs": [],
   "source": []
  },
  {
   "cell_type": "code",
   "execution_count": null,
   "id": "6bec584b-4841-4054-afae-8912374f37c1",
   "metadata": {},
   "outputs": [],
   "source": []
  },
  {
   "cell_type": "code",
   "execution_count": null,
   "id": "37bf0739-ea7c-400c-a372-60ab92bce690",
   "metadata": {},
   "outputs": [],
   "source": []
  },
  {
   "cell_type": "code",
   "execution_count": null,
   "id": "c405cae8-fe2a-4247-851d-7897de464b79",
   "metadata": {},
   "outputs": [],
   "source": []
  },
  {
   "cell_type": "code",
   "execution_count": null,
   "id": "8152b393-5f08-43e1-9b50-2b9499bd4f5c",
   "metadata": {},
   "outputs": [],
   "source": []
  },
  {
   "cell_type": "code",
   "execution_count": null,
   "id": "30208b9c-f1e1-4265-9653-76fc2c84dd4e",
   "metadata": {},
   "outputs": [],
   "source": []
  },
  {
   "cell_type": "code",
   "execution_count": null,
   "id": "050141a9-5e4e-4579-abf9-ba4e0fbeada8",
   "metadata": {},
   "outputs": [],
   "source": []
  },
  {
   "cell_type": "code",
   "execution_count": null,
   "id": "d7572eec-77dd-4094-b146-51a5bfbe558e",
   "metadata": {},
   "outputs": [],
   "source": []
  },
  {
   "cell_type": "code",
   "execution_count": null,
   "id": "b4d41f6b-fa96-49e4-b06c-13c494bf1eeb",
   "metadata": {},
   "outputs": [],
   "source": []
  },
  {
   "cell_type": "code",
   "execution_count": null,
   "id": "0918cc07-b9d6-4b63-bfcc-9e88705b9d16",
   "metadata": {},
   "outputs": [],
   "source": []
  },
  {
   "cell_type": "code",
   "execution_count": null,
   "id": "7412630c-c447-41df-b286-8fe08c5de408",
   "metadata": {},
   "outputs": [],
   "source": []
  },
  {
   "cell_type": "code",
   "execution_count": null,
   "id": "30ace0b2-920c-4fee-a4ab-33d4696038b6",
   "metadata": {},
   "outputs": [],
   "source": []
  },
  {
   "cell_type": "code",
   "execution_count": null,
   "id": "090d67fb-c8d9-4fe9-960a-e17ee0f7096c",
   "metadata": {},
   "outputs": [],
   "source": []
  },
  {
   "cell_type": "code",
   "execution_count": null,
   "id": "77303f91-6d97-4626-8f30-cfd11e483e45",
   "metadata": {},
   "outputs": [],
   "source": []
  },
  {
   "cell_type": "code",
   "execution_count": null,
   "id": "65d94bb0-08d8-4534-8dd2-961342bb0cda",
   "metadata": {},
   "outputs": [],
   "source": []
  },
  {
   "cell_type": "code",
   "execution_count": null,
   "id": "a5656c22-a0d9-465f-beea-d608ad9c0cbe",
   "metadata": {},
   "outputs": [],
   "source": []
  },
  {
   "cell_type": "code",
   "execution_count": null,
   "id": "c7b3d4cd-d3bf-461b-b342-007ae2a24a9f",
   "metadata": {},
   "outputs": [],
   "source": []
  },
  {
   "cell_type": "code",
   "execution_count": null,
   "id": "2bd8afec-06fd-4f4e-90f8-1d6e99db089c",
   "metadata": {},
   "outputs": [],
   "source": []
  },
  {
   "cell_type": "code",
   "execution_count": null,
   "id": "b4a449bf-f845-44c7-aba8-28e1667aa27b",
   "metadata": {},
   "outputs": [],
   "source": []
  },
  {
   "cell_type": "code",
   "execution_count": null,
   "id": "0741a063-3abc-4a81-83fd-743317bedccb",
   "metadata": {},
   "outputs": [],
   "source": []
  },
  {
   "cell_type": "code",
   "execution_count": null,
   "id": "f29946e8-0352-422c-a4cd-7da55f6f7fcd",
   "metadata": {},
   "outputs": [],
   "source": []
  },
  {
   "cell_type": "code",
   "execution_count": null,
   "id": "81aa5b42-87f7-44ff-9c3b-aaba1b3e938f",
   "metadata": {},
   "outputs": [],
   "source": []
  },
  {
   "cell_type": "code",
   "execution_count": null,
   "id": "cab6f9bf-68ca-4b82-b22a-064c24a35174",
   "metadata": {},
   "outputs": [],
   "source": []
  },
  {
   "cell_type": "code",
   "execution_count": null,
   "id": "de84c668-09d5-43f5-9205-acee7859484a",
   "metadata": {},
   "outputs": [],
   "source": []
  },
  {
   "cell_type": "code",
   "execution_count": null,
   "id": "96fc9f25-492c-4ab7-ad78-965f5a395532",
   "metadata": {},
   "outputs": [],
   "source": []
  },
  {
   "cell_type": "code",
   "execution_count": null,
   "id": "419f90cf-ca0e-47b1-acf3-5616f7867d6c",
   "metadata": {},
   "outputs": [],
   "source": []
  },
  {
   "cell_type": "code",
   "execution_count": null,
   "id": "e01b9542-5204-4540-aeac-1ce891d9f1ab",
   "metadata": {},
   "outputs": [],
   "source": []
  },
  {
   "cell_type": "code",
   "execution_count": null,
   "id": "e3dd9d33-b5d2-4da0-95d0-737e14331f5b",
   "metadata": {},
   "outputs": [],
   "source": []
  },
  {
   "cell_type": "code",
   "execution_count": null,
   "id": "92f7dcb4-8744-4d61-9f18-1885160e223f",
   "metadata": {},
   "outputs": [],
   "source": []
  },
  {
   "cell_type": "code",
   "execution_count": null,
   "id": "7fed51c0-94b8-4c53-a900-2f3c1da087c6",
   "metadata": {},
   "outputs": [],
   "source": []
  },
  {
   "cell_type": "code",
   "execution_count": null,
   "id": "34bcfb06-25b8-4f9c-bf79-4ada2b279354",
   "metadata": {},
   "outputs": [],
   "source": []
  },
  {
   "cell_type": "code",
   "execution_count": null,
   "id": "1155caef-9415-4432-bc56-d38c90acf02f",
   "metadata": {},
   "outputs": [],
   "source": []
  },
  {
   "cell_type": "code",
   "execution_count": null,
   "id": "2aab0e69-558d-4846-8fe3-b782c026da9a",
   "metadata": {},
   "outputs": [],
   "source": []
  },
  {
   "cell_type": "code",
   "execution_count": null,
   "id": "bb8f636a-cd52-4a55-b944-d8546712ddac",
   "metadata": {},
   "outputs": [],
   "source": []
  },
  {
   "cell_type": "code",
   "execution_count": null,
   "id": "17151677-4ec6-431e-b75b-1c6b73ef614a",
   "metadata": {},
   "outputs": [],
   "source": []
  },
  {
   "cell_type": "code",
   "execution_count": null,
   "id": "ec53cb33-0ed9-4b6f-9d21-3ceca038b04a",
   "metadata": {},
   "outputs": [],
   "source": []
  },
  {
   "cell_type": "code",
   "execution_count": null,
   "id": "899a1deb-010f-43e6-8ddd-c0cd9aae2657",
   "metadata": {},
   "outputs": [],
   "source": []
  }
 ],
 "metadata": {
  "kernelspec": {
   "display_name": "Python 3 (ipykernel)",
   "language": "python",
   "name": "python3"
  },
  "language_info": {
   "codemirror_mode": {
    "name": "ipython",
    "version": 3
   },
   "file_extension": ".py",
   "mimetype": "text/x-python",
   "name": "python",
   "nbconvert_exporter": "python",
   "pygments_lexer": "ipython3",
   "version": "3.9.13"
  }
 },
 "nbformat": 4,
 "nbformat_minor": 5
}
