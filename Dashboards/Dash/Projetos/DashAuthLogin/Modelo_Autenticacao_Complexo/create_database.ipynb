{
 "cells": [
  {
   "cell_type": "code",
   "execution_count": 5,
   "source": [
    "from sqlalchemy import Table, create_engine # conexão com o banco de dados\n",
    "from sqlalchemy.sql import select\n",
    "from flask_sqlalchemy import SQLAlchemy # flask backend do dash - importamos a classe SQLAlchemy\n",
    "from werkzeug.security import generate_password_hash, check_password_hash # senhas está correta cryptografado\n",
    "import sqlite3\n",
    "import warnings\n",
    "import os\n",
    "# import configparser\n",
    "#pip3 install sqlalchemy flask_sqlalchemy flask_login werkzeug configparser\n",
    "# Criando a conexão com o bd\n",
    "\n",
    "conn = sqlite3.connect('data.sqlite')\n",
    "engine = create_engine('sqlite:///data.sqlite')\n",
    "db = SQLAlchemy()\n",
    "# config = configparser.ConfigParser()\n",
    "\n",
    "class Users(db.Model):# herda db.Model\n",
    "    #criando a tabela de usuarios\n",
    "    id = db.Column(db.Integer, primary_key=True)\n",
    "    username = db.Column(db.String(15), unique=True, nullable = False)\n",
    "    email = db.Column(db.String(50), unique=True)\n",
    "    password = db.Column(db.String(80))\n",
    "\n",
    "Users_tbl = Table('users', Users.metadata)# metadata - atributo do db.model permitindo a criação da tabela pelos parametros passados a cima\n",
    "#fuction to create table using Users class\n",
    "\n",
    "def create_users_table():\n",
    "    Users.metadata.create_all(engine)#cria tabela"
   ],
   "outputs": [],
   "metadata": {}
  },
  {
   "cell_type": "code",
   "execution_count": 6,
   "source": [
    "create_users_table()"
   ],
   "outputs": [],
   "metadata": {}
  },
  {
   "cell_type": "code",
   "execution_count": 7,
   "source": [
    "import pandas as pd\n",
    "c = conn.cursor()\n",
    "df = pd.read_sql('select * from users', conn)\n",
    "df\n",
    ""
   ],
   "outputs": [
    {
     "output_type": "execute_result",
     "data": {
      "text/html": [
       "<div>\n",
       "<style scoped>\n",
       "    .dataframe tbody tr th:only-of-type {\n",
       "        vertical-align: middle;\n",
       "    }\n",
       "\n",
       "    .dataframe tbody tr th {\n",
       "        vertical-align: top;\n",
       "    }\n",
       "\n",
       "    .dataframe thead th {\n",
       "        text-align: right;\n",
       "    }\n",
       "</style>\n",
       "<table border=\"1\" class=\"dataframe\">\n",
       "  <thead>\n",
       "    <tr style=\"text-align: right;\">\n",
       "      <th></th>\n",
       "      <th>id</th>\n",
       "      <th>username</th>\n",
       "      <th>email</th>\n",
       "      <th>password</th>\n",
       "    </tr>\n",
       "  </thead>\n",
       "  <tbody>\n",
       "  </tbody>\n",
       "</table>\n",
       "</div>"
      ],
      "text/plain": [
       "Empty DataFrame\n",
       "Columns: [id, username, email, password]\n",
       "Index: []"
      ]
     },
     "metadata": {},
     "execution_count": 7
    }
   ],
   "metadata": {}
  }
 ],
 "nbformat": 4,
 "nbformat_minor": 2,
 "metadata": {
  "language_info": {
   "codemirror_mode": {
    "name": "ipython",
    "version": 3
   },
   "file_extension": ".py",
   "mimetype": "text/x-python",
   "name": "python",
   "nbconvert_exporter": "python",
   "pygments_lexer": "ipython3",
   "version": 3
  },
  "orig_nbformat": 4
 }
}