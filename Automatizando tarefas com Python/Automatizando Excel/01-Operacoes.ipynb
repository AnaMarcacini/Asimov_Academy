{
 "cells": [
  {
   "cell_type": "markdown",
   "id": "d0415472-18ca-4b9b-8de9-d830776ac85c",
   "metadata": {},
   "source": [
    "# Operações Básicas"
   ]
  },
  {
   "cell_type": "code",
   "execution_count": 1,
   "id": "4266d0a5-5527-4ff1-ac85-f95720bb8219",
   "metadata": {},
   "outputs": [
    {
     "data": {
      "text/plain": [
       "<openpyxl.workbook.workbook.Workbook at 0x7f8370fe9ee0>"
      ]
     },
     "execution_count": 1,
     "metadata": {},
     "output_type": "execute_result"
    }
   ],
   "source": [
    "from openpyxl import load_workbook\n",
    "wb = load_workbook ('exemplo.xlsx')\n",
    "wb"
   ]
  },
  {
   "cell_type": "code",
   "execution_count": 2,
   "id": "046c3e7b-d47d-46a3-880e-f3e6f0855420",
   "metadata": {},
   "outputs": [
    {
     "data": {
      "text/plain": [
       "openpyxl.workbook.workbook.Workbook"
      ]
     },
     "execution_count": 2,
     "metadata": {},
     "output_type": "execute_result"
    }
   ],
   "source": [
    "type(wb)\n"
   ]
  },
  {
   "cell_type": "code",
   "execution_count": 3,
   "id": "db13e2d3-98f6-4e54-9786-587c867309d8",
   "metadata": {},
   "outputs": [
    {
     "name": "stderr",
     "output_type": "stream",
     "text": [
      "/tmp/ipykernel_11421/3535205666.py:1: DeprecationWarning: Call to deprecated function get_sheet_names (Use wb.sheetnames).\n",
      "  wb.get_sheet_names ( )\n"
     ]
    },
    {
     "data": {
      "text/plain": [
       "['Sheet1', 'Sheet2', 'Sheet3']"
      ]
     },
     "execution_count": 3,
     "metadata": {},
     "output_type": "execute_result"
    }
   ],
   "source": [
    "\n",
    "wb.get_sheet_names ( )\n"
   ]
  },
  {
   "cell_type": "code",
   "execution_count": 4,
   "id": "4c5cf2de-41d6-4f51-8670-0f77dc0b84eb",
   "metadata": {},
   "outputs": [
    {
     "data": {
      "text/plain": [
       "['Sheet1', 'Sheet2', 'Sheet3']"
      ]
     },
     "execution_count": 4,
     "metadata": {},
     "output_type": "execute_result"
    }
   ],
   "source": [
    "wb.sheetnames"
   ]
  },
  {
   "cell_type": "code",
   "execution_count": 5,
   "id": "dec94793-3234-432d-9ed4-293d7eee7bd6",
   "metadata": {},
   "outputs": [
    {
     "data": {
      "text/plain": [
       "<Worksheet \"Sheet1\">"
      ]
     },
     "execution_count": 5,
     "metadata": {},
     "output_type": "execute_result"
    }
   ],
   "source": [
    "planilha1 = wb[\"Sheet1\"]\n",
    "planilha1\n"
   ]
  },
  {
   "cell_type": "code",
   "execution_count": 6,
   "id": "750241e7-1390-4ba5-a41f-feac74e066ea",
   "metadata": {},
   "outputs": [
    {
     "data": {
      "text/plain": [
       "openpyxl.worksheet.worksheet.Worksheet"
      ]
     },
     "execution_count": 6,
     "metadata": {},
     "output_type": "execute_result"
    }
   ],
   "source": [
    "type(planilha1)"
   ]
  },
  {
   "cell_type": "code",
   "execution_count": 7,
   "id": "bdc3e7fd-613b-456d-b707-af20d49a0879",
   "metadata": {},
   "outputs": [
    {
     "data": {
      "text/plain": [
       "'Sheet1'"
      ]
     },
     "execution_count": 7,
     "metadata": {},
     "output_type": "execute_result"
    }
   ],
   "source": [
    "planilha1.title\n"
   ]
  },
  {
   "cell_type": "code",
   "execution_count": 8,
   "id": "87cb469d-f496-4c2a-ab66-2e1b24f3c65e",
   "metadata": {},
   "outputs": [
    {
     "data": {
      "text/plain": [
       "<Cell 'Sheet1'.A3>"
      ]
     },
     "execution_count": 8,
     "metadata": {},
     "output_type": "execute_result"
    }
   ],
   "source": [
    "wb[\"Sheet1\"][\"A3\"]"
   ]
  },
  {
   "cell_type": "code",
   "execution_count": 9,
   "id": "08963ca6-7945-469f-b9fe-b264f1ac75ff",
   "metadata": {},
   "outputs": [
    {
     "data": {
      "text/plain": [
       "datetime.datetime(2015, 4, 6, 12, 46, 51)"
      ]
     },
     "execution_count": 9,
     "metadata": {},
     "output_type": "execute_result"
    }
   ],
   "source": [
    "wb[\"Sheet1\"][\"A3\"].value"
   ]
  },
  {
   "cell_type": "code",
   "execution_count": 10,
   "id": "7bb83399-e8af-4be9-a95c-cc732518a27a",
   "metadata": {},
   "outputs": [
    {
     "data": {
      "text/plain": [
       "datetime.datetime(2015, 4, 6, 12, 46, 51)"
      ]
     },
     "execution_count": 10,
     "metadata": {},
     "output_type": "execute_result"
    }
   ],
   "source": [
    "planilha1[\"A3\"].value"
   ]
  },
  {
   "cell_type": "code",
   "execution_count": 11,
   "id": "597b9f45-d2b3-4b1d-aa13-6d6718dd2e02",
   "metadata": {},
   "outputs": [
    {
     "data": {
      "text/plain": [
       "'Apples'"
      ]
     },
     "execution_count": 11,
     "metadata": {},
     "output_type": "execute_result"
    }
   ],
   "source": [
    "planilha1.cell(row=1, column=2).value"
   ]
  },
  {
   "cell_type": "code",
   "execution_count": 12,
   "id": "9d72753b-bd26-415f-8143-17960c9451d4",
   "metadata": {},
   "outputs": [
    {
     "data": {
      "text/plain": [
       "4"
      ]
     },
     "execution_count": 12,
     "metadata": {},
     "output_type": "execute_result"
    }
   ],
   "source": [
    "planilha1.max_column"
   ]
  },
  {
   "cell_type": "code",
   "execution_count": 13,
   "id": "67849e9d-7b96-4633-891f-6e844b0e7953",
   "metadata": {},
   "outputs": [
    {
     "data": {
      "text/plain": [
       "7"
      ]
     },
     "execution_count": 13,
     "metadata": {},
     "output_type": "execute_result"
    }
   ],
   "source": [
    "planilha1.max_row"
   ]
  },
  {
   "cell_type": "code",
   "execution_count": 14,
   "id": "44e9cfbb-38b7-4d03-9522-add9f82ba57c",
   "metadata": {},
   "outputs": [
    {
     "name": "stdout",
     "output_type": "stream",
     "text": [
      "1 Apples\n",
      "3 Pears\n",
      "5 Apples\n",
      "7 Strawberries\n"
     ]
    }
   ],
   "source": [
    "for i in range(1, 8, 2):\n",
    "    print(i, planilha1.cell(row=i, column=2).value)\n"
   ]
  },
  {
   "cell_type": "code",
   "execution_count": 15,
   "id": "bbbeeca9-dfd6-407a-b913-7be5b9f5ca18",
   "metadata": {},
   "outputs": [
    {
     "name": "stdout",
     "output_type": "stream",
     "text": [
      "<Cell 'Sheet1'.A1> 2015-04-05 13:34:02\n",
      "<Cell 'Sheet1'.B1> Apples\n",
      "<Cell 'Sheet1'.C1> 73\n",
      "<Cell 'Sheet1'.A2> 2015-04-05 03:41:23\n",
      "<Cell 'Sheet1'.B2> Cherries\n",
      "<Cell 'Sheet1'.C2> 75\n"
     ]
    }
   ],
   "source": [
    "\n",
    "\n",
    "for row in planilha1.iter_rows(min_row=1, max_col=3, max_row=2):\n",
    "    for cell in row:\n",
    "       print(f\"{cell} {cell.value}\")\n"
   ]
  },
  {
   "cell_type": "code",
   "execution_count": 16,
   "id": "6345f24d-bfb2-4163-ae86-aee46f9e9473",
   "metadata": {},
   "outputs": [
    {
     "name": "stdout",
     "output_type": "stream",
     "text": [
      "2015-04-05 13:34:02\n",
      "Apples\n",
      "73\n",
      "2015-04-05 03:41:23\n",
      "Cherries\n",
      "75\n"
     ]
    }
   ],
   "source": [
    "for row in planilha1.iter_rows(min_row=1, max_col=3, max_row=2):\n",
    "    for cell in row:\n",
    "       print(cell.value)"
   ]
  },
  {
   "cell_type": "code",
   "execution_count": 17,
   "id": "f706c6fe-8da0-47ee-a53a-adb3b5f6a51f",
   "metadata": {},
   "outputs": [
    {
     "name": "stdout",
     "output_type": "stream",
     "text": [
      "Apples\n",
      "Cherries\n",
      "Pears\n",
      "Oranges\n",
      "Apples\n",
      "Bananas\n",
      "Strawberries\n"
     ]
    }
   ],
   "source": [
    "for i in range(0, planilha1.max_row):\n",
    "\tprint (planilha1.cell(row=i+1, column=2).value)"
   ]
  },
  {
   "cell_type": "code",
   "execution_count": 18,
   "id": "681da2e3-7372-48df-8466-2982190a1e67",
   "metadata": {},
   "outputs": [],
   "source": [
    "\n",
    "planilha1.cell(row=2, column=3).value = 75\n",
    "wb.save('exemplo.xlsx')# salva as alterações feitas até então no arquivo"
   ]
  },
  {
   "cell_type": "markdown",
   "id": "6c3560dd-f8c3-4d94-8cac-926de8d74c38",
   "metadata": {},
   "source": [
    "## Agrupamento / desagrupamento\n"
   ]
  },
  {
   "cell_type": "code",
   "execution_count": 19,
   "id": "4ca5bc25-8d22-477c-9551-a49e4888294a",
   "metadata": {},
   "outputs": [],
   "source": [
    "planilha1.merge_cells('A1:D1')\n"
   ]
  },
  {
   "cell_type": "code",
   "execution_count": 20,
   "id": "117709b0-6c5d-4d92-8c47-fa447eef3d7a",
   "metadata": {},
   "outputs": [],
   "source": [
    "planilha1.merge_cells('A2:D2')\n",
    "planilha1.unmerge_cells('A2:D2')\n",
    "planilha1.merge_cells(start_row=2, start_column=1, end_row=4, end_column=4)\n",
    "planilha1.unmerge_cells(start_row=2, start_column=1, end_row=4, end_column=4)\n",
    "wb.save(\"formula.xlsx\")"
   ]
  },
  {
   "cell_type": "code",
   "execution_count": null,
   "id": "e9196625-af55-466d-8a5f-6187dd214004",
   "metadata": {},
   "outputs": [],
   "source": [
    "# Agrupamento\n",
    "sheet.merge_cells(\"A1: D1\")\n",
    "sheet.unmerge_cells ('A1: D1')\n",
    "wb.save('exemplo.xlsx')\n",
    "sheet.insert_rows(4)\n",
    "sheet.delete_rows(4)\n",
    "sheet.delete_cols (2, 5) # deleta B até f\n",
    "wb.save('exemplo.xlsx')"
   ]
  },
  {
   "cell_type": "markdown",
   "id": "64988092-9f9e-4c33-b867-457f94cb1468",
   "metadata": {},
   "source": [
    "## Adicionando linhas e colunas\n"
   ]
  },
  {
   "cell_type": "code",
   "execution_count": 21,
   "id": "af34fcc2-5ed3-443d-b752-a3ad7f0b18ad",
   "metadata": {},
   "outputs": [],
   "source": [
    "planilha1.insert_rows(7)\n",
    "planilha1.delete_cols(2, 5) # Deleta as colunas B:F"
   ]
  },
  {
   "cell_type": "code",
   "execution_count": 22,
   "id": "4bfbb50a-5f3d-4e1a-ba19-6763c6639493",
   "metadata": {},
   "outputs": [
    {
     "data": {
      "text/plain": [
       "<Worksheet \"Sheet1\">"
      ]
     },
     "execution_count": 22,
     "metadata": {},
     "output_type": "execute_result"
    }
   ],
   "source": [
    "planilha1"
   ]
  },
  {
   "cell_type": "code",
   "execution_count": 26,
   "id": "348fcd0e-b1ca-4308-b54b-7bf08b253a57",
   "metadata": {},
   "outputs": [
    {
     "name": "stderr",
     "output_type": "stream",
     "text": [
      "/home/anahelena/anaconda3/lib/python3.9/zipfile.py:1514: UserWarning: Duplicate name: 'xl/media/image2.png'\n",
      "  return self._open_to_write(zinfo, force_zip64=force_zip64)\n"
     ]
    }
   ],
   "source": [
    "# Adicionando imagens\n",
    "from openpyxl.drawing.image import Image\n",
    "img = Image('catlogo.png')\n",
    "#planilha1.add_image(img, 'A1')\n",
    "wb[\"Sheet2\"].add_image(img, 'B10' )\n",
    "wb.save(\"formula.xlsx\")\n"
   ]
  },
  {
   "cell_type": "code",
   "execution_count": 24,
   "id": "cde22c2c-d2c9-4789-b2a7-64054b1f4f5b",
   "metadata": {},
   "outputs": [
    {
     "data": {
      "text/plain": [
       "<Worksheet \"Sheet1\">"
      ]
     },
     "execution_count": 24,
     "metadata": {},
     "output_type": "execute_result"
    }
   ],
   "source": [
    "planilha1"
   ]
  },
  {
   "cell_type": "code",
   "execution_count": null,
   "id": "f1c6f58f-9873-43e4-9e2b-2f47c2009d1d",
   "metadata": {},
   "outputs": [],
   "source": []
  }
 ],
 "metadata": {
  "kernelspec": {
   "display_name": "Python 3 (ipykernel)",
   "language": "python",
   "name": "python3"
  },
  "language_info": {
   "codemirror_mode": {
    "name": "ipython",
    "version": 3
   },
   "file_extension": ".py",
   "mimetype": "text/x-python",
   "name": "python",
   "nbconvert_exporter": "python",
   "pygments_lexer": "ipython3",
   "version": "3.9.13"
  }
 },
 "nbformat": 4,
 "nbformat_minor": 5
}
