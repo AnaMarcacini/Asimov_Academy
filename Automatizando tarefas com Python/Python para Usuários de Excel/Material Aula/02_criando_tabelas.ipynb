{
 "cells": [
  {
   "cell_type": "markdown",
   "id": "4b894eeb-1f1c-437c-918d-88c8835c7f7f",
   "metadata": {},
   "source": [
    "# Criando uma Tabela"
   ]
  },
  {
   "cell_type": "markdown",
   "id": "7e6b6e88",
   "metadata": {},
   "source": [
    "## Criando DataFrames"
   ]
  },
  {
   "cell_type": "code",
   "execution_count": 1,
   "id": "0de61a59",
   "metadata": {},
   "outputs": [
    {
     "data": {
      "text/html": [
       "<div>\n",
       "<style scoped>\n",
       "    .dataframe tbody tr th:only-of-type {\n",
       "        vertical-align: middle;\n",
       "    }\n",
       "\n",
       "    .dataframe tbody tr th {\n",
       "        vertical-align: top;\n",
       "    }\n",
       "\n",
       "    .dataframe thead th {\n",
       "        text-align: right;\n",
       "    }\n",
       "</style>\n",
       "<table border=\"1\" class=\"dataframe\">\n",
       "  <thead>\n",
       "    <tr style=\"text-align: right;\">\n",
       "      <th></th>\n",
       "    </tr>\n",
       "  </thead>\n",
       "  <tbody>\n",
       "  </tbody>\n",
       "</table>\n",
       "</div>"
      ],
      "text/plain": [
       "Empty DataFrame\n",
       "Columns: []\n",
       "Index: []"
      ]
     },
     "execution_count": 1,
     "metadata": {},
     "output_type": "execute_result"
    }
   ],
   "source": [
    "import pandas as pd\n",
    "  \n",
    "df = pd.DataFrame()\n",
    "  \n",
    "df"
   ]
  },
  {
   "cell_type": "markdown",
   "id": "73b02d0d",
   "metadata": {},
   "source": [
    "### Criando a partir de listas"
   ]
  },
  {
   "cell_type": "code",
   "execution_count": 2,
   "id": "e02ef19c",
   "metadata": {},
   "outputs": [
    {
     "data": {
      "text/html": [
       "<div>\n",
       "<style scoped>\n",
       "    .dataframe tbody tr th:only-of-type {\n",
       "        vertical-align: middle;\n",
       "    }\n",
       "\n",
       "    .dataframe tbody tr th {\n",
       "        vertical-align: top;\n",
       "    }\n",
       "\n",
       "    .dataframe thead th {\n",
       "        text-align: right;\n",
       "    }\n",
       "</style>\n",
       "<table border=\"1\" class=\"dataframe\">\n",
       "  <thead>\n",
       "    <tr style=\"text-align: right;\">\n",
       "      <th></th>\n",
       "      <th>Numeros</th>\n",
       "    </tr>\n",
       "  </thead>\n",
       "  <tbody>\n",
       "    <tr>\n",
       "      <th>0</th>\n",
       "      <td>1</td>\n",
       "    </tr>\n",
       "    <tr>\n",
       "      <th>1</th>\n",
       "      <td>2</td>\n",
       "    </tr>\n",
       "    <tr>\n",
       "      <th>2</th>\n",
       "      <td>3</td>\n",
       "    </tr>\n",
       "    <tr>\n",
       "      <th>3</th>\n",
       "      <td>4</td>\n",
       "    </tr>\n",
       "    <tr>\n",
       "      <th>4</th>\n",
       "      <td>5</td>\n",
       "    </tr>\n",
       "  </tbody>\n",
       "</table>\n",
       "</div>"
      ],
      "text/plain": [
       "   Numeros\n",
       "0        1\n",
       "1        2\n",
       "2        3\n",
       "3        4\n",
       "4        5"
      ]
     },
     "execution_count": 2,
     "metadata": {},
     "output_type": "execute_result"
    }
   ],
   "source": [
    "import pandas as pd\n",
    "  \n",
    "data = [1, 2, 3, 4, 5]\n",
    "df = pd.DataFrame(data, columns=['Numeros'])\n",
    "  \n",
    "df"
   ]
  },
  {
   "cell_type": "markdown",
   "id": "f0d4e779",
   "metadata": {},
   "source": [
    "### Criando a partir de listas de listas"
   ]
  },
  {
   "cell_type": "code",
   "execution_count": 3,
   "id": "5cfd4356",
   "metadata": {},
   "outputs": [
    {
     "data": {
      "text/html": [
       "<div>\n",
       "<style scoped>\n",
       "    .dataframe tbody tr th:only-of-type {\n",
       "        vertical-align: middle;\n",
       "    }\n",
       "\n",
       "    .dataframe tbody tr th {\n",
       "        vertical-align: top;\n",
       "    }\n",
       "\n",
       "    .dataframe thead th {\n",
       "        text-align: right;\n",
       "    }\n",
       "</style>\n",
       "<table border=\"1\" class=\"dataframe\">\n",
       "  <thead>\n",
       "    <tr style=\"text-align: right;\">\n",
       "      <th></th>\n",
       "      <th>0</th>\n",
       "      <th>1</th>\n",
       "    </tr>\n",
       "  </thead>\n",
       "  <tbody>\n",
       "    <tr>\n",
       "      <th>0</th>\n",
       "      <td>0</td>\n",
       "      <td>1</td>\n",
       "    </tr>\n",
       "    <tr>\n",
       "      <th>1</th>\n",
       "      <td>2</td>\n",
       "      <td>3</td>\n",
       "    </tr>\n",
       "    <tr>\n",
       "      <th>2</th>\n",
       "      <td>4</td>\n",
       "      <td>5</td>\n",
       "    </tr>\n",
       "  </tbody>\n",
       "</table>\n",
       "</div>"
      ],
      "text/plain": [
       "   0  1\n",
       "0  0  1\n",
       "1  2  3\n",
       "2  4  5"
      ]
     },
     "execution_count": 3,
     "metadata": {},
     "output_type": "execute_result"
    }
   ],
   "source": [
    "import pandas as pd\n",
    "  \n",
    "data = [[0, 1],\n",
    "\t    [2, 3],\n",
    "\t    [4, 5]]\n",
    "df = pd.DataFrame(data)\n",
    "  \n",
    "df"
   ]
  },
  {
   "cell_type": "markdown",
   "id": "27f5866a",
   "metadata": {},
   "source": [
    "### Criando a partir de dicionário de listas"
   ]
  },
  {
   "cell_type": "code",
   "execution_count": 4,
   "id": "1f4931cf",
   "metadata": {},
   "outputs": [
    {
     "data": {
      "text/html": [
       "<div>\n",
       "<style scoped>\n",
       "    .dataframe tbody tr th:only-of-type {\n",
       "        vertical-align: middle;\n",
       "    }\n",
       "\n",
       "    .dataframe tbody tr th {\n",
       "        vertical-align: top;\n",
       "    }\n",
       "\n",
       "    .dataframe thead th {\n",
       "        text-align: right;\n",
       "    }\n",
       "</style>\n",
       "<table border=\"1\" class=\"dataframe\">\n",
       "  <thead>\n",
       "    <tr style=\"text-align: right;\">\n",
       "      <th></th>\n",
       "      <th>Nome</th>\n",
       "      <th>Sobrenome</th>\n",
       "    </tr>\n",
       "  </thead>\n",
       "  <tbody>\n",
       "    <tr>\n",
       "      <th>0</th>\n",
       "      <td>Adriano</td>\n",
       "      <td>Soares</td>\n",
       "    </tr>\n",
       "    <tr>\n",
       "      <th>1</th>\n",
       "      <td>Rodrigo</td>\n",
       "      <td>Tadewald</td>\n",
       "    </tr>\n",
       "    <tr>\n",
       "      <th>2</th>\n",
       "      <td>Juliano</td>\n",
       "      <td>Faccioni</td>\n",
       "    </tr>\n",
       "    <tr>\n",
       "      <th>3</th>\n",
       "      <td>Mateus</td>\n",
       "      <td>Kienzle</td>\n",
       "    </tr>\n",
       "  </tbody>\n",
       "</table>\n",
       "</div>"
      ],
      "text/plain": [
       "      Nome Sobrenome\n",
       "0  Adriano    Soares\n",
       "1  Rodrigo  Tadewald\n",
       "2  Juliano  Faccioni\n",
       "3   Mateus   Kienzle"
      ]
     },
     "execution_count": 4,
     "metadata": {},
     "output_type": "execute_result"
    }
   ],
   "source": [
    "import pandas as pd\n",
    "  \n",
    "data = {'Nome': ['Adriano', 'Rodrigo', 'Juliano', 'Mateus'],\n",
    "        'Sobrenome': ['Soares', 'Tadewald', 'Faccioni', 'Kienzle'],}\n",
    "df = pd.DataFrame(data)\n",
    "  \n",
    "df"
   ]
  },
  {
   "cell_type": "markdown",
   "id": "aef453a6",
   "metadata": {},
   "source": [
    "### Criando com índice"
   ]
  },
  {
   "cell_type": "code",
   "execution_count": 5,
   "id": "e6d77970",
   "metadata": {},
   "outputs": [
    {
     "data": {
      "text/html": [
       "<div>\n",
       "<style scoped>\n",
       "    .dataframe tbody tr th:only-of-type {\n",
       "        vertical-align: middle;\n",
       "    }\n",
       "\n",
       "    .dataframe tbody tr th {\n",
       "        vertical-align: top;\n",
       "    }\n",
       "\n",
       "    .dataframe thead th {\n",
       "        text-align: right;\n",
       "    }\n",
       "</style>\n",
       "<table border=\"1\" class=\"dataframe\">\n",
       "  <thead>\n",
       "    <tr style=\"text-align: right;\">\n",
       "      <th></th>\n",
       "      <th>Nome</th>\n",
       "      <th>Sobrenome</th>\n",
       "    </tr>\n",
       "  </thead>\n",
       "  <tbody>\n",
       "    <tr>\n",
       "      <th>p1</th>\n",
       "      <td>Adriano</td>\n",
       "      <td>Soares</td>\n",
       "    </tr>\n",
       "    <tr>\n",
       "      <th>p2</th>\n",
       "      <td>Rodrigo</td>\n",
       "      <td>Tadewald</td>\n",
       "    </tr>\n",
       "    <tr>\n",
       "      <th>p3</th>\n",
       "      <td>Juliano</td>\n",
       "      <td>Faccioni</td>\n",
       "    </tr>\n",
       "    <tr>\n",
       "      <th>p4</th>\n",
       "      <td>Mateus</td>\n",
       "      <td>Kienzle</td>\n",
       "    </tr>\n",
       "  </tbody>\n",
       "</table>\n",
       "</div>"
      ],
      "text/plain": [
       "       Nome Sobrenome\n",
       "p1  Adriano    Soares\n",
       "p2  Rodrigo  Tadewald\n",
       "p3  Juliano  Faccioni\n",
       "p4   Mateus   Kienzle"
      ]
     },
     "execution_count": 5,
     "metadata": {},
     "output_type": "execute_result"
    }
   ],
   "source": [
    "import pandas as pd\n",
    "  \n",
    "data = {'Nome': ['Adriano', 'Rodrigo', 'Juliano', 'Mateus'],\n",
    "        'Sobrenome': ['Soares', 'Tadewald', 'Faccioni', 'Kienzle'],}\n",
    "df = pd.DataFrame(data, index=['p1', 'p2', 'p3', 'p4'])\n",
    "  \n",
    "df"
   ]
  },
  {
   "cell_type": "markdown",
   "id": "5b7694e7",
   "metadata": {},
   "source": [
    "### Criando a partir de uma lista de dicionários"
   ]
  },
  {
   "cell_type": "code",
   "execution_count": 6,
   "id": "9376bc4f",
   "metadata": {},
   "outputs": [
    {
     "data": {
      "text/html": [
       "<div>\n",
       "<style scoped>\n",
       "    .dataframe tbody tr th:only-of-type {\n",
       "        vertical-align: middle;\n",
       "    }\n",
       "\n",
       "    .dataframe tbody tr th {\n",
       "        vertical-align: top;\n",
       "    }\n",
       "\n",
       "    .dataframe thead th {\n",
       "        text-align: right;\n",
       "    }\n",
       "</style>\n",
       "<table border=\"1\" class=\"dataframe\">\n",
       "  <thead>\n",
       "    <tr style=\"text-align: right;\">\n",
       "      <th></th>\n",
       "      <th>Nome</th>\n",
       "      <th>Sobrenome</th>\n",
       "    </tr>\n",
       "  </thead>\n",
       "  <tbody>\n",
       "    <tr>\n",
       "      <th>0</th>\n",
       "      <td>Adriano</td>\n",
       "      <td>Soares</td>\n",
       "    </tr>\n",
       "    <tr>\n",
       "      <th>1</th>\n",
       "      <td>Rodrigo</td>\n",
       "      <td>Tadewald</td>\n",
       "    </tr>\n",
       "    <tr>\n",
       "      <th>2</th>\n",
       "      <td>Juliano</td>\n",
       "      <td>Faccioni</td>\n",
       "    </tr>\n",
       "    <tr>\n",
       "      <th>3</th>\n",
       "      <td>Mateus</td>\n",
       "      <td>Kienzle</td>\n",
       "    </tr>\n",
       "  </tbody>\n",
       "</table>\n",
       "</div>"
      ],
      "text/plain": [
       "      Nome Sobrenome\n",
       "0  Adriano    Soares\n",
       "1  Rodrigo  Tadewald\n",
       "2  Juliano  Faccioni\n",
       "3   Mateus   Kienzle"
      ]
     },
     "execution_count": 6,
     "metadata": {},
     "output_type": "execute_result"
    }
   ],
   "source": [
    "import pandas as pd\n",
    "  \n",
    "data = [{'Nome': 'Adriano', 'Sobrenome': 'Soares'},\n",
    "\t\t{'Nome': 'Rodrigo', 'Sobrenome': 'Tadewald'},\n",
    "\t\t{'Nome': 'Juliano', 'Sobrenome': 'Faccioni'},\n",
    "\t\t{'Nome': 'Mateus', 'Sobrenome': 'Kienzle'},\n",
    "\t   ]\n",
    "df = pd.DataFrame(data)\n",
    "  \n",
    "df"
   ]
  },
  {
   "cell_type": "markdown",
   "id": "4cb8e4ef",
   "metadata": {},
   "source": [
    "## Principais Atributos"
   ]
  },
  {
   "cell_type": "markdown",
   "id": "d87bd8e5",
   "metadata": {},
   "source": [
    "### columns"
   ]
  },
  {
   "cell_type": "code",
   "execution_count": 7,
   "id": "16ace6e3",
   "metadata": {},
   "outputs": [
    {
     "data": {
      "text/plain": [
       "Index(['Nome', 'Sobrenome'], dtype='object')"
      ]
     },
     "execution_count": 7,
     "metadata": {},
     "output_type": "execute_result"
    }
   ],
   "source": [
    "import pandas as pd\n",
    "  \n",
    "data = {'Nome': ['Adriano', 'Rodrigo', 'Juliano', 'Mateus'],\n",
    "        'Sobrenome': ['Soares', 'Tadewald', 'Faccioni', 'Kienzle'],}\n",
    "df = pd.DataFrame(data, index=['p1', 'p2', 'p3', 'p4'])\n",
    "  \n",
    "df.columns"
   ]
  },
  {
   "cell_type": "markdown",
   "id": "1e610e7a",
   "metadata": {},
   "source": [
    "### index"
   ]
  },
  {
   "cell_type": "code",
   "execution_count": 8,
   "id": "3044da40",
   "metadata": {},
   "outputs": [
    {
     "data": {
      "text/plain": [
       "Index(['p1', 'p2', 'p3', 'p4'], dtype='object')"
      ]
     },
     "execution_count": 8,
     "metadata": {},
     "output_type": "execute_result"
    }
   ],
   "source": [
    "import pandas as pd\n",
    "  \n",
    "data = {'Nome': ['Adriano', 'Rodrigo', 'Juliano', 'Mateus'],\n",
    "        'Sobrenome': ['Soares', 'Tadewald', 'Faccioni', 'Kienzle'],}\n",
    "df = pd.DataFrame(data, index=['p1', 'p2', 'p3', 'p4'])\n",
    "  \n",
    "df.index"
   ]
  },
  {
   "cell_type": "markdown",
   "id": "cc2e5aab",
   "metadata": {},
   "source": [
    "### shape"
   ]
  },
  {
   "cell_type": "code",
   "execution_count": 9,
   "id": "70dac002",
   "metadata": {},
   "outputs": [
    {
     "data": {
      "text/plain": [
       "(4, 2)"
      ]
     },
     "execution_count": 9,
     "metadata": {},
     "output_type": "execute_result"
    }
   ],
   "source": [
    "import pandas as pd\n",
    "  \n",
    "data = {'Nome': ['Adriano', 'Rodrigo', 'Juliano', 'Mateus'],\n",
    "        'Sobrenome': ['Soares', 'Tadewald', 'Faccioni', 'Kienzle'],}\n",
    "df = pd.DataFrame(data, index=['p1', 'p2', 'p3', 'p4'])\n",
    "  \n",
    "df.shape"
   ]
  },
  {
   "cell_type": "code",
   "execution_count": null,
   "id": "dd78e06a",
   "metadata": {},
   "outputs": [],
   "source": []
  }
 ],
 "metadata": {
  "kernelspec": {
   "display_name": "Python 3 (ipykernel)",
   "language": "python",
   "name": "python3"
  },
  "language_info": {
   "codemirror_mode": {
    "name": "ipython",
    "version": 3
   },
   "file_extension": ".py",
   "mimetype": "text/x-python",
   "name": "python",
   "nbconvert_exporter": "python",
   "pygments_lexer": "ipython3",
   "version": "3.9.13"
  }
 },
 "nbformat": 4,
 "nbformat_minor": 5
}
