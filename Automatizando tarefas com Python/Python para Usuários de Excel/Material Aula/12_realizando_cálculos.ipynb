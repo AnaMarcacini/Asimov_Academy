{
 "cells": [
  {
   "attachments": {},
   "cell_type": "markdown",
   "id": "cf9f26d8",
   "metadata": {},
   "source": [
    "# Realizando cálculos e análises"
   ]
  },
  {
   "cell_type": "code",
   "execution_count": 23,
   "id": "0b62f393",
   "metadata": {},
   "outputs": [
    {
     "data": {
      "text/html": [
       "<div>\n",
       "<style scoped>\n",
       "    .dataframe tbody tr th:only-of-type {\n",
       "        vertical-align: middle;\n",
       "    }\n",
       "\n",
       "    .dataframe tbody tr th {\n",
       "        vertical-align: top;\n",
       "    }\n",
       "\n",
       "    .dataframe thead th {\n",
       "        text-align: right;\n",
       "    }\n",
       "</style>\n",
       "<table border=\"1\" class=\"dataframe\">\n",
       "  <thead>\n",
       "    <tr style=\"text-align: right;\">\n",
       "      <th></th>\n",
       "      <th>data</th>\n",
       "      <th>id_venda</th>\n",
       "      <th>filial</th>\n",
       "      <th>vendedor</th>\n",
       "      <th>produto</th>\n",
       "      <th>cliente_nome</th>\n",
       "      <th>cliente_genero</th>\n",
       "      <th>forma_pagamento</th>\n",
       "      <th>preco</th>\n",
       "    </tr>\n",
       "  </thead>\n",
       "  <tbody>\n",
       "    <tr>\n",
       "      <th>0</th>\n",
       "      <td>2023-01-12 07:42:38.311304</td>\n",
       "      <td>1</td>\n",
       "      <td>Canoas</td>\n",
       "      <td>Luis Fernando</td>\n",
       "      <td>Tenis Nike</td>\n",
       "      <td>Anthony Moon</td>\n",
       "      <td>masculino</td>\n",
       "      <td>credito</td>\n",
       "      <td>300</td>\n",
       "    </tr>\n",
       "    <tr>\n",
       "      <th>1</th>\n",
       "      <td>2023-01-12 08:21:37.427917</td>\n",
       "      <td>2</td>\n",
       "      <td>Florianópolis</td>\n",
       "      <td>Claudia dos Santos</td>\n",
       "      <td>Tenis Adidas</td>\n",
       "      <td>Bud Loughlin</td>\n",
       "      <td>masculino</td>\n",
       "      <td>pix</td>\n",
       "      <td>450</td>\n",
       "    </tr>\n",
       "    <tr>\n",
       "      <th>2</th>\n",
       "      <td>2023-01-12 08:27:36.903347</td>\n",
       "      <td>3</td>\n",
       "      <td>São Paulo</td>\n",
       "      <td>Cassia Moraes</td>\n",
       "      <td>Tenis Fila</td>\n",
       "      <td>Gonzalo Kroes</td>\n",
       "      <td>masculino</td>\n",
       "      <td>credito</td>\n",
       "      <td>250</td>\n",
       "    </tr>\n",
       "    <tr>\n",
       "      <th>3</th>\n",
       "      <td>2023-01-12 09:32:38.748455</td>\n",
       "      <td>4</td>\n",
       "      <td>Florianópolis</td>\n",
       "      <td>Mario Sérgio</td>\n",
       "      <td>Tenis Nike</td>\n",
       "      <td>Lisa Thomas</td>\n",
       "      <td>feminino</td>\n",
       "      <td>credito</td>\n",
       "      <td>300</td>\n",
       "    </tr>\n",
       "    <tr>\n",
       "      <th>4</th>\n",
       "      <td>2023-01-12 11:01:38.047889</td>\n",
       "      <td>5</td>\n",
       "      <td>Canoas</td>\n",
       "      <td>Luis Fernando</td>\n",
       "      <td>Tenis Fila</td>\n",
       "      <td>Charles Bowlin</td>\n",
       "      <td>masculino</td>\n",
       "      <td>credito</td>\n",
       "      <td>250</td>\n",
       "    </tr>\n",
       "    <tr>\n",
       "      <th>5</th>\n",
       "      <td>2023-01-12 14:41:39.235334</td>\n",
       "      <td>6</td>\n",
       "      <td>Canoas</td>\n",
       "      <td>Carlos Henrique</td>\n",
       "      <td>Tenis Adidas</td>\n",
       "      <td>Shari Craig</td>\n",
       "      <td>feminino</td>\n",
       "      <td>credito</td>\n",
       "      <td>450</td>\n",
       "    </tr>\n",
       "    <tr>\n",
       "      <th>6</th>\n",
       "      <td>2023-01-13 06:40:39.161308</td>\n",
       "      <td>7</td>\n",
       "      <td>Florianópolis</td>\n",
       "      <td>Claudia dos Santos</td>\n",
       "      <td>Tenis Adidas</td>\n",
       "      <td>Frank Felker</td>\n",
       "      <td>masculino</td>\n",
       "      <td>credito</td>\n",
       "      <td>450</td>\n",
       "    </tr>\n",
       "    <tr>\n",
       "      <th>7</th>\n",
       "      <td>2023-01-13 07:21:39.554138</td>\n",
       "      <td>8</td>\n",
       "      <td>São Paulo</td>\n",
       "      <td>Cassia Moraes</td>\n",
       "      <td>Tenis NB</td>\n",
       "      <td>Eric Ryan</td>\n",
       "      <td>masculino</td>\n",
       "      <td>credito</td>\n",
       "      <td>500</td>\n",
       "    </tr>\n",
       "    <tr>\n",
       "      <th>8</th>\n",
       "      <td>2023-01-13 09:43:37.001444</td>\n",
       "      <td>9</td>\n",
       "      <td>Canoas</td>\n",
       "      <td>Luis Fernando</td>\n",
       "      <td>Tenis Adidas</td>\n",
       "      <td>Myron Wallen</td>\n",
       "      <td>masculino</td>\n",
       "      <td>credito</td>\n",
       "      <td>450</td>\n",
       "    </tr>\n",
       "    <tr>\n",
       "      <th>9</th>\n",
       "      <td>2023-01-13 09:58:39.090014</td>\n",
       "      <td>10</td>\n",
       "      <td>Caxias do Sul</td>\n",
       "      <td>Rodrigo Vanzeloti</td>\n",
       "      <td>Tenis Nike</td>\n",
       "      <td>Dawn Cobb</td>\n",
       "      <td>feminino</td>\n",
       "      <td>credito</td>\n",
       "      <td>300</td>\n",
       "    </tr>\n",
       "  </tbody>\n",
       "</table>\n",
       "</div>"
      ],
      "text/plain": [
       "                         data  id_venda         filial            vendedor  \\\n",
       "0  2023-01-12 07:42:38.311304         1         Canoas       Luis Fernando   \n",
       "1  2023-01-12 08:21:37.427917         2  Florianópolis  Claudia dos Santos   \n",
       "2  2023-01-12 08:27:36.903347         3      São Paulo       Cassia Moraes   \n",
       "3  2023-01-12 09:32:38.748455         4  Florianópolis        Mario Sérgio   \n",
       "4  2023-01-12 11:01:38.047889         5         Canoas       Luis Fernando   \n",
       "5  2023-01-12 14:41:39.235334         6         Canoas     Carlos Henrique   \n",
       "6  2023-01-13 06:40:39.161308         7  Florianópolis  Claudia dos Santos   \n",
       "7  2023-01-13 07:21:39.554138         8      São Paulo       Cassia Moraes   \n",
       "8  2023-01-13 09:43:37.001444         9         Canoas       Luis Fernando   \n",
       "9  2023-01-13 09:58:39.090014        10  Caxias do Sul   Rodrigo Vanzeloti   \n",
       "\n",
       "        produto    cliente_nome cliente_genero forma_pagamento  preco  \n",
       "0    Tenis Nike    Anthony Moon      masculino         credito    300  \n",
       "1  Tenis Adidas    Bud Loughlin      masculino             pix    450  \n",
       "2    Tenis Fila   Gonzalo Kroes      masculino         credito    250  \n",
       "3    Tenis Nike     Lisa Thomas       feminino         credito    300  \n",
       "4    Tenis Fila  Charles Bowlin      masculino         credito    250  \n",
       "5  Tenis Adidas     Shari Craig       feminino         credito    450  \n",
       "6  Tenis Adidas    Frank Felker      masculino         credito    450  \n",
       "7      Tenis NB       Eric Ryan      masculino         credito    500  \n",
       "8  Tenis Adidas    Myron Wallen      masculino         credito    450  \n",
       "9    Tenis Nike       Dawn Cobb       feminino         credito    300  "
      ]
     },
     "execution_count": 23,
     "metadata": {},
     "output_type": "execute_result"
    }
   ],
   "source": [
    "import pandas as pd\n",
    "\n",
    "df_vendas = pd.read_csv('datasets/vendas.csv', sep=';', decimal=',')\n",
    "df_produtos = pd.read_csv('datasets/produtos.csv', sep=';', decimal=',', index_col=0)\n",
    "\n",
    "df_produtos = df_produtos.rename(columns={'nome': 'produto'})\n",
    "df_produtos = df_produtos[['produto', 'preco']]\n",
    "df_vendas = pd.merge(left=df_vendas, \n",
    "                    right=df_produtos, \n",
    "                    on ='produto', \n",
    "                    how ='left')\n",
    "df_vendas.head(10)"
   ]
  },
  {
   "attachments": {},
   "cell_type": "markdown",
   "id": "d1139ebe",
   "metadata": {},
   "source": [
    "## Vendo as características gerais dos dados"
   ]
  },
  {
   "attachments": {},
   "cell_type": "markdown",
   "id": "42c4c38e",
   "metadata": {},
   "source": [
    "### .describe"
   ]
  },
  {
   "cell_type": "code",
   "execution_count": 6,
   "id": "a2333eca",
   "metadata": {},
   "outputs": [
    {
     "data": {
      "text/html": [
       "<div>\n",
       "<style scoped>\n",
       "    .dataframe tbody tr th:only-of-type {\n",
       "        vertical-align: middle;\n",
       "    }\n",
       "\n",
       "    .dataframe tbody tr th {\n",
       "        vertical-align: top;\n",
       "    }\n",
       "\n",
       "    .dataframe thead th {\n",
       "        text-align: right;\n",
       "    }\n",
       "</style>\n",
       "<table border=\"1\" class=\"dataframe\">\n",
       "  <thead>\n",
       "    <tr style=\"text-align: right;\">\n",
       "      <th></th>\n",
       "      <th>id_venda</th>\n",
       "      <th>preco</th>\n",
       "    </tr>\n",
       "  </thead>\n",
       "  <tbody>\n",
       "    <tr>\n",
       "      <th>count</th>\n",
       "      <td>2000.000000</td>\n",
       "      <td>2000.000000</td>\n",
       "    </tr>\n",
       "    <tr>\n",
       "      <th>mean</th>\n",
       "      <td>1000.500000</td>\n",
       "      <td>374.500000</td>\n",
       "    </tr>\n",
       "    <tr>\n",
       "      <th>std</th>\n",
       "      <td>577.494589</td>\n",
       "      <td>103.247664</td>\n",
       "    </tr>\n",
       "    <tr>\n",
       "      <th>min</th>\n",
       "      <td>1.000000</td>\n",
       "      <td>250.000000</td>\n",
       "    </tr>\n",
       "    <tr>\n",
       "      <th>25%</th>\n",
       "      <td>500.750000</td>\n",
       "      <td>250.000000</td>\n",
       "    </tr>\n",
       "    <tr>\n",
       "      <th>50%</th>\n",
       "      <td>1000.500000</td>\n",
       "      <td>300.000000</td>\n",
       "    </tr>\n",
       "    <tr>\n",
       "      <th>75%</th>\n",
       "      <td>1500.250000</td>\n",
       "      <td>450.000000</td>\n",
       "    </tr>\n",
       "    <tr>\n",
       "      <th>max</th>\n",
       "      <td>2000.000000</td>\n",
       "      <td>500.000000</td>\n",
       "    </tr>\n",
       "  </tbody>\n",
       "</table>\n",
       "</div>"
      ],
      "text/plain": [
       "          id_venda        preco\n",
       "count  2000.000000  2000.000000\n",
       "mean   1000.500000   374.500000\n",
       "std     577.494589   103.247664\n",
       "min       1.000000   250.000000\n",
       "25%     500.750000   250.000000\n",
       "50%    1000.500000   300.000000\n",
       "75%    1500.250000   450.000000\n",
       "max    2000.000000   500.000000"
      ]
     },
     "execution_count": 6,
     "metadata": {},
     "output_type": "execute_result"
    }
   ],
   "source": [
    "df_vendas.describe()"
   ]
  },
  {
   "attachments": {},
   "cell_type": "markdown",
   "id": "cda83ff3",
   "metadata": {},
   "source": [
    "### .info"
   ]
  },
  {
   "cell_type": "code",
   "execution_count": 7,
   "id": "a9074b29",
   "metadata": {},
   "outputs": [
    {
     "name": "stdout",
     "output_type": "stream",
     "text": [
      "<class 'pandas.core.frame.DataFrame'>\n",
      "RangeIndex: 2000 entries, 0 to 1999\n",
      "Data columns (total 9 columns):\n",
      " #   Column           Non-Null Count  Dtype \n",
      "---  ------           --------------  ----- \n",
      " 0   data             2000 non-null   object\n",
      " 1   id_venda         2000 non-null   int64 \n",
      " 2   filial           2000 non-null   object\n",
      " 3   vendedor         2000 non-null   object\n",
      " 4   produto          2000 non-null   object\n",
      " 5   cliente_nome     2000 non-null   object\n",
      " 6   cliente_genero   2000 non-null   object\n",
      " 7   forma_pagamento  2000 non-null   object\n",
      " 8   preco            2000 non-null   int64 \n",
      "dtypes: int64(2), object(7)\n",
      "memory usage: 140.8+ KB\n"
     ]
    }
   ],
   "source": [
    "df_vendas.info()"
   ]
  },
  {
   "attachments": {},
   "cell_type": "markdown",
   "id": "f3faa218",
   "metadata": {},
   "source": [
    "## Contando valores únicos"
   ]
  },
  {
   "cell_type": "code",
   "execution_count": 10,
   "id": "de815ac0",
   "metadata": {},
   "outputs": [
    {
     "data": {
      "text/plain": [
       "filial\n",
       "Florianópolis    356\n",
       "Canoas           354\n",
       "Caxias do Sul    333\n",
       "São Paulo        325\n",
       "Lajeado          318\n",
       "Porto Alegre     314\n",
       "Name: count, dtype: int64"
      ]
     },
     "execution_count": 10,
     "metadata": {},
     "output_type": "execute_result"
    }
   ],
   "source": [
    "df_vendas['filial'].value_counts()"
   ]
  },
  {
   "cell_type": "code",
   "execution_count": 11,
   "id": "b40ddd3a",
   "metadata": {},
   "outputs": [
    {
     "data": {
      "text/plain": [
       "array(['Canoas', 'Florianópolis', 'São Paulo', 'Caxias do Sul', 'Lajeado',\n",
       "       'Porto Alegre'], dtype=object)"
      ]
     },
     "execution_count": 11,
     "metadata": {},
     "output_type": "execute_result"
    }
   ],
   "source": [
    "df_vendas['filial'].unique()"
   ]
  },
  {
   "attachments": {},
   "cell_type": "markdown",
   "id": "a4b54007",
   "metadata": {},
   "source": [
    "## Operações por toda a tabela e por coluna"
   ]
  },
  {
   "cell_type": "code",
   "execution_count": 13,
   "id": "a7c82261",
   "metadata": {},
   "outputs": [
    {
     "data": {
      "text/plain": [
       "data               2023-01-12 07:42:38.3113042023-01-12 08:21:37....\n",
       "id_venda                                                     2001000\n",
       "filial             CanoasFlorianópolisSão PauloFlorianópolisCanoa...\n",
       "vendedor           Luis FernandoClaudia dos SantosCassia MoraesMa...\n",
       "produto            Tenis NikeTenis AdidasTenis FilaTenis NikeTeni...\n",
       "cliente_nome       Anthony MoonBud LoughlinGonzalo KroesLisa Thom...\n",
       "cliente_genero     masculinomasculinomasculinofemininomasculinofe...\n",
       "forma_pagamento    creditopixcreditocreditocreditocreditocreditoc...\n",
       "preco                                                         749000\n",
       "dtype: object"
      ]
     },
     "execution_count": 13,
     "metadata": {},
     "output_type": "execute_result"
    }
   ],
   "source": [
    "df_vendas.sum(axis=0)"
   ]
  },
  {
   "cell_type": "code",
   "execution_count": 16,
   "id": "53ffa5fe",
   "metadata": {},
   "outputs": [
    {
     "data": {
      "text/plain": [
       "749000"
      ]
     },
     "execution_count": 16,
     "metadata": {},
     "output_type": "execute_result"
    }
   ],
   "source": [
    "df_vendas['preco'].sum()"
   ]
  },
  {
   "cell_type": "code",
   "execution_count": 17,
   "id": "b89c931f",
   "metadata": {},
   "outputs": [
    {
     "data": {
      "text/plain": [
       "374.5"
      ]
     },
     "execution_count": 17,
     "metadata": {},
     "output_type": "execute_result"
    }
   ],
   "source": [
    "df_vendas['preco'].mean()"
   ]
  },
  {
   "cell_type": "code",
   "execution_count": 19,
   "id": "7a59e48a",
   "metadata": {},
   "outputs": [
    {
     "data": {
      "text/plain": [
       "300.0"
      ]
     },
     "execution_count": 19,
     "metadata": {},
     "output_type": "execute_result"
    }
   ],
   "source": [
    "df_vendas['preco'].median()"
   ]
  },
  {
   "cell_type": "code",
   "execution_count": 20,
   "id": "432eabd5",
   "metadata": {},
   "outputs": [
    {
     "data": {
      "text/plain": [
       "500"
      ]
     },
     "execution_count": 20,
     "metadata": {},
     "output_type": "execute_result"
    }
   ],
   "source": [
    "df_vendas['preco'].max()"
   ]
  },
  {
   "cell_type": "code",
   "execution_count": 21,
   "id": "d2ef52b5",
   "metadata": {},
   "outputs": [
    {
     "data": {
      "text/plain": [
       "250"
      ]
     },
     "execution_count": 21,
     "metadata": {},
     "output_type": "execute_result"
    }
   ],
   "source": [
    "df_vendas['preco'].min()"
   ]
  },
  {
   "cell_type": "code",
   "execution_count": 22,
   "id": "1825c9e2",
   "metadata": {},
   "outputs": [
    {
     "data": {
      "text/plain": [
       "2000"
      ]
     },
     "execution_count": 22,
     "metadata": {},
     "output_type": "execute_result"
    }
   ],
   "source": [
    "df_vendas['preco'].count()"
   ]
  },
  {
   "cell_type": "code",
   "execution_count": null,
   "id": "779f73f7",
   "metadata": {},
   "outputs": [],
   "source": []
  }
 ],
 "metadata": {
  "kernelspec": {
   "display_name": "Python 3 (ipykernel)",
   "language": "python",
   "name": "python3"
  },
  "language_info": {
   "codemirror_mode": {
    "name": "ipython",
    "version": 3
   },
   "file_extension": ".py",
   "mimetype": "text/x-python",
   "name": "python",
   "nbconvert_exporter": "python",
   "pygments_lexer": "ipython3",
   "version": "3.11.3"
  }
 },
 "nbformat": 4,
 "nbformat_minor": 5
}
