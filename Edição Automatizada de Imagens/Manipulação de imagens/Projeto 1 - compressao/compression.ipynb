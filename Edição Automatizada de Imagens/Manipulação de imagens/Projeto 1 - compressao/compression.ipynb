{
 "cells": [
  {
   "cell_type": "code",
   "execution_count": null,
   "id": "f9c538ca-c43b-4717-bf97-595e639d118a",
   "metadata": {},
   "outputs": [],
   "source": [
    "from PIL import Image\n",
    "import os"
   ]
  },
  {
   "cell_type": "code",
   "execution_count": null,
   "id": "2d6dd13d-ba59-460c-8039-02a4b2ec0e9f",
   "metadata": {},
   "outputs": [],
   "source": [
    "reduct_fact = 0.5"
   ]
  },
  {
   "cell_type": "code",
   "execution_count": null,
   "id": "4eadbe46-fd5b-4e30-af4a-182b7f3ca049",
   "metadata": {},
   "outputs": [],
   "source": [
    "compressed_path = \"compressed_images\""
   ]
  },
  {
   "cell_type": "code",
   "execution_count": null,
   "id": "a6b7bcc9-cfe6-494b-9195-24d774b3847f",
   "metadata": {},
   "outputs": [],
   "source": [
    "if compressed_path not in os.listdir():\n",
    "    os.mkdir(compressed_path)"
   ]
  },
  {
   "cell_type": "code",
   "execution_count": null,
   "id": "6e68cfa9-de5f-49f4-8e55-06d49aca78fd",
   "metadata": {},
   "outputs": [],
   "source": [
    "files_path = 'fotos'"
   ]
  },
  {
   "cell_type": "code",
   "execution_count": null,
   "id": "6b19bf0c-473a-4e49-afa4-7fb4cf022c92",
   "metadata": {},
   "outputs": [],
   "source": [
    "files = [i for i in os.listdir(files_path) if 'jpg' in i]"
   ]
  },
  {
   "cell_type": "code",
   "execution_count": null,
   "id": "c6b734be-2e95-417f-8148-01acfd2f1b5c",
   "metadata": {},
   "outputs": [
    {
     "data": {
      "text/plain": [
       "['sound-system-1-1420284.jpg',\n",
       " 'mam-calatrava-building-3-1551289.jpg',\n",
       " 'segunda_imagem.jpg',\n",
       " 'escritorio.jpg',\n",
       " 'branco.jpg',\n",
       " 'lion-dance-1418469.jpg',\n",
       " 'female-portrait-1437999.jpg',\n",
       " 'computer-and-apple-1241514.jpg',\n",
       " 'art-1419766.jpg',\n",
       " 'dancing-art-1423697.jpg']"
      ]
     },
     "execution_count": 8,
     "metadata": {},
     "output_type": "execute_result"
    }
   ],
   "source": [
    "files"
   ]
  },
  {
   "cell_type": "code",
   "execution_count": null,
   "id": "1b497af4-7c02-40f0-bf49-39765bb8185a",
   "metadata": {},
   "outputs": [],
   "source": [
    "size_antes = 0  # Bytes - para ser em MegaBytes, /(1024*1024)"
   ]
  },
  {
   "cell_type": "code",
   "execution_count": null,
   "id": "55db8f3b-4aa1-4d20-8148-bacb59aa0c51",
   "metadata": {},
   "outputs": [],
   "source": [
    "size_depois = 0"
   ]
  },
  {
   "cell_type": "code",
   "execution_count": null,
   "id": "8efd4b09-2313-450c-9934-1ae5e907ccc7",
   "metadata": {},
   "outputs": [
    {
     "name": "stderr",
     "output_type": "stream",
     "text": [
      "<ipython-input-11-5017d5933a84>:14: DeprecationWarning: ANTIALIAS is deprecated and will be removed in Pillow 10 (2023-07-01). Use Resampling.LANCZOS instead.\n",
      "  img = img.resize((new_w, new_h), Image.ANTIALIAS)\n"
     ]
    },
    {
     "name": "stdout",
     "output_type": "stream",
     "text": [
      "Tamanho Anterior (Mb): 4.601291656494141\n",
      "Tamanho Comprimido (Mb): 1.4486885070800781\n",
      "Diferença de 3.1526031494140625 Megabytes\n",
      "Reduzido o tamanho das files em 68.52%\n"
     ]
    }
   ],
   "source": [
    "for file in files:\n",
    "    # Tamanho anterior, para questoes de feedback\n",
    "    file_path = os.path.join(files_path, file)\n",
    "    new_path = os.path.join(compressed_path, file)\n",
    "\n",
    "    file_stats = os.stat(file_path)\n",
    "    size_antes += file_stats.st_size\n",
    "\n",
    "    # Comprimindo a imagem\n",
    "    img = Image.open(file_path)\n",
    "\n",
    "    new_w = int(reduct_fact * img.size[0])\n",
    "    new_h = int(reduct_fact * img.size[1])\n",
    "    img = img.resize((new_w, new_h), Image.ANTIALIAS)\n",
    "\n",
    "    img.save(new_path, 'JPEG', optimize=True, quality=95)\n",
    "\n",
    "    file_stats = os.stat(new_path)\n",
    "    size_depois += file_stats.st_size\n",
    "\n",
    "# Imprimindo os resultados\n",
    "diferenca = (size_antes - size_depois)/(1024*1024)\n",
    "percent = 100*diferenca/size_antes*(1024*1024)\n",
    "print(f\"Tamanho Anterior (Mb): {size_antes/(1024*1024)}\\nTamanho Comprimido (Mb): {size_depois/(1024*1024)}\")\n",
    "print(f\"Diferença de {diferenca} Megabytes\")\n",
    "print(f\"Reduzido o tamanho das files em {round(percent,2)}%\")"
   ]
  },
  {
   "cell_type": "code",
   "execution_count": null,
   "id": "66bd7f2e-d969-43cd-8560-25323277b0e8",
   "metadata": {},
   "outputs": [],
   "source": [
    "file_path = os.path.join(files_path, file)"
   ]
  },
  {
   "cell_type": "code",
   "execution_count": null,
   "id": "8fc8dd21-7d99-4298-a9cb-656ab89aa8f7",
   "metadata": {},
   "outputs": [
    {
     "data": {
      "text/plain": [
       "'fotos/dancing-art-1423697.jpg'"
      ]
     },
     "execution_count": 13,
     "metadata": {},
     "output_type": "execute_result"
    }
   ],
   "source": [
    "file_path"
   ]
  },
  {
   "cell_type": "code",
   "execution_count": null,
   "id": "ec9cf6ec-bea8-4ea6-8c1b-7a8b0dbdfda4",
   "metadata": {},
   "outputs": [],
   "source": [
    "new_path = os.path.join(compressed_path, file)"
   ]
  },
  {
   "cell_type": "code",
   "execution_count": null,
   "id": "fae4d8ec-e69d-4fd0-89bf-a242b5f51569",
   "metadata": {},
   "outputs": [
    {
     "data": {
      "text/plain": [
       "'compressed_images/dancing-art-1423697.jpg'"
      ]
     },
     "execution_count": 15,
     "metadata": {},
     "output_type": "execute_result"
    }
   ],
   "source": [
    "new_path"
   ]
  },
  {
   "cell_type": "code",
   "execution_count": null,
   "id": "ba43c9f2-0f48-4421-b4ad-74929379a7a8",
   "metadata": {},
   "outputs": [],
   "source": [
    "file_stats = os.stat(file_path)"
   ]
  },
  {
   "cell_type": "code",
   "execution_count": null,
   "id": "6c58a9d6-f82b-4123-9916-3aa94dadab9d",
   "metadata": {},
   "outputs": [
    {
     "data": {
      "text/plain": [
       "os.stat_result(st_mode=33204, st_ino=1450277, st_dev=2057, st_nlink=1, st_uid=1001, st_gid=1001, st_size=155187, st_atime=1743190925, st_mtime=1743190888, st_ctime=1743190888)"
      ]
     },
     "execution_count": 17,
     "metadata": {},
     "output_type": "execute_result"
    }
   ],
   "source": [
    "file_stats"
   ]
  },
  {
   "cell_type": "code",
   "execution_count": null,
   "metadata": {},
   "outputs": [
    {
     "name": "stdout",
     "output_type": "stream",
     "text": [
      "os.stat_result(st_mode=33204, st_ino=1450277, st_dev=2057, st_nlink=1, st_uid=1001, st_gid=1001, st_size=155187, st_atime=1743190925, st_mtime=1743190888, st_ctime=1743190888)\n"
     ]
    }
   ],
   "source": [
    "print(file_stats)"
   ]
  },
  {
   "cell_type": "code",
   "execution_count": null,
   "id": "36303f97-9601-4f04-920f-827a7ad3effe",
   "metadata": {},
   "outputs": [
    {
     "data": {
      "text/plain": [
       "155187"
      ]
     },
     "execution_count": 19,
     "metadata": {},
     "output_type": "execute_result"
    }
   ],
   "source": [
    "file_stats.st_size"
   ]
  },
  {
   "cell_type": "code",
   "execution_count": null,
   "id": "967edd84-3e96-45fd-aa5b-a60f7728ffbc",
   "metadata": {},
   "outputs": [],
   "source": [
    "size_antes += file_stats.st_size"
   ]
  },
  {
   "cell_type": "code",
   "execution_count": null,
   "id": "88455d18-2e83-47ac-9946-5a8dd453fceb",
   "metadata": {},
   "outputs": [
    {
     "data": {
      "text/plain": [
       "4979991"
      ]
     },
     "execution_count": 21,
     "metadata": {},
     "output_type": "execute_result"
    }
   ],
   "source": [
    "size_antes"
   ]
  },
  {
   "cell_type": "code",
   "execution_count": null,
   "id": "31c6f74f-15f9-4692-82a2-84ae810cce0a",
   "metadata": {},
   "outputs": [],
   "source": [
    "new_w = int(reduct_fact * img.size[0])"
   ]
  },
  {
   "cell_type": "code",
   "execution_count": null,
   "id": "f197dc0a-2ba3-42a4-92ca-1165561cd54e",
   "metadata": {},
   "outputs": [],
   "source": [
    "new_h = int(reduct_fact * img.size[1])"
   ]
  },
  {
   "cell_type": "code",
   "execution_count": null,
   "id": "b9eb7f06-8fbb-44eb-8fad-e2c6a4f7a2ce",
   "metadata": {},
   "outputs": [
    {
     "name": "stderr",
     "output_type": "stream",
     "text": [
      "<ipython-input-24-eeb2b87d6d1e>:1: DeprecationWarning: ANTIALIAS is deprecated and will be removed in Pillow 10 (2023-07-01). Use Resampling.LANCZOS instead.\n",
      "  img = img.resize((new_w, new_h), Image.ANTIALIAS) # resample com o minimo possivel de distorção\n"
     ]
    }
   ],
   "source": [
    "img = img.resize((new_w, new_h), Image.ANTIALIAS) # resample com o minimo possivel de distorção"
   ]
  },
  {
   "cell_type": "code",
   "execution_count": null,
   "id": "6cc25eb1-1f01-4ff3-8c49-224306a5c0fb",
   "metadata": {},
   "outputs": [],
   "source": [
    "img.save(new_path, 'JPEG', optimize=True, quality=95)# otimização de compressão e percentual de qualidade desejado no fim dessa imagem"
   ]
  },
  {
   "cell_type": "code",
   "execution_count": null,
   "id": "17311d4c-94bd-43fe-ae84-0c33aeeec4f2",
   "metadata": {},
   "outputs": [],
   "source": [
    "file_stats = os.stat(new_path)"
   ]
  },
  {
   "cell_type": "code",
   "execution_count": null,
   "id": "f8150647-f718-4d14-aa99-625016c4305f",
   "metadata": {},
   "outputs": [],
   "source": [
    "size_depois += file_stats.st_size"
   ]
  }
 ],
 "metadata": {
  "language_info": {
   "codemirror_mode": {
    "name": "ipython",
    "version": 3
   },
   "file_extension": ".py",
   "mimetype": "text/x-python",
   "name": "python",
   "nbconvert_exporter": "python",
   "pygments_lexer": "ipython3",
   "version": 3
  }
 },
 "nbformat": 4,
 "nbformat_minor": 2
}
