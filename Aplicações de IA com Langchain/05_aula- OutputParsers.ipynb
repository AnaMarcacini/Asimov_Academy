{
 "cells": [
  {
   "attachments": {},
   "cell_type": "markdown",
   "id": "13d7fc40",
   "metadata": {},
   "source": [
    "# Output Parsers"
   ]
  },
  {
   "attachments": {},
   "cell_type": "markdown",
   "id": "06a1c63e",
   "metadata": {},
   "source": [
    "Os analisadores de saída são responsáveis por pegar a saída de um LLM e transformá-la em um formato mais adequado. Isso é muito útil quando você está usando LLMs para gerar qualquer forma de dados estruturados."
   ]
  },
  {
   "attachments": {},
   "cell_type": "markdown",
   "id": "ce3864c4",
   "metadata": {},
   "source": [
    "Digamos que temos a seguinte review de um produto:\n",
    "\n",
    "> \"Este soprador de folhas é bastante incrível. Ele tem quatro configurações: sopro de vela, brisa suave, cidade ventosa e tornado. Chegou em dois dias, bem a tempo para o presente de aniversário da minha esposa. Acho que minha esposa gostou tanto que ficou sem palavras. Até agora, fui o único a usá-lo, e tenho usado em todas as manhãs alternadas para limpar as folhas do nosso gramado. É um pouco mais caro do que os outros sopradores de folhas disponíveis no mercado, mas acho que vale a pena pelas características extras.\"\n",
    "\n",
    "E eu quero que o modelo de linguagem processe esta review para estruturá-la no seguinte formato:\n",
    "\n",
    "```json\n",
    "{\n",
    "  \"presente\": true,\n",
    "  \"dias_entrega\": 2,\n",
    "  \"percepcao_de_valor\": [\"um pouco mais caro do que os outros sopradores de folhas disponíveis no mercado\"]\n",
    "}\n",
    "\n",
    "```\n",
    "\n"
   ]
  },
  {
   "cell_type": "code",
   "execution_count": 11,
   "id": "c8cb7041",
   "metadata": {},
   "outputs": [
    {
     "name": "stdout",
     "output_type": "stream",
     "text": [
      "[HumanMessage(content='\\nPara o texto a seguir, extraia as seguintes informações:\\n\\npresente: O item foi comprado para algém? True caso verdadeiro\\ne False caso falos ou não tenha a infomação.\\n\\ndias_entrega: Quantos dias para a entrega chegar?\\nSe a resposta não for encontrada, retorne -1.\\n\\npercepcao_de_valor: Extraia qualquer frase sobre o \\nvalor ou preço do produto. Retorne como uma lista\\nde Python.\\n\\nTexto: Este soprador de folhas é bastante incrível. Ele tem \\nquatro configurações: sopro de vela, brisa suave, cidade ventosa \\ne tornado. Chegou em dois dias, bem a tempo para o presente de \\naniversário da minha esposa. Acho que minha esposa gostou tanto \\nque ficou sem palavras. Até agora, fui o único a usá-lo, e tenho \\nusado em todas as manhãs alternadas para limpar as folhas do \\nnosso gramado. É um pouco mais caro do que os outros sopradores \\nde folhas disponíveis no mercado, mas acho que vale a pena pelas \\ncaracterísticas extras.\\n\\nRetorn a respostra no formato JSON\\n')]\n"
     ]
    }
   ],
   "source": [
    "review_cliente = \"\"\"Este soprador de folhas é bastante incrível. Ele tem \n",
    "quatro configurações: sopro de vela, brisa suave, cidade ventosa \n",
    "e tornado. Chegou em dois dias, bem a tempo para o presente de \n",
    "aniversário da minha esposa. Acho que minha esposa gostou tanto \n",
    "que ficou sem palavras. Até agora, fui o único a usá-lo, e tenho \n",
    "usado em todas as manhãs alternadas para limpar as folhas do \n",
    "nosso gramado. É um pouco mais caro do que os outros sopradores \n",
    "de folhas disponíveis no mercado, mas acho que vale a pena pelas \n",
    "características extras.\"\"\"\n",
    "\n",
    "\n",
    "from langchain.prompts import ChatPromptTemplate\n",
    "\n",
    "review_template = ChatPromptTemplate.from_template(\"\"\"\n",
    "Para o texto a seguir, extraia as seguintes informações:\n",
    "\n",
    "presente: O item foi comprado para algém? True caso verdadeiro\n",
    "e False caso falos ou não tenha a infomação.\n",
    "\n",
    "dias_entrega: Quantos dias para a entrega chegar?\n",
    "Se a resposta não for encontrada, retorne -1.\n",
    "\n",
    "percepcao_de_valor: Extraia qualquer frase sobre o \n",
    "valor ou preço do produto. Retorne como uma lista\n",
    "de Python.\n",
    "\n",
    "Texto: {review}\n",
    "\n",
    "Retorn a respostra no formato JSON\n",
    "\"\"\")\n",
    "\n",
    "print(review_template.format_messages(review=review_cliente))"
   ]
  },
  {
   "cell_type": "code",
   "execution_count": 12,
   "id": "59a4c5b5",
   "metadata": {},
   "outputs": [],
   "source": [
    "from langchain_openai.chat_models import ChatOpenAI\n",
    "\n",
    "chat = ChatOpenAI()\n",
    "resposta = chat.invoke(review_template.format_messages(review=review_cliente))"
   ]
  },
  {
   "cell_type": "code",
   "execution_count": 1,
   "id": "6c2a369d",
   "metadata": {},
   "outputs": [],
   "source": [
    "# resposta.content['presente'] -> erro precisa parsear"
   ]
  },
  {
   "cell_type": "code",
   "execution_count": 5,
   "id": "ee816d19",
   "metadata": {},
   "outputs": [
    {
     "name": "stdout",
     "output_type": "stream",
     "text": [
      "{\n",
      "    \"presente\": true,\n",
      "    \"dias_entrega\": 2,\n",
      "    \"percepcao_de_valor\": [\"É um pouco mais caro do que os outros sopradores de folhas disponíveis no mercado, mas acho que vale a pena pelas características extras.\"]\n",
      "}\n"
     ]
    }
   ],
   "source": [
    "print(resposta.content)"
   ]
  },
  {
   "cell_type": "code",
   "execution_count": 6,
   "id": "c6594f2b",
   "metadata": {},
   "outputs": [],
   "source": [
    "from langchain.output_parsers import ResponseSchema\n",
    "from langchain.output_parsers import StructuredOutputParser"
   ]
  },
  {
   "cell_type": "code",
   "execution_count": 7,
   "id": "c2978b9d",
   "metadata": {},
   "outputs": [
    {
     "name": "stdout",
     "output_type": "stream",
     "text": [
      "The output should be a markdown code snippet formatted in the following schema, including the leading and trailing \"```json\" and \"```\":\n",
      "\n",
      "```json\n",
      "{\n",
      "\t\"presente\": bool  // O item foi comprado para algém? True caso verdadeiro e False caso falos ou não tenha a infomação.\n",
      "\t\"dias_entrega\": int  // Quantos dias para a entrega chegar?Se a resposta não for encontrada, retorne -1.\n",
      "\t\"percepcao_de_valor\": list  // Extraia qualquer frase sobre o valor ou preço do produto. Retorne como uma lista de Python.\n",
      "}\n",
      "```\n"
     ]
    }
   ],
   "source": [
    "schema_presente = ResponseSchema(\n",
    "    name='presente',\n",
    "    type='bool',\n",
    "    description='O item foi comprado para algém? True caso verdadeiro \\\n",
    "e False caso falos ou não tenha a infomação.'\n",
    ")\n",
    "\n",
    "schema_entrega = ResponseSchema(\n",
    "    name='dias_entrega',\n",
    "    type='int',\n",
    "    description='Quantos dias para a entrega chegar?\\\n",
    "Se a resposta não for encontrada, retorne -1.'\n",
    ")\n",
    "\n",
    "schema_valor = ResponseSchema(\n",
    "    name='percepcao_de_valor',\n",
    "    type='list',\n",
    "    description='Extraia qualquer frase sobre o \\\n",
    "valor ou preço do produto. Retorne como uma lista \\\n",
    "de Python.'\n",
    ")\n",
    "\n",
    "response_schema = [schema_presente,\n",
    "                   schema_entrega,\n",
    "                   schema_valor]\n",
    "output_parser = StructuredOutputParser.from_response_schemas(response_schema)\n",
    "schema_formatado = output_parser.get_format_instructions()\n",
    "print(schema_formatado)"
   ]
  },
  {
   "cell_type": "code",
   "execution_count": 16,
   "id": "ccc7c98c",
   "metadata": {},
   "outputs": [
    {
     "name": "stdout",
     "output_type": "stream",
     "text": [
      "[HumanMessage(content='\\nPara o texto a seguir, extraia as seguintes informações:\\n\\npresente, dias_entrega e percepcao_de_valor\\n\\nTexto: Este soprador de folhas é bastante incrível. Ele tem \\nquatro configurações: sopro de vela, brisa suave, cidade ventosa \\ne tornado. Chegou em dois dias, bem a tempo para o presente de \\naniversário da minha esposa. Acho que minha esposa gostou tanto \\nque ficou sem palavras. Até agora, fui o único a usá-lo, e tenho \\nusado em todas as manhãs alternadas para limpar as folhas do \\nnosso gramado. É um pouco mais caro do que os outros sopradores \\nde folhas disponíveis no mercado, mas acho que vale a pena pelas \\ncaracterísticas extras.\\n\\nThe output should be a markdown code snippet formatted in the following schema, including the leading and trailing \"```json\" and \"```\":\\n\\n```json\\n{\\n\\t\"presente\": bool  // O item foi comprado para algém? True caso verdadeiro e False caso falos ou não tenha a infomação.\\n\\t\"dias_entrega\": int  // Quantos dias para a entrega chegar?Se a resposta não for encontrada, retorne -1.\\n\\t\"percepcao_de_valor\": list  // Extraia qualquer frase sobre o valor ou preço do produto. Retorne como uma lista de Python.\\n}\\n```\\n')]\n"
     ]
    }
   ],
   "source": [
    "\n",
    "from langchain.prompts import ChatPromptTemplate\n",
    "\n",
    "review_template = ChatPromptTemplate.from_template(\"\"\"\n",
    "Para o texto a seguir, extraia as seguintes informações:\n",
    "\n",
    "presente, dias_entrega e percepcao_de_valor\n",
    "\n",
    "Texto: {review}\n",
    "\n",
    "{schema}\n",
    "\"\"\", partial_variables={'schema': schema_formatado})\n",
    "\n",
    "print(review_template.format_messages(review=review_cliente))"
   ]
  },
  {
   "cell_type": "code",
   "execution_count": 17,
   "id": "207329ca",
   "metadata": {},
   "outputs": [
    {
     "data": {
      "text/plain": [
       "AIMessage(content='```json\\n{\\n\\t\"presente\": true,\\n\\t\"dias_entrega\": 2,\\n\\t\"percepcao_de_valor\": [\"É um pouco mais caro do que os outros sopradores de folhas disponíveis no mercado, mas acho que vale a pena pelas características extras.\"]\\n}\\n```', response_metadata={'token_usage': {'completion_tokens': 63, 'prompt_tokens': 320, 'total_tokens': 383}, 'model_name': 'gpt-3.5-turbo', 'system_fingerprint': 'fp_c2295e73ad', 'finish_reason': 'stop', 'logprobs': None}, id='run-db4d9066-b4f7-4b82-a318-82e9957a9c89-0')"
      ]
     },
     "execution_count": 17,
     "metadata": {},
     "output_type": "execute_result"
    }
   ],
   "source": [
    "from langchain_openai.chat_models import ChatOpenAI\n",
    "\n",
    "chat = ChatOpenAI()\n",
    "resposta = chat.invoke(review_template.format_messages(review=review_cliente))\n",
    "resposta"
   ]
  },
  {
   "cell_type": "code",
   "execution_count": 18,
   "id": "a33837e1",
   "metadata": {},
   "outputs": [
    {
     "name": "stdout",
     "output_type": "stream",
     "text": [
      "```json\n",
      "{\n",
      "\t\"presente\": true,\n",
      "\t\"dias_entrega\": 2,\n",
      "\t\"percepcao_de_valor\": [\"É um pouco mais caro do que os outros sopradores de folhas disponíveis no mercado, mas acho que vale a pena pelas características extras.\"]\n",
      "}\n",
      "```\n"
     ]
    }
   ],
   "source": [
    "print(resposta.content)"
   ]
  },
  {
   "cell_type": "code",
   "execution_count": 19,
   "id": "c2153ece",
   "metadata": {},
   "outputs": [],
   "source": [
    "resposta_json = output_parser.parse(resposta.content)"
   ]
  },
  {
   "cell_type": "code",
   "execution_count": 21,
   "id": "2c8be001",
   "metadata": {},
   "outputs": [
    {
     "data": {
      "text/plain": [
       "True"
      ]
     },
     "execution_count": 21,
     "metadata": {},
     "output_type": "execute_result"
    }
   ],
   "source": [
    "resposta_json['presente']"
   ]
  },
  {
   "cell_type": "code",
   "execution_count": 22,
   "id": "5c47313b",
   "metadata": {},
   "outputs": [
    {
     "data": {
      "text/plain": [
       "2"
      ]
     },
     "execution_count": 22,
     "metadata": {},
     "output_type": "execute_result"
    }
   ],
   "source": [
    "resposta_json['dias_entrega']"
   ]
  },
  {
   "cell_type": "code",
   "execution_count": 23,
   "id": "472641e0",
   "metadata": {},
   "outputs": [
    {
     "data": {
      "text/plain": [
       "['É um pouco mais caro do que os outros sopradores de folhas disponíveis no mercado, mas acho que vale a pena pelas características extras.']"
      ]
     },
     "execution_count": 23,
     "metadata": {},
     "output_type": "execute_result"
    }
   ],
   "source": [
    "resposta_json['percepcao_de_valor']"
   ]
  },
  {
   "cell_type": "code",
   "execution_count": null,
   "id": "d2c5c575",
   "metadata": {},
   "outputs": [],
   "source": []
  }
 ],
 "metadata": {
  "kernelspec": {
   "display_name": ".venv",
   "language": "python",
   "name": "python3"
  },
  "language_info": {
   "codemirror_mode": {
    "name": "ipython",
    "version": 3
   },
   "file_extension": ".py",
   "mimetype": "text/x-python",
   "name": "python",
   "nbconvert_exporter": "python",
   "pygments_lexer": "ipython3",
   "version": "3.10.12"
  }
 },
 "nbformat": 4,
 "nbformat_minor": 5
}
