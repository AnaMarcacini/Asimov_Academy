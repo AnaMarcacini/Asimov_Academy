{
 "cells": [
  {
   "attachments": {},
   "cell_type": "markdown",
   "id": "13d7fc40",
   "metadata": {},
   "source": [
    "# Chain"
   ]
  },
  {
   "attachments": {},
   "cell_type": "markdown",
   "id": "aa13195e",
   "metadata": {},
   "source": [
    "## ConversationChain"
   ]
  },
  {
   "cell_type": "code",
   "execution_count": 2,
   "id": "8a397f6d",
   "metadata": {},
   "outputs": [
    {
     "name": "stdout",
     "output_type": "stream",
     "text": [
      "\n",
      "\n",
      "\u001b[1m> Entering new ConversationChain chain...\u001b[0m\n",
      "Prompt after formatting:\n",
      "\u001b[32;1m\u001b[1;3mThe following is a friendly conversation between a human and an AI. The AI is talkative and provides lots of specific details from its context. If the AI does not know the answer to a question, it truthfully says it does not know.\n",
      "\n",
      "Current conversation:\n",
      "\n",
      "Human: Oi\n",
      "AI:\u001b[0m\n",
      "\n",
      "\u001b[1m> Finished chain.\u001b[0m\n"
     ]
    },
    {
     "data": {
      "text/plain": [
       "'Hello! How can I assist you today?'"
      ]
     },
     "execution_count": 2,
     "metadata": {},
     "output_type": "execute_result"
    }
   ],
   "source": [
    "from langchain_openai.chat_models import ChatOpenAI\n",
    "from langchain.memory import ConversationBufferMemory\n",
    "from langchain.chains.conversation.base import ConversationChain\n",
    "\n",
    "chat = ChatOpenAI(model='gpt-3.5-turbo-0125')\n",
    "memory = ConversationBufferMemory()\n",
    "chain = ConversationChain(\n",
    "    llm=chat,\n",
    "    memory=memory,\n",
    "    verbose=True\n",
    ")\n",
    "\n",
    "chain.predict(input='Oi')"
   ]
  },
  {
   "cell_type": "code",
   "execution_count": 3,
   "id": "a80a12dc",
   "metadata": {},
   "outputs": [
    {
     "name": "stdout",
     "output_type": "stream",
     "text": [
      "\n",
      "\n",
      "\u001b[1m> Entering new ConversationChain chain...\u001b[0m\n",
      "Prompt after formatting:\n",
      "\u001b[32;1m\u001b[1;3mThe following is a friendly conversation between a human and an AI. The AI is talkative and provides lots of specific details from its context. If the AI does not know the answer to a question, it truthfully says it does not know.\n",
      "\n",
      "Current conversation:\n",
      "Human: Oi\n",
      "AI: Hello! How can I assist you today?\n",
      "Human: Oi\n",
      "AI:\u001b[0m\n",
      "\n",
      "\u001b[1m> Finished chain.\u001b[0m\n"
     ]
    },
    {
     "data": {
      "text/plain": [
       "'Hello again! How can I help you today?'"
      ]
     },
     "execution_count": 3,
     "metadata": {},
     "output_type": "execute_result"
    }
   ],
   "source": [
    "chain.run('Oi')"
   ]
  },
  {
   "cell_type": "code",
   "execution_count": 7,
   "id": "8d6aa437",
   "metadata": {},
   "outputs": [
    {
     "name": "stdout",
     "output_type": "stream",
     "text": [
      "\n",
      "\n",
      "\u001b[1m> Entering new ConversationChain chain...\u001b[0m\n",
      "Prompt after formatting:\n",
      "\u001b[32;1m\u001b[1;3m\n",
      "Essa é uma conversa amigável entre um humano e uma IA.\n",
      "\n",
      "Conversa atual:\n",
      "\n",
      "\n",
      "Human: Oi\n",
      "Ai:\u001b[0m\n",
      "\n",
      "\u001b[1m> Finished chain.\u001b[0m\n"
     ]
    },
    {
     "data": {
      "text/plain": [
       "'Oi! Como posso te ajudar hoje?'"
      ]
     },
     "execution_count": 7,
     "metadata": {},
     "output_type": "execute_result"
    }
   ],
   "source": [
    "from langchain.prompts import PromptTemplate\n",
    "\n",
    "prompt_template = PromptTemplate.from_template(\n",
    "'''\n",
    "Essa é uma conversa amigável entre um humano e uma IA.\n",
    "\n",
    "Conversa atual:\n",
    "\n",
    "{history}\n",
    "Human: {input}\n",
    "Ai:''')\n",
    "\n",
    "chat = ChatOpenAI(model='gpt-3.5-turbo-0125')\n",
    "memory = ConversationBufferMemory()\n",
    "chain = ConversationChain(\n",
    "    prompt=prompt_template,\n",
    "    llm=chat,\n",
    "    memory=memory,\n",
    "    verbose=True\n",
    ")\n",
    "\n",
    "chain.predict(input='Oi')\n"
   ]
  },
  {
   "cell_type": "code",
   "execution_count": 8,
   "id": "0354a2cb",
   "metadata": {},
   "outputs": [
    {
     "name": "stdout",
     "output_type": "stream",
     "text": [
      "\n",
      "\n",
      "\u001b[1m> Entering new ConversationChain chain...\u001b[0m\n",
      "Prompt after formatting:\n",
      "\u001b[32;1m\u001b[1;3m\n",
      "Essa é uma conversa amigável entre um humano e uma IA.\n",
      "\n",
      "Conversa atual:\n",
      "\n",
      "Human: Oi\n",
      "AI: Oi! Como posso te ajudar hoje?\n",
      "Human: Oi de novo\n",
      "Ai:\u001b[0m\n",
      "\n",
      "\u001b[1m> Finished chain.\u001b[0m\n"
     ]
    },
    {
     "data": {
      "text/plain": [
       "'Olá! Estou aqui para conversar ou ajudar com qualquer dúvida que você tenha. Como posso ser útil hoje?'"
      ]
     },
     "execution_count": 8,
     "metadata": {},
     "output_type": "execute_result"
    }
   ],
   "source": [
    "chain.predict(input='Oi de novo')"
   ]
  },
  {
   "attachments": {},
   "cell_type": "markdown",
   "id": "bdefc176",
   "metadata": {},
   "source": [
    "## LLMChain"
   ]
  },
  {
   "cell_type": "code",
   "execution_count": 9,
   "id": "796ca7d3",
   "metadata": {},
   "outputs": [],
   "source": [
    "from langchain_openai.chat_models import ChatOpenAI\n",
    "from langchain.memory import ConversationBufferMemory\n",
    "from langchain.chains.llm import LLMChain\n",
    "\n",
    "chat = ChatOpenAI(model='gpt-3.5-turbo-0125')"
   ]
  },
  {
   "cell_type": "code",
   "execution_count": 12,
   "id": "229b1d00",
   "metadata": {},
   "outputs": [
    {
     "data": {
      "text/plain": [
       "'VidroShield'"
      ]
     },
     "execution_count": 12,
     "metadata": {},
     "output_type": "execute_result"
    }
   ],
   "source": [
    "prompt = PromptTemplate.from_template(\n",
    "'''Qual o melhor nome de empresa para \n",
    "uma empresa que desenvolve o produto: {produto}.\n",
    "Retorne apenas um nome.'''\n",
    ")\n",
    "\n",
    "chain = LLMChain(llm=chat, prompt=prompt)\n",
    "\n",
    "produto = 'Copos de vidro inquebráveis'\n",
    "chain.run(produto)"
   ]
  },
  {
   "attachments": {},
   "cell_type": "markdown",
   "id": "c83eec0b",
   "metadata": {},
   "source": [
    "## SimpleSequentialChain"
   ]
  },
  {
   "cell_type": "code",
   "execution_count": 17,
   "id": "da437362",
   "metadata": {},
   "outputs": [],
   "source": [
    "from langchain.chains import SimpleSequentialChain\n",
    "\n",
    "chat = ChatOpenAI(model='gpt-3.5-turbo-0125')"
   ]
  },
  {
   "cell_type": "code",
   "execution_count": 18,
   "id": "ad26482f",
   "metadata": {},
   "outputs": [],
   "source": [
    "prompt = PromptTemplate.from_template(\n",
    "'''Qual o melhor nome de empresa para \n",
    "uma empresa que desenvolve o produto: {produto}.\n",
    "Retorne apenas um nome.'''\n",
    ")\n",
    "\n",
    "chain_nome = LLMChain(llm=chat, prompt=prompt)\n",
    "\n",
    "prompt_descricao = PromptTemplate.from_template(\n",
    "'''Dado a empresa com o seguinte nome: {nome_empresa}.\n",
    "Dê uma descrição de até 50 palavras das atividades\n",
    "dessa empresa.'''\n",
    ")\n",
    "\n",
    "chain_descricao = LLMChain(llm=chat, prompt=prompt_descricao)\n",
    "\n"
   ]
  },
  {
   "cell_type": "code",
   "execution_count": 19,
   "id": "a8d432ff",
   "metadata": {},
   "outputs": [
    {
     "name": "stdout",
     "output_type": "stream",
     "text": [
      "\n",
      "\n",
      "\u001b[1m> Entering new SimpleSequentialChain chain...\u001b[0m\n",
      "\u001b[36;1m\u001b[1;3mVidro Resistente Ltda.\u001b[0m\n",
      "\u001b[33;1m\u001b[1;3mA Vidro Resistente Ltda. é uma empresa especializada na fabricação e comercialização de produtos de vidro de alta resistência, como vidros blindados, temperados e laminados. Atendendo às necessidades de segurança e proteção, oferece soluções inovadoras e de qualidade para diversos segmentos do mercado.\u001b[0m\n",
      "\n",
      "\u001b[1m> Finished chain.\u001b[0m\n"
     ]
    },
    {
     "data": {
      "text/plain": [
       "'A Vidro Resistente Ltda. é uma empresa especializada na fabricação e comercialização de produtos de vidro de alta resistência, como vidros blindados, temperados e laminados. Atendendo às necessidades de segurança e proteção, oferece soluções inovadoras e de qualidade para diversos segmentos do mercado.'"
      ]
     },
     "execution_count": 19,
     "metadata": {},
     "output_type": "execute_result"
    }
   ],
   "source": [
    "chain = SimpleSequentialChain(\n",
    "    chains=[chain_nome, chain_descricao],\n",
    "    verbose=True\n",
    ")\n",
    "produto = 'Copos de vidro inquebráveis'\n",
    "chain.run(produto)"
   ]
  },
  {
   "attachments": {},
   "cell_type": "markdown",
   "id": "daef8a06",
   "metadata": {},
   "source": [
    "## SequentialChain"
   ]
  },
  {
   "cell_type": "markdown",
   "id": "2c7af1f7",
   "metadata": {},
   "source": [
    "não precisa necessáriamente ser sequencial pode ser parelela"
   ]
  },
  {
   "cell_type": "code",
   "execution_count": 22,
   "id": "2ee34951",
   "metadata": {},
   "outputs": [],
   "source": [
    "from langchain.chains import SequentialChain\n",
    "\n",
    "chat = ChatOpenAI(model='gpt-3.5-turbo-0125')"
   ]
  },
  {
   "cell_type": "code",
   "execution_count": 26,
   "id": "7255e600",
   "metadata": {},
   "outputs": [],
   "source": [
    "prompt = PromptTemplate.from_template(\n",
    "'''Qual o melhor nome de empresa para \n",
    "uma empresa que desenvolve o produto: {produto}.\n",
    "Retorne apenas um nome.'''\n",
    ")\n",
    "\n",
    "chain_nome = LLMChain(llm=chat, prompt=prompt, output_key='nome_empresa')\n",
    "\n",
    "prompt_descricao = PromptTemplate.from_template(\n",
    "'''Dado a empresa com o seguinte nome: {nome_empresa}\n",
    "e que produz o seguinte produto {produto}.\n",
    "Dê uma deswcrição de até 50 palavras das atividades\n",
    "dessa empresa.'''\n",
    ")\n",
    "\n",
    "chain_descricao = LLMChain(llm=chat, prompt=prompt_descricao, output_key='descricao_empresa')\n",
    "\n",
    "prompt_traducao = PromptTemplate.from_template(\n",
    "'''Crie um nome em inglês para a empresa de nome {nome_empresa}\n",
    "que possui a seguinte descrição {descricao_empresa}'''\n",
    ")\n",
    "\n",
    "chain_traducao = LLMChain(llm=chat, prompt=prompt_traducao, output_key='nome_ingles', )\n"
   ]
  },
  {
   "cell_type": "code",
   "execution_count": 28,
   "id": "7e8c4e42",
   "metadata": {},
   "outputs": [
    {
     "name": "stdout",
     "output_type": "stream",
     "text": [
      "\n",
      "\n",
      "\u001b[1m> Entering new SequentialChain chain...\u001b[0m\n",
      "\n",
      "\u001b[1m> Finished chain.\u001b[0m\n"
     ]
    },
    {
     "data": {
      "text/plain": [
       "{'produto': 'Copos de vidro inquebráveis',\n",
       " 'nome_empresa': 'Vidro Resistente Inc.',\n",
       " 'descricao_empresa': 'A Vidro Resistente Inc. é uma empresa especializada na fabricação de copos de vidro inquebráveis, oferecendo durabilidade e resistência para o dia a dia dos consumidores. Com tecnologia avançada e materiais de alta qualidade, nossos produtos garantem segurança e praticidade para o uso doméstico e comercial.',\n",
       " 'nome_ingles': 'Unbreakable Glassware Co.'}"
      ]
     },
     "execution_count": 28,
     "metadata": {},
     "output_type": "execute_result"
    }
   ],
   "source": [
    "chain = SequentialChain(\n",
    "    chains=[chain_nome, chain_descricao, chain_traducao],\n",
    "    input_variables=['produto'],\n",
    "    output_variables=['nome_empresa', 'descricao_empresa', 'nome_ingles'],\n",
    "    verbose=True\n",
    ")\n",
    "produto = 'Copos de vidro inquebráveis'\n",
    "resposta = chain.invoke({'produto': produto})\n",
    "resposta"
   ]
  },
  {
   "cell_type": "code",
   "execution_count": 31,
   "id": "eaa56a5b",
   "metadata": {},
   "outputs": [
    {
     "data": {
      "text/plain": [
       "'A Vidro Resistente Inc. é uma empresa especializada na fabricação de copos de vidro inquebráveis, oferecendo durabilidade e resistência para o dia a dia dos consumidores. Com tecnologia avançada e materiais de alta qualidade, nossos produtos garantem segurança e praticidade para o uso doméstico e comercial.'"
      ]
     },
     "execution_count": 31,
     "metadata": {},
     "output_type": "execute_result"
    }
   ],
   "source": [
    "resposta['descricao_empresa']"
   ]
  },
  {
   "attachments": {},
   "cell_type": "markdown",
   "id": "1dd7c125",
   "metadata": {},
   "source": [
    "### Mais um exemplo"
   ]
  },
  {
   "cell_type": "code",
   "execution_count": 32,
   "id": "54646fe6",
   "metadata": {},
   "outputs": [
    {
     "data": {
      "text/plain": [
       "AIMessage(content='A solução do aluno está correta. O custo total para o primeiro ano de operações em função do número de metros quadrados é de 450x + 100.000.', response_metadata={'token_usage': {'completion_tokens': 39, 'prompt_tokens': 243, 'total_tokens': 282}, 'model_name': 'gpt-3.5-turbo-0125', 'system_fingerprint': 'fp_c2295e73ad', 'finish_reason': 'stop', 'logprobs': None}, id='run-f226058a-a3a3-4ec9-bd99-c421b8bcf153-0')"
      ]
     },
     "execution_count": 32,
     "metadata": {},
     "output_type": "execute_result"
    }
   ],
   "source": [
    "from langchain.chains.sequential import SequentialChain\n",
    "\n",
    "chat = ChatOpenAI(model=\"gpt-3.5-turbo-0125\")\n",
    "\n",
    "prompt_correcao = \"\"\"\n",
    "Determine se a solução do aluno está correta ou não.\n",
    "\n",
    "Pergunta:\n",
    "Estou construindo uma instalação de energia solar e preciso de ajuda com as contas de custos as finanças.\n",
    "- O terreno custa R$ 100 / metro quadrado\n",
    "- Posso comprar painéis solares por R$ 250 / metro quadrado\n",
    "- Negociei um contrato de manutenção que me custará R$ 100 mil por ano e  R$ 10 adicionais por metro quadrado\n",
    "\n",
    "Qual é o custo total para o primeiro ano de operações\n",
    "em função do número de metros quadrados.\n",
    "\n",
    "Solução do aluno:\n",
    "Seja x o tamanho da instalação em metros quadrados.\n",
    "Custos:\n",
    "1. Custo do terreno: 100x\n",
    "2. Custo do painel solar: 250x\n",
    "3. Custo de manutenção: 100.000 + 100x\n",
    "Custo total: 100x + 250x + 100.000 + 100x = 450x + 100.000\n",
    "\"\"\"\n",
    "\n",
    "chat.invoke(prompt_correcao)"
   ]
  },
  {
   "cell_type": "code",
   "execution_count": 39,
   "id": "f5ece8dc",
   "metadata": {},
   "outputs": [],
   "source": [
    "prompt_correcao = \"\"\"\n",
    "Determine se a solução do aluno está correta ou não.\n",
    "\n",
    "Pergunta:\n",
    "Estou construindo uma instalação de energia solar e preciso de ajuda com as contas de custos as finanças.\n",
    "- O terreno custa R$ 100 / metro quadrado\n",
    "- Posso comprar painéis solares por R$ 250 / metro quadrado\n",
    "- Negociei um contrato de manutenção que me custará R$ 100 mil por ano e  R$ 10 adicionais por metro quadrado\n",
    "\n",
    "Qual é o custo total para o primeiro ano de operações\n",
    "em função do número de metros quadrados.\n",
    "\n",
    "Solução do aluno:\n",
    "Seja x o tamanho da instalação em metros quadrados.\n",
    "Custos:\n",
    "1. Custo do terreno: 100x\n",
    "2. Custo do painel solar: 250x\n",
    "3. Custo de manutenção: 100.000 + 100x\n",
    "Custo total: 100x + 250x + 100.000 + 100x = 450x + 100.000\n",
    "\"\"\"\n",
    "\n",
    "\n",
    "prompt = PromptTemplate.from_template(\n",
    "'''Resolva a questão fornecida para você:\n",
    "\n",
    "{questao}\n",
    "\n",
    "Responda com calma e passo a passo.'''\n",
    ")\n",
    "\n",
    "chain_solucao = LLMChain(llm=chat, prompt=prompt, output_key='solucao', verbose=True)\n",
    "\n",
    "prompt = PromptTemplate.from_template(\n",
    "'''\n",
    "======\n",
    "Dado o seguinte problema:\n",
    "{questao}\n",
    "======\n",
    "\n",
    "Aqui está a solução correta:\n",
    "\n",
    "{solucao}\n",
    "\n",
    "======\n",
    "\n",
    "Aqui está a solução de um aluno:\n",
    "\n",
    "{solucao_aluno}\n",
    "\n",
    "=====\n",
    "\n",
    "Se baseando apenas na solução correta, verifique se o aluno\n",
    "respondeu corretamente.\n",
    "'''\n",
    ")\n",
    "\n",
    "chain_final = LLMChain(llm=chat, prompt=prompt, output_key='resposta_final', verbose=True)\n",
    "\n",
    "chain = SequentialChain(\n",
    "    chains=[chain_solucao, chain_final],\n",
    "    input_variables=[\"questao\", \"solucao_aluno\"],\n",
    "    output_variables=[\"solucao\", \"resposta_final\"],\n",
    "    verbose=True\n",
    ")"
   ]
  },
  {
   "cell_type": "code",
   "execution_count": 40,
   "id": "f1a52dce",
   "metadata": {},
   "outputs": [
    {
     "name": "stdout",
     "output_type": "stream",
     "text": [
      "\n",
      "\n",
      "\u001b[1m> Entering new SequentialChain chain...\u001b[0m\n",
      "\n",
      "\n",
      "\u001b[1m> Entering new LLMChain chain...\u001b[0m\n",
      "Prompt after formatting:\n",
      "\u001b[32;1m\u001b[1;3mResolva a questão fornecida para você:\n",
      "\n",
      "\n",
      "Estou construindo uma instalação de energia solar e preciso de ajuda com as contas de custos as finanças.\n",
      "- O terreno custa R$ 100 / metro quadrado\n",
      "- Posso comprar painéis solares por R$ 250 / metro quadrado\n",
      "- Negociei um contrato de manutenção que me custará R$ 100 mil por ano e  R$ 10 adicionais por metro quadrado\n",
      "\n",
      "Qual é o custo total para o primeiro ano de operações\n",
      "em função do número de metros quadrados.\n",
      "\n",
      "\n",
      "Responda com calma e passo a passo.\u001b[0m\n",
      "\n",
      "\u001b[1m> Finished chain.\u001b[0m\n",
      "\n",
      "\n",
      "\u001b[1m> Entering new LLMChain chain...\u001b[0m\n",
      "Prompt after formatting:\n",
      "\u001b[32;1m\u001b[1;3m\n",
      "======\n",
      "Dado o seguinte problema:\n",
      "\n",
      "Estou construindo uma instalação de energia solar e preciso de ajuda com as contas de custos as finanças.\n",
      "- O terreno custa R$ 100 / metro quadrado\n",
      "- Posso comprar painéis solares por R$ 250 / metro quadrado\n",
      "- Negociei um contrato de manutenção que me custará R$ 100 mil por ano e  R$ 10 adicionais por metro quadrado\n",
      "\n",
      "Qual é o custo total para o primeiro ano de operações\n",
      "em função do número de metros quadrados.\n",
      "\n",
      "======\n",
      "\n",
      "Aqui está a solução correta:\n",
      "\n",
      "Vamos calcular o custo total para o primeiro ano de operações em função do número de metros quadrados.\n",
      "\n",
      "Vamos chamar o número de metros quadrados de \"x\".\n",
      "\n",
      "1. Custo do terreno: R$ 100 por metro quadrado\n",
      "Custo total do terreno = R$ 100 * x\n",
      "\n",
      "2. Custo dos painéis solares: R$ 250 por metro quadrado\n",
      "Custo total dos painéis solares = R$ 250 * x\n",
      "\n",
      "3. Custo do contrato de manutenção: R$ 100.000 por ano + R$ 10 por metro quadrado\n",
      "Custo total do contrato de manutenção = R$ 100.000 + R$ 10 * x\n",
      "\n",
      "Agora, somamos todos os custos para obter o custo total para o primeiro ano de operações:\n",
      "\n",
      "Custo total = Custo total do terreno + Custo total dos painéis solares + Custo total do contrato de manutenção\n",
      "Custo total = R$ 100 * x + R$ 250 * x + R$ 100.000 + R$ 10 * x\n",
      "Custo total = R$ 360 * x + R$ 100.000\n",
      "\n",
      "Portanto, o custo total para o primeiro ano de operações em função do número de metros quadrados é dado por R$ 360x + R$ 100.000.\n",
      "\n",
      "======\n",
      "\n",
      "Aqui está a solução de um aluno:\n",
      "\n",
      "\n",
      "Seja x o tamanho da instalação em metros quadrados.\n",
      "Custos:\n",
      "1. Custo do terreno: 100x\n",
      "2. Custo do painel solar: 250x\n",
      "3. Custo de manutenção: 100.000 + 100x\n",
      "Custo total: 100x + 250x + 100.000 + 100x = 450x + 100.000\n",
      "\n",
      "\n",
      "=====\n",
      "\n",
      "Se baseando apenas na solução correta, verifique se o aluno\n",
      "respondeu corretamente.\n",
      "\u001b[0m\n",
      "\n",
      "\u001b[1m> Finished chain.\u001b[0m\n",
      "\n",
      "\u001b[1m> Finished chain.\u001b[0m\n"
     ]
    },
    {
     "data": {
      "text/plain": [
       "{'questao': '\\nEstou construindo uma instalação de energia solar e preciso de ajuda com as contas de custos as finanças.\\n- O terreno custa R$ 100 / metro quadrado\\n- Posso comprar painéis solares por R$ 250 / metro quadrado\\n- Negociei um contrato de manutenção que me custará R$ 100 mil por ano e  R$ 10 adicionais por metro quadrado\\n\\nQual é o custo total para o primeiro ano de operações\\nem função do número de metros quadrados.\\n',\n",
       " 'solucao_aluno': '\\nSeja x o tamanho da instalação em metros quadrados.\\nCustos:\\n1. Custo do terreno: 100x\\n2. Custo do painel solar: 250x\\n3. Custo de manutenção: 100.000 + 100x\\nCusto total: 100x + 250x + 100.000 + 100x = 450x + 100.000\\n',\n",
       " 'solucao': 'Vamos calcular o custo total para o primeiro ano de operações em função do número de metros quadrados.\\n\\nVamos chamar o número de metros quadrados de \"x\".\\n\\n1. Custo do terreno: R$ 100 por metro quadrado\\nCusto total do terreno = R$ 100 * x\\n\\n2. Custo dos painéis solares: R$ 250 por metro quadrado\\nCusto total dos painéis solares = R$ 250 * x\\n\\n3. Custo do contrato de manutenção: R$ 100.000 por ano + R$ 10 por metro quadrado\\nCusto total do contrato de manutenção = R$ 100.000 + R$ 10 * x\\n\\nAgora, somamos todos os custos para obter o custo total para o primeiro ano de operações:\\n\\nCusto total = Custo total do terreno + Custo total dos painéis solares + Custo total do contrato de manutenção\\nCusto total = R$ 100 * x + R$ 250 * x + R$ 100.000 + R$ 10 * x\\nCusto total = R$ 360 * x + R$ 100.000\\n\\nPortanto, o custo total para o primeiro ano de operações em função do número de metros quadrados é dado por R$ 360x + R$ 100.000.',\n",
       " 'resposta_final': 'Sim, o aluno respondeu corretamente. Eles calcularam corretamente os custos do terreno, dos painéis solares e do contrato de manutenção, e somaram corretamente para obter o custo total para o primeiro ano de operações em função do número de metros quadrados. A resposta do aluno está correta e bem fundamentada.'}"
      ]
     },
     "execution_count": 40,
     "metadata": {},
     "output_type": "execute_result"
    }
   ],
   "source": [
    "questao = '''\n",
    "Estou construindo uma instalação de energia solar e preciso de ajuda com as contas de custos as finanças.\n",
    "- O terreno custa R$ 100 / metro quadrado\n",
    "- Posso comprar painéis solares por R$ 250 / metro quadrado\n",
    "- Negociei um contrato de manutenção que me custará R$ 100 mil por ano e  R$ 10 adicionais por metro quadrado\n",
    "\n",
    "Qual é o custo total para o primeiro ano de operações\n",
    "em função do número de metros quadrados.\n",
    "'''\n",
    "\n",
    "solucao_aluno = '''\n",
    "Seja x o tamanho da instalação em metros quadrados.\n",
    "Custos:\n",
    "1. Custo do terreno: 100x\n",
    "2. Custo do painel solar: 250x\n",
    "3. Custo de manutenção: 100.000 + 100x\n",
    "Custo total: 100x + 250x + 100.000 + 100x = 450x + 100.000\n",
    "'''\n",
    "\n",
    "chain.invoke({'questao': questao, 'solucao_aluno': solucao_aluno})"
   ]
  },
  {
   "cell_type": "code",
   "execution_count": null,
   "id": "da90af2b",
   "metadata": {},
   "outputs": [],
   "source": []
  },
  {
   "cell_type": "code",
   "execution_count": null,
   "id": "e1ceb466",
   "metadata": {},
   "outputs": [],
   "source": []
  },
  {
   "cell_type": "code",
   "execution_count": null,
   "id": "4a4c1853",
   "metadata": {},
   "outputs": [],
   "source": []
  }
 ],
 "metadata": {
  "kernelspec": {
   "display_name": ".venv",
   "language": "python",
   "name": "python3"
  },
  "language_info": {
   "codemirror_mode": {
    "name": "ipython",
    "version": 3
   },
   "file_extension": ".py",
   "mimetype": "text/x-python",
   "name": "python",
   "nbconvert_exporter": "python",
   "pygments_lexer": "ipython3",
   "version": "3.11.4"
  }
 },
 "nbformat": 4,
 "nbformat_minor": 5
}
