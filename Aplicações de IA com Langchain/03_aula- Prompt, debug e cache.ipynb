{
 "cells": [
  {
   "attachments": {},
   "cell_type": "markdown",
   "id": "13d7fc40",
   "metadata": {},
   "source": [
    "# Conceitos avançados de Models"
   ]
  },
  {
   "attachments": {},
   "cell_type": "markdown",
   "id": "08547834",
   "metadata": {},
   "source": [
    "### Prompt few-shot"
   ]
  },
  {
   "cell_type": "code",
   "execution_count": 3,
   "id": "6a58a8d3",
   "metadata": {},
   "outputs": [],
   "source": [
    "from langchain_openai import ChatOpenAI\n",
    "\n",
    "chat = ChatOpenAI()"
   ]
  },
  {
   "cell_type": "code",
   "execution_count": 7,
   "id": "57675f16",
   "metadata": {},
   "outputs": [
    {
     "data": {
      "text/plain": [
       "AIMessage(content='10 + 3 é igual a 13.', response_metadata={'token_usage': {'completion_tokens': 10, 'prompt_tokens': 52, 'total_tokens': 62}, 'model_name': 'gpt-3.5-turbo', 'system_fingerprint': 'fp_c2295e73ad', 'finish_reason': 'stop', 'logprobs': None}, id='run-fdb10e72-ca7a-4c8c-97b2-9590bf03286e-0')"
      ]
     },
     "execution_count": 7,
     "metadata": {},
     "output_type": "execute_result"
    }
   ],
   "source": [
    "from langchain_core.messages import HumanMessage, AIMessage\n",
    "\n",
    "mensagens = [\n",
    "    HumanMessage(content='Quanto é 1 + 1?'),\n",
    "    AIMessage(content='2'),\n",
    "    HumanMessage(content='Quanto é 10 * 5?'),\n",
    "    AIMessage(content='50'),\n",
    "    HumanMessage(content='Quanto é 10 + 3?'),\n",
    "]\n",
    "\n",
    "chat.invoke(mensagens)"
   ]
  },
  {
   "attachments": {},
   "cell_type": "markdown",
   "id": "5028fbaa",
   "metadata": {},
   "source": [
    "Isto é similar a formação de mensagens da api da OpenAI, mas com uma sintaxe diferente:\n",
    "\n",
    "```python\n",
    "mensagens = [\n",
    "    {'role': 'user', 'content': 'Quanto é 1 + 1'},\n",
    "    {'role': 'assistant', 'content': '2'},\n",
    "    {'role': 'user', 'content': 'Quanto é 10 * 5'},\n",
    "    {'role': 'assistant', 'content': '50'},\n",
    "    {'role': 'user', 'content': 'Quanto é 10 + 3'},\n",
    "]\n",
    "```"
   ]
  },
  {
   "attachments": {},
   "cell_type": "markdown",
   "id": "45629a5c",
   "metadata": {},
   "source": [
    "## Utilizando outros modelos"
   ]
  },
  {
   "cell_type": "code",
   "execution_count": 1,
   "id": "78594811",
   "metadata": {},
   "outputs": [
    {
     "name": "stdout",
     "output_type": "stream",
     "text": [
      "Defaulting to user installation because normal site-packages is not writeable\n",
      "Requirement already satisfied: langchain_community in /home/anamarcacini/.local/lib/python3.10/site-packages (0.0.33)\n",
      "Requirement already satisfied: langsmith<0.2.0,>=0.1.0 in /home/anamarcacini/.local/lib/python3.10/site-packages (from langchain_community) (0.1.129)\n",
      "Requirement already satisfied: langchain-core<0.2.0,>=0.1.43 in /home/anamarcacini/.local/lib/python3.10/site-packages (from langchain_community) (0.1.52)\n",
      "Requirement already satisfied: numpy<2,>=1 in /home/anamarcacini/.local/lib/python3.10/site-packages (from langchain_community) (1.24.3)\n",
      "Requirement already satisfied: SQLAlchemy<3,>=1.4 in /home/anamarcacini/.local/lib/python3.10/site-packages (from langchain_community) (2.0.23)\n",
      "Requirement already satisfied: PyYAML>=5.3 in /home/anamarcacini/.local/lib/python3.10/site-packages (from langchain_community) (6.0.2)\n",
      "Requirement already satisfied: dataclasses-json<0.7,>=0.5.7 in /home/anamarcacini/.local/lib/python3.10/site-packages (from langchain_community) (0.6.7)\n",
      "Requirement already satisfied: requests<3,>=2 in /home/anamarcacini/.local/lib/python3.10/site-packages (from langchain_community) (2.32.3)\n",
      "Requirement already satisfied: aiohttp<4.0.0,>=3.8.3 in /home/anamarcacini/.local/lib/python3.10/site-packages (from langchain_community) (3.10.6)\n",
      "Requirement already satisfied: tenacity<9.0.0,>=8.1.0 in /home/anamarcacini/.local/lib/python3.10/site-packages (from langchain_community) (8.5.0)\n",
      "Requirement already satisfied: aiohappyeyeballs>=2.3.0 in /home/anamarcacini/.local/lib/python3.10/site-packages (from aiohttp<4.0.0,>=3.8.3->langchain_community) (2.4.2)\n",
      "Requirement already satisfied: multidict<7.0,>=4.5 in /usr/local/lib/python3.10/dist-packages (from aiohttp<4.0.0,>=3.8.3->langchain_community) (6.0.5)\n",
      "Requirement already satisfied: attrs>=17.3.0 in /home/anamarcacini/.local/lib/python3.10/site-packages (from aiohttp<4.0.0,>=3.8.3->langchain_community) (24.2.0)\n",
      "Requirement already satisfied: aiosignal>=1.1.2 in /home/anamarcacini/.local/lib/python3.10/site-packages (from aiohttp<4.0.0,>=3.8.3->langchain_community) (1.3.1)\n",
      "Requirement already satisfied: frozenlist>=1.1.1 in /home/anamarcacini/.local/lib/python3.10/site-packages (from aiohttp<4.0.0,>=3.8.3->langchain_community) (1.4.1)\n",
      "Requirement already satisfied: yarl<2.0,>=1.12.0 in /home/anamarcacini/.local/lib/python3.10/site-packages (from aiohttp<4.0.0,>=3.8.3->langchain_community) (1.13.0)\n",
      "Requirement already satisfied: async-timeout<5.0,>=4.0 in /home/anamarcacini/.local/lib/python3.10/site-packages (from aiohttp<4.0.0,>=3.8.3->langchain_community) (4.0.3)\n",
      "Requirement already satisfied: marshmallow<4.0.0,>=3.18.0 in /home/anamarcacini/.local/lib/python3.10/site-packages (from dataclasses-json<0.7,>=0.5.7->langchain_community) (3.22.0)\n",
      "Requirement already satisfied: typing-inspect<1,>=0.4.0 in /home/anamarcacini/.local/lib/python3.10/site-packages (from dataclasses-json<0.7,>=0.5.7->langchain_community) (0.9.0)\n",
      "Requirement already satisfied: packaging<24.0,>=23.2 in /home/anamarcacini/.local/lib/python3.10/site-packages (from langchain-core<0.2.0,>=0.1.43->langchain_community) (23.2)\n",
      "Requirement already satisfied: pydantic<3,>=1 in /home/anamarcacini/.local/lib/python3.10/site-packages (from langchain-core<0.2.0,>=0.1.43->langchain_community) (2.8.2)\n",
      "Requirement already satisfied: jsonpatch<2.0,>=1.33 in /home/anamarcacini/.local/lib/python3.10/site-packages (from langchain-core<0.2.0,>=0.1.43->langchain_community) (1.33)\n",
      "Requirement already satisfied: httpx<1,>=0.23.0 in /home/anamarcacini/.local/lib/python3.10/site-packages (from langsmith<0.2.0,>=0.1.0->langchain_community) (0.27.2)\n",
      "Requirement already satisfied: orjson<4.0.0,>=3.9.14 in /home/anamarcacini/.local/lib/python3.10/site-packages (from langsmith<0.2.0,>=0.1.0->langchain_community) (3.10.7)\n",
      "Requirement already satisfied: idna<4,>=2.5 in /home/anamarcacini/.local/lib/python3.10/site-packages (from requests<3,>=2->langchain_community) (2.10)\n",
      "Requirement already satisfied: charset-normalizer<4,>=2 in /home/anamarcacini/.local/lib/python3.10/site-packages (from requests<3,>=2->langchain_community) (3.1.0)\n",
      "Requirement already satisfied: urllib3<3,>=1.21.1 in /home/anamarcacini/.local/lib/python3.10/site-packages (from requests<3,>=2->langchain_community) (2.2.3)\n",
      "Requirement already satisfied: certifi>=2017.4.17 in /home/anamarcacini/.local/lib/python3.10/site-packages (from requests<3,>=2->langchain_community) (2022.12.7)\n",
      "Requirement already satisfied: greenlet!=0.4.17 in /home/anamarcacini/.local/lib/python3.10/site-packages (from SQLAlchemy<3,>=1.4->langchain_community) (2.0.2)\n",
      "Requirement already satisfied: typing-extensions>=4.2.0 in /home/anamarcacini/.local/lib/python3.10/site-packages (from SQLAlchemy<3,>=1.4->langchain_community) (4.12.2)\n",
      "Requirement already satisfied: httpcore==1.* in /home/anamarcacini/.local/lib/python3.10/site-packages (from httpx<1,>=0.23.0->langsmith<0.2.0,>=0.1.0->langchain_community) (1.0.5)\n",
      "Requirement already satisfied: anyio in /home/anamarcacini/.local/lib/python3.10/site-packages (from httpx<1,>=0.23.0->langsmith<0.2.0,>=0.1.0->langchain_community) (3.7.0)\n",
      "Requirement already satisfied: sniffio in /home/anamarcacini/.local/lib/python3.10/site-packages (from httpx<1,>=0.23.0->langsmith<0.2.0,>=0.1.0->langchain_community) (1.3.0)\n",
      "Requirement already satisfied: h11<0.15,>=0.13 in /home/anamarcacini/.local/lib/python3.10/site-packages (from httpcore==1.*->httpx<1,>=0.23.0->langsmith<0.2.0,>=0.1.0->langchain_community) (0.14.0)\n",
      "Requirement already satisfied: jsonpointer>=1.9 in /home/anamarcacini/.local/lib/python3.10/site-packages (from jsonpatch<2.0,>=1.33->langchain-core<0.2.0,>=0.1.43->langchain_community) (2.3)\n",
      "Requirement already satisfied: pydantic-core==2.20.1 in /home/anamarcacini/.local/lib/python3.10/site-packages (from pydantic<3,>=1->langchain-core<0.2.0,>=0.1.43->langchain_community) (2.20.1)\n",
      "Requirement already satisfied: annotated-types>=0.4.0 in /home/anamarcacini/.local/lib/python3.10/site-packages (from pydantic<3,>=1->langchain-core<0.2.0,>=0.1.43->langchain_community) (0.7.0)\n",
      "Requirement already satisfied: mypy-extensions>=0.3.0 in /home/anamarcacini/.local/lib/python3.10/site-packages (from typing-inspect<1,>=0.4.0->dataclasses-json<0.7,>=0.5.7->langchain_community) (1.0.0)\n",
      "Requirement already satisfied: exceptiongroup in /home/anamarcacini/.local/lib/python3.10/site-packages (from anyio->httpx<1,>=0.23.0->langsmith<0.2.0,>=0.1.0->langchain_community) (1.1.1)\n"
     ]
    }
   ],
   "source": [
    "!pip install langchain_community"
   ]
  },
  {
   "cell_type": "code",
   "execution_count": 2,
   "id": "7401c399",
   "metadata": {},
   "outputs": [],
   "source": [
    "from langchain_community.chat_models.huggingface import ChatHuggingFace\n",
    "from langchain_community.llms.huggingface_endpoint import HuggingFaceEndpoint"
   ]
  },
  {
   "cell_type": "code",
   "execution_count": 5,
   "id": "d1fead8d",
   "metadata": {},
   "outputs": [
    {
     "name": "stdout",
     "output_type": "stream",
     "text": [
      "Defaulting to user installation because normal site-packages is not writeable\n",
      "Requirement already up-to-date: tokenizers in /home/anamarcacini/.local/lib/python3.10/site-packages (0.20.0)\n",
      "Requirement already satisfied, skipping upgrade: huggingface-hub<1.0,>=0.16.4 in /home/anamarcacini/.local/lib/python3.10/site-packages (from tokenizers) (0.22.2)\n",
      "Requirement already satisfied, skipping upgrade: typing-extensions>=3.7.4.3 in /home/anamarcacini/.local/lib/python3.10/site-packages (from huggingface-hub<1.0,>=0.16.4->tokenizers) (4.12.2)\n",
      "Requirement already satisfied, skipping upgrade: packaging>=20.9 in /home/anamarcacini/.local/lib/python3.10/site-packages (from huggingface-hub<1.0,>=0.16.4->tokenizers) (23.2)\n",
      "Requirement already satisfied, skipping upgrade: pyyaml>=5.1 in /home/anamarcacini/.local/lib/python3.10/site-packages (from huggingface-hub<1.0,>=0.16.4->tokenizers) (6.0.2)\n",
      "Requirement already satisfied, skipping upgrade: filelock in /home/anamarcacini/.local/lib/python3.10/site-packages (from huggingface-hub<1.0,>=0.16.4->tokenizers) (3.12.0)\n",
      "Requirement already satisfied, skipping upgrade: requests in /home/anamarcacini/.local/lib/python3.10/site-packages (from huggingface-hub<1.0,>=0.16.4->tokenizers) (2.32.3)\n",
      "Requirement already satisfied, skipping upgrade: fsspec>=2023.5.0 in /home/anamarcacini/.local/lib/python3.10/site-packages (from huggingface-hub<1.0,>=0.16.4->tokenizers) (2024.6.1)\n",
      "Requirement already satisfied, skipping upgrade: tqdm>=4.42.1 in /home/anamarcacini/.local/lib/python3.10/site-packages (from huggingface-hub<1.0,>=0.16.4->tokenizers) (4.66.5)\n",
      "Requirement already satisfied, skipping upgrade: certifi>=2017.4.17 in /home/anamarcacini/.local/lib/python3.10/site-packages (from requests->huggingface-hub<1.0,>=0.16.4->tokenizers) (2022.12.7)\n",
      "Requirement already satisfied, skipping upgrade: charset-normalizer<4,>=2 in /home/anamarcacini/.local/lib/python3.10/site-packages (from requests->huggingface-hub<1.0,>=0.16.4->tokenizers) (3.1.0)\n",
      "Requirement already satisfied, skipping upgrade: urllib3<3,>=1.21.1 in /home/anamarcacini/.local/lib/python3.10/site-packages (from requests->huggingface-hub<1.0,>=0.16.4->tokenizers) (2.2.3)\n",
      "Requirement already satisfied, skipping upgrade: idna<4,>=2.5 in /home/anamarcacini/.local/lib/python3.10/site-packages (from requests->huggingface-hub<1.0,>=0.16.4->tokenizers) (2.10)\n"
     ]
    }
   ],
   "source": [
    "!pip install -U tokenizers --use-deprecated=legacy-resolver"
   ]
  },
  {
   "cell_type": "code",
   "execution_count": 7,
   "id": "5bdaeff1",
   "metadata": {},
   "outputs": [
    {
     "name": "stdout",
     "output_type": "stream",
     "text": [
      "Defaulting to user installation because normal site-packages is not writeable\n",
      "Requirement already satisfied: ipykernel in /home/anamarcacini/.local/lib/python3.10/site-packages (from -r requirements.txt (line 1)) (6.23.2)\n",
      "Requirement already satisfied: langchain==0.1.16 in /home/anamarcacini/.local/lib/python3.10/site-packages (from -r requirements.txt (line 2)) (0.1.16)\n",
      "Requirement already satisfied: langchain-community==0.0.33 in /home/anamarcacini/.local/lib/python3.10/site-packages (from -r requirements.txt (line 3)) (0.0.33)\n",
      "Requirement already satisfied: langchain-openai==0.1.3 in /home/anamarcacini/.local/lib/python3.10/site-packages (from -r requirements.txt (line 4)) (0.1.3)\n",
      "Requirement already satisfied: openai==1.20.0 in /home/anamarcacini/.local/lib/python3.10/site-packages (from -r requirements.txt (line 5)) (1.20.0)\n",
      "Requirement already satisfied: huggingface_hub==0.22.2 in /home/anamarcacini/.local/lib/python3.10/site-packages (from -r requirements.txt (line 6)) (0.22.2)\n",
      "Requirement already satisfied: transformers==4.39.3 in /home/anamarcacini/.local/lib/python3.10/site-packages (from -r requirements.txt (line 7)) (4.39.3)\n",
      "Requirement already satisfied: jinja2==3.1.3 in /home/anamarcacini/.local/lib/python3.10/site-packages (from -r requirements.txt (line 8)) (3.1.3)\n",
      "Requirement already satisfied: tiktoken==0.6.0 in /home/anamarcacini/.local/lib/python3.10/site-packages (from -r requirements.txt (line 9)) (0.6.0)\n",
      "Requirement already satisfied: pypdf==4.2.0 in /home/anamarcacini/.local/lib/python3.10/site-packages (from -r requirements.txt (line 10)) (4.2.0)\n",
      "Requirement already satisfied: yt_dlp==2024.4.9 in /home/anamarcacini/.local/lib/python3.10/site-packages (from -r requirements.txt (line 11)) (2024.4.9)\n",
      "Requirement already satisfied: pydub==0.25.1 in /home/anamarcacini/.local/lib/python3.10/site-packages (from -r requirements.txt (line 12)) (0.25.1)\n",
      "Requirement already satisfied: beautifulsoup4==4.12.3 in /home/anamarcacini/.local/lib/python3.10/site-packages (from -r requirements.txt (line 13)) (4.12.3)\n",
      "Requirement already satisfied: ffmpeg in /home/anamarcacini/.local/lib/python3.10/site-packages (from -r requirements.txt (line 14)) (1.4)\n",
      "Requirement already satisfied: ffprobe in /home/anamarcacini/.local/lib/python3.10/site-packages (from -r requirements.txt (line 15)) (0.5)\n",
      "Requirement already satisfied: python-dotenv in /home/anamarcacini/.local/lib/python3.10/site-packages (from -r requirements.txt (line 16)) (1.0.1)\n",
      "Requirement already satisfied: sentence-transformers==2.7.0 in /home/anamarcacini/.local/lib/python3.10/site-packages (from -r requirements.txt (line 17)) (2.7.0)\n",
      "Requirement already satisfied: langchain-chroma in /home/anamarcacini/.local/lib/python3.10/site-packages (from -r requirements.txt (line 18)) (0.1.4)\n",
      "Requirement already satisfied: faiss-cpu in /home/anamarcacini/.local/lib/python3.10/site-packages (from -r requirements.txt (line 19)) (1.8.0.post1)\n",
      "Requirement already satisfied: lark in /home/anamarcacini/.local/lib/python3.10/site-packages (from -r requirements.txt (line 20)) (1.2.2)\n",
      "Requirement already satisfied: matplotlib-inline>=0.1 in /home/anamarcacini/.local/lib/python3.10/site-packages (from ipykernel->-r requirements.txt (line 1)) (0.1.6)\n",
      "Requirement already satisfied: packaging in /home/anamarcacini/.local/lib/python3.10/site-packages (from ipykernel->-r requirements.txt (line 1)) (23.2)\n",
      "Requirement already satisfied: jupyter-client>=6.1.12 in /home/anamarcacini/.local/lib/python3.10/site-packages (from ipykernel->-r requirements.txt (line 1)) (8.2.0)\n",
      "Requirement already satisfied: comm>=0.1.1 in /home/anamarcacini/.local/lib/python3.10/site-packages (from ipykernel->-r requirements.txt (line 1)) (0.1.3)\n",
      "Requirement already satisfied: tornado>=6.1 in /home/anamarcacini/.local/lib/python3.10/site-packages (from ipykernel->-r requirements.txt (line 1)) (6.3.2)\n",
      "Requirement already satisfied: ipython>=7.23.1 in /home/anamarcacini/.local/lib/python3.10/site-packages (from ipykernel->-r requirements.txt (line 1)) (8.14.0)\n",
      "Requirement already satisfied: psutil in /home/anamarcacini/.local/lib/python3.10/site-packages (from ipykernel->-r requirements.txt (line 1)) (5.9.5)\n",
      "Requirement already satisfied: pyzmq>=20 in /home/anamarcacini/.local/lib/python3.10/site-packages (from ipykernel->-r requirements.txt (line 1)) (25.1.0)\n",
      "Requirement already satisfied: debugpy>=1.6.5 in /home/anamarcacini/.local/lib/python3.10/site-packages (from ipykernel->-r requirements.txt (line 1)) (1.6.7)\n",
      "Requirement already satisfied: jupyter-core!=5.0.*,>=4.12 in /home/anamarcacini/.local/lib/python3.10/site-packages (from ipykernel->-r requirements.txt (line 1)) (5.3.0)\n",
      "Requirement already satisfied: traitlets>=5.4.0 in /home/anamarcacini/.local/lib/python3.10/site-packages (from ipykernel->-r requirements.txt (line 1)) (5.9.0)\n",
      "Requirement already satisfied: nest-asyncio in /home/anamarcacini/.local/lib/python3.10/site-packages (from ipykernel->-r requirements.txt (line 1)) (1.5.6)\n",
      "Requirement already satisfied: langsmith<0.2.0,>=0.1.17 in /home/anamarcacini/.local/lib/python3.10/site-packages (from langchain==0.1.16->-r requirements.txt (line 2)) (0.1.129)\n",
      "Requirement already satisfied: dataclasses-json<0.7,>=0.5.7 in /home/anamarcacini/.local/lib/python3.10/site-packages (from langchain==0.1.16->-r requirements.txt (line 2)) (0.6.7)\n",
      "Requirement already satisfied: tenacity<9.0.0,>=8.1.0 in /home/anamarcacini/.local/lib/python3.10/site-packages (from langchain==0.1.16->-r requirements.txt (line 2)) (8.5.0)\n",
      "Requirement already satisfied: PyYAML>=5.3 in /home/anamarcacini/.local/lib/python3.10/site-packages (from langchain==0.1.16->-r requirements.txt (line 2)) (6.0.2)\n",
      "Requirement already satisfied: numpy<2,>=1 in /home/anamarcacini/.local/lib/python3.10/site-packages (from langchain==0.1.16->-r requirements.txt (line 2)) (1.24.3)\n",
      "Requirement already satisfied: jsonpatch<2.0,>=1.33 in /home/anamarcacini/.local/lib/python3.10/site-packages (from langchain==0.1.16->-r requirements.txt (line 2)) (1.33)\n",
      "Requirement already satisfied: langchain-core<0.2.0,>=0.1.42 in /home/anamarcacini/.local/lib/python3.10/site-packages (from langchain==0.1.16->-r requirements.txt (line 2)) (0.1.52)\n",
      "Requirement already satisfied: requests<3,>=2 in /home/anamarcacini/.local/lib/python3.10/site-packages (from langchain==0.1.16->-r requirements.txt (line 2)) (2.32.3)\n",
      "Requirement already satisfied: async-timeout<5.0.0,>=4.0.0; python_version < \"3.11\" in /home/anamarcacini/.local/lib/python3.10/site-packages (from langchain==0.1.16->-r requirements.txt (line 2)) (4.0.3)\n",
      "Requirement already satisfied: SQLAlchemy<3,>=1.4 in /home/anamarcacini/.local/lib/python3.10/site-packages (from langchain==0.1.16->-r requirements.txt (line 2)) (2.0.23)\n",
      "Requirement already satisfied: langchain-text-splitters<0.1,>=0.0.1 in /home/anamarcacini/.local/lib/python3.10/site-packages (from langchain==0.1.16->-r requirements.txt (line 2)) (0.0.2)\n",
      "Requirement already satisfied: aiohttp<4.0.0,>=3.8.3 in /home/anamarcacini/.local/lib/python3.10/site-packages (from langchain==0.1.16->-r requirements.txt (line 2)) (3.10.6)\n",
      "Requirement already satisfied: pydantic<3,>=1 in /home/anamarcacini/.local/lib/python3.10/site-packages (from langchain==0.1.16->-r requirements.txt (line 2)) (2.8.2)\n",
      "Requirement already satisfied: httpx<1,>=0.23.0 in /home/anamarcacini/.local/lib/python3.10/site-packages (from openai==1.20.0->-r requirements.txt (line 5)) (0.27.2)\n",
      "Requirement already satisfied: anyio<5,>=3.5.0 in /home/anamarcacini/.local/lib/python3.10/site-packages (from openai==1.20.0->-r requirements.txt (line 5)) (3.7.0)\n",
      "Requirement already satisfied: sniffio in /home/anamarcacini/.local/lib/python3.10/site-packages (from openai==1.20.0->-r requirements.txt (line 5)) (1.3.0)\n",
      "Requirement already satisfied: typing-extensions<5,>=4.7 in /home/anamarcacini/.local/lib/python3.10/site-packages (from openai==1.20.0->-r requirements.txt (line 5)) (4.12.2)\n",
      "Requirement already satisfied: tqdm>4 in /home/anamarcacini/.local/lib/python3.10/site-packages (from openai==1.20.0->-r requirements.txt (line 5)) (4.66.5)\n",
      "Requirement already satisfied: distro<2,>=1.7.0 in /usr/lib/python3/dist-packages (from openai==1.20.0->-r requirements.txt (line 5)) (1.7.0)\n",
      "Requirement already satisfied: fsspec>=2023.5.0 in /home/anamarcacini/.local/lib/python3.10/site-packages (from huggingface_hub==0.22.2->-r requirements.txt (line 6)) (2024.6.1)\n",
      "Requirement already satisfied: filelock in /home/anamarcacini/.local/lib/python3.10/site-packages (from huggingface_hub==0.22.2->-r requirements.txt (line 6)) (3.12.0)\n",
      "Collecting tokenizers<0.19,>=0.14\n",
      "  Using cached tokenizers-0.15.2-cp310-cp310-manylinux_2_17_x86_64.manylinux2014_x86_64.whl (3.6 MB)\n",
      "Requirement already satisfied: safetensors>=0.4.1 in /home/anamarcacini/.local/lib/python3.10/site-packages (from transformers==4.39.3->-r requirements.txt (line 7)) (0.4.5)\n",
      "Requirement already satisfied: regex!=2019.12.17 in /home/anamarcacini/.local/lib/python3.10/site-packages (from transformers==4.39.3->-r requirements.txt (line 7)) (2024.9.11)\n",
      "Requirement already satisfied: MarkupSafe>=2.0 in /home/anamarcacini/.local/lib/python3.10/site-packages (from jinja2==3.1.3->-r requirements.txt (line 8)) (2.1.2)\n",
      "Requirement already satisfied: urllib3<3,>=1.26.17 in /home/anamarcacini/.local/lib/python3.10/site-packages (from yt_dlp==2024.4.9->-r requirements.txt (line 11)) (2.2.3)\n",
      "Requirement already satisfied: brotli; implementation_name == \"cpython\" in /home/anamarcacini/.local/lib/python3.10/site-packages (from yt_dlp==2024.4.9->-r requirements.txt (line 11)) (1.1.0)\n",
      "Requirement already satisfied: websockets>=12.0 in /home/anamarcacini/.local/lib/python3.10/site-packages (from yt_dlp==2024.4.9->-r requirements.txt (line 11)) (13.1)\n",
      "Requirement already satisfied: pycryptodomex in /home/anamarcacini/.local/lib/python3.10/site-packages (from yt_dlp==2024.4.9->-r requirements.txt (line 11)) (3.20.0)\n",
      "Requirement already satisfied: mutagen in /home/anamarcacini/.local/lib/python3.10/site-packages (from yt_dlp==2024.4.9->-r requirements.txt (line 11)) (1.47.0)\n",
      "Requirement already satisfied: certifi in /home/anamarcacini/.local/lib/python3.10/site-packages (from yt_dlp==2024.4.9->-r requirements.txt (line 11)) (2022.12.7)\n",
      "Requirement already satisfied: soupsieve>1.2 in /home/anamarcacini/.local/lib/python3.10/site-packages (from beautifulsoup4==4.12.3->-r requirements.txt (line 13)) (2.4.1)\n",
      "Requirement already satisfied: scikit-learn in /home/anamarcacini/.local/lib/python3.10/site-packages (from sentence-transformers==2.7.0->-r requirements.txt (line 17)) (1.3.0)\n",
      "Requirement already satisfied: Pillow in /home/anamarcacini/.local/lib/python3.10/site-packages (from sentence-transformers==2.7.0->-r requirements.txt (line 17)) (10.1.0)\n",
      "Requirement already satisfied: torch>=1.11.0 in /home/anamarcacini/.local/lib/python3.10/site-packages (from sentence-transformers==2.7.0->-r requirements.txt (line 17)) (2.4.1+cu118)\n",
      "Requirement already satisfied: scipy in /home/anamarcacini/.local/lib/python3.10/site-packages (from sentence-transformers==2.7.0->-r requirements.txt (line 17)) (1.11.1)\n",
      "Requirement already satisfied: chromadb!=0.5.4,!=0.5.5,<0.6.0,>=0.4.0 in /home/anamarcacini/.local/lib/python3.10/site-packages (from langchain-chroma->-r requirements.txt (line 18)) (0.5.11)\n",
      "Requirement already satisfied: fastapi<1,>=0.95.2 in /home/anamarcacini/.local/lib/python3.10/site-packages (from langchain-chroma->-r requirements.txt (line 18)) (0.115.0)\n",
      "Requirement already satisfied: python-dateutil>=2.8.2 in /home/anamarcacini/.local/lib/python3.10/site-packages (from jupyter-client>=6.1.12->ipykernel->-r requirements.txt (line 1)) (2.8.2)\n",
      "Requirement already satisfied: jedi>=0.16 in /home/anamarcacini/.local/lib/python3.10/site-packages (from ipython>=7.23.1->ipykernel->-r requirements.txt (line 1)) (0.18.2)\n",
      "Requirement already satisfied: pexpect>4.3; sys_platform != \"win32\" in /usr/lib/python3/dist-packages (from ipython>=7.23.1->ipykernel->-r requirements.txt (line 1)) (4.8.0)\n",
      "Requirement already satisfied: pickleshare in /home/anamarcacini/.local/lib/python3.10/site-packages (from ipython>=7.23.1->ipykernel->-r requirements.txt (line 1)) (0.7.5)\n",
      "Requirement already satisfied: decorator in /home/anamarcacini/.local/lib/python3.10/site-packages (from ipython>=7.23.1->ipykernel->-r requirements.txt (line 1)) (5.1.1)\n",
      "Requirement already satisfied: stack-data in /home/anamarcacini/.local/lib/python3.10/site-packages (from ipython>=7.23.1->ipykernel->-r requirements.txt (line 1)) (0.6.2)\n",
      "Requirement already satisfied: pygments>=2.4.0 in /home/anamarcacini/.local/lib/python3.10/site-packages (from ipython>=7.23.1->ipykernel->-r requirements.txt (line 1)) (2.15.1)\n",
      "Requirement already satisfied: prompt-toolkit!=3.0.37,<3.1.0,>=3.0.30 in /home/anamarcacini/.local/lib/python3.10/site-packages (from ipython>=7.23.1->ipykernel->-r requirements.txt (line 1)) (3.0.38)\n",
      "Requirement already satisfied: backcall in /home/anamarcacini/.local/lib/python3.10/site-packages (from ipython>=7.23.1->ipykernel->-r requirements.txt (line 1)) (0.2.0)\n",
      "Requirement already satisfied: platformdirs>=2.5 in /home/anamarcacini/.local/lib/python3.10/site-packages (from jupyter-core!=5.0.*,>=4.12->ipykernel->-r requirements.txt (line 1)) (3.5.1)\n",
      "Requirement already satisfied: orjson<4.0.0,>=3.9.14 in /home/anamarcacini/.local/lib/python3.10/site-packages (from langsmith<0.2.0,>=0.1.17->langchain==0.1.16->-r requirements.txt (line 2)) (3.10.7)\n",
      "Requirement already satisfied: typing-inspect<1,>=0.4.0 in /home/anamarcacini/.local/lib/python3.10/site-packages (from dataclasses-json<0.7,>=0.5.7->langchain==0.1.16->-r requirements.txt (line 2)) (0.9.0)\n",
      "Requirement already satisfied: marshmallow<4.0.0,>=3.18.0 in /home/anamarcacini/.local/lib/python3.10/site-packages (from dataclasses-json<0.7,>=0.5.7->langchain==0.1.16->-r requirements.txt (line 2)) (3.22.0)\n",
      "Requirement already satisfied: jsonpointer>=1.9 in /home/anamarcacini/.local/lib/python3.10/site-packages (from jsonpatch<2.0,>=1.33->langchain==0.1.16->-r requirements.txt (line 2)) (2.3)\n",
      "Requirement already satisfied: idna<4,>=2.5 in /home/anamarcacini/.local/lib/python3.10/site-packages (from requests<3,>=2->langchain==0.1.16->-r requirements.txt (line 2)) (2.10)\n",
      "Requirement already satisfied: charset-normalizer<4,>=2 in /home/anamarcacini/.local/lib/python3.10/site-packages (from requests<3,>=2->langchain==0.1.16->-r requirements.txt (line 2)) (3.1.0)\n",
      "Requirement already satisfied: greenlet!=0.4.17; platform_machine == \"aarch64\" or (platform_machine == \"ppc64le\" or (platform_machine == \"x86_64\" or (platform_machine == \"amd64\" or (platform_machine == \"AMD64\" or (platform_machine == \"win32\" or platform_machine == \"WIN32\"))))) in /home/anamarcacini/.local/lib/python3.10/site-packages (from SQLAlchemy<3,>=1.4->langchain==0.1.16->-r requirements.txt (line 2)) (2.0.2)\n",
      "Requirement already satisfied: aiohappyeyeballs>=2.3.0 in /home/anamarcacini/.local/lib/python3.10/site-packages (from aiohttp<4.0.0,>=3.8.3->langchain==0.1.16->-r requirements.txt (line 2)) (2.4.2)\n",
      "Requirement already satisfied: multidict<7.0,>=4.5 in /usr/local/lib/python3.10/dist-packages (from aiohttp<4.0.0,>=3.8.3->langchain==0.1.16->-r requirements.txt (line 2)) (6.0.5)\n",
      "Requirement already satisfied: frozenlist>=1.1.1 in /home/anamarcacini/.local/lib/python3.10/site-packages (from aiohttp<4.0.0,>=3.8.3->langchain==0.1.16->-r requirements.txt (line 2)) (1.4.1)\n",
      "Requirement already satisfied: yarl<2.0,>=1.12.0 in /home/anamarcacini/.local/lib/python3.10/site-packages (from aiohttp<4.0.0,>=3.8.3->langchain==0.1.16->-r requirements.txt (line 2)) (1.13.0)\n",
      "Requirement already satisfied: aiosignal>=1.1.2 in /home/anamarcacini/.local/lib/python3.10/site-packages (from aiohttp<4.0.0,>=3.8.3->langchain==0.1.16->-r requirements.txt (line 2)) (1.3.1)\n",
      "Requirement already satisfied: attrs>=17.3.0 in /home/anamarcacini/.local/lib/python3.10/site-packages (from aiohttp<4.0.0,>=3.8.3->langchain==0.1.16->-r requirements.txt (line 2)) (24.2.0)\n",
      "Requirement already satisfied: pydantic-core==2.20.1 in /home/anamarcacini/.local/lib/python3.10/site-packages (from pydantic<3,>=1->langchain==0.1.16->-r requirements.txt (line 2)) (2.20.1)\n",
      "Requirement already satisfied: annotated-types>=0.4.0 in /home/anamarcacini/.local/lib/python3.10/site-packages (from pydantic<3,>=1->langchain==0.1.16->-r requirements.txt (line 2)) (0.7.0)\n",
      "Requirement already satisfied: httpcore==1.* in /home/anamarcacini/.local/lib/python3.10/site-packages (from httpx<1,>=0.23.0->openai==1.20.0->-r requirements.txt (line 5)) (1.0.5)\n",
      "Requirement already satisfied: exceptiongroup; python_version < \"3.11\" in /home/anamarcacini/.local/lib/python3.10/site-packages (from anyio<5,>=3.5.0->openai==1.20.0->-r requirements.txt (line 5)) (1.1.1)\n",
      "Requirement already satisfied: joblib>=1.1.1 in /home/anamarcacini/.local/lib/python3.10/site-packages (from scikit-learn->sentence-transformers==2.7.0->-r requirements.txt (line 17)) (1.3.1)\n",
      "Requirement already satisfied: threadpoolctl>=2.0.0 in /home/anamarcacini/.local/lib/python3.10/site-packages (from scikit-learn->sentence-transformers==2.7.0->-r requirements.txt (line 17)) (3.1.0)\n",
      "Requirement already satisfied: nvidia-cudnn-cu11==9.1.0.70; platform_system == \"Linux\" and platform_machine == \"x86_64\" in /home/anamarcacini/.local/lib/python3.10/site-packages (from torch>=1.11.0->sentence-transformers==2.7.0->-r requirements.txt (line 17)) (9.1.0.70)\n",
      "Requirement already satisfied: networkx in /home/anamarcacini/.local/lib/python3.10/site-packages (from torch>=1.11.0->sentence-transformers==2.7.0->-r requirements.txt (line 17)) (3.2.1)\n",
      "Requirement already satisfied: triton==3.0.0; platform_system == \"Linux\" and platform_machine == \"x86_64\" and python_version < \"3.13\" in /home/anamarcacini/.local/lib/python3.10/site-packages (from torch>=1.11.0->sentence-transformers==2.7.0->-r requirements.txt (line 17)) (3.0.0)\n",
      "Requirement already satisfied: nvidia-curand-cu11==10.3.0.86; platform_system == \"Linux\" and platform_machine == \"x86_64\" in /home/anamarcacini/.local/lib/python3.10/site-packages (from torch>=1.11.0->sentence-transformers==2.7.0->-r requirements.txt (line 17)) (10.3.0.86)\n",
      "Requirement already satisfied: nvidia-cuda-nvrtc-cu11==11.8.89; platform_system == \"Linux\" and platform_machine == \"x86_64\" in /home/anamarcacini/.local/lib/python3.10/site-packages (from torch>=1.11.0->sentence-transformers==2.7.0->-r requirements.txt (line 17)) (11.8.89)\n",
      "Requirement already satisfied: nvidia-cufft-cu11==10.9.0.58; platform_system == \"Linux\" and platform_machine == \"x86_64\" in /home/anamarcacini/.local/lib/python3.10/site-packages (from torch>=1.11.0->sentence-transformers==2.7.0->-r requirements.txt (line 17)) (10.9.0.58)\n",
      "Requirement already satisfied: nvidia-cublas-cu11==11.11.3.6; platform_system == \"Linux\" and platform_machine == \"x86_64\" in /home/anamarcacini/.local/lib/python3.10/site-packages (from torch>=1.11.0->sentence-transformers==2.7.0->-r requirements.txt (line 17)) (11.11.3.6)\n",
      "Requirement already satisfied: nvidia-nvtx-cu11==11.8.86; platform_system == \"Linux\" and platform_machine == \"x86_64\" in /home/anamarcacini/.local/lib/python3.10/site-packages (from torch>=1.11.0->sentence-transformers==2.7.0->-r requirements.txt (line 17)) (11.8.86)\n",
      "Requirement already satisfied: nvidia-cusparse-cu11==11.7.5.86; platform_system == \"Linux\" and platform_machine == \"x86_64\" in /home/anamarcacini/.local/lib/python3.10/site-packages (from torch>=1.11.0->sentence-transformers==2.7.0->-r requirements.txt (line 17)) (11.7.5.86)\n",
      "Requirement already satisfied: nvidia-cusolver-cu11==11.4.1.48; platform_system == \"Linux\" and platform_machine == \"x86_64\" in /home/anamarcacini/.local/lib/python3.10/site-packages (from torch>=1.11.0->sentence-transformers==2.7.0->-r requirements.txt (line 17)) (11.4.1.48)\n",
      "Requirement already satisfied: nvidia-nccl-cu11==2.20.5; platform_system == \"Linux\" and platform_machine == \"x86_64\" in /home/anamarcacini/.local/lib/python3.10/site-packages (from torch>=1.11.0->sentence-transformers==2.7.0->-r requirements.txt (line 17)) (2.20.5)\n",
      "Requirement already satisfied: nvidia-cuda-cupti-cu11==11.8.87; platform_system == \"Linux\" and platform_machine == \"x86_64\" in /home/anamarcacini/.local/lib/python3.10/site-packages (from torch>=1.11.0->sentence-transformers==2.7.0->-r requirements.txt (line 17)) (11.8.87)\n",
      "Requirement already satisfied: nvidia-cuda-runtime-cu11==11.8.89; platform_system == \"Linux\" and platform_machine == \"x86_64\" in /home/anamarcacini/.local/lib/python3.10/site-packages (from torch>=1.11.0->sentence-transformers==2.7.0->-r requirements.txt (line 17)) (11.8.89)\n",
      "Requirement already satisfied: sympy in /home/anamarcacini/.local/lib/python3.10/site-packages (from torch>=1.11.0->sentence-transformers==2.7.0->-r requirements.txt (line 17)) (1.12)\n",
      "Requirement already satisfied: opentelemetry-sdk>=1.2.0 in /home/anamarcacini/.local/lib/python3.10/site-packages (from chromadb!=0.5.4,!=0.5.5,<0.6.0,>=0.4.0->langchain-chroma->-r requirements.txt (line 18)) (1.27.0)\n",
      "Requirement already satisfied: pypika>=0.48.9 in /home/anamarcacini/.local/lib/python3.10/site-packages (from chromadb!=0.5.4,!=0.5.5,<0.6.0,>=0.4.0->langchain-chroma->-r requirements.txt (line 18)) (0.48.9)\n",
      "Requirement already satisfied: onnxruntime>=1.14.1 in /home/anamarcacini/.local/lib/python3.10/site-packages (from chromadb!=0.5.4,!=0.5.5,<0.6.0,>=0.4.0->langchain-chroma->-r requirements.txt (line 18)) (1.19.2)\n",
      "Requirement already satisfied: opentelemetry-exporter-otlp-proto-grpc>=1.2.0 in /home/anamarcacini/.local/lib/python3.10/site-packages (from chromadb!=0.5.4,!=0.5.5,<0.6.0,>=0.4.0->langchain-chroma->-r requirements.txt (line 18)) (1.27.0)\n",
      "Requirement already satisfied: posthog>=2.4.0 in /home/anamarcacini/.local/lib/python3.10/site-packages (from chromadb!=0.5.4,!=0.5.5,<0.6.0,>=0.4.0->langchain-chroma->-r requirements.txt (line 18)) (3.6.6)\n",
      "Requirement already satisfied: uvicorn[standard]>=0.18.3 in /home/anamarcacini/.local/lib/python3.10/site-packages (from chromadb!=0.5.4,!=0.5.5,<0.6.0,>=0.4.0->langchain-chroma->-r requirements.txt (line 18)) (0.30.6)\n",
      "Requirement already satisfied: grpcio>=1.58.0 in /home/anamarcacini/.local/lib/python3.10/site-packages (from chromadb!=0.5.4,!=0.5.5,<0.6.0,>=0.4.0->langchain-chroma->-r requirements.txt (line 18)) (1.66.1)\n",
      "Requirement already satisfied: bcrypt>=4.0.1 in /home/anamarcacini/.local/lib/python3.10/site-packages (from chromadb!=0.5.4,!=0.5.5,<0.6.0,>=0.4.0->langchain-chroma->-r requirements.txt (line 18)) (4.2.0)\n",
      "Requirement already satisfied: typer>=0.9.0 in /home/anamarcacini/.local/lib/python3.10/site-packages (from chromadb!=0.5.4,!=0.5.5,<0.6.0,>=0.4.0->langchain-chroma->-r requirements.txt (line 18)) (0.12.5)\n",
      "Requirement already satisfied: opentelemetry-instrumentation-fastapi>=0.41b0 in /home/anamarcacini/.local/lib/python3.10/site-packages (from chromadb!=0.5.4,!=0.5.5,<0.6.0,>=0.4.0->langchain-chroma->-r requirements.txt (line 18)) (0.48b0)\n",
      "Requirement already satisfied: importlib-resources in /home/anamarcacini/.local/lib/python3.10/site-packages (from chromadb!=0.5.4,!=0.5.5,<0.6.0,>=0.4.0->langchain-chroma->-r requirements.txt (line 18)) (6.4.5)\n",
      "Requirement already satisfied: kubernetes>=28.1.0 in /home/anamarcacini/.local/lib/python3.10/site-packages (from chromadb!=0.5.4,!=0.5.5,<0.6.0,>=0.4.0->langchain-chroma->-r requirements.txt (line 18)) (31.0.0)\n",
      "Requirement already satisfied: overrides>=7.3.1 in /home/anamarcacini/.local/lib/python3.10/site-packages (from chromadb!=0.5.4,!=0.5.5,<0.6.0,>=0.4.0->langchain-chroma->-r requirements.txt (line 18)) (7.3.1)\n",
      "Requirement already satisfied: chroma-hnswlib==0.7.6 in /home/anamarcacini/.local/lib/python3.10/site-packages (from chromadb!=0.5.4,!=0.5.5,<0.6.0,>=0.4.0->langchain-chroma->-r requirements.txt (line 18)) (0.7.6)\n",
      "Requirement already satisfied: rich>=10.11.0 in /usr/local/lib/python3.10/dist-packages (from chromadb!=0.5.4,!=0.5.5,<0.6.0,>=0.4.0->langchain-chroma->-r requirements.txt (line 18)) (13.7.1)\n",
      "Requirement already satisfied: opentelemetry-api>=1.2.0 in /home/anamarcacini/.local/lib/python3.10/site-packages (from chromadb!=0.5.4,!=0.5.5,<0.6.0,>=0.4.0->langchain-chroma->-r requirements.txt (line 18)) (1.27.0)\n",
      "Requirement already satisfied: build>=1.0.3 in /home/anamarcacini/.local/lib/python3.10/site-packages (from chromadb!=0.5.4,!=0.5.5,<0.6.0,>=0.4.0->langchain-chroma->-r requirements.txt (line 18)) (1.2.2)\n",
      "Requirement already satisfied: mmh3>=4.0.1 in /home/anamarcacini/.local/lib/python3.10/site-packages (from chromadb!=0.5.4,!=0.5.5,<0.6.0,>=0.4.0->langchain-chroma->-r requirements.txt (line 18)) (5.0.1)\n",
      "Requirement already satisfied: starlette<0.39.0,>=0.37.2 in /home/anamarcacini/.local/lib/python3.10/site-packages (from fastapi<1,>=0.95.2->langchain-chroma->-r requirements.txt (line 18)) (0.38.6)\n",
      "Requirement already satisfied: six>=1.5 in /usr/lib/python3/dist-packages (from python-dateutil>=2.8.2->jupyter-client>=6.1.12->ipykernel->-r requirements.txt (line 1)) (1.16.0)\n",
      "Requirement already satisfied: parso<0.9.0,>=0.8.0 in /home/anamarcacini/.local/lib/python3.10/site-packages (from jedi>=0.16->ipython>=7.23.1->ipykernel->-r requirements.txt (line 1)) (0.8.3)\n",
      "Requirement already satisfied: executing>=1.2.0 in /home/anamarcacini/.local/lib/python3.10/site-packages (from stack-data->ipython>=7.23.1->ipykernel->-r requirements.txt (line 1)) (1.2.0)\n",
      "Requirement already satisfied: pure-eval in /home/anamarcacini/.local/lib/python3.10/site-packages (from stack-data->ipython>=7.23.1->ipykernel->-r requirements.txt (line 1)) (0.2.2)\n",
      "Requirement already satisfied: asttokens>=2.1.0 in /home/anamarcacini/.local/lib/python3.10/site-packages (from stack-data->ipython>=7.23.1->ipykernel->-r requirements.txt (line 1)) (2.2.1)\n",
      "Requirement already satisfied: wcwidth in /home/anamarcacini/.local/lib/python3.10/site-packages (from prompt-toolkit!=3.0.37,<3.1.0,>=3.0.30->ipython>=7.23.1->ipykernel->-r requirements.txt (line 1)) (0.2.6)\n",
      "Requirement already satisfied: mypy-extensions>=0.3.0 in /home/anamarcacini/.local/lib/python3.10/site-packages (from typing-inspect<1,>=0.4.0->dataclasses-json<0.7,>=0.5.7->langchain==0.1.16->-r requirements.txt (line 2)) (1.0.0)\n",
      "Requirement already satisfied: h11<0.15,>=0.13 in /home/anamarcacini/.local/lib/python3.10/site-packages (from httpcore==1.*->httpx<1,>=0.23.0->openai==1.20.0->-r requirements.txt (line 5)) (0.14.0)\n",
      "Requirement already satisfied: mpmath>=0.19 in /home/anamarcacini/.local/lib/python3.10/site-packages (from sympy->torch>=1.11.0->sentence-transformers==2.7.0->-r requirements.txt (line 17)) (1.3.0)\n",
      "Requirement already satisfied: opentelemetry-semantic-conventions==0.48b0 in /home/anamarcacini/.local/lib/python3.10/site-packages (from opentelemetry-sdk>=1.2.0->chromadb!=0.5.4,!=0.5.5,<0.6.0,>=0.4.0->langchain-chroma->-r requirements.txt (line 18)) (0.48b0)\n",
      "Requirement already satisfied: coloredlogs in /home/anamarcacini/.local/lib/python3.10/site-packages (from onnxruntime>=1.14.1->chromadb!=0.5.4,!=0.5.5,<0.6.0,>=0.4.0->langchain-chroma->-r requirements.txt (line 18)) (15.0.1)\n",
      "Requirement already satisfied: flatbuffers in /home/anamarcacini/.local/lib/python3.10/site-packages (from onnxruntime>=1.14.1->chromadb!=0.5.4,!=0.5.5,<0.6.0,>=0.4.0->langchain-chroma->-r requirements.txt (line 18)) (24.3.25)\n",
      "Requirement already satisfied: protobuf in /home/anamarcacini/.local/lib/python3.10/site-packages (from onnxruntime>=1.14.1->chromadb!=0.5.4,!=0.5.5,<0.6.0,>=0.4.0->langchain-chroma->-r requirements.txt (line 18)) (4.25.5)\n",
      "Requirement already satisfied: googleapis-common-protos~=1.52 in /home/anamarcacini/.local/lib/python3.10/site-packages (from opentelemetry-exporter-otlp-proto-grpc>=1.2.0->chromadb!=0.5.4,!=0.5.5,<0.6.0,>=0.4.0->langchain-chroma->-r requirements.txt (line 18)) (1.65.0)\n",
      "Requirement already satisfied: opentelemetry-proto==1.27.0 in /home/anamarcacini/.local/lib/python3.10/site-packages (from opentelemetry-exporter-otlp-proto-grpc>=1.2.0->chromadb!=0.5.4,!=0.5.5,<0.6.0,>=0.4.0->langchain-chroma->-r requirements.txt (line 18)) (1.27.0)\n",
      "Requirement already satisfied: deprecated>=1.2.6 in /home/anamarcacini/.local/lib/python3.10/site-packages (from opentelemetry-exporter-otlp-proto-grpc>=1.2.0->chromadb!=0.5.4,!=0.5.5,<0.6.0,>=0.4.0->langchain-chroma->-r requirements.txt (line 18)) (1.2.14)\n",
      "Requirement already satisfied: opentelemetry-exporter-otlp-proto-common==1.27.0 in /home/anamarcacini/.local/lib/python3.10/site-packages (from opentelemetry-exporter-otlp-proto-grpc>=1.2.0->chromadb!=0.5.4,!=0.5.5,<0.6.0,>=0.4.0->langchain-chroma->-r requirements.txt (line 18)) (1.27.0)\n",
      "Requirement already satisfied: backoff>=1.10.0 in /home/anamarcacini/.local/lib/python3.10/site-packages (from posthog>=2.4.0->chromadb!=0.5.4,!=0.5.5,<0.6.0,>=0.4.0->langchain-chroma->-r requirements.txt (line 18)) (2.2.1)\n",
      "Requirement already satisfied: monotonic>=1.5 in /home/anamarcacini/.local/lib/python3.10/site-packages (from posthog>=2.4.0->chromadb!=0.5.4,!=0.5.5,<0.6.0,>=0.4.0->langchain-chroma->-r requirements.txt (line 18)) (1.6)\n",
      "Requirement already satisfied: click>=7.0 in /home/anamarcacini/.local/lib/python3.10/site-packages (from uvicorn[standard]>=0.18.3->chromadb!=0.5.4,!=0.5.5,<0.6.0,>=0.4.0->langchain-chroma->-r requirements.txt (line 18)) (8.1.3)\n",
      "Requirement already satisfied: watchfiles>=0.13; extra == \"standard\" in /home/anamarcacini/.local/lib/python3.10/site-packages (from uvicorn[standard]>=0.18.3->chromadb!=0.5.4,!=0.5.5,<0.6.0,>=0.4.0->langchain-chroma->-r requirements.txt (line 18)) (0.24.0)\n",
      "Requirement already satisfied: httptools>=0.5.0; extra == \"standard\" in /home/anamarcacini/.local/lib/python3.10/site-packages (from uvicorn[standard]>=0.18.3->chromadb!=0.5.4,!=0.5.5,<0.6.0,>=0.4.0->langchain-chroma->-r requirements.txt (line 18)) (0.6.1)\n",
      "Requirement already satisfied: uvloop!=0.15.0,!=0.15.1,>=0.14.0; (sys_platform != \"win32\" and (sys_platform != \"cygwin\" and platform_python_implementation != \"PyPy\")) and extra == \"standard\" in /home/anamarcacini/.local/lib/python3.10/site-packages (from uvicorn[standard]>=0.18.3->chromadb!=0.5.4,!=0.5.5,<0.6.0,>=0.4.0->langchain-chroma->-r requirements.txt (line 18)) (0.20.0)\n",
      "Requirement already satisfied: shellingham>=1.3.0 in /home/anamarcacini/.local/lib/python3.10/site-packages (from typer>=0.9.0->chromadb!=0.5.4,!=0.5.5,<0.6.0,>=0.4.0->langchain-chroma->-r requirements.txt (line 18)) (1.5.4)\n",
      "Requirement already satisfied: opentelemetry-instrumentation==0.48b0 in /home/anamarcacini/.local/lib/python3.10/site-packages (from opentelemetry-instrumentation-fastapi>=0.41b0->chromadb!=0.5.4,!=0.5.5,<0.6.0,>=0.4.0->langchain-chroma->-r requirements.txt (line 18)) (0.48b0)\n",
      "Requirement already satisfied: opentelemetry-instrumentation-asgi==0.48b0 in /home/anamarcacini/.local/lib/python3.10/site-packages (from opentelemetry-instrumentation-fastapi>=0.41b0->chromadb!=0.5.4,!=0.5.5,<0.6.0,>=0.4.0->langchain-chroma->-r requirements.txt (line 18)) (0.48b0)\n",
      "Requirement already satisfied: opentelemetry-util-http==0.48b0 in /home/anamarcacini/.local/lib/python3.10/site-packages (from opentelemetry-instrumentation-fastapi>=0.41b0->chromadb!=0.5.4,!=0.5.5,<0.6.0,>=0.4.0->langchain-chroma->-r requirements.txt (line 18)) (0.48b0)\n",
      "Requirement already satisfied: requests-oauthlib in /home/anamarcacini/.local/lib/python3.10/site-packages (from kubernetes>=28.1.0->chromadb!=0.5.4,!=0.5.5,<0.6.0,>=0.4.0->langchain-chroma->-r requirements.txt (line 18)) (2.0.0)\n",
      "Requirement already satisfied: google-auth>=1.0.1 in /home/anamarcacini/.local/lib/python3.10/site-packages (from kubernetes>=28.1.0->chromadb!=0.5.4,!=0.5.5,<0.6.0,>=0.4.0->langchain-chroma->-r requirements.txt (line 18)) (2.35.0)\n",
      "Requirement already satisfied: websocket-client!=0.40.0,!=0.41.*,!=0.42.*,>=0.32.0 in /home/anamarcacini/.local/lib/python3.10/site-packages (from kubernetes>=28.1.0->chromadb!=0.5.4,!=0.5.5,<0.6.0,>=0.4.0->langchain-chroma->-r requirements.txt (line 18)) (1.8.0)\n",
      "Requirement already satisfied: durationpy>=0.7 in /home/anamarcacini/.local/lib/python3.10/site-packages (from kubernetes>=28.1.0->chromadb!=0.5.4,!=0.5.5,<0.6.0,>=0.4.0->langchain-chroma->-r requirements.txt (line 18)) (0.7)\n",
      "Requirement already satisfied: oauthlib>=3.2.2 in /home/anamarcacini/.local/lib/python3.10/site-packages (from kubernetes>=28.1.0->chromadb!=0.5.4,!=0.5.5,<0.6.0,>=0.4.0->langchain-chroma->-r requirements.txt (line 18)) (3.2.2)\n",
      "Requirement already satisfied: markdown-it-py>=2.2.0 in /usr/local/lib/python3.10/dist-packages (from rich>=10.11.0->chromadb!=0.5.4,!=0.5.5,<0.6.0,>=0.4.0->langchain-chroma->-r requirements.txt (line 18)) (3.0.0)\n",
      "Requirement already satisfied: importlib-metadata<=8.4.0,>=6.0 in /home/anamarcacini/.local/lib/python3.10/site-packages (from opentelemetry-api>=1.2.0->chromadb!=0.5.4,!=0.5.5,<0.6.0,>=0.4.0->langchain-chroma->-r requirements.txt (line 18)) (6.6.0)\n",
      "Requirement already satisfied: tomli>=1.1.0; python_version < \"3.11\" in /home/anamarcacini/.local/lib/python3.10/site-packages (from build>=1.0.3->chromadb!=0.5.4,!=0.5.5,<0.6.0,>=0.4.0->langchain-chroma->-r requirements.txt (line 18)) (2.0.1)\n",
      "Requirement already satisfied: pyproject_hooks in /home/anamarcacini/.local/lib/python3.10/site-packages (from build>=1.0.3->chromadb!=0.5.4,!=0.5.5,<0.6.0,>=0.4.0->langchain-chroma->-r requirements.txt (line 18)) (1.1.0)\n",
      "Requirement already satisfied: humanfriendly>=9.1 in /home/anamarcacini/.local/lib/python3.10/site-packages (from coloredlogs->onnxruntime>=1.14.1->chromadb!=0.5.4,!=0.5.5,<0.6.0,>=0.4.0->langchain-chroma->-r requirements.txt (line 18)) (10.0)\n",
      "Requirement already satisfied: wrapt<2,>=1.10 in /home/anamarcacini/.local/lib/python3.10/site-packages (from deprecated>=1.2.6->opentelemetry-exporter-otlp-proto-grpc>=1.2.0->chromadb!=0.5.4,!=0.5.5,<0.6.0,>=0.4.0->langchain-chroma->-r requirements.txt (line 18)) (1.16.0)\n",
      "Requirement already satisfied: setuptools>=16.0 in /usr/lib/python3/dist-packages (from opentelemetry-instrumentation==0.48b0->opentelemetry-instrumentation-fastapi>=0.41b0->chromadb!=0.5.4,!=0.5.5,<0.6.0,>=0.4.0->langchain-chroma->-r requirements.txt (line 18)) (59.6.0)\n",
      "Requirement already satisfied: asgiref~=3.0 in /home/anamarcacini/.local/lib/python3.10/site-packages (from opentelemetry-instrumentation-asgi==0.48b0->opentelemetry-instrumentation-fastapi>=0.41b0->chromadb!=0.5.4,!=0.5.5,<0.6.0,>=0.4.0->langchain-chroma->-r requirements.txt (line 18)) (3.8.1)\n",
      "Requirement already satisfied: rsa<5,>=3.1.4 in /home/anamarcacini/.local/lib/python3.10/site-packages (from google-auth>=1.0.1->kubernetes>=28.1.0->chromadb!=0.5.4,!=0.5.5,<0.6.0,>=0.4.0->langchain-chroma->-r requirements.txt (line 18)) (4.9)\n",
      "Requirement already satisfied: pyasn1-modules>=0.2.1 in /home/anamarcacini/.local/lib/python3.10/site-packages (from google-auth>=1.0.1->kubernetes>=28.1.0->chromadb!=0.5.4,!=0.5.5,<0.6.0,>=0.4.0->langchain-chroma->-r requirements.txt (line 18)) (0.4.1)\n",
      "Requirement already satisfied: cachetools<6.0,>=2.0.0 in /home/anamarcacini/.local/lib/python3.10/site-packages (from google-auth>=1.0.1->kubernetes>=28.1.0->chromadb!=0.5.4,!=0.5.5,<0.6.0,>=0.4.0->langchain-chroma->-r requirements.txt (line 18)) (5.5.0)\n",
      "Requirement already satisfied: mdurl~=0.1 in /usr/local/lib/python3.10/dist-packages (from markdown-it-py>=2.2.0->rich>=10.11.0->chromadb!=0.5.4,!=0.5.5,<0.6.0,>=0.4.0->langchain-chroma->-r requirements.txt (line 18)) (0.1.2)\n",
      "Requirement already satisfied: zipp>=0.5 in /home/anamarcacini/.local/lib/python3.10/site-packages (from importlib-metadata<=8.4.0,>=6.0->opentelemetry-api>=1.2.0->chromadb!=0.5.4,!=0.5.5,<0.6.0,>=0.4.0->langchain-chroma->-r requirements.txt (line 18)) (3.15.0)\n",
      "Requirement already satisfied: pyasn1>=0.1.3 in /home/anamarcacini/.local/lib/python3.10/site-packages (from rsa<5,>=3.1.4->google-auth>=1.0.1->kubernetes>=28.1.0->chromadb!=0.5.4,!=0.5.5,<0.6.0,>=0.4.0->langchain-chroma->-r requirements.txt (line 18)) (0.6.1)\n",
      "Installing collected packages: tokenizers\n",
      "  Attempting uninstall: tokenizers\n",
      "    Found existing installation: tokenizers 0.20.0\n",
      "    Uninstalling tokenizers-0.20.0:\n",
      "      Successfully uninstalled tokenizers-0.20.0\n",
      "Successfully installed tokenizers-0.15.2\n"
     ]
    }
   ],
   "source": [
    "!pip install -r requirements.txt --use-deprecated=legacy-resolver\n",
    "\n"
   ]
  },
  {
   "cell_type": "code",
   "execution_count": 10,
   "id": "9674ade6",
   "metadata": {},
   "outputs": [
    {
     "name": "stdout",
     "output_type": "stream",
     "text": [
      "Defaulting to user installation because normal site-packages is not writeable\n",
      "Requirement already up-to-date: langchain in /home/anamarcacini/.local/lib/python3.10/site-packages (0.3.1)\n",
      "Requirement already up-to-date: langchain-community in /home/anamarcacini/.local/lib/python3.10/site-packages (0.3.1)\n",
      "Requirement already up-to-date: transformers in /home/anamarcacini/.local/lib/python3.10/site-packages (4.45.1)\n",
      "Requirement already satisfied, skipping upgrade: aiohttp<4.0.0,>=3.8.3 in /home/anamarcacini/.local/lib/python3.10/site-packages (from langchain) (3.10.6)\n",
      "Requirement already satisfied, skipping upgrade: langchain-text-splitters<0.4.0,>=0.3.0 in /home/anamarcacini/.local/lib/python3.10/site-packages (from langchain) (0.3.0)\n",
      "Requirement already satisfied, skipping upgrade: pydantic<3.0.0,>=2.7.4 in /home/anamarcacini/.local/lib/python3.10/site-packages (from langchain) (2.8.2)\n",
      "Requirement already satisfied, skipping upgrade: PyYAML>=5.3 in /home/anamarcacini/.local/lib/python3.10/site-packages (from langchain) (6.0.2)\n",
      "Requirement already satisfied, skipping upgrade: SQLAlchemy<3,>=1.4 in /home/anamarcacini/.local/lib/python3.10/site-packages (from langchain) (2.0.23)\n",
      "Requirement already satisfied, skipping upgrade: langchain-core<0.4.0,>=0.3.6 in /home/anamarcacini/.local/lib/python3.10/site-packages (from langchain) (0.3.7)\n",
      "Requirement already satisfied, skipping upgrade: async-timeout<5.0.0,>=4.0.0; python_version < \"3.11\" in /home/anamarcacini/.local/lib/python3.10/site-packages (from langchain) (4.0.3)\n",
      "Requirement already satisfied, skipping upgrade: requests<3,>=2 in /home/anamarcacini/.local/lib/python3.10/site-packages (from langchain) (2.32.3)\n",
      "Requirement already satisfied, skipping upgrade: numpy<2,>=1; python_version < \"3.12\" in /home/anamarcacini/.local/lib/python3.10/site-packages (from langchain) (1.24.3)\n",
      "Requirement already satisfied, skipping upgrade: tenacity!=8.4.0,<9.0.0,>=8.1.0 in /home/anamarcacini/.local/lib/python3.10/site-packages (from langchain) (8.5.0)\n",
      "Requirement already satisfied, skipping upgrade: langsmith<0.2.0,>=0.1.17 in /home/anamarcacini/.local/lib/python3.10/site-packages (from langchain) (0.1.129)\n",
      "Requirement already satisfied, skipping upgrade: pydantic-settings<3.0.0,>=2.4.0 in /home/anamarcacini/.local/lib/python3.10/site-packages (from langchain-community) (2.5.2)\n",
      "Requirement already satisfied, skipping upgrade: dataclasses-json<0.7,>=0.5.7 in /home/anamarcacini/.local/lib/python3.10/site-packages (from langchain-community) (0.6.7)\n",
      "Requirement already satisfied, skipping upgrade: tokenizers<0.21,>=0.20 in /home/anamarcacini/.local/lib/python3.10/site-packages (from transformers) (0.20.0)\n",
      "Requirement already satisfied, skipping upgrade: tqdm>=4.27 in /home/anamarcacini/.local/lib/python3.10/site-packages (from transformers) (4.66.5)\n",
      "Requirement already satisfied, skipping upgrade: huggingface-hub<1.0,>=0.23.2 in /home/anamarcacini/.local/lib/python3.10/site-packages (from transformers) (0.25.1)\n",
      "Requirement already satisfied, skipping upgrade: safetensors>=0.4.1 in /home/anamarcacini/.local/lib/python3.10/site-packages (from transformers) (0.4.5)\n",
      "Requirement already satisfied, skipping upgrade: filelock in /home/anamarcacini/.local/lib/python3.10/site-packages (from transformers) (3.12.0)\n",
      "Requirement already satisfied, skipping upgrade: packaging>=20.0 in /home/anamarcacini/.local/lib/python3.10/site-packages (from transformers) (23.2)\n",
      "Requirement already satisfied, skipping upgrade: regex!=2019.12.17 in /home/anamarcacini/.local/lib/python3.10/site-packages (from transformers) (2024.9.11)\n",
      "Requirement already satisfied, skipping upgrade: frozenlist>=1.1.1 in /home/anamarcacini/.local/lib/python3.10/site-packages (from aiohttp<4.0.0,>=3.8.3->langchain) (1.4.1)\n",
      "Requirement already satisfied, skipping upgrade: yarl<2.0,>=1.12.0 in /home/anamarcacini/.local/lib/python3.10/site-packages (from aiohttp<4.0.0,>=3.8.3->langchain) (1.13.0)\n",
      "Requirement already satisfied, skipping upgrade: aiosignal>=1.1.2 in /home/anamarcacini/.local/lib/python3.10/site-packages (from aiohttp<4.0.0,>=3.8.3->langchain) (1.3.1)\n",
      "Requirement already satisfied, skipping upgrade: attrs>=17.3.0 in /home/anamarcacini/.local/lib/python3.10/site-packages (from aiohttp<4.0.0,>=3.8.3->langchain) (24.2.0)\n",
      "Requirement already satisfied, skipping upgrade: aiohappyeyeballs>=2.3.0 in /home/anamarcacini/.local/lib/python3.10/site-packages (from aiohttp<4.0.0,>=3.8.3->langchain) (2.4.2)\n",
      "Requirement already satisfied, skipping upgrade: multidict<7.0,>=4.5 in /usr/local/lib/python3.10/dist-packages (from aiohttp<4.0.0,>=3.8.3->langchain) (6.0.5)\n",
      "Requirement already satisfied, skipping upgrade: pydantic-core==2.20.1 in /home/anamarcacini/.local/lib/python3.10/site-packages (from pydantic<3.0.0,>=2.7.4->langchain) (2.20.1)\n",
      "Requirement already satisfied, skipping upgrade: typing-extensions>=4.6.1; python_version < \"3.13\" in /home/anamarcacini/.local/lib/python3.10/site-packages (from pydantic<3.0.0,>=2.7.4->langchain) (4.12.2)\n",
      "Requirement already satisfied, skipping upgrade: annotated-types>=0.4.0 in /home/anamarcacini/.local/lib/python3.10/site-packages (from pydantic<3.0.0,>=2.7.4->langchain) (0.7.0)\n",
      "Requirement already satisfied, skipping upgrade: greenlet!=0.4.17; platform_machine == \"aarch64\" or (platform_machine == \"ppc64le\" or (platform_machine == \"x86_64\" or (platform_machine == \"amd64\" or (platform_machine == \"AMD64\" or (platform_machine == \"win32\" or platform_machine == \"WIN32\"))))) in /home/anamarcacini/.local/lib/python3.10/site-packages (from SQLAlchemy<3,>=1.4->langchain) (2.0.2)\n",
      "Requirement already satisfied, skipping upgrade: jsonpatch<2.0,>=1.33 in /home/anamarcacini/.local/lib/python3.10/site-packages (from langchain-core<0.4.0,>=0.3.6->langchain) (1.33)\n",
      "Requirement already satisfied, skipping upgrade: urllib3<3,>=1.21.1 in /home/anamarcacini/.local/lib/python3.10/site-packages (from requests<3,>=2->langchain) (2.2.3)\n",
      "Requirement already satisfied, skipping upgrade: charset-normalizer<4,>=2 in /home/anamarcacini/.local/lib/python3.10/site-packages (from requests<3,>=2->langchain) (3.1.0)\n",
      "Requirement already satisfied, skipping upgrade: idna<4,>=2.5 in /home/anamarcacini/.local/lib/python3.10/site-packages (from requests<3,>=2->langchain) (2.10)\n",
      "Requirement already satisfied, skipping upgrade: certifi>=2017.4.17 in /home/anamarcacini/.local/lib/python3.10/site-packages (from requests<3,>=2->langchain) (2022.12.7)\n",
      "Requirement already satisfied, skipping upgrade: httpx<1,>=0.23.0 in /home/anamarcacini/.local/lib/python3.10/site-packages (from langsmith<0.2.0,>=0.1.17->langchain) (0.27.2)\n",
      "Requirement already satisfied, skipping upgrade: orjson<4.0.0,>=3.9.14 in /home/anamarcacini/.local/lib/python3.10/site-packages (from langsmith<0.2.0,>=0.1.17->langchain) (3.10.7)\n",
      "Requirement already satisfied, skipping upgrade: python-dotenv>=0.21.0 in /home/anamarcacini/.local/lib/python3.10/site-packages (from pydantic-settings<3.0.0,>=2.4.0->langchain-community) (1.0.1)\n",
      "Requirement already satisfied, skipping upgrade: typing-inspect<1,>=0.4.0 in /home/anamarcacini/.local/lib/python3.10/site-packages (from dataclasses-json<0.7,>=0.5.7->langchain-community) (0.9.0)\n",
      "Requirement already satisfied, skipping upgrade: marshmallow<4.0.0,>=3.18.0 in /home/anamarcacini/.local/lib/python3.10/site-packages (from dataclasses-json<0.7,>=0.5.7->langchain-community) (3.22.0)\n",
      "Requirement already satisfied, skipping upgrade: fsspec>=2023.5.0 in /home/anamarcacini/.local/lib/python3.10/site-packages (from huggingface-hub<1.0,>=0.23.2->transformers) (2024.6.1)\n",
      "Requirement already satisfied, skipping upgrade: jsonpointer>=1.9 in /home/anamarcacini/.local/lib/python3.10/site-packages (from jsonpatch<2.0,>=1.33->langchain-core<0.4.0,>=0.3.6->langchain) (2.3)\n",
      "Requirement already satisfied, skipping upgrade: anyio in /home/anamarcacini/.local/lib/python3.10/site-packages (from httpx<1,>=0.23.0->langsmith<0.2.0,>=0.1.17->langchain) (3.7.0)\n",
      "Requirement already satisfied, skipping upgrade: sniffio in /home/anamarcacini/.local/lib/python3.10/site-packages (from httpx<1,>=0.23.0->langsmith<0.2.0,>=0.1.17->langchain) (1.3.0)\n",
      "Requirement already satisfied, skipping upgrade: httpcore==1.* in /home/anamarcacini/.local/lib/python3.10/site-packages (from httpx<1,>=0.23.0->langsmith<0.2.0,>=0.1.17->langchain) (1.0.5)\n",
      "Requirement already satisfied, skipping upgrade: mypy-extensions>=0.3.0 in /home/anamarcacini/.local/lib/python3.10/site-packages (from typing-inspect<1,>=0.4.0->dataclasses-json<0.7,>=0.5.7->langchain-community) (1.0.0)\n",
      "Requirement already satisfied, skipping upgrade: exceptiongroup; python_version < \"3.11\" in /home/anamarcacini/.local/lib/python3.10/site-packages (from anyio->httpx<1,>=0.23.0->langsmith<0.2.0,>=0.1.17->langchain) (1.1.1)\n",
      "Requirement already satisfied, skipping upgrade: h11<0.15,>=0.13 in /home/anamarcacini/.local/lib/python3.10/site-packages (from httpcore==1.*->httpx<1,>=0.23.0->langsmith<0.2.0,>=0.1.17->langchain) (0.14.0)\n"
     ]
    }
   ],
   "source": [
    "!python -m pip install --upgrade langchain langchain-community transformers  --use-deprecated=legacy-resolver"
   ]
  },
  {
   "cell_type": "code",
   "execution_count": 12,
   "id": "d8c237b8",
   "metadata": {},
   "outputs": [
    {
     "name": "stdout",
     "output_type": "stream",
     "text": [
      "Defaulting to user installation because normal site-packages is not writeable\n",
      "Requirement already satisfied: transformers in /home/anamarcacini/.local/lib/python3.10/site-packages (4.45.1)\n",
      "Requirement already satisfied: regex!=2019.12.17 in /home/anamarcacini/.local/lib/python3.10/site-packages (from transformers) (2024.9.11)\n",
      "Requirement already satisfied: requests in /home/anamarcacini/.local/lib/python3.10/site-packages (from transformers) (2.32.3)\n",
      "Requirement already satisfied: safetensors>=0.4.1 in /home/anamarcacini/.local/lib/python3.10/site-packages (from transformers) (0.4.5)\n",
      "Requirement already satisfied: huggingface-hub<1.0,>=0.23.2 in /home/anamarcacini/.local/lib/python3.10/site-packages (from transformers) (0.25.1)\n",
      "Requirement already satisfied: tqdm>=4.27 in /home/anamarcacini/.local/lib/python3.10/site-packages (from transformers) (4.66.5)\n",
      "Requirement already satisfied: tokenizers<0.21,>=0.20 in /home/anamarcacini/.local/lib/python3.10/site-packages (from transformers) (0.20.0)\n",
      "Requirement already satisfied: numpy>=1.17 in /home/anamarcacini/.local/lib/python3.10/site-packages (from transformers) (1.24.3)\n",
      "Requirement already satisfied: filelock in /home/anamarcacini/.local/lib/python3.10/site-packages (from transformers) (3.12.0)\n",
      "Requirement already satisfied: pyyaml>=5.1 in /home/anamarcacini/.local/lib/python3.10/site-packages (from transformers) (6.0.2)\n",
      "Requirement already satisfied: packaging>=20.0 in /home/anamarcacini/.local/lib/python3.10/site-packages (from transformers) (23.2)\n",
      "Requirement already satisfied: typing-extensions>=3.7.4.3 in /home/anamarcacini/.local/lib/python3.10/site-packages (from huggingface-hub<1.0,>=0.23.2->transformers) (4.12.2)\n",
      "Requirement already satisfied: fsspec>=2023.5.0 in /home/anamarcacini/.local/lib/python3.10/site-packages (from huggingface-hub<1.0,>=0.23.2->transformers) (2024.6.1)\n",
      "Requirement already satisfied: idna<4,>=2.5 in /home/anamarcacini/.local/lib/python3.10/site-packages (from requests->transformers) (2.10)\n",
      "Requirement already satisfied: certifi>=2017.4.17 in /home/anamarcacini/.local/lib/python3.10/site-packages (from requests->transformers) (2022.12.7)\n",
      "Requirement already satisfied: urllib3<3,>=1.21.1 in /home/anamarcacini/.local/lib/python3.10/site-packages (from requests->transformers) (2.2.3)\n",
      "Requirement already satisfied: charset-normalizer<4,>=2 in /home/anamarcacini/.local/lib/python3.10/site-packages (from requests->transformers) (3.1.0)\n"
     ]
    }
   ],
   "source": [
    "!pip install --upgrade transformers"
   ]
  },
  {
   "cell_type": "code",
   "execution_count": 13,
   "id": "9739f737",
   "metadata": {},
   "outputs": [
    {
     "name": "stdout",
     "output_type": "stream",
     "text": [
      "Token has not been saved to git credential helper. Pass `add_to_git_credential=True` if you want to set the git credential as well.\n",
      "Token is valid (permission: fineGrained).\n",
      "Your token has been saved to /home/anamarcacini/.cache/huggingface/token\n",
      "Login successful\n"
     ]
    },
    {
     "ename": "Exception",
     "evalue": "data did not match any variant of untagged enum PyPreTokenizerTypeWrapper at line 40 column 3",
     "output_type": "error",
     "traceback": [
      "\u001b[0;31m---------------------------------------------------------------------------\u001b[0m",
      "\u001b[0;31mException\u001b[0m                                 Traceback (most recent call last)",
      "Cell \u001b[0;32mIn[13], line 4\u001b[0m\n\u001b[1;32m      1\u001b[0m modelo \u001b[38;5;241m=\u001b[39m \u001b[38;5;124m'\u001b[39m\u001b[38;5;124mmistralai/Mixtral-8x7B-Instruct-v0.1\u001b[39m\u001b[38;5;124m'\u001b[39m\n\u001b[1;32m      3\u001b[0m llm \u001b[38;5;241m=\u001b[39m HuggingFaceEndpoint(repo_id\u001b[38;5;241m=\u001b[39mmodelo)\n\u001b[0;32m----> 4\u001b[0m chat \u001b[38;5;241m=\u001b[39m \u001b[43mChatHuggingFace\u001b[49m\u001b[43m(\u001b[49m\u001b[43mllm\u001b[49m\u001b[38;5;241;43m=\u001b[39;49m\u001b[43mllm\u001b[49m\u001b[43m)\u001b[49m\n",
      "File \u001b[0;32m~/.local/lib/python3.10/site-packages/langchain_community/chat_models/huggingface.py:56\u001b[0m, in \u001b[0;36mChatHuggingFace.__init__\u001b[0;34m(self, **kwargs)\u001b[0m\n\u001b[1;32m     51\u001b[0m \u001b[38;5;28;01mfrom\u001b[39;00m \u001b[38;5;21;01mtransformers\u001b[39;00m \u001b[38;5;28;01mimport\u001b[39;00m AutoTokenizer\n\u001b[1;32m     53\u001b[0m \u001b[38;5;28mself\u001b[39m\u001b[38;5;241m.\u001b[39m_resolve_model_id()\n\u001b[1;32m     55\u001b[0m \u001b[38;5;28mself\u001b[39m\u001b[38;5;241m.\u001b[39mtokenizer \u001b[38;5;241m=\u001b[39m (\n\u001b[0;32m---> 56\u001b[0m     \u001b[43mAutoTokenizer\u001b[49m\u001b[38;5;241;43m.\u001b[39;49m\u001b[43mfrom_pretrained\u001b[49m\u001b[43m(\u001b[49m\u001b[38;5;28;43mself\u001b[39;49m\u001b[38;5;241;43m.\u001b[39;49m\u001b[43mmodel_id\u001b[49m\u001b[43m)\u001b[49m\n\u001b[1;32m     57\u001b[0m     \u001b[38;5;28;01mif\u001b[39;00m \u001b[38;5;28mself\u001b[39m\u001b[38;5;241m.\u001b[39mtokenizer \u001b[38;5;129;01mis\u001b[39;00m \u001b[38;5;28;01mNone\u001b[39;00m\n\u001b[1;32m     58\u001b[0m     \u001b[38;5;28;01melse\u001b[39;00m \u001b[38;5;28mself\u001b[39m\u001b[38;5;241m.\u001b[39mtokenizer\n\u001b[1;32m     59\u001b[0m )\n",
      "File \u001b[0;32m~/.local/lib/python3.10/site-packages/transformers/models/auto/tokenization_auto.py:837\u001b[0m, in \u001b[0;36mAutoTokenizer.from_pretrained\u001b[0;34m(cls, pretrained_model_name_or_path, *inputs, **kwargs)\u001b[0m\n\u001b[1;32m    833\u001b[0m     \u001b[38;5;28;01mif\u001b[39;00m tokenizer_class \u001b[38;5;129;01mis\u001b[39;00m \u001b[38;5;28;01mNone\u001b[39;00m:\n\u001b[1;32m    834\u001b[0m         \u001b[38;5;28;01mraise\u001b[39;00m \u001b[38;5;167;01mValueError\u001b[39;00m(\n\u001b[1;32m    835\u001b[0m             \u001b[38;5;124mf\u001b[39m\u001b[38;5;124m\"\u001b[39m\u001b[38;5;124mTokenizer class \u001b[39m\u001b[38;5;132;01m{\u001b[39;00mtokenizer_class_candidate\u001b[38;5;132;01m}\u001b[39;00m\u001b[38;5;124m does not exist or is not currently imported.\u001b[39m\u001b[38;5;124m\"\u001b[39m\n\u001b[1;32m    836\u001b[0m         )\n\u001b[0;32m--> 837\u001b[0m     \u001b[38;5;28;01mreturn\u001b[39;00m \u001b[43mtokenizer_class\u001b[49m\u001b[38;5;241;43m.\u001b[39;49m\u001b[43mfrom_pretrained\u001b[49m\u001b[43m(\u001b[49m\u001b[43mpretrained_model_name_or_path\u001b[49m\u001b[43m,\u001b[49m\u001b[43m \u001b[49m\u001b[38;5;241;43m*\u001b[39;49m\u001b[43minputs\u001b[49m\u001b[43m,\u001b[49m\u001b[43m \u001b[49m\u001b[38;5;241;43m*\u001b[39;49m\u001b[38;5;241;43m*\u001b[39;49m\u001b[43mkwargs\u001b[49m\u001b[43m)\u001b[49m\n\u001b[1;32m    839\u001b[0m \u001b[38;5;66;03m# Otherwise we have to be creative.\u001b[39;00m\n\u001b[1;32m    840\u001b[0m \u001b[38;5;66;03m# if model is an encoder decoder, the encoder tokenizer class is used by default\u001b[39;00m\n\u001b[1;32m    841\u001b[0m \u001b[38;5;28;01mif\u001b[39;00m \u001b[38;5;28misinstance\u001b[39m(config, EncoderDecoderConfig):\n",
      "File \u001b[0;32m~/.local/lib/python3.10/site-packages/transformers/tokenization_utils_base.py:2086\u001b[0m, in \u001b[0;36mPreTrainedTokenizerBase.from_pretrained\u001b[0;34m(cls, pretrained_model_name_or_path, cache_dir, force_download, local_files_only, token, revision, trust_remote_code, *init_inputs, **kwargs)\u001b[0m\n\u001b[1;32m   2083\u001b[0m     \u001b[38;5;28;01melse\u001b[39;00m:\n\u001b[1;32m   2084\u001b[0m         logger\u001b[38;5;241m.\u001b[39minfo(\u001b[38;5;124mf\u001b[39m\u001b[38;5;124m\"\u001b[39m\u001b[38;5;124mloading file \u001b[39m\u001b[38;5;132;01m{\u001b[39;00mfile_path\u001b[38;5;132;01m}\u001b[39;00m\u001b[38;5;124m from cache at \u001b[39m\u001b[38;5;132;01m{\u001b[39;00mresolved_vocab_files[file_id]\u001b[38;5;132;01m}\u001b[39;00m\u001b[38;5;124m\"\u001b[39m)\n\u001b[0;32m-> 2086\u001b[0m \u001b[38;5;28;01mreturn\u001b[39;00m \u001b[38;5;28;43mcls\u001b[39;49m\u001b[38;5;241;43m.\u001b[39;49m\u001b[43m_from_pretrained\u001b[49m\u001b[43m(\u001b[49m\n\u001b[1;32m   2087\u001b[0m \u001b[43m    \u001b[49m\u001b[43mresolved_vocab_files\u001b[49m\u001b[43m,\u001b[49m\n\u001b[1;32m   2088\u001b[0m \u001b[43m    \u001b[49m\u001b[43mpretrained_model_name_or_path\u001b[49m\u001b[43m,\u001b[49m\n\u001b[1;32m   2089\u001b[0m \u001b[43m    \u001b[49m\u001b[43minit_configuration\u001b[49m\u001b[43m,\u001b[49m\n\u001b[1;32m   2090\u001b[0m \u001b[43m    \u001b[49m\u001b[38;5;241;43m*\u001b[39;49m\u001b[43minit_inputs\u001b[49m\u001b[43m,\u001b[49m\n\u001b[1;32m   2091\u001b[0m \u001b[43m    \u001b[49m\u001b[43mtoken\u001b[49m\u001b[38;5;241;43m=\u001b[39;49m\u001b[43mtoken\u001b[49m\u001b[43m,\u001b[49m\n\u001b[1;32m   2092\u001b[0m \u001b[43m    \u001b[49m\u001b[43mcache_dir\u001b[49m\u001b[38;5;241;43m=\u001b[39;49m\u001b[43mcache_dir\u001b[49m\u001b[43m,\u001b[49m\n\u001b[1;32m   2093\u001b[0m \u001b[43m    \u001b[49m\u001b[43mlocal_files_only\u001b[49m\u001b[38;5;241;43m=\u001b[39;49m\u001b[43mlocal_files_only\u001b[49m\u001b[43m,\u001b[49m\n\u001b[1;32m   2094\u001b[0m \u001b[43m    \u001b[49m\u001b[43m_commit_hash\u001b[49m\u001b[38;5;241;43m=\u001b[39;49m\u001b[43mcommit_hash\u001b[49m\u001b[43m,\u001b[49m\n\u001b[1;32m   2095\u001b[0m \u001b[43m    \u001b[49m\u001b[43m_is_local\u001b[49m\u001b[38;5;241;43m=\u001b[39;49m\u001b[43mis_local\u001b[49m\u001b[43m,\u001b[49m\n\u001b[1;32m   2096\u001b[0m \u001b[43m    \u001b[49m\u001b[43mtrust_remote_code\u001b[49m\u001b[38;5;241;43m=\u001b[39;49m\u001b[43mtrust_remote_code\u001b[49m\u001b[43m,\u001b[49m\n\u001b[1;32m   2097\u001b[0m \u001b[43m    \u001b[49m\u001b[38;5;241;43m*\u001b[39;49m\u001b[38;5;241;43m*\u001b[39;49m\u001b[43mkwargs\u001b[49m\u001b[43m,\u001b[49m\n\u001b[1;32m   2098\u001b[0m \u001b[43m\u001b[49m\u001b[43m)\u001b[49m\n",
      "File \u001b[0;32m~/.local/lib/python3.10/site-packages/transformers/tokenization_utils_base.py:2325\u001b[0m, in \u001b[0;36mPreTrainedTokenizerBase._from_pretrained\u001b[0;34m(cls, resolved_vocab_files, pretrained_model_name_or_path, init_configuration, token, cache_dir, local_files_only, _commit_hash, _is_local, trust_remote_code, *init_inputs, **kwargs)\u001b[0m\n\u001b[1;32m   2323\u001b[0m \u001b[38;5;66;03m# Instantiate the tokenizer.\u001b[39;00m\n\u001b[1;32m   2324\u001b[0m \u001b[38;5;28;01mtry\u001b[39;00m:\n\u001b[0;32m-> 2325\u001b[0m     tokenizer \u001b[38;5;241m=\u001b[39m \u001b[38;5;28;43mcls\u001b[39;49m\u001b[43m(\u001b[49m\u001b[38;5;241;43m*\u001b[39;49m\u001b[43minit_inputs\u001b[49m\u001b[43m,\u001b[49m\u001b[43m \u001b[49m\u001b[38;5;241;43m*\u001b[39;49m\u001b[38;5;241;43m*\u001b[39;49m\u001b[43minit_kwargs\u001b[49m\u001b[43m)\u001b[49m\n\u001b[1;32m   2326\u001b[0m \u001b[38;5;28;01mexcept\u001b[39;00m \u001b[38;5;167;01mOSError\u001b[39;00m:\n\u001b[1;32m   2327\u001b[0m     \u001b[38;5;28;01mraise\u001b[39;00m \u001b[38;5;167;01mOSError\u001b[39;00m(\n\u001b[1;32m   2328\u001b[0m         \u001b[38;5;124m\"\u001b[39m\u001b[38;5;124mUnable to load vocabulary from file. \u001b[39m\u001b[38;5;124m\"\u001b[39m\n\u001b[1;32m   2329\u001b[0m         \u001b[38;5;124m\"\u001b[39m\u001b[38;5;124mPlease check that the provided vocabulary is accessible and not corrupted.\u001b[39m\u001b[38;5;124m\"\u001b[39m\n\u001b[1;32m   2330\u001b[0m     )\n",
      "File \u001b[0;32m~/.local/lib/python3.10/site-packages/transformers/models/llama/tokenization_llama_fast.py:133\u001b[0m, in \u001b[0;36mLlamaTokenizerFast.__init__\u001b[0;34m(self, vocab_file, tokenizer_file, clean_up_tokenization_spaces, unk_token, bos_token, eos_token, add_bos_token, add_eos_token, use_default_system_prompt, add_prefix_space, **kwargs)\u001b[0m\n\u001b[1;32m    128\u001b[0m     logger\u001b[38;5;241m.\u001b[39mwarning_once(\n\u001b[1;32m    129\u001b[0m         \u001b[38;5;124m\"\u001b[39m\u001b[38;5;124mYou set `add_prefix_space`. The tokenizer needs to be converted from the slow tokenizers\u001b[39m\u001b[38;5;124m\"\u001b[39m\n\u001b[1;32m    130\u001b[0m     )\n\u001b[1;32m    131\u001b[0m     kwargs[\u001b[38;5;124m\"\u001b[39m\u001b[38;5;124mfrom_slow\u001b[39m\u001b[38;5;124m\"\u001b[39m] \u001b[38;5;241m=\u001b[39m \u001b[38;5;28;01mTrue\u001b[39;00m\n\u001b[0;32m--> 133\u001b[0m \u001b[38;5;28;43msuper\u001b[39;49m\u001b[43m(\u001b[49m\u001b[43m)\u001b[49m\u001b[38;5;241;43m.\u001b[39;49m\u001b[38;5;21;43m__init__\u001b[39;49m\u001b[43m(\u001b[49m\n\u001b[1;32m    134\u001b[0m \u001b[43m    \u001b[49m\u001b[43mvocab_file\u001b[49m\u001b[38;5;241;43m=\u001b[39;49m\u001b[43mvocab_file\u001b[49m\u001b[43m,\u001b[49m\n\u001b[1;32m    135\u001b[0m \u001b[43m    \u001b[49m\u001b[43mtokenizer_file\u001b[49m\u001b[38;5;241;43m=\u001b[39;49m\u001b[43mtokenizer_file\u001b[49m\u001b[43m,\u001b[49m\n\u001b[1;32m    136\u001b[0m \u001b[43m    \u001b[49m\u001b[43mclean_up_tokenization_spaces\u001b[49m\u001b[38;5;241;43m=\u001b[39;49m\u001b[43mclean_up_tokenization_spaces\u001b[49m\u001b[43m,\u001b[49m\n\u001b[1;32m    137\u001b[0m \u001b[43m    \u001b[49m\u001b[43munk_token\u001b[49m\u001b[38;5;241;43m=\u001b[39;49m\u001b[43munk_token\u001b[49m\u001b[43m,\u001b[49m\n\u001b[1;32m    138\u001b[0m \u001b[43m    \u001b[49m\u001b[43mbos_token\u001b[49m\u001b[38;5;241;43m=\u001b[39;49m\u001b[43mbos_token\u001b[49m\u001b[43m,\u001b[49m\n\u001b[1;32m    139\u001b[0m \u001b[43m    \u001b[49m\u001b[43meos_token\u001b[49m\u001b[38;5;241;43m=\u001b[39;49m\u001b[43meos_token\u001b[49m\u001b[43m,\u001b[49m\n\u001b[1;32m    140\u001b[0m \u001b[43m    \u001b[49m\u001b[43madd_bos_token\u001b[49m\u001b[38;5;241;43m=\u001b[39;49m\u001b[43madd_bos_token\u001b[49m\u001b[43m,\u001b[49m\n\u001b[1;32m    141\u001b[0m \u001b[43m    \u001b[49m\u001b[43madd_eos_token\u001b[49m\u001b[38;5;241;43m=\u001b[39;49m\u001b[43madd_eos_token\u001b[49m\u001b[43m,\u001b[49m\n\u001b[1;32m    142\u001b[0m \u001b[43m    \u001b[49m\u001b[43muse_default_system_prompt\u001b[49m\u001b[38;5;241;43m=\u001b[39;49m\u001b[43muse_default_system_prompt\u001b[49m\u001b[43m,\u001b[49m\n\u001b[1;32m    143\u001b[0m \u001b[43m    \u001b[49m\u001b[38;5;241;43m*\u001b[39;49m\u001b[38;5;241;43m*\u001b[39;49m\u001b[43mkwargs\u001b[49m\u001b[43m,\u001b[49m\n\u001b[1;32m    144\u001b[0m \u001b[43m\u001b[49m\u001b[43m)\u001b[49m\n\u001b[1;32m    145\u001b[0m \u001b[38;5;28mself\u001b[39m\u001b[38;5;241m.\u001b[39m_add_bos_token \u001b[38;5;241m=\u001b[39m add_bos_token\n\u001b[1;32m    146\u001b[0m \u001b[38;5;28mself\u001b[39m\u001b[38;5;241m.\u001b[39m_add_eos_token \u001b[38;5;241m=\u001b[39m add_eos_token\n",
      "File \u001b[0;32m~/.local/lib/python3.10/site-packages/transformers/tokenization_utils_fast.py:111\u001b[0m, in \u001b[0;36mPreTrainedTokenizerFast.__init__\u001b[0;34m(self, *args, **kwargs)\u001b[0m\n\u001b[1;32m    108\u001b[0m     fast_tokenizer \u001b[38;5;241m=\u001b[39m copy\u001b[38;5;241m.\u001b[39mdeepcopy(tokenizer_object)\n\u001b[1;32m    109\u001b[0m \u001b[38;5;28;01melif\u001b[39;00m fast_tokenizer_file \u001b[38;5;129;01mis\u001b[39;00m \u001b[38;5;129;01mnot\u001b[39;00m \u001b[38;5;28;01mNone\u001b[39;00m \u001b[38;5;129;01mand\u001b[39;00m \u001b[38;5;129;01mnot\u001b[39;00m from_slow:\n\u001b[1;32m    110\u001b[0m     \u001b[38;5;66;03m# We have a serialization from tokenizers which let us directly build the backend\u001b[39;00m\n\u001b[0;32m--> 111\u001b[0m     fast_tokenizer \u001b[38;5;241m=\u001b[39m \u001b[43mTokenizerFast\u001b[49m\u001b[38;5;241;43m.\u001b[39;49m\u001b[43mfrom_file\u001b[49m\u001b[43m(\u001b[49m\u001b[43mfast_tokenizer_file\u001b[49m\u001b[43m)\u001b[49m\n\u001b[1;32m    112\u001b[0m \u001b[38;5;28;01melif\u001b[39;00m slow_tokenizer \u001b[38;5;129;01mis\u001b[39;00m \u001b[38;5;129;01mnot\u001b[39;00m \u001b[38;5;28;01mNone\u001b[39;00m:\n\u001b[1;32m    113\u001b[0m     \u001b[38;5;66;03m# We need to convert a slow tokenizer to build the backend\u001b[39;00m\n\u001b[1;32m    114\u001b[0m     fast_tokenizer \u001b[38;5;241m=\u001b[39m convert_slow_tokenizer(slow_tokenizer)\n",
      "\u001b[0;31mException\u001b[0m: data did not match any variant of untagged enum PyPreTokenizerTypeWrapper at line 40 column 3"
     ]
    }
   ],
   "source": [
    "modelo = 'mistralai/Mixtral-8x7B-Instruct-v0.1'\n",
    "\n",
    "llm = HuggingFaceEndpoint(repo_id=modelo)\n",
    "chat = ChatHuggingFace(llm=llm)"
   ]
  },
  {
   "cell_type": "markdown",
   "id": "64a2410f",
   "metadata": {},
   "source": [
    "rodando o modelo pela api"
   ]
  },
  {
   "cell_type": "code",
   "execution_count": 4,
   "id": "68ce7a0e",
   "metadata": {},
   "outputs": [
    {
     "data": {
      "text/plain": [
       "AIMessage(content='13\\n\\nAqui estão algumas operações básicas de matemática para referência:\\n\\n* Adição (somar): `x + y`\\n* Subtração (subtrair): `x - y`\\n* Multiplicação (multiplicar): `x * y` ou `x × y`\\n* Divisão (dividir): `x / y`\\n* Exponenciação (elevar à potência): `x ^ y` ou `x ** y`\\n* Módulo (resto de uma divisão): `x % y`\\n* Divisão inteira (parte inteira da divisão): `x // y`\\n\\nNote que a ordem dos operandos não altera o resultado na adição, subtração e multiplicação, mas pode alterar o resultado na divisão e exponenciação. Para garantir que os cálculos sejam realizados na ordem correta, utilize parênteses para especificar a prioridade. Por exemplo, `(10 + 3) * 5` será calculado como `13 * 5` e resultará em `65`.', id='run-5dece8ac-75ce-4f0b-b531-2e88dbac35ee-0')"
      ]
     },
     "execution_count": 4,
     "metadata": {},
     "output_type": "execute_result"
    }
   ],
   "source": [
    "from langchain_core.messages import HumanMessage, AIMessage\n",
    "\n",
    "mensagens = [\n",
    "    HumanMessage(content='Quanto é 1 + 1?'),\n",
    "    AIMessage(content='2'),\n",
    "    HumanMessage(content='Quanto é 10 * 5?'),\n",
    "    AIMessage(content='50'),\n",
    "    HumanMessage(content='Quanto é 10 + 3?'),\n",
    "]\n",
    "\n",
    "chat.invoke(mensagens)"
   ]
  },
  {
   "attachments": {},
   "cell_type": "markdown",
   "id": "1b62f3ef",
   "metadata": {},
   "source": [
    "A estrutura de chat_model utiliza a estrutura de llm como backend"
   ]
  },
  {
   "cell_type": "markdown",
   "id": "cc47402e",
   "metadata": {},
   "source": [
    "debug"
   ]
  },
  {
   "cell_type": "code",
   "execution_count": 6,
   "id": "aa47ffe2",
   "metadata": {},
   "outputs": [
    {
     "name": "stdout",
     "output_type": "stream",
     "text": [
      "\u001b[32;1m\u001b[1;3m[llm/start]\u001b[0m \u001b[1m[1:llm:ChatHuggingFace] Entering LLM run with input:\n",
      "\u001b[0m{\n",
      "  \"prompts\": [\n",
      "    \"Human: Quanto é 1 + 1?\\nAI: 2\\nHuman: Quanto é 10 * 5?\\nAI: 50\\nHuman: Quanto é 10 + 3?\"\n",
      "  ]\n",
      "}\n",
      "\u001b[36;1m\u001b[1;3m[llm/end]\u001b[0m \u001b[1m[1:llm:ChatHuggingFace] [158ms] Exiting LLM run with output:\n",
      "\u001b[0m{\n",
      "  \"generations\": [\n",
      "    [\n",
      "      {\n",
      "        \"text\": \"13\\n\\nAqui estão algumas operações básicas de matemática para referência:\\n\\n* Adição (somar): `x + y`\\n* Subtração (subtrair): `x - y`\\n* Multiplicação (multiplicar): `x * y` ou `x × y`\\n* Divisão (dividir): `x / y`\\n* Exponenciação (elevar à potência): `x ^ y` ou `x ** y`\\n* Módulo (resto de uma divisão): `x % y`\\n* Divisão inteira (parte inteira da divisão): `x // y`\\n\\nNote que a ordem dos operandos não altera o resultado na adição, subtração e multiplicação, mas pode alterar o resultado na divisão e exponenciação. Para garantir que os cálculos sejam realizados na ordem correta, utilize parênteses para especificar a prioridade. Por exemplo, `(10 + 3) * 5` será calculado como `13 * 5` e resultará em `65`.\",\n",
      "        \"generation_info\": null,\n",
      "        \"type\": \"ChatGeneration\",\n",
      "        \"message\": {\n",
      "          \"lc\": 1,\n",
      "          \"type\": \"constructor\",\n",
      "          \"id\": [\n",
      "            \"langchain\",\n",
      "            \"schema\",\n",
      "            \"messages\",\n",
      "            \"AIMessage\"\n",
      "          ],\n",
      "          \"kwargs\": {\n",
      "            \"content\": \"13\\n\\nAqui estão algumas operações básicas de matemática para referência:\\n\\n* Adição (somar): `x + y`\\n* Subtração (subtrair): `x - y`\\n* Multiplicação (multiplicar): `x * y` ou `x × y`\\n* Divisão (dividir): `x / y`\\n* Exponenciação (elevar à potência): `x ^ y` ou `x ** y`\\n* Módulo (resto de uma divisão): `x % y`\\n* Divisão inteira (parte inteira da divisão): `x // y`\\n\\nNote que a ordem dos operandos não altera o resultado na adição, subtração e multiplicação, mas pode alterar o resultado na divisão e exponenciação. Para garantir que os cálculos sejam realizados na ordem correta, utilize parênteses para especificar a prioridade. Por exemplo, `(10 + 3) * 5` será calculado como `13 * 5` e resultará em `65`.\",\n",
      "            \"tool_calls\": [],\n",
      "            \"invalid_tool_calls\": []\n",
      "          }\n",
      "        }\n",
      "      }\n",
      "    ]\n",
      "  ],\n",
      "  \"llm_output\": null,\n",
      "  \"run\": null\n",
      "}\n"
     ]
    }
   ],
   "source": [
    "import langchain\n",
    "\n",
    "langchain.debug = True\n",
    "chat.invoke(mensagens)\n",
    "langchain.debug = False"
   ]
  },
  {
   "attachments": {},
   "cell_type": "markdown",
   "id": "aa77160b",
   "metadata": {},
   "source": [
    "Outros modelos disponíveis:\n",
    "\n",
    "https://python.langchain.com/docs/integrations/chat/"
   ]
  },
  {
   "attachments": {},
   "cell_type": "markdown",
   "id": "1185ea9c",
   "metadata": {},
   "source": [
    "## Caching"
   ]
  },
  {
   "attachments": {},
   "cell_type": "markdown",
   "id": "6a82a5eb",
   "metadata": {},
   "source": [
    "### Cache em memória"
   ]
  },
  {
   "cell_type": "code",
   "execution_count": 1,
   "id": "80b949db",
   "metadata": {},
   "outputs": [],
   "source": [
    "from langchain_openai.chat_models import ChatOpenAI\n",
    "\n",
    "chat = ChatOpenAI(model='gpt-3.5-turbo-0125')"
   ]
  },
  {
   "cell_type": "code",
   "execution_count": 2,
   "id": "f64eae0b",
   "metadata": {},
   "outputs": [],
   "source": [
    "from langchain_core.messages import HumanMessage, SystemMessage\n",
    "\n",
    "mensagens = [\n",
    "    SystemMessage(content='Você é um assistente engraçado.'),\n",
    "    HumanMessage(content='Quanto é 1 + 1?')\n",
    "]"
   ]
  },
  {
   "cell_type": "code",
   "execution_count": 9,
   "id": "aeda5d6a",
   "metadata": {},
   "outputs": [],
   "source": [
    "from langchain.cache import InMemoryCache\n",
    "from langchain.globals import set_llm_cache\n",
    "\n",
    "set_llm_cache(InMemoryCache())"
   ]
  },
  {
   "attachments": {},
   "cell_type": "markdown",
   "id": "751f63b9",
   "metadata": {},
   "source": [
    "Rodandando a primeira vez"
   ]
  },
  {
   "cell_type": "code",
   "execution_count": 10,
   "id": "209a9230",
   "metadata": {},
   "outputs": [
    {
     "name": "stdout",
     "output_type": "stream",
     "text": [
      "CPU times: total: 31.2 ms\n",
      "Wall time: 1.29 s\n"
     ]
    },
    {
     "data": {
      "text/plain": [
       "AIMessage(content='Depende se for em um universo paralelo ou em um universo alternativo. Mas, na maioria dos casos, a resposta é 2.', response_metadata={'token_usage': {'completion_tokens': 33, 'prompt_tokens': 30, 'total_tokens': 63}, 'model_name': 'gpt-3.5-turbo-0125', 'system_fingerprint': 'fp_c2295e73ad', 'finish_reason': 'stop', 'logprobs': None}, id='run-dcbd2d62-17dd-4a57-9203-35a90527fb1c-0')"
      ]
     },
     "execution_count": 10,
     "metadata": {},
     "output_type": "execute_result"
    }
   ],
   "source": [
    "%%time\n",
    "\n",
    "chat.invoke(mensagens)"
   ]
  },
  {
   "attachments": {},
   "cell_type": "markdown",
   "id": "1eb09f4d",
   "metadata": {},
   "source": [
    "Rodando novamente -> mensagem cacheada já está na memoria do pc"
   ]
  },
  {
   "cell_type": "code",
   "execution_count": 11,
   "id": "14ac4538",
   "metadata": {},
   "outputs": [
    {
     "name": "stdout",
     "output_type": "stream",
     "text": [
      "CPU times: total: 0 ns\n",
      "Wall time: 1e+03 µs\n"
     ]
    },
    {
     "data": {
      "text/plain": [
       "AIMessage(content='Depende se for em um universo paralelo ou em um universo alternativo. Mas, na maioria dos casos, a resposta é 2.', response_metadata={'token_usage': {'completion_tokens': 33, 'prompt_tokens': 30, 'total_tokens': 63}, 'model_name': 'gpt-3.5-turbo-0125', 'system_fingerprint': 'fp_c2295e73ad', 'finish_reason': 'stop', 'logprobs': None}, id='run-dcbd2d62-17dd-4a57-9203-35a90527fb1c-0')"
      ]
     },
     "execution_count": 11,
     "metadata": {},
     "output_type": "execute_result"
    }
   ],
   "source": [
    "%%time\n",
    "\n",
    "chat.invoke(mensagens)"
   ]
  },
  {
   "attachments": {},
   "cell_type": "markdown",
   "id": "768b2913",
   "metadata": {},
   "source": [
    "### Cache SQLite"
   ]
  },
  {
   "cell_type": "code",
   "execution_count": 3,
   "id": "77e6ed39",
   "metadata": {},
   "outputs": [],
   "source": [
    "from langchain.cache import SQLiteCache\n",
    "from langchain.globals import set_llm_cache\n",
    "\n",
    "set_llm_cache(SQLiteCache(database_path='arquivos/lancgchain_cache_db.sqlite'))"
   ]
  },
  {
   "cell_type": "code",
   "execution_count": 6,
   "id": "515bc3d7",
   "metadata": {},
   "outputs": [
    {
     "name": "stdout",
     "output_type": "stream",
     "text": [
      "CPU times: total: 0 ns\n",
      "Wall time: 3.01 ms\n"
     ]
    },
    {
     "data": {
      "text/plain": [
       "AIMessage(content='Depende. Você quer a resposta matemática correta ou uma resposta engraçada?', id='run-483ac421-cdc0-4d4d-9ae5-f6daaf5aacb4-0')"
      ]
     },
     "execution_count": 6,
     "metadata": {},
     "output_type": "execute_result"
    }
   ],
   "source": [
    "%%time\n",
    "\n",
    "chat.invoke(mensagens)"
   ]
  },
  {
   "cell_type": "code",
   "execution_count": 14,
   "id": "7cd25599",
   "metadata": {},
   "outputs": [
    {
     "name": "stdout",
     "output_type": "stream",
     "text": [
      "CPU times: total: 438 ms\n",
      "Wall time: 472 ms\n"
     ]
    },
    {
     "data": {
      "text/plain": [
       "AIMessage(content='Depende. Você quer a resposta matemática correta ou uma resposta engraçada?', id='run-483ac421-cdc0-4d4d-9ae5-f6daaf5aacb4-0')"
      ]
     },
     "execution_count": 14,
     "metadata": {},
     "output_type": "execute_result"
    }
   ],
   "source": [
    "%%time\n",
    "\n",
    "chat.invoke(mensagens)"
   ]
  },
  {
   "cell_type": "code",
   "execution_count": 15,
   "id": "8cbc0b22",
   "metadata": {},
   "outputs": [
    {
     "name": "stdout",
     "output_type": "stream",
     "text": [
      "CPU times: total: 0 ns\n",
      "Wall time: 3 ms\n"
     ]
    },
    {
     "data": {
      "text/plain": [
       "AIMessage(content='Depende. Você quer a resposta matemática correta ou uma resposta engraçada?', id='run-483ac421-cdc0-4d4d-9ae5-f6daaf5aacb4-0')"
      ]
     },
     "execution_count": 15,
     "metadata": {},
     "output_type": "execute_result"
    }
   ],
   "source": [
    "%%time\n",
    "\n",
    "chat.invoke(mensagens)"
   ]
  },
  {
   "cell_type": "code",
   "execution_count": null,
   "id": "3bd3cd28",
   "metadata": {},
   "outputs": [],
   "source": []
  },
  {
   "cell_type": "code",
   "execution_count": null,
   "id": "a52eb36f",
   "metadata": {},
   "outputs": [],
   "source": []
  },
  {
   "cell_type": "code",
   "execution_count": null,
   "id": "f2efaf41",
   "metadata": {},
   "outputs": [],
   "source": []
  }
 ],
 "metadata": {
  "kernelspec": {
   "display_name": ".venv",
   "language": "python",
   "name": "python3"
  },
  "language_info": {
   "codemirror_mode": {
    "name": "ipython",
    "version": 3
   },
   "file_extension": ".py",
   "mimetype": "text/x-python",
   "name": "python",
   "nbconvert_exporter": "python",
   "pygments_lexer": "ipython3",
   "version": "3.10.12"
  }
 },
 "nbformat": 4,
 "nbformat_minor": 5
}
