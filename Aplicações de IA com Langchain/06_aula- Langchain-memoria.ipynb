{
 "cells": [
  {
   "attachments": {},
   "cell_type": "markdown",
   "id": "13d7fc40",
   "metadata": {},
   "source": [
    "# Memory"
   ]
  },
  {
   "attachments": {},
   "cell_type": "markdown",
   "id": "06a1c63e",
   "metadata": {},
   "source": [
    "A maioria das aplicações de Modelos de LLM possui uma interface conversacional. Um componente essencial de uma conversa é a capacidade de se referir a informações introduzidas anteriormente na conversa. No mínimo, um sistema conversacional deve ser capaz de acessar diretamente alguma janela de mensagens passadas. Um sistema mais complexo precisará ter um modelo de mundo que está constantemente atualizando, o que lhe permite fazer coisas como manter informações sobre entidades e suas relações.\n",
    "\n",
    "Chamamos essa capacidade de armazenar informações sobre interações passadas de \"Memory\", ou memória. LangChain oferece muitas utilidades para adicionar memória a um sistema. Essas utilidades podem ser usadas por si só ou incorporadas de maneira integrada em uma chain."
   ]
  },
  {
   "cell_type": "code",
   "execution_count": 1,
   "id": "ff33e4b0",
   "metadata": {},
   "outputs": [],
   "source": [
    "from langchain.memory import ConversationBufferMemory\n",
    "\n",
    "memory = ConversationBufferMemory()\n",
    "memory.chat_memory.add_user_message('Oi?')\n",
    "memory.chat_memory.add_ai_message('Como vai?')"
   ]
  },
  {
   "cell_type": "code",
   "execution_count": 2,
   "id": "beed7cfc",
   "metadata": {},
   "outputs": [
    {
     "data": {
      "text/plain": [
       "{'history': 'Human: Oi?\\nAI: Como vai?'}"
      ]
     },
     "execution_count": 2,
     "metadata": {},
     "output_type": "execute_result"
    }
   ],
   "source": [
    "memory.load_memory_variables({})"
   ]
  },
  {
   "cell_type": "code",
   "execution_count": 5,
   "id": "27f62810",
   "metadata": {},
   "outputs": [],
   "source": [
    "from langchain.memory import ConversationBufferMemory\n",
    "\n",
    "memory = ConversationBufferMemory(return_messages=True)\n",
    "memory.chat_memory.add_user_message('Oi?')\n",
    "memory.chat_memory.add_ai_message('Como vai?')"
   ]
  },
  {
   "cell_type": "code",
   "execution_count": 6,
   "id": "4bdb51c6",
   "metadata": {},
   "outputs": [
    {
     "data": {
      "text/plain": [
       "{'history': [HumanMessage(content='Oi?'), AIMessage(content='Como vai?')]}"
      ]
     },
     "execution_count": 6,
     "metadata": {},
     "output_type": "execute_result"
    }
   ],
   "source": [
    "memory.load_memory_variables({})"
   ]
  },
  {
   "attachments": {},
   "cell_type": "markdown",
   "id": "dd291f1d",
   "metadata": {},
   "source": [
    "## Criando uma conversa com memória"
   ]
  },
  {
   "cell_type": "code",
   "execution_count": 7,
   "id": "5c480bee",
   "metadata": {},
   "outputs": [],
   "source": [
    "from langchain_openai.chat_models import ChatOpenAI\n",
    "from langchain.chains.conversation.base import ConversationChain\n",
    "\n",
    "chat = ChatOpenAI()\n",
    "memory = ConversationBufferMemory()\n",
    "conversation = ConversationChain(\n",
    "    llm=chat,\n",
    "    memory=memory,\n",
    "    verbose=True # mostrar todas as interações com a ia\n",
    ")"
   ]
  },
  {
   "cell_type": "code",
   "execution_count": 8,
   "id": "a2c2ef49",
   "metadata": {},
   "outputs": [
    {
     "name": "stdout",
     "output_type": "stream",
     "text": [
      "\n",
      "\n",
      "\u001b[1m> Entering new ConversationChain chain...\u001b[0m\n",
      "Prompt after formatting:\n",
      "\u001b[32;1m\u001b[1;3mThe following is a friendly conversation between a human and an AI. The AI is talkative and provides lots of specific details from its context. If the AI does not know the answer to a question, it truthfully says it does not know.\n",
      "\n",
      "Current conversation:\n",
      "\n",
      "Human: Olá! Meu nome é Adriano\n",
      "AI:\u001b[0m\n",
      "\n",
      "\u001b[1m> Finished chain.\u001b[0m\n"
     ]
    },
    {
     "data": {
      "text/plain": [
       "'Olá, Adriano! Como posso ajudá-lo hoje?'"
      ]
     },
     "execution_count": 8,
     "metadata": {},
     "output_type": "execute_result"
    }
   ],
   "source": [
    "conversation.predict(input='Olá! Meu nome é Adriano')"
   ]
  },
  {
   "cell_type": "code",
   "execution_count": 9,
   "id": "f0f9ec0f",
   "metadata": {},
   "outputs": [
    {
     "name": "stdout",
     "output_type": "stream",
     "text": [
      "\n",
      "\n",
      "\u001b[1m> Entering new ConversationChain chain...\u001b[0m\n",
      "Prompt after formatting:\n",
      "\u001b[32;1m\u001b[1;3mThe following is a friendly conversation between a human and an AI. The AI is talkative and provides lots of specific details from its context. If the AI does not know the answer to a question, it truthfully says it does not know.\n",
      "\n",
      "Current conversation:\n",
      "Human: Olá! Meu nome é Adriano\n",
      "AI: Olá, Adriano! Como posso ajudá-lo hoje?\n",
      "Human: Qual é o meu nome?\n",
      "AI:\u001b[0m\n",
      "\n",
      "\u001b[1m> Finished chain.\u001b[0m\n"
     ]
    },
    {
     "data": {
      "text/plain": [
       "'Seu nome é Adriano. Como posso ajudá-lo hoje, Adriano?'"
      ]
     },
     "execution_count": 9,
     "metadata": {},
     "output_type": "execute_result"
    }
   ],
   "source": [
    "conversation.predict(input='Qual é o meu nome?')"
   ]
  },
  {
   "cell_type": "code",
   "execution_count": 10,
   "id": "08d9b3df",
   "metadata": {},
   "outputs": [
    {
     "data": {
      "text/plain": [
       "{'history': 'Human: Olá! Meu nome é Adriano\\nAI: Olá, Adriano! Como posso ajudá-lo hoje?\\nHuman: Qual é o meu nome?\\nAI: Seu nome é Adriano. Como posso ajudá-lo hoje, Adriano?'}"
      ]
     },
     "execution_count": 10,
     "metadata": {},
     "output_type": "execute_result"
    }
   ],
   "source": [
    "memory.load_memory_variables({})"
   ]
  },
  {
   "attachments": {},
   "cell_type": "markdown",
   "id": "ccd32528",
   "metadata": {},
   "source": [
    "### ConversationBufferWindowMemory"
   ]
  },
  {
   "cell_type": "code",
   "execution_count": 12,
   "id": "0088dc10",
   "metadata": {},
   "outputs": [],
   "source": [
    "from langchain.memory import ConversationBufferWindowMemory"
   ]
  },
  {
   "cell_type": "code",
   "execution_count": 13,
   "id": "62519334",
   "metadata": {},
   "outputs": [],
   "source": [
    "from langchain_openai.chat_models import ChatOpenAI\n",
    "from langchain.chains.conversation.base import ConversationChain\n",
    "\n",
    "chat = ChatOpenAI()\n",
    "memory = ConversationBufferWindowMemory(k=1) # lembra apenas um par de pergunta e resposta\n",
    "conversation = ConversationChain(\n",
    "    llm=chat,\n",
    "    memory=memory,\n",
    "    verbose=True\n",
    ")"
   ]
  },
  {
   "cell_type": "code",
   "execution_count": 14,
   "id": "12444fa9",
   "metadata": {},
   "outputs": [
    {
     "name": "stdout",
     "output_type": "stream",
     "text": [
      "\n",
      "\n",
      "\u001b[1m> Entering new ConversationChain chain...\u001b[0m\n",
      "Prompt after formatting:\n",
      "\u001b[32;1m\u001b[1;3mThe following is a friendly conversation between a human and an AI. The AI is talkative and provides lots of specific details from its context. If the AI does not know the answer to a question, it truthfully says it does not know.\n",
      "\n",
      "Current conversation:\n",
      "\n",
      "Human: Olá, meu nome é Adriano\n",
      "AI:\u001b[0m\n",
      "\n",
      "\u001b[1m> Finished chain.\u001b[0m\n"
     ]
    },
    {
     "data": {
      "text/plain": [
       "'Olá, Adriano! Como posso ajudar você hoje?'"
      ]
     },
     "execution_count": 14,
     "metadata": {},
     "output_type": "execute_result"
    }
   ],
   "source": [
    "conversation.predict(input='Olá, meu nome é Adriano')"
   ]
  },
  {
   "cell_type": "code",
   "execution_count": 15,
   "id": "484a4960",
   "metadata": {},
   "outputs": [
    {
     "name": "stdout",
     "output_type": "stream",
     "text": [
      "\n",
      "\n",
      "\u001b[1m> Entering new ConversationChain chain...\u001b[0m\n",
      "Prompt after formatting:\n",
      "\u001b[32;1m\u001b[1;3mThe following is a friendly conversation between a human and an AI. The AI is talkative and provides lots of specific details from its context. If the AI does not know the answer to a question, it truthfully says it does not know.\n",
      "\n",
      "Current conversation:\n",
      "Human: Olá, meu nome é Adriano\n",
      "AI: Olá, Adriano! Como posso ajudar você hoje?\n",
      "Human: Como vai?\n",
      "AI:\u001b[0m\n",
      "\n",
      "\u001b[1m> Finished chain.\u001b[0m\n"
     ]
    },
    {
     "data": {
      "text/plain": [
       "'Estou bem, obrigado por perguntar! Estou aqui para ajudar com qualquer dúvida ou informação que você precise. Como posso ser útil hoje?'"
      ]
     },
     "execution_count": 15,
     "metadata": {},
     "output_type": "execute_result"
    }
   ],
   "source": [
    "conversation.predict(input='Como vai?')"
   ]
  },
  {
   "cell_type": "code",
   "execution_count": 16,
   "id": "e8f47d21",
   "metadata": {},
   "outputs": [
    {
     "name": "stdout",
     "output_type": "stream",
     "text": [
      "\n",
      "\n",
      "\u001b[1m> Entering new ConversationChain chain...\u001b[0m\n",
      "Prompt after formatting:\n",
      "\u001b[32;1m\u001b[1;3mThe following is a friendly conversation between a human and an AI. The AI is talkative and provides lots of specific details from its context. If the AI does not know the answer to a question, it truthfully says it does not know.\n",
      "\n",
      "Current conversation:\n",
      "Human: Como vai?\n",
      "AI: Estou bem, obrigado por perguntar! Estou aqui para ajudar com qualquer dúvida ou informação que você precise. Como posso ser útil hoje?\n",
      "Human: Qual é o meu nome?\n",
      "AI:\u001b[0m\n",
      "\n",
      "\u001b[1m> Finished chain.\u001b[0m\n"
     ]
    },
    {
     "data": {
      "text/plain": [
       "'Desculpe, mas não tenho essa informação. Você poderia me dizer qual é o seu nome para que eu possa te chamar corretamente daqui em diante?'"
      ]
     },
     "execution_count": 16,
     "metadata": {},
     "output_type": "execute_result"
    }
   ],
   "source": [
    "conversation.predict(input='Qual é o meu nome?')"
   ]
  },
  {
   "attachments": {},
   "cell_type": "markdown",
   "id": "4dc599dc",
   "metadata": {},
   "source": [
    "### ConversationTokenBufferMemory"
   ]
  },
  {
   "cell_type": "code",
   "execution_count": 18,
   "id": "110f9606",
   "metadata": {},
   "outputs": [],
   "source": [
    "from langchain.memory import ConversationTokenBufferMemory"
   ]
  },
  {
   "cell_type": "code",
   "execution_count": 19,
   "id": "f702c748",
   "metadata": {},
   "outputs": [],
   "source": [
    "from langchain_openai.chat_models import ChatOpenAI\n",
    "from langchain.chains.conversation.base import ConversationChain\n",
    "\n",
    "chat = ChatOpenAI()\n",
    "memory = ConversationTokenBufferMemory(llm=chat, max_token_limit=250) ## guarda na memoria mensagens com no max 250 tokens\n",
    "conversation = ConversationChain(\n",
    "    llm=chat,\n",
    "    memory=memory,\n",
    "    verbose=True\n",
    ")"
   ]
  },
  {
   "cell_type": "code",
   "execution_count": 20,
   "id": "0d96a0de",
   "metadata": {},
   "outputs": [
    {
     "name": "stdout",
     "output_type": "stream",
     "text": [
      "\n",
      "\n",
      "\u001b[1m> Entering new ConversationChain chain...\u001b[0m\n",
      "Prompt after formatting:\n",
      "\u001b[32;1m\u001b[1;3mThe following is a friendly conversation between a human and an AI. The AI is talkative and provides lots of specific details from its context. If the AI does not know the answer to a question, it truthfully says it does not know.\n",
      "\n",
      "Current conversation:\n",
      "\n",
      "Human: Me conte uma história de 500 palavras\n",
      "AI:\u001b[0m\n",
      "\n",
      "\u001b[1m> Finished chain.\u001b[0m\n"
     ]
    },
    {
     "data": {
      "text/plain": [
       "'Claro! Aqui está uma história de 500 palavras para você:\\n\\nEra uma vez, em um pequeno vilarejo nas montanhas, vivia uma jovem chamada Sofia. Ela era conhecida por sua beleza e bondade, mas também por sua curiosidade sem limites. Um dia, enquanto explorava a floresta ao redor da aldeia, Sofia descobriu uma caverna misteriosa.\\n\\nIntrigada, ela decidiu entrar na caverna, mesmo sabendo dos perigos que poderiam estar escondidos lá dentro. Mas para sua surpresa, ao adentrar a caverna, Sofia se deparou com um mundo totalmente diferente. As paredes eram cobertas por cristais brilhantes que emitiam uma luz suave, iluminando o caminho à sua frente.\\n\\nCuriosa para descobrir mais sobre aquele lugar mágico, Sofia continuou explorando a caverna. Ela encontrou um rio subterrâneo que fluía suavemente, refletindo as cores dos cristais ao seu redor. Mais adiante, descobriu uma sala cheia de livros antigos e poeirentos, cada um contando uma história única e fascinante.\\n\\nÀ medida que Sofia explorava a caverna, ela começou a perceber que aquele lugar era especial de alguma forma. Parecia estar cheio de magia e mistério, e a jovem se sentia cada vez mais atraída por ele. Ela passou dias explorando cada canto e recanto da caverna, descobrindo segredos antigos e tesouros escondidos.\\n\\nMas quanto mais tempo passava na caverna, mais Sofia percebia que algo não estava certo. Ela começou a sentir uma presença sombria e sinistra ao seu redor, como se estivesse sendo observada por olhos invisíveis. Apesar do medo que sentia, Sofia decidiu não desistir e continuar explorando a caverna até descobrir a verdade por trás daquele lugar misterioso.\\n\\nFinalmente, depois de muitas aventuras e desafios, Sofia descobriu o segredo mais bem guardado da caverna: um dragão adormecido que protegia um tesouro valioso. O dragão acordou com um rugido estrondoso, pronto para atacar, mas Sofia não recuou. Com coragem e determinação, ela conseguiu acalmar o dragão e ganhar sua confiança.\\n\\nEm agradecimento por libertá-lo de seu sono profundo, o dragão concedeu a Sofia um presente especial: um colar feito dos cristais brilhantes da caverna, que lhe daria proteção e sabedoria em suas futuras aventuras. Com o coração cheio de gratidão e a mente cheia de novas histórias para contar, Sofia deixou a caverna e voltou para sua aldeia, pronta para enfrentar qualquer desafio que o destino lhe reservasse.\\n\\nFim. Espero que tenha gostado da história! Posso contar mais alguma para você?'"
      ]
     },
     "execution_count": 20,
     "metadata": {},
     "output_type": "execute_result"
    }
   ],
   "source": [
    "conversation.predict(input='Me conte uma história de 500 palavras')"
   ]
  },
  {
   "cell_type": "code",
   "execution_count": 21,
   "id": "c9ed6c50",
   "metadata": {},
   "outputs": [
    {
     "name": "stdout",
     "output_type": "stream",
     "text": [
      "\n",
      "\n",
      "\u001b[1m> Entering new ConversationChain chain...\u001b[0m\n",
      "Prompt after formatting:\n",
      "\u001b[32;1m\u001b[1;3mThe following is a friendly conversation between a human and an AI. The AI is talkative and provides lots of specific details from its context. If the AI does not know the answer to a question, it truthfully says it does not know.\n",
      "\n",
      "Current conversation:\n",
      "\n",
      "Human: Reuma a história anterior\n",
      "AI:\u001b[0m\n",
      "\n",
      "\u001b[1m> Finished chain.\u001b[0m\n"
     ]
    },
    {
     "data": {
      "text/plain": [
       "'Claro! A história anterior era sobre um grupo de exploradores que descobriram uma antiga civilização perdida nas profundezas da selva. Eles enfrentaram vários desafios, incluindo armadilhas mortais e criaturas misteriosas, antes de finalmente encontrarem o tesouro escondido no templo principal. Foi uma aventura emocionante e cheia de reviravoltas inesperadas. O que você gostaria de saber sobre a próxima história?'"
      ]
     },
     "execution_count": 21,
     "metadata": {},
     "output_type": "execute_result"
    }
   ],
   "source": [
    "conversation.predict(input='Reuma a história anterior')"
   ]
  },
  {
   "cell_type": "code",
   "execution_count": 22,
   "id": "890c9fa5",
   "metadata": {},
   "outputs": [
    {
     "name": "stdout",
     "output_type": "stream",
     "text": [
      "\n",
      "\n",
      "\u001b[1m> Entering new ConversationChain chain...\u001b[0m\n",
      "Prompt after formatting:\n",
      "\u001b[32;1m\u001b[1;3mThe following is a friendly conversation between a human and an AI. The AI is talkative and provides lots of specific details from its context. If the AI does not know the answer to a question, it truthfully says it does not know.\n",
      "\n",
      "Current conversation:\n",
      "Human: Reuma a história anterior\n",
      "AI: Claro! A história anterior era sobre um grupo de exploradores que descobriram uma antiga civilização perdida nas profundezas da selva. Eles enfrentaram vários desafios, incluindo armadilhas mortais e criaturas misteriosas, antes de finalmente encontrarem o tesouro escondido no templo principal. Foi uma aventura emocionante e cheia de reviravoltas inesperadas. O que você gostaria de saber sobre a próxima história?\n",
      "Human: Olá\n",
      "AI:\u001b[0m\n",
      "\n",
      "\u001b[1m> Finished chain.\u001b[0m\n"
     ]
    },
    {
     "data": {
      "text/plain": [
       "'Olá! Como posso te ajudar hoje? Vamos falar sobre histórias ou você tem alguma pergunta específica em mente? Estou aqui para ajudar no que precisar.'"
      ]
     },
     "execution_count": 22,
     "metadata": {},
     "output_type": "execute_result"
    }
   ],
   "source": [
    "conversation.predict(input='Olá')"
   ]
  },
  {
   "attachments": {},
   "cell_type": "markdown",
   "id": "9c2cdcc5",
   "metadata": {},
   "source": [
    "## ConversationSummaryBufferMemory "
   ]
  },
  {
   "cell_type": "code",
   "execution_count": 8,
   "id": "da11d33f",
   "metadata": {},
   "outputs": [],
   "source": [
    "from langchain.memory import ConversationSummaryBufferMemory"
   ]
  },
  {
   "cell_type": "code",
   "execution_count": 10,
   "id": "a5f1b4c6",
   "metadata": {},
   "outputs": [
    {
     "name": "stdout",
     "output_type": "stream",
     "text": [
      "\n",
      "\n",
      "\u001b[1m> Entering new ConversationChain chain...\u001b[0m\n",
      "Prompt after formatting:\n",
      "\u001b[32;1m\u001b[1;3mThe following is a friendly conversation between a human and an AI. The AI is talkative and provides lots of specific details from its context. If the AI does not know the answer to a question, it truthfully says it does not know.\n",
      "\n",
      "Current conversation:\n",
      "\n",
      "Human: Olá, meu nome é Adriano!\n",
      "AI:\u001b[0m\n",
      "\n",
      "\u001b[1m> Finished chain.\u001b[0m\n"
     ]
    },
    {
     "data": {
      "text/plain": [
       "'Olá, Adriano! Como posso te ajudar hoje?'"
      ]
     },
     "execution_count": 10,
     "metadata": {},
     "output_type": "execute_result"
    }
   ],
   "source": [
    "from langchain_openai.chat_models import ChatOpenAI\n",
    "from langchain.chains.conversation.base import ConversationChain\n",
    "\n",
    "chat = ChatOpenAI()\n",
    "memory = ConversationSummaryBufferMemory(llm=chat, max_token_limit=250) # faz um resumo das mensagens sem ocupar um espaço maior que 250 tokens\n",
    "conversation = ConversationChain(\n",
    "    llm=chat,\n",
    "    memory=memory,\n",
    "    verbose=True\n",
    ")\n",
    "\n",
    "conversation.predict(input='Olá, meu nome é Adriano!')"
   ]
  },
  {
   "cell_type": "code",
   "execution_count": 11,
   "id": "2956ae73",
   "metadata": {},
   "outputs": [
    {
     "name": "stdout",
     "output_type": "stream",
     "text": [
      "\n",
      "\n",
      "\u001b[1m> Entering new ConversationChain chain...\u001b[0m\n",
      "Prompt after formatting:\n",
      "\u001b[32;1m\u001b[1;3mThe following is a friendly conversation between a human and an AI. The AI is talkative and provides lots of specific details from its context. If the AI does not know the answer to a question, it truthfully says it does not know.\n",
      "\n",
      "Current conversation:\n",
      "Human: Olá, meu nome é Adriano!\n",
      "AI: Olá, Adriano! Como posso te ajudar hoje?\n",
      "Human: Me conte uma história de 500 palavras\n",
      "AI:\u001b[0m\n",
      "\n",
      "\u001b[1m> Finished chain.\u001b[0m\n"
     ]
    },
    {
     "data": {
      "text/plain": [
       "'Claro, vou te contar uma história! Era uma vez, em um pequeno vilarejo no meio da floresta, vivia uma jovem chamada Sofia. Sofia era uma garota curiosa e corajosa, sempre em busca de aventuras. Um dia, enquanto explorava a floresta, ela encontrou uma antiga árvore com inscrições misteriosas. Intrigada, Sofia decidiu investigar mais de perto.\\n\\nAo examinar as inscrições, Sofia descobriu que elas eram um mapa para um tesouro perdido há séculos. Determinada a desvendar o mistério, Sofia seguiu as instruções do mapa, atravessando perigosas ravinas e enfrentando criaturas mágicas ao longo do caminho. Com coragem e astúcia, ela finalmente chegou ao local do tesouro.\\n\\nAo abrir o baú, Sofia ficou maravilhada com o que viu. Dentro estavam joias brilhantes, moedas antigas e artefatos preciosos. Mas o mais importante de tudo era uma mensagem deixada por um antigo rei, agradecendo a quem tivesse a coragem de encontrar o tesouro e prometendo que ele traria prosperidade ao vilarejo.\\n\\nSofia sabia que o tesouro não era apenas para ela, mas para toda a comunidade. Com a ajuda de seus amigos e vizinhos, eles usaram o tesouro para melhorar as condições do vilarejo, construindo escolas, hospitais e ajudando aqueles que mais precisavam. O vilarejo prosperou como nunca antes, graças à coragem e generosidade de Sofia.\\n\\nE assim, a história de Sofia e o tesouro perdido se tornou uma lenda no vilarejo, lembrando a todos que a verdadeira riqueza está no compartilhar e cuidar uns dos outros. E Sofia continuou sua vida de aventuras, sempre pronta para novos desafios e oportunidades de ajudar os outros. O fim. \\n\\nEspero que tenha gostado da história, Adriano! Posso te ajudar com mais alguma coisa?'"
      ]
     },
     "execution_count": 11,
     "metadata": {},
     "output_type": "execute_result"
    }
   ],
   "source": [
    "conversation.predict(input='Me conte uma história de 500 palavras')"
   ]
  },
  {
   "cell_type": "code",
   "execution_count": 12,
   "id": "c3e95d41",
   "metadata": {},
   "outputs": [
    {
     "name": "stdout",
     "output_type": "stream",
     "text": [
      "\n",
      "\n",
      "\u001b[1m> Entering new ConversationChain chain...\u001b[0m\n",
      "Prompt after formatting:\n",
      "\u001b[32;1m\u001b[1;3mThe following is a friendly conversation between a human and an AI. The AI is talkative and provides lots of specific details from its context. If the AI does not know the answer to a question, it truthfully says it does not know.\n",
      "\n",
      "Current conversation:\n",
      "System: The human introduces themselves as Adriano and asks the AI to tell a 500-word story. The AI tells a story about a young girl named Sofia who discovers a hidden treasure and uses it to benefit her village. The story highlights the importance of courage, generosity, and community support. Sofia becomes a legend in her village for her actions. The AI asks Adriano if they enjoyed the story and if they need any further assistance.\n",
      "Human: Qul é o meu nome?\n",
      "AI:\u001b[0m\n",
      "\n",
      "\u001b[1m> Finished chain.\u001b[0m\n"
     ]
    },
    {
     "data": {
      "text/plain": [
       "'Seu nome é Adriano. Como posso ajudá-lo hoje, Adriano?'"
      ]
     },
     "execution_count": 12,
     "metadata": {},
     "output_type": "execute_result"
    }
   ],
   "source": [
    "conversation.predict(input='Qul é o meu nome?')"
   ]
  },
  {
   "cell_type": "code",
   "execution_count": 13,
   "id": "f390405a",
   "metadata": {},
   "outputs": [
    {
     "name": "stdout",
     "output_type": "stream",
     "text": [
      "\n",
      "\n",
      "\u001b[1m> Entering new ConversationChain chain...\u001b[0m\n",
      "Prompt after formatting:\n",
      "\u001b[32;1m\u001b[1;3mThe following is a friendly conversation between a human and an AI. The AI is talkative and provides lots of specific details from its context. If the AI does not know the answer to a question, it truthfully says it does not know.\n",
      "\n",
      "Current conversation:\n",
      "System: The human introduces themselves as Adriano and asks the AI to tell a 500-word story. The AI tells a story about a young girl named Sofia who discovers a hidden treasure and uses it to benefit her village. The story highlights the importance of courage, generosity, and community support. Sofia becomes a legend in her village for her actions. The AI asks Adriano if they enjoyed the story and if they need any further assistance.\n",
      "Human: Qul é o meu nome?\n",
      "AI: Seu nome é Adriano. Como posso ajudá-lo hoje, Adriano?\n",
      "Human: O que eu pedi para você fazer inicialmente?\n",
      "AI:\u001b[0m\n",
      "\n",
      "\u001b[1m> Finished chain.\u001b[0m\n"
     ]
    },
    {
     "data": {
      "text/plain": [
       "'Você me pediu para contar uma história de 500 palavras. Espero que tenha gostado da história que contei sobre a jovem Sofia e como ela descobriu um tesouro escondido para beneficiar sua vila. Posso ajudá-lo com mais alguma coisa, Adriano?'"
      ]
     },
     "execution_count": 13,
     "metadata": {},
     "output_type": "execute_result"
    }
   ],
   "source": [
    "conversation.predict(input='O que eu pedi para você fazer inicialmente?')"
   ]
  },
  {
   "cell_type": "code",
   "execution_count": null,
   "id": "193e9b8e",
   "metadata": {},
   "outputs": [],
   "source": []
  }
 ],
 "metadata": {
  "kernelspec": {
   "display_name": ".venv",
   "language": "python",
   "name": "python3"
  },
  "language_info": {
   "codemirror_mode": {
    "name": "ipython",
    "version": 3
   },
   "file_extension": ".py",
   "mimetype": "text/x-python",
   "name": "python",
   "nbconvert_exporter": "python",
   "pygments_lexer": "ipython3",
   "version": "3.11.4"
  }
 },
 "nbformat": 4,
 "nbformat_minor": 5
}
