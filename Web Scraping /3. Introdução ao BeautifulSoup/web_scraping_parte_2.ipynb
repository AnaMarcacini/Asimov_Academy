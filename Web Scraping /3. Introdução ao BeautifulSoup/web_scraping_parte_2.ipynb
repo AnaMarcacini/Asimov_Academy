{
 "cells": [
  {
   "cell_type": "code",
   "execution_count": 1,
   "id": "cc5a11d0-e42d-4ea5-8adc-ceddd4c1f9c4",
   "metadata": {},
   "outputs": [],
   "source": [
    "import requests\n",
    "from bs4 import BeautifulSoup\n",
    "import pandas as pd"
   ]
  },
  {
   "cell_type": "code",
   "execution_count": 2,
   "id": "e3a7c6db-c477-461f-83cc-f05102b68608",
   "metadata": {},
   "outputs": [],
   "source": [
    "uf_url = f'https://www.ibge.gov.br/cidades-e-estados/sp.html'\n",
    "browsers = {'User-Agent': \"Mozilla/5.0 (Windows NT 10.0; Win64; x64) AppleWebKit/537.36 \\(KHTML, like Gecko) Chrome / 86.0.4240.198Safari / 537.36\"} # mostra que eu estou acessando pelo navegador e não tentando derrubar o site\n",
    "page = requests.get(uf_url, headers = browsers)\n",
    "    \n",
    "soup = BeautifulSoup(page.content, 'html.parser')\n",
    "indicadores = soup.select('.indicador')"
   ]
  },
  {
   "cell_type": "code",
   "execution_count": 3,
   "id": "2eded3b5",
   "metadata": {},
   "outputs": [
    {
     "data": {
      "text/plain": [
       "<Response [200]>"
      ]
     },
     "execution_count": 3,
     "metadata": {},
     "output_type": "execute_result"
    }
   ],
   "source": [
    "page"
   ]
  },
  {
   "cell_type": "code",
   "execution_count": 44,
   "id": "88074512-5904-4c15-82cf-f5d9087456ff",
   "metadata": {},
   "outputs": [
    {
     "data": {
      "text/plain": [
       "[<div class=\"indicador\"><div class=\"ind-label\"><p>Governador</p></div><p class=\"ind-value\">RODRIGO GARCIA<small>   [2019]</small></p></div>,\n",
       " <div class=\"indicador\"><div class=\"ind-label\"><p>Capital</p></div><p class=\"ind-value\">São Paulo<small>   [2010]</small></p></div>,\n",
       " <div class=\"indicador\"><div class=\"ind-label\"><p>Gentílico</p></div><p class=\"ind-value\">paulista</p></div>,\n",
       " <div class=\"indicador\"><div class=\"ind-label\"><img alt=\"Área Territorial\" src=\"/modules/mod_quick_facts/css/images/area.png\"><p>Área Territorial</p></img></div><p class=\"ind-value\">248.219,485 <span class=\"indicador-unidade\">km²</span><small>   [2021]</small></p></div>,\n",
       " <div class=\"indicador\"><div class=\"ind-label\"><img alt=\"População estimada\" src=\"/modules/mod_quick_facts/css/images/populacao.png\"/><p>População estimada</p></div><p class=\"ind-value\">46.649.132 <span class=\"indicador-unidade\">pessoas</span><small>   [2021]</small></p></div>,\n",
       " <div class=\"indicador\"><input class=\"chart-values\" type=\"hidden\" value='[\"3.37\",\"5.58\",\"9.20\",\"18.50\",\"28.93\",\"36.81\",\"52.28\",\"72.36\",\"102.25\",\"127.11\",\"148.96\",\"166.25\"]'/><input class=\"chart-labels\" type=\"hidden\" value='[\"1872\",\"1890\",\"1900\",\"1920\",\"1940\",\"1950\",\"1960\",\"1970\",\"1980\",\"1991\",\"2000\",\"2010\"]'/><div class=\"ind-label\"><img alt=\"Densidade demográfica\" src=\"/modules/mod_quick_facts/css/images/densidade.png\"/><p>Densidade demográfica</p></div><p class=\"ind-value\">166,25 <span class=\"indicador-unidade\">hab/km²</span><small>   [2010]</small></p></div>,\n",
       " <div class=\"indicador\"><input class=\"chart-values\" type=\"hidden\" value='[\"6075606\",\"6100512\",\"6025963\",\"5926923\",\"5805590\",\"5673142\",\"5537627\",\"5365948\",\"5343661\",\"5276326\",\"5367614\",\"5409187\",\"5414208\",\"5396803\"]'/><input class=\"chart-labels\" type=\"hidden\" value='[\"2008\",\"2009\",\"2010\",\"2011\",\"2012\",\"2013\",\"2014\",\"2015\",\"2016\",\"2017\",\"2018\",\"2019\",\"2020\",\"2021\"]'/><div class=\"ind-label\"><img alt=\"Matrículas no ensino fundamental\" src=\"/modules/mod_quick_facts/css/images/escolarizacao.png\"/><p>Matrículas no ensino fundamental</p></div><p class=\"ind-value\">5.396.803 <span class=\"indicador-unidade\">matrículas</span><small>   [2021]</small></p></div>,\n",
       " <div class=\"indicador\"><input class=\"chart-values\" type=\"hidden\" value='[\"0.578\",\"0.702\",\"0.783\"]'/><input class=\"chart-labels\" type=\"hidden\" value='[\"1991\",\"2000\",\"2010\"]'/><div class=\"ind-label\"><img alt=\"IDH &lt;span&gt;Índice de desenvolvimento humano&lt;/span&gt;\" src=\"/modules/mod_quick_facts/css/images/idh.png\"/><p>IDH <span>Índice de desenvolvimento humano</span></p></div><p class=\"ind-value\">0,783<small>   [2010]</small></p></div>,\n",
       " <div class=\"indicador\"><input class=\"chart-values\" type=\"hidden\" value='[\"196875515.66748\",\"209486514.33074\",\"218966501.13932\",\"218622576.68826\",\"232822496.56706\"]'/><input class=\"chart-labels\" type=\"hidden\" value='[\"2013\",\"2014\",\"2015\",\"2016\",\"2017\"]'/><div class=\"ind-label\"><img alt=\"Receitas realizadas\" src=\"/modules/mod_quick_facts/css/images/receitas.png\"/><p>Receitas realizadas</p></div><p class=\"ind-value\">232.822.496,57 <span class=\"indicador-unidade\">R$ (×1000)</span><small>   [2017]</small></p></div>,\n",
       " <div class=\"indicador\"><input class=\"chart-values\" type=\"hidden\" value='[\"197870171.92207\",\"209842014.024\",\"220506971.96347\",\"219266294.16031\",\"231982243.69176\"]'/><input class=\"chart-labels\" type=\"hidden\" value='[\"2013\",\"2014\",\"2015\",\"2016\",\"2017\"]'/><div class=\"ind-label\"><img alt=\"Despesas empenhadas\" src=\"/modules/mod_quick_facts/css/images/despesas.png\"/><p>Despesas empenhadas</p></div><p class=\"ind-value\">231.982.243,69 <span class=\"indicador-unidade\">R$ (×1000)</span><small>   [2017]</small></p></div>,\n",
       " <div class=\"indicador\"><input class=\"chart-values\" type=\"hidden\" value='[\"1197\",\"1308\",\"1432\",\"1482\",\"1723\",\"1712\",\"1898\",\"1946\",\"1814\",\"1836\"]'/><input class=\"chart-labels\" type=\"hidden\" value='[\"2012\",\"2013\",\"2014\",\"2015\",\"2016\",\"2017\",\"2018\",\"2019\",\"2020\",\"2021\"]'/><div class=\"ind-label\"><img alt=\"Rendimento mensal domiciliar per capita\" src=\"/modules/mod_quick_facts/css/images/pib.png\"/><p>Rendimento mensal domiciliar per capita</p></div><p class=\"ind-value\">1.836 <span class=\"indicador-unidade\">R$</span><small>   [2021]</small></p></div>,\n",
       " <div class=\"indicador\"><input class=\"chart-values\" type=\"hidden\" value='[\"15098096\",\"16464703\",\"17852829\",\"19139118\",\"20537980\",\"21968359\",\"23286890\",\"24560202\",\"25718248\",\"26605042\",\"27332101\",\"28138698\",\"29057749\",\"30058975\",\"30778960\",\"31455473\"]'/><input class=\"chart-labels\" type=\"hidden\" value='[\"2006\",\"2007\",\"2008\",\"2009\",\"2010\",\"2011\",\"2012\",\"2013\",\"2014\",\"2015\",\"2016\",\"2017\",\"2018\",\"2019\",\"2020\",\"2021\"]'/><div class=\"ind-label\"><img alt=\"Total de veículos\" src=\"/modules/mod_quick_facts/css/images/veiculos.png\"/><p>Total de veículos</p></div><p class=\"ind-value\">31.455.473 <span class=\"indicador-unidade\">veículos</span><small>   [2021]</small></p></div>]"
      ]
     },
     "execution_count": 44,
     "metadata": {},
     "output_type": "execute_result"
    }
   ],
   "source": [
    "indicadores"
   ]
  },
  {
   "cell_type": "code",
   "execution_count": 4,
   "id": "c73e7984-c58f-4a5a-862a-b3cd7f054fa7",
   "metadata": {},
   "outputs": [],
   "source": [
    "def scraping_uf(uf: str):\n",
    "    uf_url = f'https://www.ibge.gov.br/cidades-e-estados/{uf}.html'\n",
    "    browsers = {'User-Agent': \"Mozilla/5.0 (Windows NT 10.0; Win64; x64) AppleWebKit/537.36 \\(KHTML, like Gecko) Chrome / 86.0.4240.198Safari / 537.36\"}\n",
    "    page = requests.get(uf_url, headers = browsers)\n",
    "    \n",
    "    soup = BeautifulSoup(page.content, 'html.parser')\n",
    "    indicadores = soup.select('.indicador')\n",
    "    \n",
    "    uf_dict = {\n",
    "        dado.select('.ind-label')[0].text: dado.select('.ind-value')[0].text\n",
    "        for dado in indicadores\n",
    "    }\n",
    "    \n",
    "    return uf_dict"
   ]
  },
  {
   "cell_type": "code",
   "execution_count": 8,
   "id": "a67226d0",
   "metadata": {},
   "outputs": [],
   "source": [
    "def scraping_uf(uf: str) -> dict:\n",
    "    uf_url = f'https://www.ibge.gov.br/cidades-e-estados/{uf}.html'\n",
    "    page = requests.get(uf_url)\n",
    "    \n",
    "    soup = BeautifulSoup(page.content, 'html.parser')\n",
    "    indicadores = soup.select('.indicador')\n",
    "    \n",
    "    uf_dict = {\n",
    "        dado.select('.ind-label')[0].text: dado.select('.ind-value')[0].text\n",
    "        for dado in indicadores\n",
    "    }\n",
    "    \n",
    "    return uf_dict   "
   ]
  },
  {
   "cell_type": "code",
   "execution_count": 5,
   "id": "f6806cb2-eed3-4479-bfa3-916de7307212",
   "metadata": {},
   "outputs": [
    {
     "data": {
      "text/plain": [
       "{'Governador': 'TARCISIO GOMES DE FREITAS\\xa0\\xa0\\xa0[2023]',\n",
       " 'Capital': 'São Paulo\\xa0\\xa0\\xa0[2010]',\n",
       " 'Gentílico': 'paulista',\n",
       " 'Área Territorial': '248.219,485 km²\\xa0\\xa0\\xa0[2022]',\n",
       " 'População residente': '44.411.238 pessoas\\xa0\\xa0\\xa0[2022]',\n",
       " 'Densidade demográfica': '178,92 hab/km²\\xa0\\xa0\\xa0[2022]',\n",
       " 'Matrículas no ensino fundamental': '5.343.271 matrículas\\xa0\\xa0\\xa0[2023]',\n",
       " 'IDH Índice de desenvolvimento humano': '0,806\\xa0\\xa0\\xa0[2021]',\n",
       " 'Receitas realizadas': '343.634.435.413,40 R$ (×1000)\\xa0\\xa0\\xa0[2023]',\n",
       " 'Despesas empenhadas': '328.315.580.393,50 R$ (×1000)\\xa0\\xa0\\xa0[2023]',\n",
       " 'Rendimento mensal domiciliar per capita': '2.492 R$\\xa0\\xa0\\xa0[2023]',\n",
       " 'Total de veículos': '33.264.096 veículos\\xa0\\xa0\\xa0[2023]'}"
      ]
     },
     "execution_count": 5,
     "metadata": {},
     "output_type": "execute_result"
    }
   ],
   "source": [
    "estado = scraping_uf('sp')\n",
    "estado"
   ]
  },
  {
   "cell_type": "code",
   "execution_count": 6,
   "id": "27d27f26-2db3-44bb-afc7-08f2939c86f3",
   "metadata": {},
   "outputs": [
    {
     "data": {
      "text/plain": [
       "{'Governador': 'TARCISIO GOMES DE FREITAS',\n",
       " 'Capital': 'São Paulo',\n",
       " 'Gentílico': 'paulista',\n",
       " 'Área Territorial': '248.219,485 km²',\n",
       " 'População residente': '44.411.238 pessoas',\n",
       " 'Densidade demográfica': '178,92 hab/km²',\n",
       " 'Matrículas no ensino fundamental': '5.343.271 matrículas',\n",
       " 'IDH Índice de desenvolvimento humano': '0,806',\n",
       " 'Receitas realizadas': '343.634.435.413,40 R$ (×1000)',\n",
       " 'Despesas empenhadas': '328.315.580.393,50 R$ (×1000)',\n",
       " 'Rendimento mensal domiciliar per capita': '2.492 R$',\n",
       " 'Total de veículos': '33.264.096 veículos'}"
      ]
     },
     "execution_count": 6,
     "metadata": {},
     "output_type": "execute_result"
    }
   ],
   "source": [
    "for indicador in estado:\n",
    "    if ']' in estado[indicador]:\n",
    "        estado[indicador] = estado[indicador].split(']')[0][:-8]\n",
    "    else:\n",
    "        estado[indicador] = estado[indicador]\n",
    "estado"
   ]
  },
  {
   "cell_type": "code",
   "execution_count": 7,
   "id": "b6fc9cc6-5158-4eca-8695-c62f741d14e5",
   "metadata": {},
   "outputs": [],
   "source": [
    "df = pd.DataFrame(estado.values(), index=estado.keys())"
   ]
  },
  {
   "cell_type": "code",
   "execution_count": 49,
   "id": "9d8d3ffc-7c71-4229-a309-0dfc5eabb726",
   "metadata": {},
   "outputs": [
    {
     "data": {
      "text/html": [
       "<div>\n",
       "<style scoped>\n",
       "    .dataframe tbody tr th:only-of-type {\n",
       "        vertical-align: middle;\n",
       "    }\n",
       "\n",
       "    .dataframe tbody tr th {\n",
       "        vertical-align: top;\n",
       "    }\n",
       "\n",
       "    .dataframe thead th {\n",
       "        text-align: right;\n",
       "    }\n",
       "</style>\n",
       "<table border=\"1\" class=\"dataframe\">\n",
       "  <thead>\n",
       "    <tr style=\"text-align: right;\">\n",
       "      <th></th>\n",
       "      <th>0</th>\n",
       "    </tr>\n",
       "  </thead>\n",
       "  <tbody>\n",
       "    <tr>\n",
       "      <th>Governador</th>\n",
       "      <td>RODRIGO GARCIA</td>\n",
       "    </tr>\n",
       "    <tr>\n",
       "      <th>Capital</th>\n",
       "      <td>São Paulo</td>\n",
       "    </tr>\n",
       "    <tr>\n",
       "      <th>Gentílico</th>\n",
       "      <td>paulista</td>\n",
       "    </tr>\n",
       "    <tr>\n",
       "      <th>Área Territorial</th>\n",
       "      <td>248.219,485 km²</td>\n",
       "    </tr>\n",
       "    <tr>\n",
       "      <th>População estimada</th>\n",
       "      <td>46.649.132 pessoas</td>\n",
       "    </tr>\n",
       "    <tr>\n",
       "      <th>Densidade demográfica</th>\n",
       "      <td>166,25 hab/km²</td>\n",
       "    </tr>\n",
       "    <tr>\n",
       "      <th>Matrículas no ensino fundamental</th>\n",
       "      <td>5.396.803 matrículas</td>\n",
       "    </tr>\n",
       "    <tr>\n",
       "      <th>IDH Índice de desenvolvimento humano</th>\n",
       "      <td>0,783</td>\n",
       "    </tr>\n",
       "    <tr>\n",
       "      <th>Receitas realizadas</th>\n",
       "      <td>232.822.496,57 R$ (×1000)</td>\n",
       "    </tr>\n",
       "    <tr>\n",
       "      <th>Despesas empenhadas</th>\n",
       "      <td>231.982.243,69 R$ (×1000)</td>\n",
       "    </tr>\n",
       "    <tr>\n",
       "      <th>Rendimento mensal domiciliar per capita</th>\n",
       "      <td>1.836 R$</td>\n",
       "    </tr>\n",
       "    <tr>\n",
       "      <th>Total de veículos</th>\n",
       "      <td>31.455.473 veículos</td>\n",
       "    </tr>\n",
       "  </tbody>\n",
       "</table>\n",
       "</div>"
      ],
      "text/plain": [
       "                                                                 0\n",
       "Governador                                          RODRIGO GARCIA\n",
       "Capital                                                  São Paulo\n",
       "Gentílico                                                 paulista\n",
       "Área Territorial                                   248.219,485 km²\n",
       "População estimada                              46.649.132 pessoas\n",
       "Densidade demográfica                               166,25 hab/km²\n",
       "Matrículas no ensino fundamental             5.396.803 matrículas\n",
       "IDH Índice de desenvolvimento humano                        0,783\n",
       "Receitas realizadas                      232.822.496,57 R$ (×1000)\n",
       "Despesas empenhadas                      231.982.243,69 R$ (×1000)\n",
       "Rendimento mensal domiciliar per capita                   1.836 R$\n",
       "Total de veículos                              31.455.473 veículos"
      ]
     },
     "execution_count": 49,
     "metadata": {},
     "output_type": "execute_result"
    }
   ],
   "source": [
    "df"
   ]
  },
  {
   "cell_type": "code",
   "execution_count": null,
   "id": "c22ae775-4086-4e71-b0ac-97ada53e5c7a",
   "metadata": {},
   "outputs": [],
   "source": []
  }
 ],
 "metadata": {
  "kernelspec": {
   "display_name": "Python 3 (ipykernel)",
   "language": "python",
   "name": "python3"
  },
  "language_info": {
   "codemirror_mode": {
    "name": "ipython",
    "version": 3
   },
   "file_extension": ".py",
   "mimetype": "text/x-python",
   "name": "python",
   "nbconvert_exporter": "python",
   "pygments_lexer": "ipython3",
   "version": "3.10.12"
  }
 },
 "nbformat": 4,
 "nbformat_minor": 5
}
