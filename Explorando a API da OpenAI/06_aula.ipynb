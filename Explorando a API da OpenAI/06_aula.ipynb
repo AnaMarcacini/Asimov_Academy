{
 "cells": [
  {
   "cell_type": "code",
   "execution_count": 1,
   "metadata": {},
   "outputs": [],
   "source": [
    "import openai\n",
    "from dotenv import load_dotenv, find_dotenv\n",
    "\n",
    "_ = load_dotenv(find_dotenv())"
   ]
  },
  {
   "cell_type": "code",
   "execution_count": 2,
   "id": "9426fcfa",
   "metadata": {},
   "outputs": [],
   "source": [
    "client = openai.Client()"
   ]
  },
  {
   "cell_type": "code",
   "execution_count": 18,
   "id": "8cc401a1",
   "metadata": {},
   "outputs": [],
   "source": [
    "mensagens = [{'role': 'user', 'content': 'crie uma história sobre uma viagem a marte'}]\n",
    "\n",
    "resposta = client.chat.completions.create(\n",
    "    messages=mensagens,\n",
    "    model='gpt-3.5-turbo-0125',\n",
    "    max_tokens=1000,\n",
    "    temperature=0,\n",
    "    stream=True # ele vai mandando aos poucos as mensagens conforme vai processando os tokens # antes ele gerava a resposta e depois mandava e o texto\n",
    ")"
   ]
  },
  {
   "cell_type": "code",
   "execution_count": 19,
   "id": "025f183e",
   "metadata": {},
   "outputs": [
    {
     "name": "stdout",
     "output_type": "stream",
     "text": [
      "Era o ano de 2050 e a humanidade finalmente havia conseguido enviar uma missão tripulada para Marte. A nave espacial, batizada de \"Explorador Vermelho\", estava pronta para decolar com uma equipe de astronautas altamente treinados.\n",
      "\n",
      "A viagem até Marte duraria cerca de nove meses, então os astronautas teriam que passar muito tempo juntos na nave. Apesar dos desafios e da distância da Terra, a equipe estava animada com a oportunidade de explorar o Planeta Vermelho.\n",
      "\n",
      "Após uma longa jornada, a nave finalmente chegou a Marte. A paisagem era deslumbrante, com montanhas vermelhas e crateras espalhadas por toda parte. Os astronautas desceram na superfície do planeta e começaram a explorar, coletando amostras de solo e rochas para análise.\n",
      "\n",
      "Enquanto exploravam, os astronautas descobriram evidências de vida passada em Marte, o que deixou todos ainda mais empolgados com a missão. Eles também encontraram vestígios de água congelada, o que indicava a possibilidade de existir vida no planeta.\n",
      "\n",
      "Durante a estadia em Marte, os astronautas enfrentaram desafios como tempestades de poeira e problemas técnicos na nave. No entanto, trabalhando juntos e usando sua criatividade, eles conseguiram superar todos os obstáculos.\n",
      "\n",
      "Após semanas de exploração, a equipe finalmente se preparou para retornar à Terra. Eles deixaram para trás uma base temporária em Marte, que serviria de ponto de partida para futuras missões.\n",
      "\n",
      "Ao retornarem à Terra, os astronautas foram recebidos como heróis e suas descobertas em Marte foram celebradas em todo o mundo. A viagem a Marte havia sido um marco na história da exploração espacial e abriu caminho para novas descobertas e missões no futuro."
     ]
    }
   ],
   "source": [
    "resposta_completa = ''\n",
    "for stream_resposta in resposta:\n",
    "    texto = stream_resposta.choices[0].delta.content\n",
    "    if texto:\n",
    "        resposta_completa += texto\n",
    "        print(texto, end='')"
   ]
  },
  {
   "cell_type": "code",
   "execution_count": 21,
   "id": "16ed394c",
   "metadata": {},
   "outputs": [
    {
     "name": "stdout",
     "output_type": "stream",
     "text": [
      "Era o ano de 2050 e a humanidade finalmente havia conseguido enviar uma missão tripulada para Marte. A nave espacial, batizada de \"Explorador Vermelho\", estava pronta para decolar com uma equipe de astronautas altamente treinados.\n",
      "\n",
      "A viagem até Marte duraria cerca de nove meses, então os astronautas teriam que passar muito tempo juntos na nave. Apesar dos desafios e da distância da Terra, a equipe estava animada com a oportunidade de explorar o Planeta Vermelho.\n",
      "\n",
      "Após uma longa jornada, a nave finalmente chegou a Marte. A paisagem era deslumbrante, com montanhas vermelhas e crateras espalhadas por toda parte. Os astronautas desceram na superfície do planeta e começaram a explorar, coletando amostras de solo e rochas para análise.\n",
      "\n",
      "Enquanto exploravam, os astronautas descobriram evidências de vida passada em Marte, o que deixou todos ainda mais empolgados com a missão. Eles também encontraram vestígios de água congelada, o que indicava a possibilidade de existir vida no planeta.\n",
      "\n",
      "Durante a estadia em Marte, os astronautas enfrentaram desafios como tempestades de poeira e problemas técnicos na nave. No entanto, trabalhando juntos e usando sua criatividade, eles conseguiram superar todos os obstáculos.\n",
      "\n",
      "Após semanas de exploração, a equipe finalmente se preparou para retornar à Terra. Eles deixaram para trás uma base temporária em Marte, que serviria de ponto de partida para futuras missões.\n",
      "\n",
      "Ao retornarem à Terra, os astronautas foram recebidos como heróis e suas descobertas em Marte foram celebradas em todo o mundo. A viagem a Marte havia sido um marco na história da exploração espacial e abriu caminho para novas descobertas e missões no futuro.\n"
     ]
    }
   ],
   "source": [
    "print(resposta_completa)"
   ]
  }
 ],
 "metadata": {
  "kernelspec": {
   "display_name": ".venv",
   "language": "python",
   "name": "python3"
  },
  "language_info": {
   "codemirror_mode": {
    "name": "ipython",
    "version": 3
   },
   "file_extension": ".py",
   "mimetype": "text/x-python",
   "name": "python",
   "nbconvert_exporter": "python",
   "pygments_lexer": "ipython3",
   "version": "3.11.4"
  }
 },
 "nbformat": 4,
 "nbformat_minor": 5
}
